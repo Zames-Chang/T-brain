{
 "cells": [
  {
   "cell_type": "code",
   "execution_count": 1,
   "metadata": {},
   "outputs": [],
   "source": [
    "import pandas as pd \n",
    "import numpy as np \n",
    "import lightgbm as lgb\n",
    "from lightgbm.sklearn import LGBMRegressor\n",
    "from sklearn.model_selection import train_test_split\n",
    "import matplotlib.pyplot as plt\n",
    "from Dataloader import Dataloader\n",
    "from RamdomForest import RamdomForest\n",
    "from score import score\n",
    "from sklearn.utils import shuffle\n",
    "from IPython.display import display, HTML\n",
    "from datetime import date\n",
    "%matplotlib inline"
   ]
  },
  {
   "cell_type": "code",
   "execution_count": 2,
   "metadata": {},
   "outputs": [],
   "source": [
    "df = pd.read_csv('data/train.csv')\n",
    "parm = {\n",
    "    'learning_rate' : 0.01,\n",
    "    'n_estimators' : 10000,\n",
    "    'max_depth' : [32],\n",
    "    'num_leaves' : [512],\n",
    "    'feature_fraction' : [0.7]\n",
    "}"
   ]
  },
  {
   "cell_type": "code",
   "execution_count": 3,
   "metadata": {},
   "outputs": [
    {
     "data": {
      "text/plain": [
       "\"\\nparking_price_train = X_train['parking_price'].fillna(0)\\nparking_price_test  = X_test['parking_price'].fillna(0)\\nX_train = X_train.drop(['parking_price'],axis=1)\\nX_test = X_test.drop(['parking_price'],axis=1)\\n\""
      ]
     },
     "execution_count": 3,
     "metadata": {},
     "output_type": "execute_result"
    }
   ],
   "source": [
    "dataloader = Dataloader()\n",
    "X_train, X_test, y_train, y_test = dataloader.prepare_train_data(df,size = 0.000000001)\n",
    "\"\"\"\n",
    "parking_price_train = X_train['parking_price'].fillna(0)\n",
    "parking_price_test  = X_test['parking_price'].fillna(0)\n",
    "X_train = X_train.drop(['parking_price'],axis=1)\n",
    "X_test = X_test.drop(['parking_price'],axis=1)\n",
    "\"\"\""
   ]
  },
  {
   "cell_type": "code",
   "execution_count": 4,
   "metadata": {},
   "outputs": [
    {
     "data": {
      "text/html": [
       "<div>\n",
       "<style scoped>\n",
       "    .dataframe tbody tr th:only-of-type {\n",
       "        vertical-align: middle;\n",
       "    }\n",
       "\n",
       "    .dataframe tbody tr th {\n",
       "        vertical-align: top;\n",
       "    }\n",
       "\n",
       "    .dataframe thead th {\n",
       "        text-align: right;\n",
       "    }\n",
       "</style>\n",
       "<table border=\"1\" class=\"dataframe\">\n",
       "  <thead>\n",
       "    <tr style=\"text-align: right;\">\n",
       "      <th></th>\n",
       "      <th>building_material</th>\n",
       "      <th>city</th>\n",
       "      <th>txn_dt</th>\n",
       "      <th>total_floor</th>\n",
       "      <th>building_type</th>\n",
       "      <th>building_use</th>\n",
       "      <th>building_complete_dt</th>\n",
       "      <th>parking_way</th>\n",
       "      <th>txn_floor</th>\n",
       "      <th>land_area</th>\n",
       "      <th>...</th>\n",
       "      <th>VIII_index</th>\n",
       "      <th>IX_index</th>\n",
       "      <th>X_index</th>\n",
       "      <th>XI_index</th>\n",
       "      <th>XII_index</th>\n",
       "      <th>XIII_index</th>\n",
       "      <th>XIV_index</th>\n",
       "      <th>sell_day</th>\n",
       "      <th>sell_day_mon</th>\n",
       "      <th>txn_dt_mon</th>\n",
       "    </tr>\n",
       "  </thead>\n",
       "  <tbody>\n",
       "    <tr>\n",
       "      <th>count</th>\n",
       "      <td>59878.000000</td>\n",
       "      <td>59878.000000</td>\n",
       "      <td>59878.000000</td>\n",
       "      <td>59878.000000</td>\n",
       "      <td>59878.000000</td>\n",
       "      <td>59878.000000</td>\n",
       "      <td>59878.000000</td>\n",
       "      <td>59878.000000</td>\n",
       "      <td>59878.000000</td>\n",
       "      <td>59878.000000</td>\n",
       "      <td>...</td>\n",
       "      <td>59878.000000</td>\n",
       "      <td>59878.000000</td>\n",
       "      <td>59878.000000</td>\n",
       "      <td>59878.000000</td>\n",
       "      <td>59878.000000</td>\n",
       "      <td>59878.000000</td>\n",
       "      <td>59878.000000</td>\n",
       "      <td>59878.000000</td>\n",
       "      <td>59878.000000</td>\n",
       "      <td>59878.000000</td>\n",
       "    </tr>\n",
       "    <tr>\n",
       "      <th>mean</th>\n",
       "      <td>7.270901</td>\n",
       "      <td>11.413023</td>\n",
       "      <td>19489.226160</td>\n",
       "      <td>7.640753</td>\n",
       "      <td>1.930993</td>\n",
       "      <td>2.319733</td>\n",
       "      <td>11052.337804</td>\n",
       "      <td>1.586576</td>\n",
       "      <td>4.788286</td>\n",
       "      <td>27.958051</td>\n",
       "      <td>...</td>\n",
       "      <td>4.400782</td>\n",
       "      <td>4.063362</td>\n",
       "      <td>3.994522</td>\n",
       "      <td>3.959184</td>\n",
       "      <td>4.705217</td>\n",
       "      <td>3.601222</td>\n",
       "      <td>4.252012</td>\n",
       "      <td>8436.888356</td>\n",
       "      <td>280.747286</td>\n",
       "      <td>649.158990</td>\n",
       "    </tr>\n",
       "    <tr>\n",
       "      <th>std</th>\n",
       "      <td>2.164891</td>\n",
       "      <td>4.755144</td>\n",
       "      <td>727.369231</td>\n",
       "      <td>5.069718</td>\n",
       "      <td>1.589358</td>\n",
       "      <td>1.400410</td>\n",
       "      <td>4338.938048</td>\n",
       "      <td>0.778237</td>\n",
       "      <td>3.565845</td>\n",
       "      <td>58.084960</td>\n",
       "      <td>...</td>\n",
       "      <td>0.552896</td>\n",
       "      <td>0.592294</td>\n",
       "      <td>0.487775</td>\n",
       "      <td>0.582093</td>\n",
       "      <td>0.463505</td>\n",
       "      <td>0.866587</td>\n",
       "      <td>0.444361</td>\n",
       "      <td>4408.212081</td>\n",
       "      <td>146.941496</td>\n",
       "      <td>24.251603</td>\n",
       "    </tr>\n",
       "    <tr>\n",
       "      <th>min</th>\n",
       "      <td>1.000000</td>\n",
       "      <td>3.000000</td>\n",
       "      <td>18112.000000</td>\n",
       "      <td>1.000000</td>\n",
       "      <td>0.000000</td>\n",
       "      <td>0.000000</td>\n",
       "      <td>123.000000</td>\n",
       "      <td>0.000000</td>\n",
       "      <td>1.000000</td>\n",
       "      <td>0.000000</td>\n",
       "      <td>...</td>\n",
       "      <td>2.000000</td>\n",
       "      <td>1.000000</td>\n",
       "      <td>2.000000</td>\n",
       "      <td>0.000000</td>\n",
       "      <td>2.000000</td>\n",
       "      <td>0.000000</td>\n",
       "      <td>2.000000</td>\n",
       "      <td>5.000000</td>\n",
       "      <td>0.000000</td>\n",
       "      <td>603.000000</td>\n",
       "    </tr>\n",
       "    <tr>\n",
       "      <th>25%</th>\n",
       "      <td>8.000000</td>\n",
       "      <td>7.000000</td>\n",
       "      <td>18893.000000</td>\n",
       "      <td>4.000000</td>\n",
       "      <td>0.000000</td>\n",
       "      <td>2.000000</td>\n",
       "      <td>7186.000000</td>\n",
       "      <td>2.000000</td>\n",
       "      <td>2.000000</td>\n",
       "      <td>11.387227</td>\n",
       "      <td>...</td>\n",
       "      <td>4.000000</td>\n",
       "      <td>4.000000</td>\n",
       "      <td>4.000000</td>\n",
       "      <td>4.000000</td>\n",
       "      <td>4.000000</td>\n",
       "      <td>3.000000</td>\n",
       "      <td>4.000000</td>\n",
       "      <td>4933.000000</td>\n",
       "      <td>164.000000</td>\n",
       "      <td>629.000000</td>\n",
       "    </tr>\n",
       "    <tr>\n",
       "      <th>50%</th>\n",
       "      <td>8.000000</td>\n",
       "      <td>12.000000</td>\n",
       "      <td>19527.500000</td>\n",
       "      <td>5.000000</td>\n",
       "      <td>1.000000</td>\n",
       "      <td>2.000000</td>\n",
       "      <td>11507.000000</td>\n",
       "      <td>2.000000</td>\n",
       "      <td>4.000000</td>\n",
       "      <td>16.482126</td>\n",
       "      <td>...</td>\n",
       "      <td>4.000000</td>\n",
       "      <td>4.000000</td>\n",
       "      <td>4.000000</td>\n",
       "      <td>4.000000</td>\n",
       "      <td>5.000000</td>\n",
       "      <td>4.000000</td>\n",
       "      <td>4.000000</td>\n",
       "      <td>8153.000000</td>\n",
       "      <td>271.000000</td>\n",
       "      <td>650.000000</td>\n",
       "    </tr>\n",
       "    <tr>\n",
       "      <th>75%</th>\n",
       "      <td>8.000000</td>\n",
       "      <td>13.000000</td>\n",
       "      <td>20125.000000</td>\n",
       "      <td>12.000000</td>\n",
       "      <td>4.000000</td>\n",
       "      <td>2.000000</td>\n",
       "      <td>14491.000000</td>\n",
       "      <td>2.000000</td>\n",
       "      <td>6.000000</td>\n",
       "      <td>35.695055</td>\n",
       "      <td>...</td>\n",
       "      <td>5.000000</td>\n",
       "      <td>4.000000</td>\n",
       "      <td>4.000000</td>\n",
       "      <td>4.000000</td>\n",
       "      <td>5.000000</td>\n",
       "      <td>4.000000</td>\n",
       "      <td>5.000000</td>\n",
       "      <td>12217.000000</td>\n",
       "      <td>407.000000</td>\n",
       "      <td>670.000000</td>\n",
       "    </tr>\n",
       "    <tr>\n",
       "      <th>max</th>\n",
       "      <td>11.000000</td>\n",
       "      <td>21.000000</td>\n",
       "      <td>20665.000000</td>\n",
       "      <td>29.000000</td>\n",
       "      <td>4.000000</td>\n",
       "      <td>10.000000</td>\n",
       "      <td>20577.000000</td>\n",
       "      <td>2.000000</td>\n",
       "      <td>28.000000</td>\n",
       "      <td>5533.304995</td>\n",
       "      <td>...</td>\n",
       "      <td>5.000000</td>\n",
       "      <td>5.000000</td>\n",
       "      <td>5.000000</td>\n",
       "      <td>5.000000</td>\n",
       "      <td>5.000000</td>\n",
       "      <td>5.000000</td>\n",
       "      <td>5.000000</td>\n",
       "      <td>18287.000000</td>\n",
       "      <td>609.000000</td>\n",
       "      <td>688.000000</td>\n",
       "    </tr>\n",
       "  </tbody>\n",
       "</table>\n",
       "<p>8 rows × 177 columns</p>\n",
       "</div>"
      ],
      "text/plain": [
       "       building_material          city        txn_dt   total_floor  \\\n",
       "count       59878.000000  59878.000000  59878.000000  59878.000000   \n",
       "mean            7.270901     11.413023  19489.226160      7.640753   \n",
       "std             2.164891      4.755144    727.369231      5.069718   \n",
       "min             1.000000      3.000000  18112.000000      1.000000   \n",
       "25%             8.000000      7.000000  18893.000000      4.000000   \n",
       "50%             8.000000     12.000000  19527.500000      5.000000   \n",
       "75%             8.000000     13.000000  20125.000000     12.000000   \n",
       "max            11.000000     21.000000  20665.000000     29.000000   \n",
       "\n",
       "       building_type  building_use  building_complete_dt   parking_way  \\\n",
       "count   59878.000000  59878.000000          59878.000000  59878.000000   \n",
       "mean        1.930993      2.319733          11052.337804      1.586576   \n",
       "std         1.589358      1.400410           4338.938048      0.778237   \n",
       "min         0.000000      0.000000            123.000000      0.000000   \n",
       "25%         0.000000      2.000000           7186.000000      2.000000   \n",
       "50%         1.000000      2.000000          11507.000000      2.000000   \n",
       "75%         4.000000      2.000000          14491.000000      2.000000   \n",
       "max         4.000000     10.000000          20577.000000      2.000000   \n",
       "\n",
       "          txn_floor     land_area      ...         VIII_index      IX_index  \\\n",
       "count  59878.000000  59878.000000      ...       59878.000000  59878.000000   \n",
       "mean       4.788286     27.958051      ...           4.400782      4.063362   \n",
       "std        3.565845     58.084960      ...           0.552896      0.592294   \n",
       "min        1.000000      0.000000      ...           2.000000      1.000000   \n",
       "25%        2.000000     11.387227      ...           4.000000      4.000000   \n",
       "50%        4.000000     16.482126      ...           4.000000      4.000000   \n",
       "75%        6.000000     35.695055      ...           5.000000      4.000000   \n",
       "max       28.000000   5533.304995      ...           5.000000      5.000000   \n",
       "\n",
       "            X_index      XI_index     XII_index    XIII_index     XIV_index  \\\n",
       "count  59878.000000  59878.000000  59878.000000  59878.000000  59878.000000   \n",
       "mean       3.994522      3.959184      4.705217      3.601222      4.252012   \n",
       "std        0.487775      0.582093      0.463505      0.866587      0.444361   \n",
       "min        2.000000      0.000000      2.000000      0.000000      2.000000   \n",
       "25%        4.000000      4.000000      4.000000      3.000000      4.000000   \n",
       "50%        4.000000      4.000000      5.000000      4.000000      4.000000   \n",
       "75%        4.000000      4.000000      5.000000      4.000000      5.000000   \n",
       "max        5.000000      5.000000      5.000000      5.000000      5.000000   \n",
       "\n",
       "           sell_day  sell_day_mon    txn_dt_mon  \n",
       "count  59878.000000  59878.000000  59878.000000  \n",
       "mean    8436.888356    280.747286    649.158990  \n",
       "std     4408.212081    146.941496     24.251603  \n",
       "min        5.000000      0.000000    603.000000  \n",
       "25%     4933.000000    164.000000    629.000000  \n",
       "50%     8153.000000    271.000000    650.000000  \n",
       "75%    12217.000000    407.000000    670.000000  \n",
       "max    18287.000000    609.000000    688.000000  \n",
       "\n",
       "[8 rows x 177 columns]"
      ]
     },
     "execution_count": 4,
     "metadata": {},
     "output_type": "execute_result"
    }
   ],
   "source": [
    "X_train.describe()"
   ]
  },
  {
   "cell_type": "code",
   "execution_count": 5,
   "metadata": {
    "scrolled": false
   },
   "outputs": [
    {
     "name": "stderr",
     "output_type": "stream",
     "text": [
      "/home/mmdb/conda/lib/python3.6/site-packages/lightgbm/basic.py:1209: UserWarning: categorical_feature in Dataset is overridden.\n",
      "New categorical_feature is ['III_index', 'II_index', 'IV_index', 'IX_index', 'I_index', 'VIII_index', 'VII_index', 'VI_index', 'V_index', 'XIII_index', 'XII_index', 'XIV_index', 'XI_index', 'X_index', 'building_material', 'building_type', 'building_use', 'city_town', 'parking_price_isna', 'parking_way', 'txn_floor_isna']\n",
      "  'New categorical_feature is {}'.format(sorted(list(categorical_feature))))\n"
     ]
    },
    {
     "name": "stdout",
     "output_type": "stream",
     "text": [
      "[5000]\ttraining's l1: 10079.7\ttraining's rmse: 19731.5\tvalid_1's l1: 47176.4\tvalid_1's rmse: 47176.4\n",
      "[10000]\ttraining's l1: 2676.86\ttraining's rmse: 7155.28\tvalid_1's l1: 43247.5\tvalid_1's rmse: 43247.5\n",
      "Finished.\n",
      "depth : 32 leaves : 512 fraction :0.7\n"
     ]
    }
   ],
   "source": [
    "ramdom_forest = RamdomForest()\n",
    "model = ramdom_forest.train_LGBM(X_train, y_train, X_test, y_test,parm,reg_alpha = 5,reg_lambda = 0)# BEST IS reg_alpha = 5 reg_lambda = 0"
   ]
  },
  {
   "cell_type": "code",
   "execution_count": 6,
   "metadata": {},
   "outputs": [
    {
     "data": {
      "text/plain": [
       "10000.986031769467"
      ]
     },
     "execution_count": 6,
     "metadata": {},
     "output_type": "execute_result"
    }
   ],
   "source": [
    "model.max_point"
   ]
  },
  {
   "cell_type": "code",
   "execution_count": 7,
   "metadata": {},
   "outputs": [
    {
     "data": {
      "image/png": "[encoded data removed]",
      "text/plain": [
       "<Figure size 432x288 with 1 Axes>"
      ]
     },
     "metadata": {},
     "output_type": "display_data"
    }
   ],
   "source": [
    "ax = model.plot_feature_important()"
   ]
  },
  {
   "cell_type": "code",
   "execution_count": 8,
   "metadata": {},
   "outputs": [
    {
     "data": {
      "image/png": "[encoded data removed]",
      "text/plain": [
       "<Figure size 432x288 with 1 Axes>"
      ]
     },
     "metadata": {},
     "output_type": "display_data"
    }
   ],
   "source": [
    "model.plot_loss()"
   ]
  },
  {
   "cell_type": "code",
   "execution_count": 9,
   "metadata": {},
   "outputs": [
    {
     "name": "stdout",
     "output_type": "stream",
     "text": [
      "first part : 9989.645612745917 last part: 0.995457818396963\n",
      "> 20 % : 0.0001837068706369618\n",
      "0.9989645612745917\n"
     ]
    }
   ],
   "source": [
    "y, y_true= model.predict(X_train,y_train)\n",
    "hit_rate,point = score(y,y_true)\n",
    "print(hit_rate)"
   ]
  },
  {
   "cell_type": "code",
   "execution_count": 10,
   "metadata": {
    "scrolled": true
   },
   "outputs": [
    {
     "name": "stdout",
     "output_type": "stream",
     "text": [
      "first part : 10000.0 last part: 0.9858338940339421\n",
      "> 20 % : 0.0\n"
     ]
    }
   ],
   "source": [
    "y ,y_true= model.predict(X_test,y_test)\n",
    "hit_rate,point = score(y,y_true)"
   ]
  },
  {
   "cell_type": "code",
   "execution_count": 11,
   "metadata": {},
   "outputs": [
    {
     "data": {
      "text/plain": [
       "1.0"
      ]
     },
     "execution_count": 11,
     "metadata": {},
     "output_type": "execute_result"
    }
   ],
   "source": [
    "hit_rate"
   ]
  },
  {
   "cell_type": "code",
   "execution_count": 12,
   "metadata": {},
   "outputs": [],
   "source": [
    "test_df = pd.read_csv(\"data/test.csv\")\n",
    "build_id = pd.read_csv(\"data/submit_test.csv\")['building_id']\n",
    "test_df = dataloader.prepare_test_data(test_df)\n",
    "test_y, _= model.predict(test_df,y_test)\n",
    "submit_df = pd.DataFrame(data={\n",
    "    'building_id' : build_id,\n",
    "    'total_price' : test_y\n",
    "})\n",
    "today = str(date.today())\n",
    "submit_df.to_csv(f'submits/{today}_lightgbm.csv',index = False)"
   ]
  },
  {
   "cell_type": "code",
   "execution_count": 13,
   "metadata": {},
   "outputs": [
    {
     "data": {
      "text/html": [
       "<div>\n",
       "<style scoped>\n",
       "    .dataframe tbody tr th:only-of-type {\n",
       "        vertical-align: middle;\n",
       "    }\n",
       "\n",
       "    .dataframe tbody tr th {\n",
       "        vertical-align: top;\n",
       "    }\n",
       "\n",
       "    .dataframe thead th {\n",
       "        text-align: right;\n",
       "    }\n",
       "</style>\n",
       "<table border=\"1\" class=\"dataframe\">\n",
       "  <thead>\n",
       "    <tr style=\"text-align: right;\">\n",
       "      <th></th>\n",
       "      <th>building_material</th>\n",
       "      <th>city</th>\n",
       "      <th>txn_dt</th>\n",
       "      <th>total_floor</th>\n",
       "      <th>building_type</th>\n",
       "      <th>building_use</th>\n",
       "      <th>building_complete_dt</th>\n",
       "      <th>parking_way</th>\n",
       "      <th>txn_floor</th>\n",
       "      <th>land_area</th>\n",
       "      <th>...</th>\n",
       "      <th>X_index</th>\n",
       "      <th>XI_index</th>\n",
       "      <th>XII_index</th>\n",
       "      <th>XIII_index</th>\n",
       "      <th>XIV_index</th>\n",
       "      <th>parking_price_isna</th>\n",
       "      <th>txn_floor_isna</th>\n",
       "      <th>sell_day</th>\n",
       "      <th>sell_day_mon</th>\n",
       "      <th>txn_dt_mon</th>\n",
       "    </tr>\n",
       "  </thead>\n",
       "  <tbody>\n",
       "    <tr>\n",
       "      <th>28272</th>\n",
       "      <td>8</td>\n",
       "      <td>13</td>\n",
       "      <td>18485</td>\n",
       "      <td>5</td>\n",
       "      <td>1</td>\n",
       "      <td>5</td>\n",
       "      <td>5419</td>\n",
       "      <td>2</td>\n",
       "      <td>2.0</td>\n",
       "      <td>13.1061</td>\n",
       "      <td>...</td>\n",
       "      <td>4</td>\n",
       "      <td>5</td>\n",
       "      <td>5</td>\n",
       "      <td>5</td>\n",
       "      <td>5</td>\n",
       "      <td>True</td>\n",
       "      <td>False</td>\n",
       "      <td>13066</td>\n",
       "      <td>435</td>\n",
       "      <td>616</td>\n",
       "    </tr>\n",
       "  </tbody>\n",
       "</table>\n",
       "<p>1 rows × 179 columns</p>\n",
       "</div>"
      ],
      "text/plain": [
       "       building_material  city  txn_dt  total_floor  building_type  \\\n",
       "28272                  8    13   18485            5              1   \n",
       "\n",
       "       building_use  building_complete_dt  parking_way  txn_floor  land_area  \\\n",
       "28272             5                  5419            2        2.0    13.1061   \n",
       "\n",
       "          ...      X_index  XI_index  XII_index  XIII_index  XIV_index  \\\n",
       "28272     ...            4         5          5           5          5   \n",
       "\n",
       "       parking_price_isna  txn_floor_isna  sell_day  sell_day_mon  txn_dt_mon  \n",
       "28272                True           False     13066           435         616  \n",
       "\n",
       "[1 rows x 179 columns]"
      ]
     },
     "execution_count": 13,
     "metadata": {},
     "output_type": "execute_result"
    }
   ],
   "source": [
    "X_test"
   ]
  },
  {
   "cell_type": "code",
   "execution_count": 14,
   "metadata": {},
   "outputs": [],
   "source": [
    "X_test['y_predict'] = y\n",
    "X_test['y_true'] = y_true\n",
    "X_test.to_csv(\"data/X_test.csv\",index = False)\n",
    "    "
   ]
  },
  {
   "cell_type": "code",
   "execution_count": 15,
   "metadata": {},
   "outputs": [
    {
     "name": "stdout",
     "output_type": "stream",
     "text": [
      "           building_id   total_price\n",
      "0     X5gsdTWGS3W7JJQB  1.250176e+07\n",
      "1     BTshNOJyKHnT2YIT  3.957967e+06\n",
      "2     dhdymr0lV8N5kZOT  1.120267e+07\n",
      "3     VEwyGGMcD56w5BOc  5.865958e+06\n",
      "4     wmUeMoJZfsqaSX9b  1.021963e+06\n",
      "5     EtBjGAHmHCe9t7TZ  2.800716e+06\n",
      "6     hPNH34vmaZtvBtqc  1.233201e+07\n",
      "7     wXjeI38bYDMJJwZC  6.259087e+06\n",
      "8     fxZSGX6aPAFKU8W4  1.660640e+06\n",
      "9     ewr0Fx6ign87OwaV  4.189772e+06\n",
      "10    gHKurnEP4AowzsLg  8.921220e+05\n",
      "11    PmLfTgY2FElLrTl0  6.047579e+06\n",
      "12    eM2NppIOwzW0o8iy  1.062823e+07\n",
      "13    dxxwNun97NH4WTrZ  3.583912e+06\n",
      "14    jykBfhh3vdeFUi3H  4.213874e+06\n",
      "15    NlXbvdFfmJZf3L18  2.288966e+07\n",
      "16    D7jaFWHCzSqLBwdt  9.877829e+05\n",
      "17    L10dBBdqGmemweSl  5.764770e+06\n",
      "18    OgB0AdiPKlElakKN  1.137474e+06\n",
      "19    StiWNN1GQrpPBOYt  2.635324e+06\n",
      "20    a016eMAVQKnfwMnt  1.905594e+07\n",
      "21    gsCFcQHnOH3AKMcZ  3.531845e+06\n",
      "22    IbNsDXfsPwSuFpow  5.783083e+06\n",
      "23    EgAVWOVxD1Jy5YkE  1.285898e+06\n",
      "24    BrKghvR76XdbQPnx  7.870567e+06\n",
      "25    a7fxkXTnUGWHUmKG  2.280042e+07\n",
      "26    WgzXa170DfpzpURE  8.653467e+06\n",
      "27    JPWqZbLq0VNC0yKI  9.843346e+06\n",
      "28    JQgTtbVstqFZwEK1  4.548358e+05\n",
      "29    bCSDbEthlS3nSIor  2.388664e+06\n",
      "...                ...           ...\n",
      "9970  QL412tWF5RDIX7IO  2.075474e+06\n",
      "9971  d3c2ceGtckONZzsr  8.016260e+06\n",
      "9972  P1j8YRbxDAovumaI  1.109166e+07\n",
      "9973  IxcBhEoFLcrI9TPr  2.710890e+06\n",
      "9974  rKiV0KDbAl2myBQI  1.791305e+06\n",
      "9975  GSdIXmKr0g5jQQcF  1.302050e+06\n",
      "9976  Am6Wcg3TO64qvzd8  3.289597e+07\n",
      "9977  RZqACAhkL4Tgw4Jr  1.006910e+08\n",
      "9978  u7NKZfWoMUlZy9rJ  5.152264e+06\n",
      "9979  C1BqV4MWH15rjAgz  2.654622e+06\n",
      "9980  wz8A2UbwsgR0lXGJ  2.457499e+06\n",
      "9981  MGJ8ABBTmC2yIaSm  9.785159e+06\n",
      "9982  MjHL2HP1PGIp8aBt  1.586707e+06\n",
      "9983  FMz7nnURFn85LaGt  8.265014e+07\n",
      "9984  kydULx0r0G7OklRD  6.897104e+06\n",
      "9985  nVNYRuk2fRbtlV00  2.707010e+07\n",
      "9986  F8SGEOGPxrPfiRv2  6.041924e+05\n",
      "9987  w7VMfiMvRb765ejK  3.064359e+07\n",
      "9988  lgZWdUKliWt2y5sM  1.246476e+07\n",
      "9989  TER8YrP9mw7UwWwr  4.619735e+06\n",
      "9990  TXHk3oUpVsm5Cmag  3.005480e+06\n",
      "9991  JtgDm9aQcGE9zELB  4.501697e+05\n",
      "9992  wTQmcqbN0OCuSF1t  1.555420e+07\n",
      "9993  WgsI1cBtzSfiWA1j  1.686501e+07\n",
      "9994  qNgt1ajb5uVMKbqm  3.930586e+06\n",
      "9995  UEeCDaAJzPwdKKKA  1.247255e+06\n",
      "9996  i0fgbPaQsDWs7Q87  4.865491e+07\n",
      "9997  YunNwAhcqkf6YclI  1.082840e+06\n",
      "9998  A2NotxtRY9MYoWMl  2.873648e+06\n",
      "9999  kKvgBXiA50gRmQhP  3.230471e+06\n",
      "\n",
      "[10000 rows x 2 columns]\n"
     ]
    }
   ],
   "source": [
    "print(submit_df)"
   ]
  },
  {
   "cell_type": "code",
   "execution_count": 16,
   "metadata": {},
   "outputs": [
    {
     "data": {
      "text/html": [
       "\n",
       "                <audio controls=\"controls\" autoplay=\"autoplay\">\n",
       "                    <source src=\"https://sound.peal.io/ps/audios/000/000/537/original/woo_vu_luvub_dub_dub.wav\" type=\"audio/x-wav\" />\n",
       "                    Your browser does not support the audio element.\n",
       "                </audio>\n",
       "              "
      ],
      "text/plain": [
       "<IPython.lib.display.Audio object>"
      ]
     },
     "metadata": {},
     "output_type": "display_data"
    }
   ],
   "source": [
    "## Import up sound alert dependencies\n",
    "from IPython.display import Audio, display\n",
    "\n",
    "def allDone():\n",
    "  display(Audio(url='https://sound.peal.io/ps/audios/000/000/537/original/woo_vu_luvub_dub_dub.wav', autoplay=True))\n",
    "## Insert whatever audio file you want above\n",
    "allDone()"
   ]
  },
  {
   "cell_type": "code",
   "execution_count": 17,
   "metadata": {},
   "outputs": [
    {
     "data": {
      "image/png": "[encoded data removed]",
      "text/plain": [
       "<Figure size 432x288 with 1 Axes>"
      ]
     },
     "metadata": {},
     "output_type": "display_data"
    }
   ],
   "source": [
    "plt.bar(np.arange(len(y_train.values)),y_train.values)\n",
    "plt.show()"
   ]
  },
  {
   "cell_type": "code",
   "execution_count": 22,
   "metadata": {},
   "outputs": [
    {
     "data": {
      "image/png": "[encoded data removed]",
      "text/plain": [
       "<Figure size 432x288 with 1 Axes>"
      ]
     },
     "metadata": {},
     "output_type": "display_data"
    }
   ],
   "source": [
    "plt.bar(['Neural Network','xgbooster','random forest'],[2058.1,5103.7,5950.5])\n",
    "plt.title(\"performace\")\n",
    "plt.show()"
   ]
  },
  {
   "cell_type": "code",
   "execution_count": null,
   "metadata": {},
   "outputs": [],
   "source": []
  }
 ],
 "metadata": {
  "kernelspec": {
   "display_name": "Python 3",
   "language": "python",
   "name": "python3"
  },
  "language_info": {
   "codemirror_mode": {
    "name": "ipython",
    "version": 3
   },
   "file_extension": ".py",
   "mimetype": "text/x-python",
   "name": "python",
   "nbconvert_exporter": "python",
   "pygments_lexer": "ipython3",
   "version": "3.6.5"
  }
 },
 "nbformat": 4,
 "nbformat_minor": 2
}
