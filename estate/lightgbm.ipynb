{
 "cells": [
  {
   "cell_type": "code",
   "execution_count": 1,
   "metadata": {},
   "outputs": [],
   "source": [
    "import pandas as pd \n",
    "import numpy as np \n",
    "import lightgbm as lgb\n",
    "from lightgbm.sklearn import LGBMRegressor\n",
    "from sklearn.model_selection import train_test_split\n",
    "import matplotlib.pyplot as plt\n",
    "from Dataloader import Dataloader\n",
    "from RamdomForest import RamdomForest\n",
    "from score import score\n",
    "from sklearn.utils import shuffle\n",
    "from IPython.display import display, HTML\n",
    "from datetime import date\n",
    "%matplotlib inline"
   ]
  },
  {
   "cell_type": "code",
   "execution_count": 2,
   "metadata": {},
   "outputs": [],
   "source": [
    "df = pd.read_csv('data/train.csv')\n",
    "parm = {\n",
    "    'learning_rate' : 0.1,\n",
    "    'n_estimators' : 100000,\n",
    "    'max_depth' : [16],\n",
    "    'num_leaves' : [256],\n",
    "    'feature_fraction' : [0.9]\n",
    "}"
   ]
  },
  {
   "cell_type": "code",
   "execution_count": 3,
   "metadata": {},
   "outputs": [],
   "source": [
    "dataloader = Dataloader()\n",
    "X_train, X_test, y_train, y_test = dataloader.prepare_train_data(df)"
   ]
  },
  {
   "cell_type": "code",
   "execution_count": 4,
   "metadata": {
    "scrolled": false
   },
   "outputs": [
    {
     "name": "stderr",
     "output_type": "stream",
     "text": [
      "C:\\Users\\User\\Anaconda3\\lib\\site-packages\\lightgbm\\basic.py:1038: UserWarning: categorical_feature in Dataset is overridden. New categorical_feature is ['building_material', 'building_type', 'building_use', 'city', 'parking_price_isna', 'parking_way', 'town', 'txn_floor_isna', 'village']\n",
      "  warnings.warn('categorical_feature in Dataset is overridden. New categorical_feature is {}'.format(sorted(list(categorical_feature))))\n"
     ]
    },
    {
     "name": "stdout",
     "output_type": "stream",
     "text": [
      "Training until validation scores don't improve for 50 rounds.\n",
      "[10]\ttraining's l1: 341773\tvalid_1's l1: 353232\n",
      "[20]\ttraining's l1: 186849\tvalid_1's l1: 214061\n",
      "[30]\ttraining's l1: 136160\tvalid_1's l1: 174622\n",
      "[40]\ttraining's l1: 114940\tvalid_1's l1: 161376\n",
      "[50]\ttraining's l1: 103170\tvalid_1's l1: 155471\n",
      "[60]\ttraining's l1: 94751.3\tvalid_1's l1: 151901\n",
      "[70]\ttraining's l1: 88661.1\tvalid_1's l1: 149715\n",
      "[80]\ttraining's l1: 83220.8\tvalid_1's l1: 147907\n",
      "[90]\ttraining's l1: 78747.8\tvalid_1's l1: 146533\n",
      "[100]\ttraining's l1: 75229.4\tvalid_1's l1: 145669\n",
      "[110]\ttraining's l1: 71750.7\tvalid_1's l1: 144810\n",
      "[120]\ttraining's l1: 68657.3\tvalid_1's l1: 144065\n",
      "[130]\ttraining's l1: 65822.2\tvalid_1's l1: 143611\n",
      "[140]\ttraining's l1: 63119.6\tvalid_1's l1: 143077\n",
      "[150]\ttraining's l1: 60746.7\tvalid_1's l1: 142636\n",
      "[160]\ttraining's l1: 58573\tvalid_1's l1: 142235\n",
      "[170]\ttraining's l1: 56307.2\tvalid_1's l1: 141745\n",
      "[180]\ttraining's l1: 54296.1\tvalid_1's l1: 141387\n",
      "[190]\ttraining's l1: 52443.2\tvalid_1's l1: 141022\n",
      "[200]\ttraining's l1: 50736.1\tvalid_1's l1: 140800\n",
      "[210]\ttraining's l1: 49034.2\tvalid_1's l1: 140529\n",
      "[220]\ttraining's l1: 47570.7\tvalid_1's l1: 140327\n",
      "[230]\ttraining's l1: 46047.9\tvalid_1's l1: 140102\n",
      "[240]\ttraining's l1: 44889.1\tvalid_1's l1: 139963\n",
      "[250]\ttraining's l1: 43363.5\tvalid_1's l1: 139773\n",
      "[260]\ttraining's l1: 42002.8\tvalid_1's l1: 139542\n",
      "[270]\ttraining's l1: 40745.7\tvalid_1's l1: 139443\n",
      "[280]\ttraining's l1: 39548.4\tvalid_1's l1: 139240\n",
      "[290]\ttraining's l1: 38509.6\tvalid_1's l1: 139102\n",
      "[300]\ttraining's l1: 37391.3\tvalid_1's l1: 138944\n",
      "[310]\ttraining's l1: 36290.7\tvalid_1's l1: 138748\n",
      "[320]\ttraining's l1: 35339.4\tvalid_1's l1: 138629\n",
      "[330]\ttraining's l1: 34362.4\tvalid_1's l1: 138495\n",
      "[340]\ttraining's l1: 33513\tvalid_1's l1: 138425\n",
      "[350]\ttraining's l1: 32610\tvalid_1's l1: 138353\n",
      "[360]\ttraining's l1: 31688.7\tvalid_1's l1: 138287\n",
      "[370]\ttraining's l1: 30768.1\tvalid_1's l1: 138157\n",
      "[380]\ttraining's l1: 29949\tvalid_1's l1: 138069\n",
      "[390]\ttraining's l1: 29195.7\tvalid_1's l1: 137969\n",
      "[400]\ttraining's l1: 28418.3\tvalid_1's l1: 137879\n",
      "[410]\ttraining's l1: 27704.4\tvalid_1's l1: 137785\n",
      "[420]\ttraining's l1: 26933.5\tvalid_1's l1: 137683\n",
      "[430]\ttraining's l1: 26214.7\tvalid_1's l1: 137641\n",
      "[440]\ttraining's l1: 25472.4\tvalid_1's l1: 137568\n",
      "[450]\ttraining's l1: 24910.8\tvalid_1's l1: 137503\n",
      "[460]\ttraining's l1: 24331.9\tvalid_1's l1: 137486\n",
      "[470]\ttraining's l1: 23728.6\tvalid_1's l1: 137420\n",
      "[480]\ttraining's l1: 23135.9\tvalid_1's l1: 137334\n",
      "[490]\ttraining's l1: 22565\tvalid_1's l1: 137243\n",
      "[500]\ttraining's l1: 22051.1\tvalid_1's l1: 137191\n",
      "[510]\ttraining's l1: 21481.7\tvalid_1's l1: 137190\n",
      "[520]\ttraining's l1: 21007.2\tvalid_1's l1: 137199\n",
      "[530]\ttraining's l1: 20594\tvalid_1's l1: 137177\n",
      "[540]\ttraining's l1: 20132.5\tvalid_1's l1: 137127\n",
      "[550]\ttraining's l1: 19672.5\tvalid_1's l1: 137096\n",
      "[560]\ttraining's l1: 19164.7\tvalid_1's l1: 137033\n",
      "[570]\ttraining's l1: 18763.3\tvalid_1's l1: 137016\n",
      "[580]\ttraining's l1: 18312.5\tvalid_1's l1: 136999\n",
      "[590]\ttraining's l1: 17874.7\tvalid_1's l1: 136973\n",
      "[600]\ttraining's l1: 17468.1\tvalid_1's l1: 136938\n",
      "[610]\ttraining's l1: 17056.8\tvalid_1's l1: 136896\n",
      "[620]\ttraining's l1: 16646.5\tvalid_1's l1: 136852\n",
      "[630]\ttraining's l1: 16312\tvalid_1's l1: 136824\n",
      "[640]\ttraining's l1: 15986.1\tvalid_1's l1: 136804\n",
      "[650]\ttraining's l1: 15611.7\tvalid_1's l1: 136776\n",
      "[660]\ttraining's l1: 15276.6\tvalid_1's l1: 136755\n",
      "[670]\ttraining's l1: 14955.7\tvalid_1's l1: 136735\n",
      "[680]\ttraining's l1: 14654.6\tvalid_1's l1: 136711\n",
      "[690]\ttraining's l1: 14318.8\tvalid_1's l1: 136699\n",
      "[700]\ttraining's l1: 14055.3\tvalid_1's l1: 136680\n",
      "[710]\ttraining's l1: 13716.1\tvalid_1's l1: 136653\n",
      "[720]\ttraining's l1: 13422.4\tvalid_1's l1: 136632\n",
      "[730]\ttraining's l1: 13138.4\tvalid_1's l1: 136620\n",
      "[740]\ttraining's l1: 12852.5\tvalid_1's l1: 136592\n",
      "[750]\ttraining's l1: 12583\tvalid_1's l1: 136567\n",
      "[760]\ttraining's l1: 12332.3\tvalid_1's l1: 136544\n",
      "[770]\ttraining's l1: 12150.3\tvalid_1's l1: 136515\n",
      "[780]\ttraining's l1: 11878.5\tvalid_1's l1: 136487\n",
      "[790]\ttraining's l1: 11634.1\tvalid_1's l1: 136475\n",
      "[800]\ttraining's l1: 11411.1\tvalid_1's l1: 136463\n",
      "[810]\ttraining's l1: 11162.6\tvalid_1's l1: 136447\n",
      "[820]\ttraining's l1: 10940.8\tvalid_1's l1: 136446\n",
      "[830]\ttraining's l1: 10731.5\tvalid_1's l1: 136434\n",
      "[840]\ttraining's l1: 10524.3\tvalid_1's l1: 136421\n",
      "[850]\ttraining's l1: 10326.6\tvalid_1's l1: 136408\n",
      "[860]\ttraining's l1: 10141\tvalid_1's l1: 136401\n",
      "[870]\ttraining's l1: 9944.81\tvalid_1's l1: 136397\n",
      "[880]\ttraining's l1: 9774.19\tvalid_1's l1: 136393\n",
      "[890]\ttraining's l1: 9581.11\tvalid_1's l1: 136375\n",
      "[900]\ttraining's l1: 9405.14\tvalid_1's l1: 136362\n",
      "[910]\ttraining's l1: 9222.48\tvalid_1's l1: 136359\n",
      "[920]\ttraining's l1: 9002.88\tvalid_1's l1: 136340\n",
      "[930]\ttraining's l1: 8825\tvalid_1's l1: 136329\n",
      "[940]\ttraining's l1: 8650.49\tvalid_1's l1: 136320\n",
      "[950]\ttraining's l1: 8484.53\tvalid_1's l1: 136318\n",
      "[960]\ttraining's l1: 8302.14\tvalid_1's l1: 136312\n",
      "[970]\ttraining's l1: 8146.66\tvalid_1's l1: 136302\n",
      "[980]\ttraining's l1: 7979.51\tvalid_1's l1: 136290\n",
      "[990]\ttraining's l1: 7820.33\tvalid_1's l1: 136293\n",
      "[1000]\ttraining's l1: 7668.6\tvalid_1's l1: 136289\n",
      "[1010]\ttraining's l1: 7530.56\tvalid_1's l1: 136287\n",
      "[1020]\ttraining's l1: 7380.75\tvalid_1's l1: 136270\n",
      "[1030]\ttraining's l1: 7229.82\tvalid_1's l1: 136265\n",
      "[1040]\ttraining's l1: 7099.46\tvalid_1's l1: 136258\n",
      "[1050]\ttraining's l1: 6965.04\tvalid_1's l1: 136255\n",
      "[1060]\ttraining's l1: 6834.84\tvalid_1's l1: 136257\n",
      "[1070]\ttraining's l1: 6702.79\tvalid_1's l1: 136245\n",
      "[1080]\ttraining's l1: 6567.82\tvalid_1's l1: 136238\n",
      "[1090]\ttraining's l1: 6451.05\tvalid_1's l1: 136239\n",
      "[1100]\ttraining's l1: 6329.42\tvalid_1's l1: 136234\n",
      "[1110]\ttraining's l1: 6248.52\tvalid_1's l1: 136223\n",
      "[1120]\ttraining's l1: 6161.13\tvalid_1's l1: 136222\n",
      "[1130]\ttraining's l1: 6067.27\tvalid_1's l1: 136216\n",
      "[1140]\ttraining's l1: 5956.1\tvalid_1's l1: 136216\n",
      "[1150]\ttraining's l1: 5853.16\tvalid_1's l1: 136214\n",
      "[1160]\ttraining's l1: 5748.15\tvalid_1's l1: 136208\n",
      "[1170]\ttraining's l1: 5641.2\tvalid_1's l1: 136203\n",
      "[1180]\ttraining's l1: 5542.3\tvalid_1's l1: 136197\n",
      "[1190]\ttraining's l1: 5445.74\tvalid_1's l1: 136191\n",
      "[1200]\ttraining's l1: 5360.19\tvalid_1's l1: 136192\n",
      "[1210]\ttraining's l1: 5281.05\tvalid_1's l1: 136191\n",
      "[1220]\ttraining's l1: 5202.35\tvalid_1's l1: 136189\n",
      "[1230]\ttraining's l1: 5112.97\tvalid_1's l1: 136191\n",
      "[1240]\ttraining's l1: 5030.55\tvalid_1's l1: 136187\n",
      "[1250]\ttraining's l1: 4945.38\tvalid_1's l1: 136183\n",
      "[1260]\ttraining's l1: 4868.59\tvalid_1's l1: 136177\n",
      "[1270]\ttraining's l1: 4791.51\tvalid_1's l1: 136176\n",
      "[1280]\ttraining's l1: 4705.43\tvalid_1's l1: 136174\n",
      "[1290]\ttraining's l1: 4624.23\tvalid_1's l1: 136173\n",
      "[1300]\ttraining's l1: 4540.63\tvalid_1's l1: 136169\n",
      "[1310]\ttraining's l1: 4462.56\tvalid_1's l1: 136166\n",
      "[1320]\ttraining's l1: 4384.83\tvalid_1's l1: 136162\n",
      "[1330]\ttraining's l1: 4311.44\tvalid_1's l1: 136155\n",
      "[1340]\ttraining's l1: 4237.72\tvalid_1's l1: 136156\n",
      "[1350]\ttraining's l1: 4177.71\tvalid_1's l1: 136155\n",
      "[1360]\ttraining's l1: 4115.41\tvalid_1's l1: 136150\n",
      "[1370]\ttraining's l1: 4044.6\tvalid_1's l1: 136147\n",
      "[1380]\ttraining's l1: 3969.32\tvalid_1's l1: 136141\n",
      "[1390]\ttraining's l1: 3897.42\tvalid_1's l1: 136139\n",
      "[1400]\ttraining's l1: 3829.33\tvalid_1's l1: 136133\n",
      "[1410]\ttraining's l1: 3772.69\tvalid_1's l1: 136127\n",
      "[1420]\ttraining's l1: 3710.83\tvalid_1's l1: 136122\n",
      "[1430]\ttraining's l1: 3655.24\tvalid_1's l1: 136122\n",
      "[1440]\ttraining's l1: 3604.09\tvalid_1's l1: 136120\n",
      "[1450]\ttraining's l1: 3549.2\tvalid_1's l1: 136119\n",
      "[1460]\ttraining's l1: 3490.1\tvalid_1's l1: 136115\n",
      "[1470]\ttraining's l1: 3440.95\tvalid_1's l1: 136114\n",
      "[1480]\ttraining's l1: 3379.34\tvalid_1's l1: 136108\n",
      "[1490]\ttraining's l1: 3325.2\tvalid_1's l1: 136107\n",
      "[1500]\ttraining's l1: 3275\tvalid_1's l1: 136103\n",
      "[1510]\ttraining's l1: 3218.29\tvalid_1's l1: 136101\n",
      "[1520]\ttraining's l1: 3171.82\tvalid_1's l1: 136098\n",
      "[1530]\ttraining's l1: 3120.03\tvalid_1's l1: 136094\n",
      "[1540]\ttraining's l1: 3069.32\tvalid_1's l1: 136094\n",
      "[1550]\ttraining's l1: 3021.69\tvalid_1's l1: 136094\n",
      "[1560]\ttraining's l1: 2979.44\tvalid_1's l1: 136093\n",
      "[1570]\ttraining's l1: 2937.02\tvalid_1's l1: 136091\n",
      "[1580]\ttraining's l1: 2895.88\tvalid_1's l1: 136092\n",
      "[1590]\ttraining's l1: 2849.43\tvalid_1's l1: 136089\n",
      "[1600]\ttraining's l1: 2808.18\tvalid_1's l1: 136087\n",
      "[1610]\ttraining's l1: 2769.42\tvalid_1's l1: 136086\n",
      "[1620]\ttraining's l1: 2732.43\tvalid_1's l1: 136084\n",
      "[1630]\ttraining's l1: 2692.39\tvalid_1's l1: 136085\n"
     ]
    },
    {
     "name": "stdout",
     "output_type": "stream",
     "text": [
      "[1640]\ttraining's l1: 2659.66\tvalid_1's l1: 136083\n",
      "[1650]\ttraining's l1: 2623.72\tvalid_1's l1: 136082\n",
      "[1660]\ttraining's l1: 2593.14\tvalid_1's l1: 136083\n",
      "[1670]\ttraining's l1: 2555.78\tvalid_1's l1: 136081\n",
      "[1680]\ttraining's l1: 2518.09\tvalid_1's l1: 136082\n",
      "[1690]\ttraining's l1: 2477.43\tvalid_1's l1: 136085\n",
      "[1700]\ttraining's l1: 2439.14\tvalid_1's l1: 136083\n",
      "[1710]\ttraining's l1: 2406.4\tvalid_1's l1: 136080\n",
      "[1720]\ttraining's l1: 2371.73\tvalid_1's l1: 136082\n",
      "[1730]\ttraining's l1: 2341.18\tvalid_1's l1: 136082\n",
      "[1740]\ttraining's l1: 2313.27\tvalid_1's l1: 136081\n",
      "[1750]\ttraining's l1: 2284.4\tvalid_1's l1: 136081\n",
      "Early stopping, best iteration is:\n",
      "[1705]\ttraining's l1: 2423.07\tvalid_1's l1: 136080\n",
      "Finished.\n"
     ]
    }
   ],
   "source": [
    "ramdom_forest = RamdomForest()\n",
    "model = ramdom_forest.train_LGBM(X_train, y_train, X_test, y_test,parm)"
   ]
  },
  {
   "cell_type": "code",
   "execution_count": 5,
   "metadata": {},
   "outputs": [
    {
     "data": {
      "image/png": "[encoded data removed]",
      "text/plain": [
       "<Figure size 432x288 with 1 Axes>"
      ]
     },
     "metadata": {
      "needs_background": "light"
     },
     "output_type": "display_data"
    }
   ],
   "source": [
    "ax = model.plot_feature_important()"
   ]
  },
  {
   "cell_type": "code",
   "execution_count": 6,
   "metadata": {},
   "outputs": [
    {
     "data": {
      "image/png": "[encoded data removed]",
      "text/plain": [
       "<Figure size 432x288 with 1 Axes>"
      ]
     },
     "metadata": {
      "needs_background": "light"
     },
     "output_type": "display_data"
    }
   ],
   "source": [
    "model.plot_loss()"
   ]
  },
  {
   "cell_type": "code",
   "execution_count": 7,
   "metadata": {},
   "outputs": [
    {
     "name": "stdout",
     "output_type": "stream",
     "text": [
      "first part : 5421.3036565977745 last part: 0.8602650508075976\n",
      "> 20 % : 0.21964689147351685\n"
     ]
    }
   ],
   "source": [
    "y, y_true= model.predict(X_test,y_test)\n",
    "hit_rate,point = score(y,y_true)"
   ]
  },
  {
   "cell_type": "code",
   "execution_count": 8,
   "metadata": {},
   "outputs": [
    {
     "data": {
      "text/plain": [
       "0.5421303656597775"
      ]
     },
     "execution_count": 8,
     "metadata": {},
     "output_type": "execute_result"
    }
   ],
   "source": [
    "hit_rate"
   ]
  },
  {
   "cell_type": "code",
   "execution_count": 9,
   "metadata": {},
   "outputs": [],
   "source": [
    "test_df = pd.read_csv(\"data/test.csv\")\n",
    "build_id = pd.read_csv(\"data/submit_test.csv\")['building_id']\n",
    "test_df = dataloader.prepare_test_data(test_df)\n",
    "test_y, _= model.predict(test_df,y_test)\n",
    "submit_df = pd.DataFrame(data={\n",
    "    'building_id' : build_id,\n",
    "    'total_price' : test_y\n",
    "})\n",
    "today = str(date.today())\n",
    "submit_df.to_csv(f'submits/{today}_lightgbm.csv',index = False)"
   ]
  },
  {
   "cell_type": "code",
   "execution_count": null,
   "metadata": {},
   "outputs": [],
   "source": []
  }
 ],
 "metadata": {
  "kernelspec": {
   "display_name": "Python 3",
   "language": "python",
   "name": "python3"
  },
  "language_info": {
   "codemirror_mode": {
    "name": "ipython",
    "version": 3
   },
   "file_extension": ".py",
   "mimetype": "text/x-python",
   "name": "python",
   "nbconvert_exporter": "python",
   "pygments_lexer": "ipython3",
   "version": "3.6.4"
  }
 },
 "nbformat": 4,
 "nbformat_minor": 2
}
