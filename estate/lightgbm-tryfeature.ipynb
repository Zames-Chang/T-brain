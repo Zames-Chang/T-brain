{
 "cells": [
  {
   "cell_type": "code",
   "execution_count": 1,
   "metadata": {},
   "outputs": [],
   "source": [
    "import pandas as pd \n",
    "import numpy as np \n",
    "import lightgbm as lgb\n",
    "from lightgbm.sklearn import LGBMRegressor\n",
    "from sklearn.model_selection import train_test_split\n",
    "import matplotlib.pyplot as plt\n",
    "from Dataloader import Dataloader\n",
    "from RamdomForest import RamdomForest\n",
    "from score import score\n",
    "from sklearn.utils import shuffle\n",
    "from IPython.display import display, HTML\n",
    "from datetime import date\n",
    "%matplotlib inline"
   ]
  },
  {
   "cell_type": "code",
   "execution_count": 2,
   "metadata": {},
   "outputs": [],
   "source": [
    "df = pd.read_csv('data/train.csv')\n",
    "parm = {\n",
    "    'learning_rate' : 0.01,\n",
    "    'n_estimators' : 6000,\n",
    "    'max_depth' : [32],\n",
    "    'num_leaves' : [256],\n",
    "    'feature_fraction' : [0.9]\n",
    "}"
   ]
  },
  {
   "cell_type": "code",
   "execution_count": 3,
   "metadata": {
    "scrolled": false
   },
   "outputs": [
    {
     "name": "stderr",
     "output_type": "stream",
     "text": [
      "/home/mmdb/conda/lib/python3.6/site-packages/lightgbm/basic.py:1209: UserWarning: categorical_feature in Dataset is overridden.\n",
      "New categorical_feature is ['III_index', 'II_index', 'IV_index', 'IX_index', 'I_index', 'VIII_index', 'VII_index', 'VI_index', 'V_index', 'XIII_index', 'XII_index', 'XIV_index', 'XI_index', 'X_index', 'bachelor_rate', 'born_rate', 'building_type', 'building_use', 'city_town', 'death_rate', 'divorce_rate', 'elementary_rate', 'highschool_rate', 'jobschool_rate', 'junior_rate', 'marriage_rate', 'master_rate', 'parking_price_isna', 'parking_way', 'txn_floor_isna']\n",
      "  'New categorical_feature is {}'.format(sorted(list(categorical_feature))))\n"
     ]
    },
    {
     "name": "stdout",
     "output_type": "stream",
     "text": [
      "[5000]\ttraining's l1: 18478.9\ttraining's rmse: 30242.3\tvalid_1's l1: 130441\tvalid_1's rmse: 277062\n",
      "Finished.\n",
      "depth : 32 leaves : 256 fraction :0.9\n",
      "first part : 5634.674922600619 last part: 0.8709793757268386\n",
      "> 20 % : 0.1935402895155217\n",
      "point :  5635.545901976346\n"
     ]
    },
    {
     "name": "stderr",
     "output_type": "stream",
     "text": [
      "/home/mmdb/conda/lib/python3.6/site-packages/lightgbm/basic.py:1209: UserWarning: categorical_feature in Dataset is overridden.\n",
      "New categorical_feature is ['III_index', 'II_index', 'IV_index', 'IX_index', 'I_index', 'VIII_index', 'VII_index', 'VI_index', 'V_index', 'XIII_index', 'XII_index', 'XIV_index', 'XI_index', 'X_index', 'bachelor_rate', 'born_rate', 'building_material', 'building_type', 'building_use', 'city_town', 'death_rate', 'divorce_rate', 'elementary_rate', 'highschool_rate', 'jobschool_rate', 'junior_rate', 'marriage_rate', 'master_rate', 'parking_price_isna', 'parking_way', 'txn_floor_isna']\n",
      "  'New categorical_feature is {}'.format(sorted(list(categorical_feature))))\n"
     ]
    },
    {
     "name": "stdout",
     "output_type": "stream",
     "text": [
      "[5000]\ttraining's l1: 18709.6\ttraining's rmse: 30733.2\tvalid_1's l1: 130433\tvalid_1's rmse: 276874\n",
      "Finished.\n",
      "depth : 32 leaves : 256 fraction :0.9\n",
      "first part : 5602.878420215881 last part: 0.871088898645663\n",
      "> 20 % : 0.19370763952807296\n",
      "point :  5603.7495091145265\n"
     ]
    },
    {
     "name": "stderr",
     "output_type": "stream",
     "text": [
      "/home/mmdb/conda/lib/python3.6/site-packages/lightgbm/basic.py:1209: UserWarning: categorical_feature in Dataset is overridden.\n",
      "New categorical_feature is ['III_index', 'II_index', 'IV_index', 'IX_index', 'I_index', 'VIII_index', 'VII_index', 'VI_index', 'V_index', 'XIII_index', 'XII_index', 'XIV_index', 'XI_index', 'X_index', 'bachelor_rate', 'born_rate', 'building_material', 'building_type', 'building_use', 'city_town', 'death_rate', 'divorce_rate', 'elementary_rate', 'highschool_rate', 'jobschool_rate', 'junior_rate', 'marriage_rate', 'master_rate', 'parking_price_isna', 'parking_way', 'txn_floor_isna']\n",
      "  'New categorical_feature is {}'.format(sorted(list(categorical_feature))))\n"
     ]
    },
    {
     "name": "stdout",
     "output_type": "stream",
     "text": [
      "[5000]\ttraining's l1: 18495.1\ttraining's rmse: 30320.2\tvalid_1's l1: 131737\tvalid_1's rmse: 279098\n",
      "Finished.\n",
      "depth : 32 leaves : 256 fraction :0.9\n",
      "first part : 5608.7356706551745 last part: 0.8702923948834544\n",
      "> 20 % : 0.19245251443393857\n",
      "point :  5609.605963050058\n"
     ]
    },
    {
     "name": "stderr",
     "output_type": "stream",
     "text": [
      "/home/mmdb/conda/lib/python3.6/site-packages/lightgbm/basic.py:1209: UserWarning: categorical_feature in Dataset is overridden.\n",
      "New categorical_feature is ['III_index', 'II_index', 'IV_index', 'IX_index', 'I_index', 'VIII_index', 'VII_index', 'VI_index', 'V_index', 'XIII_index', 'XII_index', 'XIV_index', 'XI_index', 'X_index', 'bachelor_rate', 'born_rate', 'building_material', 'building_use', 'city_town', 'death_rate', 'divorce_rate', 'elementary_rate', 'highschool_rate', 'jobschool_rate', 'junior_rate', 'marriage_rate', 'master_rate', 'parking_price_isna', 'parking_way', 'txn_floor_isna']\n",
      "  'New categorical_feature is {}'.format(sorted(list(categorical_feature))))\n"
     ]
    },
    {
     "name": "stdout",
     "output_type": "stream",
     "text": [
      "[5000]\ttraining's l1: 18596.1\ttraining's rmse: 30460.6\tvalid_1's l1: 130602\tvalid_1's rmse: 278345\n",
      "Finished.\n",
      "depth : 32 leaves : 256 fraction :0.9\n",
      "first part : 5607.0621705296635 last part: 0.8708328324591756\n",
      "> 20 % : 0.19395866454689983\n",
      "point :  5607.933003362123\n"
     ]
    },
    {
     "name": "stderr",
     "output_type": "stream",
     "text": [
      "/home/mmdb/conda/lib/python3.6/site-packages/lightgbm/basic.py:1209: UserWarning: categorical_feature in Dataset is overridden.\n",
      "New categorical_feature is ['III_index', 'II_index', 'IV_index', 'IX_index', 'I_index', 'VIII_index', 'VII_index', 'VI_index', 'V_index', 'XIII_index', 'XII_index', 'XIV_index', 'XI_index', 'X_index', 'bachelor_rate', 'born_rate', 'building_material', 'building_type', 'city_town', 'death_rate', 'divorce_rate', 'elementary_rate', 'highschool_rate', 'jobschool_rate', 'junior_rate', 'marriage_rate', 'master_rate', 'parking_price_isna', 'parking_way', 'txn_floor_isna']\n",
      "  'New categorical_feature is {}'.format(sorted(list(categorical_feature))))\n"
     ]
    },
    {
     "name": "stdout",
     "output_type": "stream",
     "text": [
      "[5000]\ttraining's l1: 18690.4\ttraining's rmse: 30648.2\tvalid_1's l1: 130655\tvalid_1's rmse: 277436\n",
      "Finished.\n",
      "depth : 32 leaves : 256 fraction :0.9\n",
      "first part : 5614.592921094469 last part: 0.8709828910390451\n",
      "> 20 % : 0.19471173960338048\n",
      "point :  5615.463903985507\n"
     ]
    },
    {
     "name": "stderr",
     "output_type": "stream",
     "text": [
      "/home/mmdb/conda/lib/python3.6/site-packages/lightgbm/basic.py:1209: UserWarning: categorical_feature in Dataset is overridden.\n",
      "New categorical_feature is ['III_index', 'II_index', 'IV_index', 'IX_index', 'I_index', 'VIII_index', 'VII_index', 'VI_index', 'V_index', 'XIII_index', 'XII_index', 'XIV_index', 'XI_index', 'X_index', 'bachelor_rate', 'born_rate', 'building_material', 'building_type', 'building_use', 'city_town', 'death_rate', 'divorce_rate', 'elementary_rate', 'highschool_rate', 'jobschool_rate', 'junior_rate', 'marriage_rate', 'master_rate', 'parking_price_isna', 'parking_way', 'txn_floor_isna']\n",
      "  'New categorical_feature is {}'.format(sorted(list(categorical_feature))))\n"
     ]
    },
    {
     "name": "stdout",
     "output_type": "stream",
     "text": [
      "[5000]\ttraining's l1: 18269.2\ttraining's rmse: 29785.9\tvalid_1's l1: 131530\tvalid_1's rmse: 279476\n",
      "Finished.\n",
      "depth : 32 leaves : 256 fraction :0.9\n",
      "first part : 5606.225420466907 last part: 0.8702736568888721\n",
      "> 20 % : 0.1974730148104761\n",
      "point :  5607.0956941237955\n"
     ]
    },
    {
     "name": "stderr",
     "output_type": "stream",
     "text": [
      "/home/mmdb/conda/lib/python3.6/site-packages/lightgbm/basic.py:1209: UserWarning: categorical_feature in Dataset is overridden.\n",
      "New categorical_feature is ['III_index', 'II_index', 'IV_index', 'IX_index', 'I_index', 'VIII_index', 'VII_index', 'VI_index', 'V_index', 'XIII_index', 'XII_index', 'XIV_index', 'XI_index', 'X_index', 'bachelor_rate', 'born_rate', 'building_material', 'building_type', 'building_use', 'city_town', 'death_rate', 'divorce_rate', 'elementary_rate', 'highschool_rate', 'jobschool_rate', 'junior_rate', 'marriage_rate', 'master_rate', 'parking_price_isna', 'txn_floor_isna']\n",
      "  'New categorical_feature is {}'.format(sorted(list(categorical_feature))))\n"
     ]
    },
    {
     "name": "stdout",
     "output_type": "stream",
     "text": [
      "[5000]\ttraining's l1: 18426.3\ttraining's rmse: 30178.5\tvalid_1's l1: 130803\tvalid_1's rmse: 277015\n",
      "Finished.\n",
      "depth : 32 leaves : 256 fraction :0.9\n",
      "first part : 5627.980922098569 last part: 0.8710198162769925\n",
      "> 20 % : 0.19395866454689983\n",
      "point :  5628.851941914846\n"
     ]
    },
    {
     "name": "stderr",
     "output_type": "stream",
     "text": [
      "/home/mmdb/conda/lib/python3.6/site-packages/lightgbm/basic.py:1209: UserWarning: categorical_feature in Dataset is overridden.\n",
      "New categorical_feature is ['III_index', 'II_index', 'IV_index', 'IX_index', 'I_index', 'VIII_index', 'VII_index', 'VI_index', 'V_index', 'XIII_index', 'XII_index', 'XIV_index', 'XI_index', 'X_index', 'bachelor_rate', 'born_rate', 'building_material', 'building_type', 'building_use', 'city_town', 'death_rate', 'divorce_rate', 'elementary_rate', 'highschool_rate', 'jobschool_rate', 'junior_rate', 'marriage_rate', 'master_rate', 'parking_price_isna', 'parking_way', 'txn_floor_isna']\n",
      "  'New categorical_feature is {}'.format(sorted(list(categorical_feature))))\n"
     ]
    },
    {
     "name": "stdout",
     "output_type": "stream",
     "text": [
      "[5000]\ttraining's l1: 22298\ttraining's rmse: 41408.6\tvalid_1's l1: 149335\tvalid_1's rmse: 307165\n",
      "Finished.\n",
      "depth : 32 leaves : 256 fraction :0.9\n",
      "first part : 5166.094887457117 last part: 0.8547306436129114\n",
      "> 20 % : 0.22843276713245753\n",
      "point :  5166.94961810073\n"
     ]
    },
    {
     "name": "stderr",
     "output_type": "stream",
     "text": [
      "/home/mmdb/conda/lib/python3.6/site-packages/lightgbm/basic.py:1209: UserWarning: categorical_feature in Dataset is overridden.\n",
      "New categorical_feature is ['III_index', 'II_index', 'IV_index', 'IX_index', 'I_index', 'VIII_index', 'VII_index', 'VI_index', 'V_index', 'XIII_index', 'XII_index', 'XIV_index', 'XI_index', 'X_index', 'bachelor_rate', 'born_rate', 'building_material', 'building_type', 'building_use', 'city_town', 'death_rate', 'divorce_rate', 'elementary_rate', 'highschool_rate', 'jobschool_rate', 'junior_rate', 'marriage_rate', 'master_rate', 'parking_price_isna', 'parking_way', 'txn_floor_isna']\n",
      "  'New categorical_feature is {}'.format(sorted(list(categorical_feature))))\n"
     ]
    },
    {
     "name": "stdout",
     "output_type": "stream",
     "text": [
      "[5000]\ttraining's l1: 20053\ttraining's rmse: 34219.3\tvalid_1's l1: 135940\tvalid_1's rmse: 287529\n",
      "Finished.\n",
      "depth : 32 leaves : 256 fraction :0.9\n",
      "first part : 5474.018910551418 last part: 0.8494144680642063\n",
      "> 20 % : 0.2118651158898837\n",
      "point :  5474.868325019483\n"
     ]
    },
    {
     "name": "stderr",
     "output_type": "stream",
     "text": [
      "/home/mmdb/conda/lib/python3.6/site-packages/lightgbm/basic.py:1209: UserWarning: categorical_feature in Dataset is overridden.\n",
      "New categorical_feature is ['III_index', 'II_index', 'IV_index', 'IX_index', 'I_index', 'VIII_index', 'VII_index', 'VI_index', 'V_index', 'XIII_index', 'XII_index', 'XIV_index', 'XI_index', 'X_index', 'bachelor_rate', 'born_rate', 'building_material', 'building_type', 'building_use', 'city_town', 'death_rate', 'divorce_rate', 'elementary_rate', 'highschool_rate', 'jobschool_rate', 'junior_rate', 'marriage_rate', 'master_rate', 'parking_price_isna', 'parking_way', 'txn_floor_isna']\n",
      "  'New categorical_feature is {}'.format(sorted(list(categorical_feature))))\n"
     ]
    },
    {
     "name": "stdout",
     "output_type": "stream",
     "text": [
      "[5000]\ttraining's l1: 18444.5\ttraining's rmse: 30226\tvalid_1's l1: 130150\tvalid_1's rmse: 276531\n",
      "Finished.\n",
      "depth : 32 leaves : 256 fraction :0.9\n",
      "first part : 5648.899673667475 last part: 0.8711744535859292\n",
      "> 20 % : 0.19395866454689983\n",
      "point :  5649.770848121061\n"
     ]
    },
    {
     "name": "stderr",
     "output_type": "stream",
     "text": [
      "/home/mmdb/conda/lib/python3.6/site-packages/lightgbm/basic.py:1209: UserWarning: categorical_feature in Dataset is overridden.\n",
      "New categorical_feature is ['III_index', 'II_index', 'IV_index', 'IX_index', 'I_index', 'VIII_index', 'VII_index', 'VI_index', 'V_index', 'XIII_index', 'XII_index', 'XIV_index', 'XI_index', 'X_index', 'bachelor_rate', 'born_rate', 'building_material', 'building_type', 'building_use', 'city_town', 'death_rate', 'divorce_rate', 'elementary_rate', 'highschool_rate', 'jobschool_rate', 'junior_rate', 'marriage_rate', 'master_rate', 'parking_price_isna', 'parking_way', 'txn_floor_isna']\n",
      "  'New categorical_feature is {}'.format(sorted(list(categorical_feature))))\n"
     ]
    },
    {
     "name": "stdout",
     "output_type": "stream",
     "text": [
      "[5000]\ttraining's l1: 18419.6\ttraining's rmse: 30108.5\tvalid_1's l1: 130495\tvalid_1's rmse: 277433\n",
      "Finished.\n",
      "depth : 32 leaves : 256 fraction :0.9\n",
      "first part : 5628.817672161326 last part: 0.8710234737292655\n",
      "> 20 % : 0.19295456447159234\n",
      "point :  5629.688695635055\n"
     ]
    },
    {
     "name": "stderr",
     "output_type": "stream",
     "text": [
      "/home/mmdb/conda/lib/python3.6/site-packages/lightgbm/basic.py:1209: UserWarning: categorical_feature in Dataset is overridden.\n",
      "New categorical_feature is ['III_index', 'II_index', 'IV_index', 'IX_index', 'I_index', 'VIII_index', 'VII_index', 'VI_index', 'V_index', 'XIII_index', 'XII_index', 'XIV_index', 'XI_index', 'X_index', 'bachelor_rate', 'born_rate', 'building_material', 'building_type', 'building_use', 'city_town', 'death_rate', 'divorce_rate', 'elementary_rate', 'highschool_rate', 'jobschool_rate', 'junior_rate', 'marriage_rate', 'master_rate', 'parking_price_isna', 'parking_way', 'txn_floor_isna']\n",
      "  'New categorical_feature is {}'.format(sorted(list(categorical_feature))))\n"
     ]
    },
    {
     "name": "stdout",
     "output_type": "stream",
     "text": [
      "[5000]\ttraining's l1: 18571.8\ttraining's rmse: 30491.6\tvalid_1's l1: 131587\tvalid_1's rmse: 281298\n",
      "Finished.\n",
      "depth : 32 leaves : 256 fraction :0.9\n",
      "first part : 5624.633921847544 last part: 0.8704885097435846\n",
      "> 20 % : 0.19554848966613672\n",
      "point :  5625.504410357287\n"
     ]
    },
    {
     "name": "stderr",
     "output_type": "stream",
     "text": [
      "/home/mmdb/conda/lib/python3.6/site-packages/lightgbm/basic.py:1209: UserWarning: categorical_feature in Dataset is overridden.\n",
      "New categorical_feature is ['III_index', 'II_index', 'IV_index', 'IX_index', 'I_index', 'VIII_index', 'VII_index', 'VI_index', 'V_index', 'XIII_index', 'XII_index', 'XIV_index', 'XI_index', 'X_index', 'bachelor_rate', 'born_rate', 'building_material', 'building_type', 'building_use', 'city_town', 'death_rate', 'divorce_rate', 'elementary_rate', 'highschool_rate', 'jobschool_rate', 'junior_rate', 'marriage_rate', 'master_rate', 'parking_price_isna', 'parking_way', 'txn_floor_isna']\n",
      "  'New categorical_feature is {}'.format(sorted(list(categorical_feature))))\n"
     ]
    },
    {
     "name": "stdout",
     "output_type": "stream",
     "text": [
      "[5000]\ttraining's l1: 18368.9\ttraining's rmse: 29975.4\tvalid_1's l1: 130397\tvalid_1's rmse: 277689\n",
      "Finished.\n",
      "depth : 32 leaves : 256 fraction :0.9\n",
      "first part : 5622.123671659275 last part: 0.8708239269484483\n",
      "> 20 % : 0.1927872144590411\n",
      "point :  5622.994495586223\n"
     ]
    },
    {
     "name": "stderr",
     "output_type": "stream",
     "text": [
      "/home/mmdb/conda/lib/python3.6/site-packages/lightgbm/basic.py:1209: UserWarning: categorical_feature in Dataset is overridden.\n",
      "New categorical_feature is ['III_index', 'II_index', 'IV_index', 'IX_index', 'I_index', 'VIII_index', 'VII_index', 'VI_index', 'V_index', 'XIII_index', 'XII_index', 'XIV_index', 'XI_index', 'X_index', 'bachelor_rate', 'born_rate', 'building_material', 'building_type', 'building_use', 'city_town', 'death_rate', 'divorce_rate', 'elementary_rate', 'highschool_rate', 'jobschool_rate', 'junior_rate', 'marriage_rate', 'master_rate', 'parking_price_isna', 'parking_way', 'txn_floor_isna']\n",
      "  'New categorical_feature is {}'.format(sorted(list(categorical_feature))))\n"
     ]
    },
    {
     "name": "stdout",
     "output_type": "stream",
     "text": [
      "[5000]\ttraining's l1: 18427.3\ttraining's rmse: 30118.2\tvalid_1's l1: 130117\tvalid_1's rmse: 276385\n",
      "Finished.\n",
      "depth : 32 leaves : 256 fraction :0.9\n",
      "first part : 5653.920174044013 last part: 0.8713746198122346\n",
      "> 20 % : 0.19554848966613672\n",
      "point :  5654.791548663825\n"
     ]
    },
    {
     "name": "stderr",
     "output_type": "stream",
     "text": [
      "/home/mmdb/conda/lib/python3.6/site-packages/lightgbm/basic.py:1209: UserWarning: categorical_feature in Dataset is overridden.\n",
      "New categorical_feature is ['III_index', 'II_index', 'IV_index', 'IX_index', 'I_index', 'VIII_index', 'VII_index', 'VI_index', 'V_index', 'XIII_index', 'XII_index', 'XIV_index', 'XI_index', 'X_index', 'bachelor_rate', 'born_rate', 'building_material', 'building_type', 'building_use', 'city_town', 'death_rate', 'divorce_rate', 'elementary_rate', 'highschool_rate', 'jobschool_rate', 'junior_rate', 'marriage_rate', 'master_rate', 'parking_price_isna', 'parking_way', 'txn_floor_isna']\n",
      "  'New categorical_feature is {}'.format(sorted(list(categorical_feature))))\n"
     ]
    },
    {
     "name": "stdout",
     "output_type": "stream",
     "text": [
      "[5000]\ttraining's l1: 18446.8\ttraining's rmse: 30275.6\tvalid_1's l1: 130251\tvalid_1's rmse: 276814\n",
      "Finished.\n",
      "depth : 32 leaves : 256 fraction :0.9\n",
      "first part : 5632.164672412351 last part: 0.8715342260261159\n",
      "> 20 % : 0.19437703957827795\n",
      "point :  5633.036206638377\n"
     ]
    },
    {
     "name": "stderr",
     "output_type": "stream",
     "text": [
      "/home/mmdb/conda/lib/python3.6/site-packages/lightgbm/basic.py:1209: UserWarning: categorical_feature in Dataset is overridden.\n",
      "New categorical_feature is ['III_index', 'II_index', 'IV_index', 'IX_index', 'I_index', 'VIII_index', 'VII_index', 'VI_index', 'V_index', 'XIII_index', 'XII_index', 'XIV_index', 'XI_index', 'X_index', 'bachelor_rate', 'born_rate', 'building_material', 'building_type', 'building_use', 'city_town', 'death_rate', 'divorce_rate', 'elementary_rate', 'highschool_rate', 'jobschool_rate', 'junior_rate', 'marriage_rate', 'master_rate', 'parking_price_isna', 'parking_way', 'txn_floor_isna']\n",
      "  'New categorical_feature is {}'.format(sorted(list(categorical_feature))))\n"
     ]
    },
    {
     "name": "stdout",
     "output_type": "stream",
     "text": [
      "[5000]\ttraining's l1: 18431.5\ttraining's rmse: 30087.8\tvalid_1's l1: 130425\tvalid_1's rmse: 277781\n",
      "Finished.\n",
      "depth : 32 leaves : 256 fraction :0.9\n",
      "first part : 5633.838172537863 last part: 0.871090476684287\n",
      "> 20 % : 0.1911973893398042\n",
      "point :  5634.709263014547\n"
     ]
    },
    {
     "name": "stderr",
     "output_type": "stream",
     "text": [
      "/home/mmdb/conda/lib/python3.6/site-packages/lightgbm/basic.py:1209: UserWarning: categorical_feature in Dataset is overridden.\n",
      "New categorical_feature is ['III_index', 'II_index', 'IV_index', 'IX_index', 'I_index', 'VIII_index', 'VII_index', 'VI_index', 'V_index', 'XIII_index', 'XII_index', 'XIV_index', 'XI_index', 'X_index', 'bachelor_rate', 'born_rate', 'building_material', 'building_type', 'building_use', 'city_town', 'death_rate', 'divorce_rate', 'elementary_rate', 'highschool_rate', 'jobschool_rate', 'junior_rate', 'marriage_rate', 'parking_price_isna', 'parking_way', 'txn_floor_isna']\n",
      "  'New categorical_feature is {}'.format(sorted(list(categorical_feature))))\n"
     ]
    },
    {
     "name": "stdout",
     "output_type": "stream",
     "text": [
      "[5000]\ttraining's l1: 18472.2\ttraining's rmse: 30283.7\tvalid_1's l1: 130099\tvalid_1's rmse: 277277\n",
      "Finished.\n",
      "depth : 32 leaves : 256 fraction :0.9\n",
      "first part : 5638.858672914401 last part: 0.8715142501804292\n",
      "> 20 % : 0.1931219144841436\n",
      "point :  5639.730187164581\n"
     ]
    },
    {
     "name": "stderr",
     "output_type": "stream",
     "text": [
      "/home/mmdb/conda/lib/python3.6/site-packages/lightgbm/basic.py:1209: UserWarning: categorical_feature in Dataset is overridden.\n",
      "New categorical_feature is ['III_index', 'II_index', 'IV_index', 'IX_index', 'I_index', 'VIII_index', 'VII_index', 'VI_index', 'V_index', 'XIII_index', 'XII_index', 'XIV_index', 'XI_index', 'X_index', 'born_rate', 'building_material', 'building_type', 'building_use', 'city_town', 'death_rate', 'divorce_rate', 'elementary_rate', 'highschool_rate', 'jobschool_rate', 'junior_rate', 'marriage_rate', 'master_rate', 'parking_price_isna', 'parking_way', 'txn_floor_isna']\n",
      "  'New categorical_feature is {}'.format(sorted(list(categorical_feature))))\n"
     ]
    },
    {
     "name": "stdout",
     "output_type": "stream",
     "text": [
      "[5000]\ttraining's l1: 18472.2\ttraining's rmse: 30283.7\tvalid_1's l1: 130099\tvalid_1's rmse: 277277\n",
      "Finished.\n",
      "depth : 32 leaves : 256 fraction :0.9\n",
      "first part : 5638.858672914401 last part: 0.8715142501804292\n",
      "> 20 % : 0.1931219144841436\n",
      "point :  5639.730187164581\n"
     ]
    },
    {
     "name": "stderr",
     "output_type": "stream",
     "text": [
      "/home/mmdb/conda/lib/python3.6/site-packages/lightgbm/basic.py:1209: UserWarning: categorical_feature in Dataset is overridden.\n",
      "New categorical_feature is ['III_index', 'II_index', 'IV_index', 'IX_index', 'I_index', 'VIII_index', 'VII_index', 'VI_index', 'V_index', 'XIII_index', 'XII_index', 'XIV_index', 'XI_index', 'X_index', 'bachelor_rate', 'born_rate', 'building_material', 'building_type', 'building_use', 'city_town', 'death_rate', 'divorce_rate', 'elementary_rate', 'jobschool_rate', 'junior_rate', 'marriage_rate', 'master_rate', 'parking_price_isna', 'parking_way', 'txn_floor_isna']\n",
      "  'New categorical_feature is {}'.format(sorted(list(categorical_feature))))\n"
     ]
    },
    {
     "name": "stdout",
     "output_type": "stream",
     "text": [
      "[5000]\ttraining's l1: 18472.2\ttraining's rmse: 30283.7\tvalid_1's l1: 130099\tvalid_1's rmse: 277277\n",
      "Finished.\n",
      "depth : 32 leaves : 256 fraction :0.9\n",
      "first part : 5638.858672914401 last part: 0.8715142501804292\n",
      "> 20 % : 0.1931219144841436\n",
      "point :  5639.730187164581\n"
     ]
    },
    {
     "name": "stderr",
     "output_type": "stream",
     "text": [
      "/home/mmdb/conda/lib/python3.6/site-packages/lightgbm/basic.py:1209: UserWarning: categorical_feature in Dataset is overridden.\n",
      "New categorical_feature is ['III_index', 'II_index', 'IV_index', 'IX_index', 'I_index', 'VIII_index', 'VII_index', 'VI_index', 'V_index', 'XIII_index', 'XII_index', 'XIV_index', 'XI_index', 'X_index', 'bachelor_rate', 'born_rate', 'building_material', 'building_type', 'building_use', 'city_town', 'death_rate', 'divorce_rate', 'elementary_rate', 'highschool_rate', 'jobschool_rate', 'marriage_rate', 'master_rate', 'parking_price_isna', 'parking_way', 'txn_floor_isna']\n",
      "  'New categorical_feature is {}'.format(sorted(list(categorical_feature))))\n"
     ]
    },
    {
     "name": "stdout",
     "output_type": "stream",
     "text": [
      "[5000]\ttraining's l1: 18472.2\ttraining's rmse: 30283.7\tvalid_1's l1: 130099\tvalid_1's rmse: 277277\n",
      "Finished.\n",
      "depth : 32 leaves : 256 fraction :0.9\n",
      "first part : 5638.858672914401 last part: 0.8715142501804292\n",
      "> 20 % : 0.1931219144841436\n",
      "point :  5639.730187164581\n"
     ]
    },
    {
     "name": "stderr",
     "output_type": "stream",
     "text": [
      "/home/mmdb/conda/lib/python3.6/site-packages/lightgbm/basic.py:1209: UserWarning: categorical_feature in Dataset is overridden.\n",
      "New categorical_feature is ['III_index', 'II_index', 'IV_index', 'IX_index', 'I_index', 'VIII_index', 'VII_index', 'VI_index', 'V_index', 'XIII_index', 'XII_index', 'XIV_index', 'XI_index', 'X_index', 'bachelor_rate', 'born_rate', 'building_material', 'building_type', 'building_use', 'city_town', 'death_rate', 'divorce_rate', 'highschool_rate', 'jobschool_rate', 'junior_rate', 'marriage_rate', 'master_rate', 'parking_price_isna', 'parking_way', 'txn_floor_isna']\n",
      "  'New categorical_feature is {}'.format(sorted(list(categorical_feature))))\n"
     ]
    },
    {
     "name": "stdout",
     "output_type": "stream",
     "text": [
      "[5000]\ttraining's l1: 18472.2\ttraining's rmse: 30283.7\tvalid_1's l1: 130099\tvalid_1's rmse: 277277\n",
      "Finished.\n",
      "depth : 32 leaves : 256 fraction :0.9\n",
      "first part : 5638.858672914401 last part: 0.8715142501804292\n",
      "> 20 % : 0.1931219144841436\n",
      "point :  5639.730187164581\n"
     ]
    },
    {
     "name": "stderr",
     "output_type": "stream",
     "text": [
      "/home/mmdb/conda/lib/python3.6/site-packages/lightgbm/basic.py:1209: UserWarning: categorical_feature in Dataset is overridden.\n",
      "New categorical_feature is ['III_index', 'II_index', 'IV_index', 'IX_index', 'I_index', 'VIII_index', 'VII_index', 'VI_index', 'V_index', 'XIII_index', 'XII_index', 'XIV_index', 'XI_index', 'X_index', 'bachelor_rate', 'building_material', 'building_type', 'building_use', 'city_town', 'death_rate', 'divorce_rate', 'elementary_rate', 'highschool_rate', 'jobschool_rate', 'junior_rate', 'marriage_rate', 'master_rate', 'parking_price_isna', 'parking_way', 'txn_floor_isna']\n",
      "  'New categorical_feature is {}'.format(sorted(list(categorical_feature))))\n"
     ]
    },
    {
     "name": "stdout",
     "output_type": "stream",
     "text": [
      "[5000]\ttraining's l1: 18372.2\ttraining's rmse: 30039.7\tvalid_1's l1: 130357\tvalid_1's rmse: 276905\n",
      "Finished.\n",
      "depth : 32 leaves : 256 fraction :0.9\n",
      "first part : 5604.551920341394 last part: 0.8709037920560203\n",
      "> 20 % : 0.19529746464730985\n",
      "point :  5605.42282413345\n"
     ]
    },
    {
     "name": "stderr",
     "output_type": "stream",
     "text": [
      "/home/mmdb/conda/lib/python3.6/site-packages/lightgbm/basic.py:1209: UserWarning: categorical_feature in Dataset is overridden.\n",
      "New categorical_feature is ['III_index', 'II_index', 'IV_index', 'IX_index', 'I_index', 'VIII_index', 'VII_index', 'VI_index', 'V_index', 'XIII_index', 'XII_index', 'XIV_index', 'XI_index', 'X_index', 'bachelor_rate', 'born_rate', 'building_material', 'building_type', 'building_use', 'city_town', 'divorce_rate', 'elementary_rate', 'highschool_rate', 'jobschool_rate', 'junior_rate', 'marriage_rate', 'master_rate', 'parking_price_isna', 'parking_way', 'txn_floor_isna']\n",
      "  'New categorical_feature is {}'.format(sorted(list(categorical_feature))))\n"
     ]
    },
    {
     "name": "stdout",
     "output_type": "stream",
     "text": [
      "[5000]\ttraining's l1: 18461.7\ttraining's rmse: 30057.1\tvalid_1's l1: 130031\tvalid_1's rmse: 276459\n",
      "Finished.\n",
      "depth : 32 leaves : 256 fraction :0.9\n",
      "first part : 5639.695422977156 last part: 0.8713402216087636\n",
      "> 20 % : 0.19395866454689983\n",
      "point :  5640.566763198765\n"
     ]
    },
    {
     "name": "stderr",
     "output_type": "stream",
     "text": [
      "/home/mmdb/conda/lib/python3.6/site-packages/lightgbm/basic.py:1209: UserWarning: categorical_feature in Dataset is overridden.\n",
      "New categorical_feature is ['III_index', 'II_index', 'IV_index', 'IX_index', 'I_index', 'VIII_index', 'VII_index', 'VI_index', 'V_index', 'XIII_index', 'XII_index', 'XIV_index', 'XI_index', 'X_index', 'bachelor_rate', 'born_rate', 'building_material', 'building_type', 'building_use', 'city_town', 'death_rate', 'divorce_rate', 'elementary_rate', 'highschool_rate', 'jobschool_rate', 'junior_rate', 'master_rate', 'parking_price_isna', 'parking_way', 'txn_floor_isna']\n",
      "  'New categorical_feature is {}'.format(sorted(list(categorical_feature))))\n"
     ]
    },
    {
     "name": "stdout",
     "output_type": "stream",
     "text": [
      "[5000]\ttraining's l1: 18522.9\ttraining's rmse: 30205.8\tvalid_1's l1: 130398\tvalid_1's rmse: 277255\n",
      "Finished.\n",
      "depth : 32 leaves : 256 fraction :0.9\n",
      "first part : 5617.103171282738 last part: 0.8712156562036026\n",
      "> 20 % : 0.19404233955317546\n",
      "point :  5617.974386938941\n"
     ]
    },
    {
     "name": "stderr",
     "output_type": "stream",
     "text": [
      "/home/mmdb/conda/lib/python3.6/site-packages/lightgbm/basic.py:1209: UserWarning: categorical_feature in Dataset is overridden.\n",
      "New categorical_feature is ['III_index', 'II_index', 'IV_index', 'IX_index', 'I_index', 'VIII_index', 'VII_index', 'VI_index', 'V_index', 'XIII_index', 'XII_index', 'XIV_index', 'XI_index', 'X_index', 'bachelor_rate', 'born_rate', 'building_material', 'building_type', 'building_use', 'city_town', 'death_rate', 'elementary_rate', 'highschool_rate', 'jobschool_rate', 'junior_rate', 'marriage_rate', 'master_rate', 'parking_price_isna', 'parking_way', 'txn_floor_isna']\n",
      "  'New categorical_feature is {}'.format(sorted(list(categorical_feature))))\n"
     ]
    },
    {
     "name": "stdout",
     "output_type": "stream",
     "text": [
      "[5000]\ttraining's l1: 18339.4\ttraining's rmse: 29982.8\tvalid_1's l1: 130707\tvalid_1's rmse: 277042\n",
      "Finished.\n",
      "depth : 32 leaves : 256 fraction :0.9\n",
      "first part : 5632.164672412351 last part: 0.8714480104480268\n",
      "> 20 % : 0.19328926449669484\n",
      "point :  5633.036120422799\n"
     ]
    },
    {
     "name": "stderr",
     "output_type": "stream",
     "text": [
      "/home/mmdb/conda/lib/python3.6/site-packages/lightgbm/basic.py:1209: UserWarning: categorical_feature in Dataset is overridden.\n",
      "New categorical_feature is ['III_index', 'II_index', 'IV_index', 'IX_index', 'I_index', 'VIII_index', 'VII_index', 'VI_index', 'V_index', 'XIII_index', 'XII_index', 'XIV_index', 'XI_index', 'X_index', 'bachelor_rate', 'born_rate', 'building_material', 'building_type', 'building_use', 'city_town', 'death_rate', 'divorce_rate', 'elementary_rate', 'highschool_rate', 'jobschool_rate', 'junior_rate', 'marriage_rate', 'master_rate', 'parking_price_isna', 'parking_way', 'txn_floor_isna']\n",
      "  'New categorical_feature is {}'.format(sorted(list(categorical_feature))))\n"
     ]
    },
    {
     "name": "stdout",
     "output_type": "stream",
     "text": [
      "[5000]\ttraining's l1: 18506.4\ttraining's rmse: 30199.2\tvalid_1's l1: 130296\tvalid_1's rmse: 277277\n",
      "Finished.\n",
      "depth : 32 leaves : 256 fraction :0.9\n",
      "first part : 5665.6346749226 last part: 0.8716081950789722\n",
      "> 20 % : 0.19320558949041922\n",
      "point :  5666.506283117679\n"
     ]
    },
    {
     "name": "stderr",
     "output_type": "stream",
     "text": [
      "/home/mmdb/conda/lib/python3.6/site-packages/lightgbm/basic.py:1209: UserWarning: categorical_feature in Dataset is overridden.\n",
      "New categorical_feature is ['III_index', 'II_index', 'IV_index', 'IX_index', 'I_index', 'VIII_index', 'VII_index', 'VI_index', 'V_index', 'XIII_index', 'XII_index', 'XIV_index', 'XI_index', 'X_index', 'bachelor_rate', 'born_rate', 'building_material', 'building_type', 'building_use', 'city_town', 'death_rate', 'divorce_rate', 'elementary_rate', 'highschool_rate', 'jobschool_rate', 'junior_rate', 'marriage_rate', 'master_rate', 'parking_price_isna', 'parking_way', 'txn_floor_isna']\n",
      "  'New categorical_feature is {}'.format(sorted(list(categorical_feature))))\n"
     ]
    },
    {
     "name": "stdout",
     "output_type": "stream",
     "text": [
      "[5000]\ttraining's l1: 18484.4\ttraining's rmse: 30229.1\tvalid_1's l1: 130289\tvalid_1's rmse: 276726\n",
      "Finished.\n",
      "depth : 32 leaves : 256 fraction :0.9\n",
      "first part : 5625.470671910301 last part: 0.8711900665975694\n",
      "> 20 % : 0.19454438959082923\n",
      "point :  5626.341861976898\n"
     ]
    },
    {
     "name": "stderr",
     "output_type": "stream",
     "text": [
      "/home/mmdb/conda/lib/python3.6/site-packages/lightgbm/basic.py:1209: UserWarning: categorical_feature in Dataset is overridden.\n",
      "New categorical_feature is ['III_index', 'II_index', 'IV_index', 'IX_index', 'I_index', 'VIII_index', 'VII_index', 'VI_index', 'V_index', 'XIII_index', 'XII_index', 'XIV_index', 'XI_index', 'X_index', 'bachelor_rate', 'born_rate', 'building_material', 'building_type', 'building_use', 'city_town', 'death_rate', 'divorce_rate', 'elementary_rate', 'highschool_rate', 'jobschool_rate', 'junior_rate', 'marriage_rate', 'master_rate', 'parking_price_isna', 'parking_way', 'txn_floor_isna']\n",
      "  'New categorical_feature is {}'.format(sorted(list(categorical_feature))))\n"
     ]
    },
    {
     "name": "stdout",
     "output_type": "stream",
     "text": [
      "[5000]\ttraining's l1: 18431.9\ttraining's rmse: 30161.9\tvalid_1's l1: 130543\tvalid_1's rmse: 277698\n",
      "Finished.\n",
      "depth : 32 leaves : 256 fraction :0.9\n",
      "first part : 5637.185172788888 last part: 0.8712923190665098\n",
      "> 20 % : 0.19136473935235546\n",
      "point :  5638.056465107955\n"
     ]
    },
    {
     "name": "stderr",
     "output_type": "stream",
     "text": [
      "/home/mmdb/conda/lib/python3.6/site-packages/lightgbm/basic.py:1209: UserWarning: categorical_feature in Dataset is overridden.\n",
      "New categorical_feature is ['III_index', 'II_index', 'IV_index', 'IX_index', 'I_index', 'VIII_index', 'VII_index', 'VI_index', 'V_index', 'XIII_index', 'XII_index', 'XIV_index', 'XI_index', 'X_index', 'bachelor_rate', 'born_rate', 'building_material', 'building_type', 'building_use', 'city_town', 'death_rate', 'divorce_rate', 'elementary_rate', 'highschool_rate', 'jobschool_rate', 'junior_rate', 'marriage_rate', 'master_rate', 'parking_price_isna', 'parking_way', 'txn_floor_isna']\n",
      "  'New categorical_feature is {}'.format(sorted(list(categorical_feature))))\n"
     ]
    },
    {
     "name": "stdout",
     "output_type": "stream",
     "text": [
      "[5000]\ttraining's l1: 18530.2\ttraining's rmse: 30412.6\tvalid_1's l1: 130319\tvalid_1's rmse: 276707\n",
      "Finished.\n",
      "depth : 32 leaves : 256 fraction :0.9\n",
      "first part : 5632.164672412351 last part: 0.8710585759801764\n",
      "> 20 % : 0.19337293950297046\n",
      "point :  5633.035730988331\n"
     ]
    },
    {
     "name": "stderr",
     "output_type": "stream",
     "text": [
      "/home/mmdb/conda/lib/python3.6/site-packages/lightgbm/basic.py:1209: UserWarning: categorical_feature in Dataset is overridden.\n",
      "New categorical_feature is ['III_index', 'II_index', 'IV_index', 'IX_index', 'I_index', 'VIII_index', 'VII_index', 'VI_index', 'V_index', 'XIII_index', 'XII_index', 'XIV_index', 'XI_index', 'X_index', 'bachelor_rate', 'born_rate', 'building_material', 'building_type', 'building_use', 'city_town', 'death_rate', 'divorce_rate', 'elementary_rate', 'highschool_rate', 'jobschool_rate', 'junior_rate', 'marriage_rate', 'master_rate', 'parking_price_isna', 'parking_way', 'txn_floor_isna']\n",
      "  'New categorical_feature is {}'.format(sorted(list(categorical_feature))))\n"
     ]
    },
    {
     "name": "stdout",
     "output_type": "stream",
     "text": [
      "[5000]\ttraining's l1: 18503.5\ttraining's rmse: 30226.7\tvalid_1's l1: 130222\tvalid_1's rmse: 276716\n",
      "Finished.\n",
      "depth : 32 leaves : 256 fraction :0.9\n",
      "first part : 5624.633921847544 last part: 0.8713265727543131\n",
      "> 20 % : 0.19521378964103422\n",
      "point :  5625.505248420299\n"
     ]
    },
    {
     "name": "stderr",
     "output_type": "stream",
     "text": [
      "/home/mmdb/conda/lib/python3.6/site-packages/lightgbm/basic.py:1209: UserWarning: categorical_feature in Dataset is overridden.\n",
      "New categorical_feature is ['III_index', 'II_index', 'IV_index', 'IX_index', 'I_index', 'VIII_index', 'VII_index', 'VI_index', 'V_index', 'XIII_index', 'XII_index', 'XIV_index', 'XI_index', 'X_index', 'bachelor_rate', 'born_rate', 'building_material', 'building_type', 'building_use', 'city_town', 'death_rate', 'divorce_rate', 'elementary_rate', 'highschool_rate', 'jobschool_rate', 'junior_rate', 'marriage_rate', 'master_rate', 'parking_price_isna', 'parking_way', 'txn_floor_isna']\n",
      "  'New categorical_feature is {}'.format(sorted(list(categorical_feature))))\n"
     ]
    },
    {
     "name": "stdout",
     "output_type": "stream",
     "text": [
      "[5000]\ttraining's l1: 18569.9\ttraining's rmse: 30417.3\tvalid_1's l1: 130288\tvalid_1's rmse: 276751\n",
      "Finished.\n",
      "depth : 32 leaves : 256 fraction :0.9\n",
      "first part : 5631.327922349594 last part: 0.871207394664809\n",
      "> 20 % : 0.19462806459710486\n",
      "point :  5632.199129744258\n"
     ]
    },
    {
     "name": "stderr",
     "output_type": "stream",
     "text": [
      "/home/mmdb/conda/lib/python3.6/site-packages/lightgbm/basic.py:1209: UserWarning: categorical_feature in Dataset is overridden.\n",
      "New categorical_feature is ['III_index', 'II_index', 'IV_index', 'IX_index', 'I_index', 'VIII_index', 'VII_index', 'VI_index', 'V_index', 'XIII_index', 'XII_index', 'XIV_index', 'XI_index', 'X_index', 'bachelor_rate', 'born_rate', 'building_material', 'building_type', 'building_use', 'city_town', 'death_rate', 'divorce_rate', 'elementary_rate', 'highschool_rate', 'jobschool_rate', 'junior_rate', 'marriage_rate', 'master_rate', 'parking_price_isna', 'parking_way', 'txn_floor_isna']\n",
      "  'New categorical_feature is {}'.format(sorted(list(categorical_feature))))\n"
     ]
    },
    {
     "name": "stdout",
     "output_type": "stream",
     "text": [
      "[5000]\ttraining's l1: 18475.2\ttraining's rmse: 30370.5\tvalid_1's l1: 130193\tvalid_1's rmse: 276788\n",
      "Finished.\n",
      "depth : 32 leaves : 256 fraction :0.9\n",
      "first part : 5648.06292360472 last part: 0.8716073172072684\n",
      "> 20 % : 0.19178311438373358\n",
      "point :  5648.934530921927\n"
     ]
    },
    {
     "name": "stderr",
     "output_type": "stream",
     "text": [
      "/home/mmdb/conda/lib/python3.6/site-packages/lightgbm/basic.py:1209: UserWarning: categorical_feature in Dataset is overridden.\n",
      "New categorical_feature is ['III_index', 'II_index', 'IV_index', 'IX_index', 'I_index', 'VIII_index', 'VII_index', 'VI_index', 'V_index', 'XIII_index', 'XII_index', 'XIV_index', 'XI_index', 'X_index', 'bachelor_rate', 'born_rate', 'building_material', 'building_type', 'building_use', 'city_town', 'death_rate', 'divorce_rate', 'elementary_rate', 'highschool_rate', 'jobschool_rate', 'junior_rate', 'marriage_rate', 'master_rate', 'parking_price_isna', 'parking_way', 'txn_floor_isna']\n",
      "  'New categorical_feature is {}'.format(sorted(list(categorical_feature))))\n"
     ]
    },
    {
     "name": "stdout",
     "output_type": "stream",
     "text": [
      "[5000]\ttraining's l1: 18472.6\ttraining's rmse: 30207.6\tvalid_1's l1: 130258\tvalid_1's rmse: 275810\n",
      "Finished.\n",
      "depth : 32 leaves : 256 fraction :0.9\n",
      "first part : 5607.0621705296635 last part: 0.8709928026027647\n",
      "> 20 % : 0.19596686469751484\n",
      "point :  5607.933163332266\n"
     ]
    },
    {
     "name": "stderr",
     "output_type": "stream",
     "text": [
      "/home/mmdb/conda/lib/python3.6/site-packages/lightgbm/basic.py:1209: UserWarning: categorical_feature in Dataset is overridden.\n",
      "New categorical_feature is ['III_index', 'II_index', 'IV_index', 'IX_index', 'I_index', 'VIII_index', 'VII_index', 'VI_index', 'V_index', 'XIII_index', 'XII_index', 'XIV_index', 'XI_index', 'X_index', 'bachelor_rate', 'born_rate', 'building_material', 'building_type', 'building_use', 'city_town', 'death_rate', 'divorce_rate', 'elementary_rate', 'highschool_rate', 'jobschool_rate', 'junior_rate', 'marriage_rate', 'master_rate', 'parking_price_isna', 'parking_way', 'txn_floor_isna']\n",
      "  'New categorical_feature is {}'.format(sorted(list(categorical_feature))))\n"
     ]
    },
    {
     "name": "stdout",
     "output_type": "stream",
     "text": [
      "[5000]\ttraining's l1: 18482.6\ttraining's rmse: 30186\tvalid_1's l1: 130573\tvalid_1's rmse: 276935\n",
      "Finished.\n",
      "depth : 32 leaves : 256 fraction :0.9\n",
      "first part : 5633.838172537863 last part: 0.8714679000341219\n",
      "> 20 % : 0.19437703957827795\n",
      "point :  5634.709640437897\n"
     ]
    },
    {
     "name": "stderr",
     "output_type": "stream",
     "text": [
      "/home/mmdb/conda/lib/python3.6/site-packages/lightgbm/basic.py:1209: UserWarning: categorical_feature in Dataset is overridden.\n",
      "New categorical_feature is ['III_index', 'II_index', 'IV_index', 'IX_index', 'I_index', 'VIII_index', 'VII_index', 'VI_index', 'V_index', 'XIII_index', 'XII_index', 'XIV_index', 'XI_index', 'X_index', 'bachelor_rate', 'born_rate', 'building_material', 'building_type', 'building_use', 'city_town', 'death_rate', 'divorce_rate', 'elementary_rate', 'highschool_rate', 'jobschool_rate', 'junior_rate', 'marriage_rate', 'master_rate', 'parking_price_isna', 'parking_way', 'txn_floor_isna']\n",
      "  'New categorical_feature is {}'.format(sorted(list(categorical_feature))))\n"
     ]
    },
    {
     "name": "stdout",
     "output_type": "stream",
     "text": [
      "[5000]\ttraining's l1: 18378.9\ttraining's rmse: 30060.5\tvalid_1's l1: 130356\tvalid_1's rmse: 276661\n",
      "Finished.\n",
      "depth : 32 leaves : 256 fraction :0.9\n",
      "first part : 5621.286921596519 last part: 0.8713597146231751\n",
      "> 20 % : 0.19563216467241235\n",
      "point :  5622.158281311143\n"
     ]
    },
    {
     "name": "stderr",
     "output_type": "stream",
     "text": [
      "/home/mmdb/conda/lib/python3.6/site-packages/lightgbm/basic.py:1209: UserWarning: categorical_feature in Dataset is overridden.\n",
      "New categorical_feature is ['III_index', 'II_index', 'IV_index', 'IX_index', 'I_index', 'VIII_index', 'VII_index', 'VI_index', 'V_index', 'XIII_index', 'XII_index', 'XIV_index', 'XI_index', 'X_index', 'bachelor_rate', 'born_rate', 'building_material', 'building_type', 'building_use', 'city_town', 'death_rate', 'divorce_rate', 'elementary_rate', 'highschool_rate', 'jobschool_rate', 'junior_rate', 'marriage_rate', 'master_rate', 'parking_price_isna', 'parking_way', 'txn_floor_isna']\n",
      "  'New categorical_feature is {}'.format(sorted(list(categorical_feature))))\n"
     ]
    },
    {
     "name": "stdout",
     "output_type": "stream",
     "text": [
      "[5000]\ttraining's l1: 18640.3\ttraining's rmse: 30497.8\tvalid_1's l1: 130722\tvalid_1's rmse: 277472\n",
      "Finished.\n",
      "depth : 32 leaves : 256 fraction :0.9\n",
      "first part : 5631.327922349594 last part: 0.8709903477569455\n",
      "> 20 % : 0.1935402895155217\n",
      "point :  5632.19891269735\n"
     ]
    },
    {
     "name": "stderr",
     "output_type": "stream",
     "text": [
      "/home/mmdb/conda/lib/python3.6/site-packages/lightgbm/basic.py:1209: UserWarning: categorical_feature in Dataset is overridden.\n",
      "New categorical_feature is ['III_index', 'II_index', 'IV_index', 'IX_index', 'I_index', 'VIII_index', 'VII_index', 'VI_index', 'V_index', 'XIII_index', 'XII_index', 'XIV_index', 'XI_index', 'X_index', 'bachelor_rate', 'born_rate', 'building_material', 'building_type', 'building_use', 'city_town', 'death_rate', 'divorce_rate', 'elementary_rate', 'highschool_rate', 'jobschool_rate', 'junior_rate', 'marriage_rate', 'master_rate', 'parking_price_isna', 'parking_way', 'txn_floor_isna']\n",
      "  'New categorical_feature is {}'.format(sorted(list(categorical_feature))))\n"
     ]
    },
    {
     "name": "stdout",
     "output_type": "stream",
     "text": [
      "[5000]\ttraining's l1: 18450.1\ttraining's rmse: 30176.7\tvalid_1's l1: 130617\tvalid_1's rmse: 277202\n",
      "Finished.\n",
      "depth : 32 leaves : 256 fraction :0.9\n",
      "first part : 5618.77667140825 last part: 0.8708908997259217\n",
      "> 20 % : 0.19462806459710486\n",
      "point :  5619.647562307976\n"
     ]
    },
    {
     "name": "stderr",
     "output_type": "stream",
     "text": [
      "/home/mmdb/conda/lib/python3.6/site-packages/lightgbm/basic.py:1209: UserWarning: categorical_feature in Dataset is overridden.\n",
      "New categorical_feature is ['III_index', 'II_index', 'IV_index', 'IX_index', 'I_index', 'VIII_index', 'VII_index', 'VI_index', 'V_index', 'XIII_index', 'XII_index', 'XIV_index', 'XI_index', 'X_index', 'bachelor_rate', 'born_rate', 'building_material', 'building_type', 'building_use', 'city_town', 'death_rate', 'divorce_rate', 'elementary_rate', 'highschool_rate', 'jobschool_rate', 'junior_rate', 'marriage_rate', 'master_rate', 'parking_price_isna', 'parking_way', 'txn_floor_isna']\n",
      "  'New categorical_feature is {}'.format(sorted(list(categorical_feature))))\n"
     ]
    },
    {
     "name": "stdout",
     "output_type": "stream",
     "text": [
      "[5000]\ttraining's l1: 18480.7\ttraining's rmse: 30278.2\tvalid_1's l1: 130318\tvalid_1's rmse: 276519\n",
      "Finished.\n",
      "depth : 32 leaves : 256 fraction :0.9\n",
      "first part : 5649.736423730232 last part: 0.8709498196781763\n",
      "> 20 % : 0.19563216467241235\n",
      "point :  5650.60737354991\n"
     ]
    },
    {
     "name": "stderr",
     "output_type": "stream",
     "text": [
      "/home/mmdb/conda/lib/python3.6/site-packages/lightgbm/basic.py:1209: UserWarning: categorical_feature in Dataset is overridden.\n",
      "New categorical_feature is ['III_index', 'II_index', 'IV_index', 'IX_index', 'I_index', 'VIII_index', 'VII_index', 'VI_index', 'V_index', 'XIII_index', 'XII_index', 'XIV_index', 'XI_index', 'X_index', 'bachelor_rate', 'born_rate', 'building_material', 'building_type', 'building_use', 'city_town', 'death_rate', 'divorce_rate', 'elementary_rate', 'highschool_rate', 'jobschool_rate', 'junior_rate', 'marriage_rate', 'master_rate', 'parking_price_isna', 'parking_way', 'txn_floor_isna']\n",
      "  'New categorical_feature is {}'.format(sorted(list(categorical_feature))))\n"
     ]
    },
    {
     "name": "stdout",
     "output_type": "stream",
     "text": [
      "[5000]\ttraining's l1: 18779.7\ttraining's rmse: 30696.5\tvalid_1's l1: 130484\tvalid_1's rmse: 276998\n",
      "Finished.\n",
      "depth : 32 leaves : 256 fraction :0.9\n",
      "first part : 5629.654422224082 last part: 0.8708395260452112\n",
      "> 20 % : 0.19287088946531672\n",
      "point :  5630.525261750127\n"
     ]
    },
    {
     "name": "stderr",
     "output_type": "stream",
     "text": [
      "/home/mmdb/conda/lib/python3.6/site-packages/lightgbm/basic.py:1209: UserWarning: categorical_feature in Dataset is overridden.\n",
      "New categorical_feature is ['III_index', 'II_index', 'IV_index', 'IX_index', 'I_index', 'VIII_index', 'VII_index', 'VI_index', 'V_index', 'XIII_index', 'XII_index', 'XIV_index', 'XI_index', 'X_index', 'bachelor_rate', 'born_rate', 'building_material', 'building_type', 'building_use', 'city_town', 'death_rate', 'divorce_rate', 'elementary_rate', 'highschool_rate', 'jobschool_rate', 'junior_rate', 'marriage_rate', 'master_rate', 'parking_price_isna', 'parking_way', 'txn_floor_isna']\n",
      "  'New categorical_feature is {}'.format(sorted(list(categorical_feature))))\n"
     ]
    },
    {
     "name": "stdout",
     "output_type": "stream",
     "text": [
      "[5000]\ttraining's l1: 18498.3\ttraining's rmse: 30398.4\tvalid_1's l1: 130317\tvalid_1's rmse: 276811\n",
      "Finished.\n",
      "depth : 32 leaves : 256 fraction :0.9\n",
      "first part : 5651.409923855745 last part: 0.8711775040294686\n",
      "> 20 % : 0.19328926449669484\n",
      "point :  5652.281101359774\n"
     ]
    },
    {
     "name": "stderr",
     "output_type": "stream",
     "text": [
      "/home/mmdb/conda/lib/python3.6/site-packages/lightgbm/basic.py:1209: UserWarning: categorical_feature in Dataset is overridden.\n",
      "New categorical_feature is ['III_index', 'II_index', 'IV_index', 'IX_index', 'I_index', 'VIII_index', 'VII_index', 'VI_index', 'V_index', 'XIII_index', 'XII_index', 'XIV_index', 'XI_index', 'X_index', 'bachelor_rate', 'born_rate', 'building_material', 'building_type', 'building_use', 'city_town', 'death_rate', 'divorce_rate', 'elementary_rate', 'highschool_rate', 'jobschool_rate', 'junior_rate', 'marriage_rate', 'master_rate', 'parking_price_isna', 'parking_way', 'txn_floor_isna']\n",
      "  'New categorical_feature is {}'.format(sorted(list(categorical_feature))))\n"
     ]
    },
    {
     "name": "stdout",
     "output_type": "stream",
     "text": [
      "[5000]\ttraining's l1: 18568.6\ttraining's rmse: 30550.5\tvalid_1's l1: 130236\tvalid_1's rmse: 277390\n",
      "Finished.\n",
      "depth : 32 leaves : 256 fraction :0.9\n",
      "first part : 5637.185172788888 last part: 0.8711671554375563\n",
      "> 20 % : 0.19462806459710486\n",
      "point :  5638.056339944325\n"
     ]
    },
    {
     "name": "stderr",
     "output_type": "stream",
     "text": [
      "/home/mmdb/conda/lib/python3.6/site-packages/lightgbm/basic.py:1209: UserWarning: categorical_feature in Dataset is overridden.\n",
      "New categorical_feature is ['III_index', 'II_index', 'IV_index', 'IX_index', 'I_index', 'VIII_index', 'VII_index', 'VI_index', 'V_index', 'XIII_index', 'XII_index', 'XIV_index', 'XI_index', 'X_index', 'bachelor_rate', 'born_rate', 'building_material', 'building_type', 'building_use', 'city_town', 'death_rate', 'divorce_rate', 'elementary_rate', 'highschool_rate', 'jobschool_rate', 'junior_rate', 'marriage_rate', 'master_rate', 'parking_price_isna', 'parking_way', 'txn_floor_isna']\n",
      "  'New categorical_feature is {}'.format(sorted(list(categorical_feature))))\n"
     ]
    },
    {
     "name": "stdout",
     "output_type": "stream",
     "text": [
      "[5000]\ttraining's l1: 18454.4\ttraining's rmse: 30179.2\tvalid_1's l1: 130278\tvalid_1's rmse: 276863\n",
      "Finished.\n",
      "depth : 32 leaves : 256 fraction :0.9\n",
      "first part : 5643.042423228182 last part: 0.8712462239106963\n",
      "> 20 % : 0.19362396452179734\n",
      "point :  5643.913669452093\n"
     ]
    },
    {
     "name": "stderr",
     "output_type": "stream",
     "text": [
      "/home/mmdb/conda/lib/python3.6/site-packages/lightgbm/basic.py:1209: UserWarning: categorical_feature in Dataset is overridden.\n",
      "New categorical_feature is ['III_index', 'II_index', 'IV_index', 'IX_index', 'I_index', 'VIII_index', 'VII_index', 'VI_index', 'V_index', 'XIII_index', 'XII_index', 'XIV_index', 'XI_index', 'X_index', 'bachelor_rate', 'born_rate', 'building_material', 'building_type', 'building_use', 'city_town', 'death_rate', 'divorce_rate', 'elementary_rate', 'highschool_rate', 'jobschool_rate', 'junior_rate', 'marriage_rate', 'master_rate', 'parking_price_isna', 'parking_way', 'txn_floor_isna']\n",
      "  'New categorical_feature is {}'.format(sorted(list(categorical_feature))))\n"
     ]
    },
    {
     "name": "stdout",
     "output_type": "stream",
     "text": [
      "[5000]\ttraining's l1: 18358.5\ttraining's rmse: 30002.7\tvalid_1's l1: 130135\tvalid_1's rmse: 277027\n",
      "Finished.\n",
      "depth : 32 leaves : 256 fraction :0.9\n",
      "first part : 5664.797924859845 last part: 0.8716688788170327\n",
      "> 20 % : 0.19320558949041922\n",
      "point :  5665.669593738662\n"
     ]
    },
    {
     "name": "stderr",
     "output_type": "stream",
     "text": [
      "/home/mmdb/conda/lib/python3.6/site-packages/lightgbm/basic.py:1209: UserWarning: categorical_feature in Dataset is overridden.\n",
      "New categorical_feature is ['III_index', 'II_index', 'IV_index', 'IX_index', 'I_index', 'VIII_index', 'VII_index', 'VI_index', 'V_index', 'XIII_index', 'XII_index', 'XIV_index', 'XI_index', 'X_index', 'bachelor_rate', 'born_rate', 'building_material', 'building_type', 'building_use', 'city_town', 'death_rate', 'divorce_rate', 'elementary_rate', 'highschool_rate', 'jobschool_rate', 'junior_rate', 'marriage_rate', 'master_rate', 'parking_price_isna', 'parking_way', 'txn_floor_isna']\n",
      "  'New categorical_feature is {}'.format(sorted(list(categorical_feature))))\n"
     ]
    },
    {
     "name": "stdout",
     "output_type": "stream",
     "text": [
      "[5000]\ttraining's l1: 18390.7\ttraining's rmse: 30112.9\tvalid_1's l1: 130191\tvalid_1's rmse: 277189\n",
      "Finished.\n",
      "depth : 32 leaves : 256 fraction :0.9\n",
      "first part : 5636.3484227261315 last part: 0.8710378448287319\n",
      "> 20 % : 0.19295456447159234\n",
      "point :  5637.21946057096\n"
     ]
    },
    {
     "name": "stderr",
     "output_type": "stream",
     "text": [
      "/home/mmdb/conda/lib/python3.6/site-packages/lightgbm/basic.py:1209: UserWarning: categorical_feature in Dataset is overridden.\n",
      "New categorical_feature is ['III_index', 'II_index', 'IV_index', 'IX_index', 'I_index', 'VIII_index', 'VII_index', 'VI_index', 'V_index', 'XIII_index', 'XII_index', 'XIV_index', 'XI_index', 'X_index', 'bachelor_rate', 'born_rate', 'building_material', 'building_type', 'building_use', 'city_town', 'death_rate', 'divorce_rate', 'elementary_rate', 'highschool_rate', 'jobschool_rate', 'junior_rate', 'marriage_rate', 'master_rate', 'parking_price_isna', 'parking_way', 'txn_floor_isna']\n",
      "  'New categorical_feature is {}'.format(sorted(list(categorical_feature))))\n"
     ]
    },
    {
     "name": "stdout",
     "output_type": "stream",
     "text": [
      "[5000]\ttraining's l1: 18475.5\ttraining's rmse: 30309.7\tvalid_1's l1: 130519\tvalid_1's rmse: 277455\n",
      "Finished.\n",
      "depth : 32 leaves : 256 fraction :0.9\n",
      "first part : 5638.0219228516435 last part: 0.8714566142512715\n",
      "> 20 % : 0.19337293950297046\n",
      "point :  5638.893379465895\n"
     ]
    },
    {
     "name": "stderr",
     "output_type": "stream",
     "text": [
      "/home/mmdb/conda/lib/python3.6/site-packages/lightgbm/basic.py:1209: UserWarning: categorical_feature in Dataset is overridden.\n",
      "New categorical_feature is ['III_index', 'II_index', 'IV_index', 'IX_index', 'I_index', 'VIII_index', 'VII_index', 'VI_index', 'V_index', 'XIII_index', 'XII_index', 'XIV_index', 'XI_index', 'X_index', 'bachelor_rate', 'born_rate', 'building_material', 'building_type', 'building_use', 'city_town', 'death_rate', 'divorce_rate', 'elementary_rate', 'highschool_rate', 'jobschool_rate', 'junior_rate', 'marriage_rate', 'master_rate', 'parking_price_isna', 'parking_way', 'txn_floor_isna']\n",
      "  'New categorical_feature is {}'.format(sorted(list(categorical_feature))))\n"
     ]
    },
    {
     "name": "stdout",
     "output_type": "stream",
     "text": [
      "[5000]\ttraining's l1: 18467.5\ttraining's rmse: 30310.6\tvalid_1's l1: 130037\tvalid_1's rmse: 276539\n",
      "Finished.\n",
      "depth : 32 leaves : 256 fraction :0.9\n",
      "first part : 5620.450171533763 last part: 0.8711329045287067\n",
      "> 20 % : 0.19337293950297046\n",
      "point :  5621.321304438292\n"
     ]
    },
    {
     "name": "stderr",
     "output_type": "stream",
     "text": [
      "/home/mmdb/conda/lib/python3.6/site-packages/lightgbm/basic.py:1209: UserWarning: categorical_feature in Dataset is overridden.\n",
      "New categorical_feature is ['III_index', 'II_index', 'IV_index', 'IX_index', 'I_index', 'VIII_index', 'VII_index', 'VI_index', 'V_index', 'XIII_index', 'XII_index', 'XIV_index', 'XI_index', 'X_index', 'bachelor_rate', 'born_rate', 'building_material', 'building_type', 'building_use', 'city_town', 'death_rate', 'divorce_rate', 'elementary_rate', 'highschool_rate', 'jobschool_rate', 'junior_rate', 'marriage_rate', 'master_rate', 'parking_price_isna', 'parking_way', 'txn_floor_isna']\n",
      "  'New categorical_feature is {}'.format(sorted(list(categorical_feature))))\n"
     ]
    },
    {
     "name": "stdout",
     "output_type": "stream",
     "text": [
      "[5000]\ttraining's l1: 18487.2\ttraining's rmse: 30313.6\tvalid_1's l1: 129994\tvalid_1's rmse: 276106\n",
      "Finished.\n",
      "depth : 32 leaves : 256 fraction :0.9\n",
      "first part : 5614.592921094469 last part: 0.8713204094521065\n",
      "> 20 % : 0.1942096895657267\n",
      "point :  5615.464241503921\n"
     ]
    },
    {
     "name": "stderr",
     "output_type": "stream",
     "text": [
      "/home/mmdb/conda/lib/python3.6/site-packages/lightgbm/basic.py:1209: UserWarning: categorical_feature in Dataset is overridden.\n",
      "New categorical_feature is ['III_index', 'II_index', 'IV_index', 'IX_index', 'I_index', 'VIII_index', 'VII_index', 'VI_index', 'V_index', 'XIII_index', 'XII_index', 'XIV_index', 'XI_index', 'X_index', 'bachelor_rate', 'born_rate', 'building_material', 'building_type', 'building_use', 'city_town', 'death_rate', 'divorce_rate', 'elementary_rate', 'highschool_rate', 'jobschool_rate', 'junior_rate', 'marriage_rate', 'master_rate', 'parking_price_isna', 'parking_way', 'txn_floor_isna']\n",
      "  'New categorical_feature is {}'.format(sorted(list(categorical_feature))))\n"
     ]
    },
    {
     "name": "stdout",
     "output_type": "stream",
     "text": [
      "[5000]\ttraining's l1: 18678\ttraining's rmse: 30643.9\tvalid_1's l1: 129983\tvalid_1's rmse: 276540\n",
      "Finished.\n",
      "depth : 32 leaves : 256 fraction :0.9\n",
      "first part : 5643.879173290938 last part: 0.8713980143976993\n",
      "> 20 % : 0.19412601455945108\n",
      "point :  5644.750571305335\n"
     ]
    },
    {
     "name": "stderr",
     "output_type": "stream",
     "text": [
      "/home/mmdb/conda/lib/python3.6/site-packages/lightgbm/basic.py:1209: UserWarning: categorical_feature in Dataset is overridden.\n",
      "New categorical_feature is ['III_index', 'II_index', 'IV_index', 'IX_index', 'I_index', 'VIII_index', 'VII_index', 'VI_index', 'V_index', 'XIII_index', 'XII_index', 'XIV_index', 'XI_index', 'X_index', 'bachelor_rate', 'born_rate', 'building_material', 'building_type', 'building_use', 'city_town', 'death_rate', 'divorce_rate', 'elementary_rate', 'highschool_rate', 'jobschool_rate', 'junior_rate', 'marriage_rate', 'master_rate', 'parking_price_isna', 'parking_way', 'txn_floor_isna']\n",
      "  'New categorical_feature is {}'.format(sorted(list(categorical_feature))))\n"
     ]
    },
    {
     "name": "stdout",
     "output_type": "stream",
     "text": [
      "[5000]\ttraining's l1: 18462.2\ttraining's rmse: 30176.6\tvalid_1's l1: 130427\tvalid_1's rmse: 276487\n",
      "Finished.\n",
      "depth : 32 leaves : 256 fraction :0.9\n",
      "first part : 5618.77667140825 last part: 0.8709577188366684\n",
      "> 20 % : 0.19429336457200233\n",
      "point :  5619.6476291270865\n"
     ]
    },
    {
     "name": "stderr",
     "output_type": "stream",
     "text": [
      "/home/mmdb/conda/lib/python3.6/site-packages/lightgbm/basic.py:1209: UserWarning: categorical_feature in Dataset is overridden.\n",
      "New categorical_feature is ['III_index', 'II_index', 'IV_index', 'IX_index', 'I_index', 'VIII_index', 'VII_index', 'VI_index', 'V_index', 'XIII_index', 'XII_index', 'XIV_index', 'XI_index', 'X_index', 'bachelor_rate', 'born_rate', 'building_material', 'building_type', 'building_use', 'city_town', 'death_rate', 'divorce_rate', 'elementary_rate', 'highschool_rate', 'jobschool_rate', 'junior_rate', 'marriage_rate', 'master_rate', 'parking_price_isna', 'parking_way', 'txn_floor_isna']\n",
      "  'New categorical_feature is {}'.format(sorted(list(categorical_feature))))\n"
     ]
    },
    {
     "name": "stdout",
     "output_type": "stream",
     "text": [
      "[5000]\ttraining's l1: 18454.4\ttraining's rmse: 30368.9\tvalid_1's l1: 130445\tvalid_1's rmse: 277487\n",
      "Finished.\n",
      "depth : 32 leaves : 256 fraction :0.9\n",
      "first part : 5622.123671659275 last part: 0.871148660359325\n",
      "> 20 % : 0.19320558949041922\n",
      "point :  5622.9948203196345\n"
     ]
    },
    {
     "name": "stderr",
     "output_type": "stream",
     "text": [
      "/home/mmdb/conda/lib/python3.6/site-packages/lightgbm/basic.py:1209: UserWarning: categorical_feature in Dataset is overridden.\n",
      "New categorical_feature is ['III_index', 'II_index', 'IV_index', 'IX_index', 'I_index', 'VIII_index', 'VII_index', 'VI_index', 'V_index', 'XIII_index', 'XII_index', 'XIV_index', 'XI_index', 'X_index', 'bachelor_rate', 'born_rate', 'building_material', 'building_type', 'building_use', 'city_town', 'death_rate', 'divorce_rate', 'elementary_rate', 'highschool_rate', 'jobschool_rate', 'junior_rate', 'marriage_rate', 'master_rate', 'parking_price_isna', 'parking_way', 'txn_floor_isna']\n",
      "  'New categorical_feature is {}'.format(sorted(list(categorical_feature))))\n"
     ]
    },
    {
     "name": "stdout",
     "output_type": "stream",
     "text": [
      "[5000]\ttraining's l1: 18364.4\ttraining's rmse: 30022.5\tvalid_1's l1: 130297\tvalid_1's rmse: 277992\n",
      "Finished.\n",
      "depth : 32 leaves : 256 fraction :0.9\n",
      "first part : 5622.123671659275 last part: 0.8712838151334891\n",
      "> 20 % : 0.19571583967868797\n",
      "point :  5622.994955474408\n"
     ]
    },
    {
     "name": "stderr",
     "output_type": "stream",
     "text": [
      "/home/mmdb/conda/lib/python3.6/site-packages/lightgbm/basic.py:1209: UserWarning: categorical_feature in Dataset is overridden.\n",
      "New categorical_feature is ['III_index', 'II_index', 'IV_index', 'IX_index', 'I_index', 'VIII_index', 'VII_index', 'VI_index', 'V_index', 'XIII_index', 'XII_index', 'XIV_index', 'XI_index', 'X_index', 'bachelor_rate', 'born_rate', 'building_material', 'building_type', 'building_use', 'city_town', 'death_rate', 'divorce_rate', 'elementary_rate', 'highschool_rate', 'jobschool_rate', 'junior_rate', 'marriage_rate', 'master_rate', 'parking_price_isna', 'parking_way', 'txn_floor_isna']\n",
      "  'New categorical_feature is {}'.format(sorted(list(categorical_feature))))\n"
     ]
    },
    {
     "name": "stdout",
     "output_type": "stream",
     "text": [
      "[5000]\ttraining's l1: 18467.5\ttraining's rmse: 30155.4\tvalid_1's l1: 130513\tvalid_1's rmse: 277575\n",
      "Finished.\n",
      "depth : 32 leaves : 256 fraction :0.9\n",
      "first part : 5642.205673165426 last part: 0.8710403467492535\n",
      "> 20 % : 0.1961342147100661\n",
      "point :  5643.076713512175\n"
     ]
    },
    {
     "name": "stderr",
     "output_type": "stream",
     "text": [
      "/home/mmdb/conda/lib/python3.6/site-packages/lightgbm/basic.py:1209: UserWarning: categorical_feature in Dataset is overridden.\n",
      "New categorical_feature is ['III_index', 'II_index', 'IV_index', 'IX_index', 'I_index', 'VIII_index', 'VII_index', 'VI_index', 'V_index', 'XIII_index', 'XII_index', 'XIV_index', 'XI_index', 'X_index', 'bachelor_rate', 'born_rate', 'building_material', 'building_type', 'building_use', 'city_town', 'death_rate', 'divorce_rate', 'elementary_rate', 'highschool_rate', 'jobschool_rate', 'junior_rate', 'marriage_rate', 'master_rate', 'parking_price_isna', 'parking_way', 'txn_floor_isna']\n",
      "  'New categorical_feature is {}'.format(sorted(list(categorical_feature))))\n"
     ]
    },
    {
     "name": "stdout",
     "output_type": "stream",
     "text": [
      "[5000]\ttraining's l1: 18539.6\ttraining's rmse: 30329.6\tvalid_1's l1: 130488\tvalid_1's rmse: 277610\n",
      "Finished.\n",
      "depth : 32 leaves : 256 fraction :0.9\n",
      "first part : 5640.532173039913 last part: 0.8710640374721121\n",
      "> 20 % : 0.19370763952807296\n",
      "point :  5641.403237077385\n"
     ]
    },
    {
     "name": "stderr",
     "output_type": "stream",
     "text": [
      "/home/mmdb/conda/lib/python3.6/site-packages/lightgbm/basic.py:1209: UserWarning: categorical_feature in Dataset is overridden.\n",
      "New categorical_feature is ['III_index', 'II_index', 'IV_index', 'IX_index', 'I_index', 'VIII_index', 'VII_index', 'VI_index', 'V_index', 'XIII_index', 'XII_index', 'XIV_index', 'XI_index', 'X_index', 'bachelor_rate', 'born_rate', 'building_material', 'building_type', 'building_use', 'city_town', 'death_rate', 'divorce_rate', 'elementary_rate', 'highschool_rate', 'jobschool_rate', 'junior_rate', 'marriage_rate', 'master_rate', 'parking_price_isna', 'parking_way', 'txn_floor_isna']\n",
      "  'New categorical_feature is {}'.format(sorted(list(categorical_feature))))\n"
     ]
    },
    {
     "name": "stdout",
     "output_type": "stream",
     "text": [
      "[5000]\ttraining's l1: 18505.6\ttraining's rmse: 30332.8\tvalid_1's l1: 130157\tvalid_1's rmse: 276599\n",
      "Finished.\n",
      "depth : 32 leaves : 256 fraction :0.9\n",
      "first part : 5663.124424734331 last part: 0.8722691624554315\n",
      "> 20 % : 0.19295456447159234\n",
      "point :  5663.996693896786\n"
     ]
    },
    {
     "name": "stderr",
     "output_type": "stream",
     "text": [
      "/home/mmdb/conda/lib/python3.6/site-packages/lightgbm/basic.py:1209: UserWarning: categorical_feature in Dataset is overridden.\n",
      "New categorical_feature is ['III_index', 'II_index', 'IV_index', 'IX_index', 'I_index', 'VIII_index', 'VII_index', 'VI_index', 'V_index', 'XIII_index', 'XII_index', 'XIV_index', 'XI_index', 'X_index', 'bachelor_rate', 'born_rate', 'building_material', 'building_type', 'building_use', 'city_town', 'death_rate', 'divorce_rate', 'elementary_rate', 'highschool_rate', 'jobschool_rate', 'junior_rate', 'marriage_rate', 'master_rate', 'parking_price_isna', 'parking_way', 'txn_floor_isna']\n",
      "  'New categorical_feature is {}'.format(sorted(list(categorical_feature))))\n"
     ]
    },
    {
     "name": "stdout",
     "output_type": "stream",
     "text": [
      "[5000]\ttraining's l1: 18514.1\ttraining's rmse: 30318.4\tvalid_1's l1: 130336\tvalid_1's rmse: 277979\n",
      "Finished.\n",
      "depth : 32 leaves : 256 fraction :0.9\n",
      "first part : 5631.327922349594 last part: 0.8708942483327028\n",
      "> 20 % : 0.19563216467241235\n",
      "point :  5632.198816597926\n"
     ]
    },
    {
     "name": "stderr",
     "output_type": "stream",
     "text": [
      "/home/mmdb/conda/lib/python3.6/site-packages/lightgbm/basic.py:1209: UserWarning: categorical_feature in Dataset is overridden.\n",
      "New categorical_feature is ['III_index', 'II_index', 'IV_index', 'IX_index', 'I_index', 'VIII_index', 'VII_index', 'VI_index', 'V_index', 'XIII_index', 'XII_index', 'XIV_index', 'XI_index', 'X_index', 'bachelor_rate', 'born_rate', 'building_material', 'building_type', 'building_use', 'city_town', 'death_rate', 'divorce_rate', 'elementary_rate', 'highschool_rate', 'jobschool_rate', 'junior_rate', 'marriage_rate', 'master_rate', 'parking_price_isna', 'parking_way', 'txn_floor_isna']\n",
      "  'New categorical_feature is {}'.format(sorted(list(categorical_feature))))\n"
     ]
    },
    {
     "name": "stdout",
     "output_type": "stream",
     "text": [
      "[5000]\ttraining's l1: 18555.2\ttraining's rmse: 30472.1\tvalid_1's l1: 130496\tvalid_1's rmse: 276972\n",
      "Finished.\n",
      "depth : 32 leaves : 256 fraction :0.9\n",
      "first part : 5600.368170027613 last part: 0.8711091016168637\n",
      "> 20 % : 0.1942096895657267\n",
      "point :  5601.2392791292295\n"
     ]
    },
    {
     "name": "stderr",
     "output_type": "stream",
     "text": [
      "/home/mmdb/conda/lib/python3.6/site-packages/lightgbm/basic.py:1209: UserWarning: categorical_feature in Dataset is overridden.\n",
      "New categorical_feature is ['III_index', 'II_index', 'IV_index', 'IX_index', 'I_index', 'VIII_index', 'VII_index', 'VI_index', 'V_index', 'XIII_index', 'XII_index', 'XIV_index', 'XI_index', 'X_index', 'bachelor_rate', 'born_rate', 'building_material', 'building_type', 'building_use', 'city_town', 'death_rate', 'divorce_rate', 'elementary_rate', 'highschool_rate', 'jobschool_rate', 'junior_rate', 'marriage_rate', 'master_rate', 'parking_price_isna', 'parking_way', 'txn_floor_isna']\n",
      "  'New categorical_feature is {}'.format(sorted(list(categorical_feature))))\n"
     ]
    },
    {
     "name": "stdout",
     "output_type": "stream",
     "text": [
      "[5000]\ttraining's l1: 18700.4\ttraining's rmse: 30549.9\tvalid_1's l1: 130121\tvalid_1's rmse: 276812\n",
      "Finished.\n",
      "depth : 32 leaves : 256 fraction :0.9\n",
      "first part : 5660.614174546064 last part: 0.871382487836645\n",
      "> 20 % : 0.19588318969123922\n",
      "point :  5661.4855570339005\n"
     ]
    },
    {
     "name": "stderr",
     "output_type": "stream",
     "text": [
      "/home/mmdb/conda/lib/python3.6/site-packages/lightgbm/basic.py:1209: UserWarning: categorical_feature in Dataset is overridden.\n",
      "New categorical_feature is ['III_index', 'II_index', 'IV_index', 'IX_index', 'I_index', 'VIII_index', 'VII_index', 'VI_index', 'V_index', 'XIII_index', 'XII_index', 'XIV_index', 'XI_index', 'X_index', 'bachelor_rate', 'born_rate', 'building_material', 'building_type', 'building_use', 'city_town', 'death_rate', 'divorce_rate', 'elementary_rate', 'highschool_rate', 'jobschool_rate', 'junior_rate', 'marriage_rate', 'master_rate', 'parking_price_isna', 'parking_way', 'txn_floor_isna']\n",
      "  'New categorical_feature is {}'.format(sorted(list(categorical_feature))))\n"
     ]
    },
    {
     "name": "stdout",
     "output_type": "stream",
     "text": [
      "[5000]\ttraining's l1: 18553.6\ttraining's rmse: 30496.2\tvalid_1's l1: 130271\tvalid_1's rmse: 277190\n",
      "Finished.\n",
      "depth : 32 leaves : 256 fraction :0.9\n",
      "first part : 5649.736423730232 last part: 0.8714453311943634\n",
      "> 20 % : 0.19362396452179734\n",
      "point :  5650.607869061426\n"
     ]
    },
    {
     "name": "stderr",
     "output_type": "stream",
     "text": [
      "/home/mmdb/conda/lib/python3.6/site-packages/lightgbm/basic.py:1209: UserWarning: categorical_feature in Dataset is overridden.\n",
      "New categorical_feature is ['III_index', 'II_index', 'IV_index', 'IX_index', 'I_index', 'VIII_index', 'VII_index', 'VI_index', 'V_index', 'XIII_index', 'XII_index', 'XIV_index', 'XI_index', 'X_index', 'bachelor_rate', 'born_rate', 'building_material', 'building_type', 'building_use', 'city_town', 'death_rate', 'divorce_rate', 'elementary_rate', 'highschool_rate', 'jobschool_rate', 'junior_rate', 'marriage_rate', 'master_rate', 'parking_price_isna', 'parking_way', 'txn_floor_isna']\n",
      "  'New categorical_feature is {}'.format(sorted(list(categorical_feature))))\n"
     ]
    },
    {
     "name": "stdout",
     "output_type": "stream",
     "text": [
      "[5000]\ttraining's l1: 18347.6\ttraining's rmse: 30061.7\tvalid_1's l1: 130480\tvalid_1's rmse: 277053\n",
      "Finished.\n",
      "depth : 32 leaves : 256 fraction :0.9\n",
      "first part : 5590.327169274538 last part: 0.8709080451350326\n",
      "> 20 % : 0.19496276462220735\n",
      "point :  5591.198077319674\n"
     ]
    },
    {
     "name": "stderr",
     "output_type": "stream",
     "text": [
      "/home/mmdb/conda/lib/python3.6/site-packages/lightgbm/basic.py:1209: UserWarning: categorical_feature in Dataset is overridden.\n",
      "New categorical_feature is ['III_index', 'II_index', 'IV_index', 'IX_index', 'I_index', 'VIII_index', 'VII_index', 'VI_index', 'V_index', 'XIII_index', 'XII_index', 'XIV_index', 'XI_index', 'X_index', 'bachelor_rate', 'born_rate', 'building_material', 'building_type', 'building_use', 'city_town', 'death_rate', 'divorce_rate', 'elementary_rate', 'highschool_rate', 'jobschool_rate', 'junior_rate', 'marriage_rate', 'master_rate', 'parking_price_isna', 'parking_way', 'txn_floor_isna']\n",
      "  'New categorical_feature is {}'.format(sorted(list(categorical_feature))))\n"
     ]
    },
    {
     "name": "stdout",
     "output_type": "stream",
     "text": [
      "[5000]\ttraining's l1: 18384.9\ttraining's rmse: 30065.5\tvalid_1's l1: 130442\tvalid_1's rmse: 277221\n",
      "Finished.\n",
      "depth : 32 leaves : 256 fraction :0.9\n",
      "first part : 5612.919420968957 last part: 0.8708412226702823\n",
      "> 20 % : 0.1925361894402142\n",
      "point :  5613.790262191627\n"
     ]
    },
    {
     "name": "stderr",
     "output_type": "stream",
     "text": [
      "/home/mmdb/conda/lib/python3.6/site-packages/lightgbm/basic.py:1209: UserWarning: categorical_feature in Dataset is overridden.\n",
      "New categorical_feature is ['III_index', 'II_index', 'IV_index', 'IX_index', 'I_index', 'VIII_index', 'VII_index', 'VI_index', 'V_index', 'XIII_index', 'XII_index', 'XIV_index', 'XI_index', 'X_index', 'bachelor_rate', 'born_rate', 'building_material', 'building_type', 'building_use', 'city_town', 'death_rate', 'divorce_rate', 'elementary_rate', 'highschool_rate', 'jobschool_rate', 'junior_rate', 'marriage_rate', 'master_rate', 'parking_price_isna', 'parking_way', 'txn_floor_isna']\n",
      "  'New categorical_feature is {}'.format(sorted(list(categorical_feature))))\n"
     ]
    },
    {
     "name": "stdout",
     "output_type": "stream",
     "text": [
      "[5000]\ttraining's l1: 18407.3\ttraining's rmse: 30081.1\tvalid_1's l1: 130438\tvalid_1's rmse: 277076\n",
      "Finished.\n",
      "depth : 32 leaves : 256 fraction :0.9\n",
      "first part : 5626.307421973057 last part: 0.8707884474647891\n",
      "> 20 % : 0.19621788971634174\n",
      "point :  5627.178210420522\n"
     ]
    },
    {
     "name": "stderr",
     "output_type": "stream",
     "text": [
      "/home/mmdb/conda/lib/python3.6/site-packages/lightgbm/basic.py:1209: UserWarning: categorical_feature in Dataset is overridden.\n",
      "New categorical_feature is ['III_index', 'II_index', 'IV_index', 'IX_index', 'I_index', 'VIII_index', 'VII_index', 'VI_index', 'V_index', 'XIII_index', 'XII_index', 'XIV_index', 'XI_index', 'X_index', 'bachelor_rate', 'born_rate', 'building_material', 'building_type', 'building_use', 'city_town', 'death_rate', 'divorce_rate', 'elementary_rate', 'highschool_rate', 'jobschool_rate', 'junior_rate', 'marriage_rate', 'master_rate', 'parking_price_isna', 'parking_way', 'txn_floor_isna']\n",
      "  'New categorical_feature is {}'.format(sorted(list(categorical_feature))))\n"
     ]
    },
    {
     "name": "stdout",
     "output_type": "stream",
     "text": [
      "[5000]\ttraining's l1: 18351.8\ttraining's rmse: 29987.8\tvalid_1's l1: 130223\tvalid_1's rmse: 276663\n",
      "Finished.\n",
      "depth : 32 leaves : 256 fraction :0.9\n",
      "first part : 5638.858672914401 last part: 0.8714837228902359\n",
      "> 20 % : 0.19370763952807296\n",
      "point :  5639.730156637291\n"
     ]
    },
    {
     "name": "stderr",
     "output_type": "stream",
     "text": [
      "/home/mmdb/conda/lib/python3.6/site-packages/lightgbm/basic.py:1209: UserWarning: categorical_feature in Dataset is overridden.\n",
      "New categorical_feature is ['III_index', 'II_index', 'IV_index', 'IX_index', 'I_index', 'VIII_index', 'VII_index', 'VI_index', 'V_index', 'XIII_index', 'XII_index', 'XIV_index', 'XI_index', 'X_index', 'bachelor_rate', 'born_rate', 'building_material', 'building_type', 'building_use', 'city_town', 'death_rate', 'divorce_rate', 'elementary_rate', 'highschool_rate', 'jobschool_rate', 'junior_rate', 'marriage_rate', 'master_rate', 'parking_price_isna', 'parking_way', 'txn_floor_isna']\n",
      "  'New categorical_feature is {}'.format(sorted(list(categorical_feature))))\n"
     ]
    },
    {
     "name": "stdout",
     "output_type": "stream",
     "text": [
      "[5000]\ttraining's l1: 18352.5\ttraining's rmse: 29999.2\tvalid_1's l1: 130295\tvalid_1's rmse: 277331\n",
      "Finished.\n",
      "depth : 32 leaves : 256 fraction :0.9\n",
      "first part : 5662.287674671576 last part: 0.8713868949409828\n",
      "> 20 % : 0.19287088946531672\n",
      "point :  5663.159061566516\n"
     ]
    },
    {
     "name": "stderr",
     "output_type": "stream",
     "text": [
      "/home/mmdb/conda/lib/python3.6/site-packages/lightgbm/basic.py:1209: UserWarning: categorical_feature in Dataset is overridden.\n",
      "New categorical_feature is ['III_index', 'II_index', 'IV_index', 'IX_index', 'I_index', 'VIII_index', 'VII_index', 'VI_index', 'V_index', 'XIII_index', 'XII_index', 'XIV_index', 'XI_index', 'X_index', 'bachelor_rate', 'born_rate', 'building_material', 'building_type', 'building_use', 'city_town', 'death_rate', 'divorce_rate', 'elementary_rate', 'highschool_rate', 'jobschool_rate', 'junior_rate', 'marriage_rate', 'master_rate', 'parking_price_isna', 'parking_way', 'txn_floor_isna']\n",
      "  'New categorical_feature is {}'.format(sorted(list(categorical_feature))))\n"
     ]
    },
    {
     "name": "stdout",
     "output_type": "stream",
     "text": [
      "[5000]\ttraining's l1: 18494.8\ttraining's rmse: 30295.7\tvalid_1's l1: 130402\tvalid_1's rmse: 277527\n",
      "Finished.\n",
      "depth : 32 leaves : 256 fraction :0.9\n",
      "first part : 5670.655175299138 last part: 0.8712143173250355\n",
      "> 20 % : 0.1947954146096561\n",
      "point :  5671.526389616463\n"
     ]
    },
    {
     "name": "stderr",
     "output_type": "stream",
     "text": [
      "/home/mmdb/conda/lib/python3.6/site-packages/lightgbm/basic.py:1209: UserWarning: categorical_feature in Dataset is overridden.\n",
      "New categorical_feature is ['III_index', 'II_index', 'IV_index', 'IX_index', 'I_index', 'VIII_index', 'VII_index', 'VI_index', 'V_index', 'XIII_index', 'XII_index', 'XIV_index', 'XI_index', 'X_index', 'bachelor_rate', 'born_rate', 'building_material', 'building_type', 'building_use', 'city_town', 'death_rate', 'divorce_rate', 'elementary_rate', 'highschool_rate', 'jobschool_rate', 'junior_rate', 'marriage_rate', 'master_rate', 'parking_price_isna', 'parking_way', 'txn_floor_isna']\n",
      "  'New categorical_feature is {}'.format(sorted(list(categorical_feature))))\n"
     ]
    },
    {
     "name": "stdout",
     "output_type": "stream",
     "text": [
      "[5000]\ttraining's l1: 18520\ttraining's rmse: 30475.4\tvalid_1's l1: 129979\tvalid_1's rmse: 276648\n",
      "Finished.\n",
      "depth : 32 leaves : 256 fraction :0.9\n",
      "first part : 5647.226173541962 last part: 0.8713924702708334\n",
      "> 20 % : 0.19454438959082923\n",
      "point :  5648.097566012233\n"
     ]
    },
    {
     "name": "stderr",
     "output_type": "stream",
     "text": [
      "/home/mmdb/conda/lib/python3.6/site-packages/lightgbm/basic.py:1209: UserWarning: categorical_feature in Dataset is overridden.\n",
      "New categorical_feature is ['III_index', 'II_index', 'IV_index', 'IX_index', 'I_index', 'VIII_index', 'VII_index', 'VI_index', 'V_index', 'XIII_index', 'XII_index', 'XIV_index', 'XI_index', 'X_index', 'bachelor_rate', 'born_rate', 'building_material', 'building_type', 'building_use', 'city_town', 'death_rate', 'divorce_rate', 'elementary_rate', 'highschool_rate', 'jobschool_rate', 'junior_rate', 'marriage_rate', 'master_rate', 'parking_price_isna', 'parking_way', 'txn_floor_isna']\n",
      "  'New categorical_feature is {}'.format(sorted(list(categorical_feature))))\n"
     ]
    },
    {
     "name": "stdout",
     "output_type": "stream",
     "text": [
      "[5000]\ttraining's l1: 18628.6\ttraining's rmse: 30571.6\tvalid_1's l1: 130320\tvalid_1's rmse: 276313\n",
      "Finished.\n",
      "depth : 32 leaves : 256 fraction :0.9\n",
      "first part : 5640.532173039913 last part: 0.8710993849889541\n",
      "> 20 % : 0.1957995146849636\n",
      "point :  5641.403272424902\n"
     ]
    },
    {
     "name": "stderr",
     "output_type": "stream",
     "text": [
      "/home/mmdb/conda/lib/python3.6/site-packages/lightgbm/basic.py:1209: UserWarning: categorical_feature in Dataset is overridden.\n",
      "New categorical_feature is ['III_index', 'II_index', 'IV_index', 'IX_index', 'I_index', 'VIII_index', 'VII_index', 'VI_index', 'V_index', 'XIII_index', 'XII_index', 'XIV_index', 'XI_index', 'X_index', 'bachelor_rate', 'born_rate', 'building_material', 'building_type', 'building_use', 'city_town', 'death_rate', 'divorce_rate', 'elementary_rate', 'highschool_rate', 'jobschool_rate', 'junior_rate', 'marriage_rate', 'master_rate', 'parking_price_isna', 'parking_way', 'txn_floor_isna']\n",
      "  'New categorical_feature is {}'.format(sorted(list(categorical_feature))))\n"
     ]
    },
    {
     "name": "stdout",
     "output_type": "stream",
     "text": [
      "[5000]\ttraining's l1: 18445\ttraining's rmse: 30402\tvalid_1's l1: 130188\tvalid_1's rmse: 276568\n",
      "Finished.\n",
      "depth : 32 leaves : 256 fraction :0.9\n",
      "first part : 5628.817672161326 last part: 0.8708346298128768\n",
      "> 20 % : 0.19395866454689983\n",
      "point :  5629.688506791139\n"
     ]
    },
    {
     "name": "stderr",
     "output_type": "stream",
     "text": [
      "/home/mmdb/conda/lib/python3.6/site-packages/lightgbm/basic.py:1209: UserWarning: categorical_feature in Dataset is overridden.\n",
      "New categorical_feature is ['III_index', 'II_index', 'IV_index', 'IX_index', 'I_index', 'VIII_index', 'VII_index', 'VI_index', 'V_index', 'XIII_index', 'XII_index', 'XIV_index', 'XI_index', 'X_index', 'bachelor_rate', 'born_rate', 'building_material', 'building_type', 'building_use', 'city_town', 'death_rate', 'divorce_rate', 'elementary_rate', 'highschool_rate', 'jobschool_rate', 'junior_rate', 'marriage_rate', 'master_rate', 'parking_price_isna', 'parking_way', 'txn_floor_isna']\n",
      "  'New categorical_feature is {}'.format(sorted(list(categorical_feature))))\n"
     ]
    },
    {
     "name": "stdout",
     "output_type": "stream",
     "text": [
      "[5000]\ttraining's l1: 18441.7\ttraining's rmse: 30268.5\tvalid_1's l1: 130015\tvalid_1's rmse: 276262\n",
      "Finished.\n",
      "depth : 32 leaves : 256 fraction :0.9\n",
      "first part : 5658.103924357794 last part: 0.8715594378302849\n",
      "> 20 % : 0.19287088946531672\n",
      "point :  5658.975483795624\n"
     ]
    },
    {
     "name": "stderr",
     "output_type": "stream",
     "text": [
      "/home/mmdb/conda/lib/python3.6/site-packages/lightgbm/basic.py:1209: UserWarning: categorical_feature in Dataset is overridden.\n",
      "New categorical_feature is ['III_index', 'II_index', 'IV_index', 'IX_index', 'I_index', 'VIII_index', 'VII_index', 'VI_index', 'V_index', 'XIII_index', 'XII_index', 'XIV_index', 'XI_index', 'X_index', 'bachelor_rate', 'born_rate', 'building_material', 'building_type', 'building_use', 'city_town', 'death_rate', 'divorce_rate', 'elementary_rate', 'highschool_rate', 'jobschool_rate', 'junior_rate', 'marriage_rate', 'master_rate', 'parking_price_isna', 'parking_way', 'txn_floor_isna']\n",
      "  'New categorical_feature is {}'.format(sorted(list(categorical_feature))))\n"
     ]
    },
    {
     "name": "stdout",
     "output_type": "stream",
     "text": [
      "[5000]\ttraining's l1: 18567.1\ttraining's rmse: 30496.9\tvalid_1's l1: 130552\tvalid_1's rmse: 277486\n",
      "Finished.\n",
      "depth : 32 leaves : 256 fraction :0.9\n",
      "first part : 5619.613421471007 last part: 0.8710581541237542\n",
      "> 20 % : 0.1944607145845536\n",
      "point :  5620.484479625131\n"
     ]
    },
    {
     "name": "stderr",
     "output_type": "stream",
     "text": [
      "/home/mmdb/conda/lib/python3.6/site-packages/lightgbm/basic.py:1209: UserWarning: categorical_feature in Dataset is overridden.\n",
      "New categorical_feature is ['III_index', 'II_index', 'IV_index', 'IX_index', 'I_index', 'VIII_index', 'VII_index', 'VI_index', 'V_index', 'XIII_index', 'XII_index', 'XIV_index', 'XI_index', 'X_index', 'bachelor_rate', 'born_rate', 'building_material', 'building_type', 'building_use', 'city_town', 'death_rate', 'divorce_rate', 'elementary_rate', 'highschool_rate', 'jobschool_rate', 'junior_rate', 'marriage_rate', 'master_rate', 'parking_price_isna', 'parking_way', 'txn_floor_isna']\n",
      "  'New categorical_feature is {}'.format(sorted(list(categorical_feature))))\n"
     ]
    },
    {
     "name": "stdout",
     "output_type": "stream",
     "text": [
      "[5000]\ttraining's l1: 18518.2\ttraining's rmse: 30277.6\tvalid_1's l1: 130382\tvalid_1's rmse: 277176\n",
      "Finished.\n",
      "depth : 32 leaves : 256 fraction :0.9\n",
      "first part : 5617.9399213454935 last part: 0.8711309185784779\n",
      "> 20 % : 0.19454438959082923\n",
      "point :  5618.811052264072\n"
     ]
    },
    {
     "name": "stderr",
     "output_type": "stream",
     "text": [
      "/home/mmdb/conda/lib/python3.6/site-packages/lightgbm/basic.py:1209: UserWarning: categorical_feature in Dataset is overridden.\n",
      "New categorical_feature is ['III_index', 'II_index', 'IV_index', 'IX_index', 'I_index', 'VIII_index', 'VII_index', 'VI_index', 'V_index', 'XIII_index', 'XII_index', 'XIV_index', 'XI_index', 'X_index', 'bachelor_rate', 'born_rate', 'building_material', 'building_type', 'building_use', 'city_town', 'death_rate', 'divorce_rate', 'elementary_rate', 'highschool_rate', 'jobschool_rate', 'junior_rate', 'marriage_rate', 'master_rate', 'parking_price_isna', 'parking_way', 'txn_floor_isna']\n",
      "  'New categorical_feature is {}'.format(sorted(list(categorical_feature))))\n"
     ]
    },
    {
     "name": "stdout",
     "output_type": "stream",
     "text": [
      "[5000]\ttraining's l1: 18504.8\ttraining's rmse: 30291.5\tvalid_1's l1: 130393\tvalid_1's rmse: 277064\n",
      "Finished.\n",
      "depth : 32 leaves : 256 fraction :0.9\n",
      "first part : 5630.491172286838 last part: 0.8712501310382932\n",
      "> 20 % : 0.19504643962848298\n",
      "point :  5631.362422417877\n"
     ]
    },
    {
     "name": "stderr",
     "output_type": "stream",
     "text": [
      "/home/mmdb/conda/lib/python3.6/site-packages/lightgbm/basic.py:1209: UserWarning: categorical_feature in Dataset is overridden.\n",
      "New categorical_feature is ['III_index', 'II_index', 'IV_index', 'IX_index', 'I_index', 'VIII_index', 'VII_index', 'VI_index', 'V_index', 'XIII_index', 'XII_index', 'XIV_index', 'XI_index', 'X_index', 'bachelor_rate', 'born_rate', 'building_material', 'building_type', 'building_use', 'city_town', 'death_rate', 'divorce_rate', 'elementary_rate', 'highschool_rate', 'jobschool_rate', 'junior_rate', 'marriage_rate', 'master_rate', 'parking_price_isna', 'parking_way', 'txn_floor_isna']\n",
      "  'New categorical_feature is {}'.format(sorted(list(categorical_feature))))\n"
     ]
    },
    {
     "name": "stdout",
     "output_type": "stream",
     "text": [
      "[5000]\ttraining's l1: 18425.5\ttraining's rmse: 30212.2\tvalid_1's l1: 130407\tvalid_1's rmse: 277616\n",
      "Finished.\n",
      "depth : 32 leaves : 256 fraction :0.9\n",
      "first part : 5636.3484227261315 last part: 0.8710913377321718\n",
      "> 20 % : 0.19554848966613672\n",
      "point :  5637.219514063863\n"
     ]
    },
    {
     "name": "stderr",
     "output_type": "stream",
     "text": [
      "/home/mmdb/conda/lib/python3.6/site-packages/lightgbm/basic.py:1209: UserWarning: categorical_feature in Dataset is overridden.\n",
      "New categorical_feature is ['III_index', 'II_index', 'IV_index', 'IX_index', 'I_index', 'VIII_index', 'VII_index', 'VI_index', 'V_index', 'XIII_index', 'XII_index', 'XIV_index', 'XI_index', 'X_index', 'bachelor_rate', 'born_rate', 'building_material', 'building_type', 'building_use', 'city_town', 'death_rate', 'divorce_rate', 'elementary_rate', 'highschool_rate', 'jobschool_rate', 'junior_rate', 'marriage_rate', 'master_rate', 'parking_price_isna', 'parking_way', 'txn_floor_isna']\n",
      "  'New categorical_feature is {}'.format(sorted(list(categorical_feature))))\n"
     ]
    },
    {
     "name": "stdout",
     "output_type": "stream",
     "text": [
      "[5000]\ttraining's l1: 18484.8\ttraining's rmse: 30317\tvalid_1's l1: 130853\tvalid_1's rmse: 278154\n",
      "Finished.\n",
      "depth : 32 leaves : 256 fraction :0.9\n",
      "first part : 5638.0219228516435 last part: 0.8708135217640259\n",
      "> 20 % : 0.1951301146347586\n",
      "point :  5638.892736373407\n"
     ]
    },
    {
     "name": "stderr",
     "output_type": "stream",
     "text": [
      "/home/mmdb/conda/lib/python3.6/site-packages/lightgbm/basic.py:1209: UserWarning: categorical_feature in Dataset is overridden.\n",
      "New categorical_feature is ['III_index', 'II_index', 'IV_index', 'IX_index', 'I_index', 'VIII_index', 'VII_index', 'VI_index', 'V_index', 'XIII_index', 'XII_index', 'XIV_index', 'XI_index', 'X_index', 'bachelor_rate', 'born_rate', 'building_material', 'building_type', 'building_use', 'city_town', 'death_rate', 'divorce_rate', 'elementary_rate', 'highschool_rate', 'jobschool_rate', 'junior_rate', 'marriage_rate', 'master_rate', 'parking_price_isna', 'parking_way', 'txn_floor_isna']\n",
      "  'New categorical_feature is {}'.format(sorted(list(categorical_feature))))\n"
     ]
    },
    {
     "name": "stdout",
     "output_type": "stream",
     "text": [
      "[5000]\ttraining's l1: 18389.6\ttraining's rmse: 30107.8\tvalid_1's l1: 130361\tvalid_1's rmse: 277744\n",
      "Finished.\n",
      "depth : 32 leaves : 256 fraction :0.9\n",
      "first part : 5666.471424985357 last part: 0.8711632330904118\n",
      "> 20 % : 0.19462806459710486\n",
      "point :  5667.342588218447\n"
     ]
    },
    {
     "name": "stderr",
     "output_type": "stream",
     "text": [
      "/home/mmdb/conda/lib/python3.6/site-packages/lightgbm/basic.py:1209: UserWarning: categorical_feature in Dataset is overridden.\n",
      "New categorical_feature is ['III_index', 'II_index', 'IV_index', 'IX_index', 'I_index', 'VIII_index', 'VII_index', 'VI_index', 'V_index', 'XIII_index', 'XII_index', 'XIV_index', 'XI_index', 'X_index', 'bachelor_rate', 'born_rate', 'building_material', 'building_type', 'building_use', 'city_town', 'death_rate', 'divorce_rate', 'elementary_rate', 'highschool_rate', 'jobschool_rate', 'junior_rate', 'marriage_rate', 'master_rate', 'parking_price_isna', 'parking_way', 'txn_floor_isna']\n",
      "  'New categorical_feature is {}'.format(sorted(list(categorical_feature))))\n"
     ]
    },
    {
     "name": "stdout",
     "output_type": "stream",
     "text": [
      "[5000]\ttraining's l1: 18550\ttraining's rmse: 30385.1\tvalid_1's l1: 130007\tvalid_1's rmse: 276178\n",
      "Finished.\n",
      "depth : 32 leaves : 256 fraction :0.9\n",
      "first part : 5637.185172788888 last part: 0.8711533461908393\n",
      "> 20 % : 0.19563216467241235\n",
      "point :  5638.056326135079\n"
     ]
    },
    {
     "name": "stderr",
     "output_type": "stream",
     "text": [
      "/home/mmdb/conda/lib/python3.6/site-packages/lightgbm/basic.py:1209: UserWarning: categorical_feature in Dataset is overridden.\n",
      "New categorical_feature is ['III_index', 'II_index', 'IV_index', 'IX_index', 'I_index', 'VIII_index', 'VII_index', 'VI_index', 'V_index', 'XIII_index', 'XII_index', 'XIV_index', 'XI_index', 'X_index', 'bachelor_rate', 'born_rate', 'building_material', 'building_type', 'building_use', 'city_town', 'death_rate', 'divorce_rate', 'elementary_rate', 'highschool_rate', 'jobschool_rate', 'junior_rate', 'marriage_rate', 'master_rate', 'parking_price_isna', 'parking_way', 'txn_floor_isna']\n",
      "  'New categorical_feature is {}'.format(sorted(list(categorical_feature))))\n"
     ]
    },
    {
     "name": "stdout",
     "output_type": "stream",
     "text": [
      "[5000]\ttraining's l1: 18412.5\ttraining's rmse: 30136.9\tvalid_1's l1: 130362\tvalid_1's rmse: 276959\n",
      "Finished.\n",
      "depth : 32 leaves : 256 fraction :0.9\n",
      "first part : 5636.3484227261315 last part: 0.8710262415192948\n",
      "> 20 % : 0.19429336457200233\n",
      "point :  5637.21944896765\n"
     ]
    },
    {
     "name": "stderr",
     "output_type": "stream",
     "text": [
      "/home/mmdb/conda/lib/python3.6/site-packages/lightgbm/basic.py:1209: UserWarning: categorical_feature in Dataset is overridden.\n",
      "New categorical_feature is ['III_index', 'II_index', 'IV_index', 'IX_index', 'I_index', 'VIII_index', 'VII_index', 'VI_index', 'V_index', 'XIII_index', 'XII_index', 'XIV_index', 'XI_index', 'X_index', 'bachelor_rate', 'born_rate', 'building_material', 'building_type', 'building_use', 'city_town', 'death_rate', 'divorce_rate', 'elementary_rate', 'highschool_rate', 'jobschool_rate', 'junior_rate', 'marriage_rate', 'master_rate', 'parking_price_isna', 'parking_way', 'txn_floor_isna']\n",
      "  'New categorical_feature is {}'.format(sorted(list(categorical_feature))))\n"
     ]
    },
    {
     "name": "stdout",
     "output_type": "stream",
     "text": [
      "[5000]\ttraining's l1: 18412.5\ttraining's rmse: 30136.9\tvalid_1's l1: 130362\tvalid_1's rmse: 276959\n",
      "Finished.\n",
      "depth : 32 leaves : 256 fraction :0.9\n",
      "first part : 5636.3484227261315 last part: 0.8710262574435748\n",
      "> 20 % : 0.19429336457200233\n",
      "point :  5637.219448983575\n"
     ]
    },
    {
     "name": "stderr",
     "output_type": "stream",
     "text": [
      "/home/mmdb/conda/lib/python3.6/site-packages/lightgbm/basic.py:1209: UserWarning: categorical_feature in Dataset is overridden.\n",
      "New categorical_feature is ['III_index', 'II_index', 'IV_index', 'IX_index', 'I_index', 'VIII_index', 'VII_index', 'VI_index', 'V_index', 'XIII_index', 'XII_index', 'XIV_index', 'XI_index', 'X_index', 'bachelor_rate', 'born_rate', 'building_material', 'building_type', 'building_use', 'city_town', 'death_rate', 'divorce_rate', 'elementary_rate', 'highschool_rate', 'jobschool_rate', 'junior_rate', 'marriage_rate', 'master_rate', 'parking_price_isna', 'parking_way', 'txn_floor_isna']\n",
      "  'New categorical_feature is {}'.format(sorted(list(categorical_feature))))\n"
     ]
    },
    {
     "name": "stdout",
     "output_type": "stream",
     "text": [
      "[5000]\ttraining's l1: 18415.4\ttraining's rmse: 30189\tvalid_1's l1: 130419\tvalid_1's rmse: 276777\n",
      "Finished.\n",
      "depth : 32 leaves : 256 fraction :0.9\n",
      "first part : 5617.9399213454935 last part: 0.8708324138348615\n",
      "> 20 % : 0.19529746464730985\n",
      "point :  5618.810753759329\n"
     ]
    },
    {
     "name": "stderr",
     "output_type": "stream",
     "text": [
      "/home/mmdb/conda/lib/python3.6/site-packages/lightgbm/basic.py:1209: UserWarning: categorical_feature in Dataset is overridden.\n",
      "New categorical_feature is ['III_index', 'II_index', 'IV_index', 'IX_index', 'I_index', 'VIII_index', 'VII_index', 'VI_index', 'V_index', 'XIII_index', 'XII_index', 'XIV_index', 'XI_index', 'X_index', 'bachelor_rate', 'born_rate', 'building_material', 'building_type', 'building_use', 'city_town', 'death_rate', 'divorce_rate', 'elementary_rate', 'highschool_rate', 'jobschool_rate', 'junior_rate', 'marriage_rate', 'master_rate', 'parking_price_isna', 'parking_way', 'txn_floor_isna']\n",
      "  'New categorical_feature is {}'.format(sorted(list(categorical_feature))))\n"
     ]
    },
    {
     "name": "stdout",
     "output_type": "stream",
     "text": [
      "[5000]\ttraining's l1: 18392.4\ttraining's rmse: 30116.2\tvalid_1's l1: 130307\tvalid_1's rmse: 276672\n",
      "Finished.\n",
      "depth : 32 leaves : 256 fraction :0.9\n",
      "first part : 5627.1441720358125 last part: 0.8711277757081153\n",
      "> 20 % : 0.19496276462220735\n",
      "point :  5628.015299811521\n"
     ]
    },
    {
     "name": "stderr",
     "output_type": "stream",
     "text": [
      "/home/mmdb/conda/lib/python3.6/site-packages/lightgbm/basic.py:1209: UserWarning: categorical_feature in Dataset is overridden.\n",
      "New categorical_feature is ['III_index', 'II_index', 'IV_index', 'IX_index', 'I_index', 'VIII_index', 'VII_index', 'VI_index', 'V_index', 'XIII_index', 'XII_index', 'XIV_index', 'XI_index', 'X_index', 'bachelor_rate', 'born_rate', 'building_material', 'building_type', 'building_use', 'city_town', 'death_rate', 'divorce_rate', 'elementary_rate', 'highschool_rate', 'jobschool_rate', 'junior_rate', 'marriage_rate', 'master_rate', 'parking_price_isna', 'parking_way', 'txn_floor_isna']\n",
      "  'New categorical_feature is {}'.format(sorted(list(categorical_feature))))\n"
     ]
    },
    {
     "name": "stdout",
     "output_type": "stream",
     "text": [
      "[5000]\ttraining's l1: 18560.9\ttraining's rmse: 30518.9\tvalid_1's l1: 130525\tvalid_1's rmse: 278188\n",
      "Finished.\n",
      "depth : 32 leaves : 256 fraction :0.9\n",
      "first part : 5626.307421973057 last part: 0.8712143569733606\n",
      "> 20 % : 0.1931219144841436\n",
      "point :  5627.178636330031\n"
     ]
    },
    {
     "name": "stderr",
     "output_type": "stream",
     "text": [
      "/home/mmdb/conda/lib/python3.6/site-packages/lightgbm/basic.py:1209: UserWarning: categorical_feature in Dataset is overridden.\n",
      "New categorical_feature is ['III_index', 'II_index', 'IV_index', 'IX_index', 'I_index', 'VIII_index', 'VII_index', 'VI_index', 'V_index', 'XIII_index', 'XII_index', 'XIV_index', 'XI_index', 'X_index', 'bachelor_rate', 'born_rate', 'building_material', 'building_type', 'building_use', 'city_town', 'death_rate', 'divorce_rate', 'elementary_rate', 'highschool_rate', 'jobschool_rate', 'junior_rate', 'marriage_rate', 'master_rate', 'parking_price_isna', 'parking_way', 'txn_floor_isna']\n",
      "  'New categorical_feature is {}'.format(sorted(list(categorical_feature))))\n"
     ]
    },
    {
     "name": "stdout",
     "output_type": "stream",
     "text": [
      "[5000]\ttraining's l1: 18444.1\ttraining's rmse: 30196.6\tvalid_1's l1: 130378\tvalid_1's rmse: 277494\n",
      "Finished.\n",
      "depth : 32 leaves : 256 fraction :0.9\n",
      "first part : 5645.5526734164505 last part: 0.8711558815223165\n",
      "> 20 % : 0.1908626893147017\n",
      "point :  5646.423829297973\n"
     ]
    },
    {
     "name": "stderr",
     "output_type": "stream",
     "text": [
      "/home/mmdb/conda/lib/python3.6/site-packages/lightgbm/basic.py:1209: UserWarning: categorical_feature in Dataset is overridden.\n",
      "New categorical_feature is ['III_index', 'II_index', 'IV_index', 'IX_index', 'I_index', 'VIII_index', 'VII_index', 'VI_index', 'V_index', 'XIII_index', 'XII_index', 'XIV_index', 'XI_index', 'X_index', 'bachelor_rate', 'born_rate', 'building_material', 'building_type', 'building_use', 'city_town', 'death_rate', 'divorce_rate', 'elementary_rate', 'highschool_rate', 'jobschool_rate', 'junior_rate', 'marriage_rate', 'master_rate', 'parking_price_isna', 'parking_way', 'txn_floor_isna']\n",
      "  'New categorical_feature is {}'.format(sorted(list(categorical_feature))))\n"
     ]
    },
    {
     "name": "stdout",
     "output_type": "stream",
     "text": [
      "[5000]\ttraining's l1: 18365.5\ttraining's rmse: 30082.9\tvalid_1's l1: 130540\tvalid_1's rmse: 277806\n",
      "Finished.\n",
      "depth : 32 leaves : 256 fraction :0.9\n",
      "first part : 5615.429671157225 last part: 0.8710711036631832\n",
      "> 20 % : 0.19195046439628483\n",
      "point :  5616.300742260888\n"
     ]
    },
    {
     "name": "stderr",
     "output_type": "stream",
     "text": [
      "/home/mmdb/conda/lib/python3.6/site-packages/lightgbm/basic.py:1209: UserWarning: categorical_feature in Dataset is overridden.\n",
      "New categorical_feature is ['III_index', 'II_index', 'IV_index', 'IX_index', 'I_index', 'VIII_index', 'VII_index', 'VI_index', 'V_index', 'XIII_index', 'XII_index', 'XIV_index', 'XI_index', 'X_index', 'bachelor_rate', 'born_rate', 'building_material', 'building_type', 'building_use', 'city_town', 'death_rate', 'divorce_rate', 'elementary_rate', 'highschool_rate', 'jobschool_rate', 'junior_rate', 'marriage_rate', 'master_rate', 'parking_price_isna', 'parking_way', 'txn_floor_isna']\n",
      "  'New categorical_feature is {}'.format(sorted(list(categorical_feature))))\n"
     ]
    },
    {
     "name": "stdout",
     "output_type": "stream",
     "text": [
      "[5000]\ttraining's l1: 18398.2\ttraining's rmse: 30096.5\tvalid_1's l1: 130239\tvalid_1's rmse: 277222\n",
      "Finished.\n",
      "depth : 32 leaves : 256 fraction :0.9\n",
      "first part : 5648.899673667475 last part: 0.8714045713848875\n",
      "> 20 % : 0.19328926449669484\n",
      "point :  5649.77107823886\n"
     ]
    },
    {
     "name": "stderr",
     "output_type": "stream",
     "text": [
      "/home/mmdb/conda/lib/python3.6/site-packages/lightgbm/basic.py:1209: UserWarning: categorical_feature in Dataset is overridden.\n",
      "New categorical_feature is ['III_index', 'II_index', 'IV_index', 'IX_index', 'I_index', 'VIII_index', 'VII_index', 'VI_index', 'V_index', 'XIII_index', 'XII_index', 'XIV_index', 'XI_index', 'X_index', 'bachelor_rate', 'born_rate', 'building_material', 'building_type', 'building_use', 'city_town', 'death_rate', 'divorce_rate', 'elementary_rate', 'highschool_rate', 'jobschool_rate', 'junior_rate', 'marriage_rate', 'master_rate', 'parking_price_isna', 'parking_way', 'txn_floor_isna']\n",
      "  'New categorical_feature is {}'.format(sorted(list(categorical_feature))))\n"
     ]
    },
    {
     "name": "stdout",
     "output_type": "stream",
     "text": [
      "[5000]\ttraining's l1: 18575.6\ttraining's rmse: 30330.5\tvalid_1's l1: 130489\tvalid_1's rmse: 276411\n",
      "Finished.\n",
      "depth : 32 leaves : 256 fraction :0.9\n",
      "first part : 5616.266421219982 last part: 0.8709531828963869\n",
      "> 20 % : 0.1938749895406242\n",
      "point :  5617.137374402878\n"
     ]
    },
    {
     "name": "stderr",
     "output_type": "stream",
     "text": [
      "/home/mmdb/conda/lib/python3.6/site-packages/lightgbm/basic.py:1209: UserWarning: categorical_feature in Dataset is overridden.\n",
      "New categorical_feature is ['III_index', 'II_index', 'IV_index', 'IX_index', 'I_index', 'VIII_index', 'VII_index', 'VI_index', 'V_index', 'XIII_index', 'XII_index', 'XIV_index', 'XI_index', 'X_index', 'bachelor_rate', 'born_rate', 'building_material', 'building_type', 'building_use', 'city_town', 'death_rate', 'divorce_rate', 'elementary_rate', 'highschool_rate', 'jobschool_rate', 'junior_rate', 'marriage_rate', 'master_rate', 'parking_price_isna', 'parking_way', 'txn_floor_isna']\n",
      "  'New categorical_feature is {}'.format(sorted(list(categorical_feature))))\n"
     ]
    },
    {
     "name": "stdout",
     "output_type": "stream",
     "text": [
      "[5000]\ttraining's l1: 18532.2\ttraining's rmse: 30324.2\tvalid_1's l1: 130281\tvalid_1's rmse: 276675\n",
      "Finished.\n",
      "depth : 32 leaves : 256 fraction :0.9\n",
      "first part : 5619.613421471007 last part: 0.871041583378522\n",
      "> 20 % : 0.1938749895406242\n",
      "point :  5620.484463054386\n"
     ]
    },
    {
     "name": "stderr",
     "output_type": "stream",
     "text": [
      "/home/mmdb/conda/lib/python3.6/site-packages/lightgbm/basic.py:1209: UserWarning: categorical_feature in Dataset is overridden.\n",
      "New categorical_feature is ['III_index', 'II_index', 'IV_index', 'IX_index', 'I_index', 'VIII_index', 'VII_index', 'VI_index', 'V_index', 'XIII_index', 'XII_index', 'XIV_index', 'XI_index', 'X_index', 'bachelor_rate', 'born_rate', 'building_material', 'building_type', 'building_use', 'city_town', 'death_rate', 'divorce_rate', 'elementary_rate', 'highschool_rate', 'jobschool_rate', 'junior_rate', 'marriage_rate', 'master_rate', 'parking_price_isna', 'parking_way', 'txn_floor_isna']\n",
      "  'New categorical_feature is {}'.format(sorted(list(categorical_feature))))\n"
     ]
    },
    {
     "name": "stdout",
     "output_type": "stream",
     "text": [
      "[5000]\ttraining's l1: 18502.5\ttraining's rmse: 30308.7\tvalid_1's l1: 130453\tvalid_1's rmse: 277090\n",
      "Finished.\n",
      "depth : 32 leaves : 256 fraction :0.9\n",
      "first part : 5631.327922349594 last part: 0.8710804637127452\n",
      "> 20 % : 0.1918667893900092\n",
      "point :  5632.199002813307\n"
     ]
    },
    {
     "name": "stderr",
     "output_type": "stream",
     "text": [
      "/home/mmdb/conda/lib/python3.6/site-packages/lightgbm/basic.py:1209: UserWarning: categorical_feature in Dataset is overridden.\n",
      "New categorical_feature is ['III_index', 'II_index', 'IV_index', 'IX_index', 'I_index', 'VIII_index', 'VII_index', 'VI_index', 'V_index', 'XIII_index', 'XII_index', 'XIV_index', 'XI_index', 'X_index', 'bachelor_rate', 'born_rate', 'building_material', 'building_type', 'building_use', 'city_town', 'death_rate', 'divorce_rate', 'elementary_rate', 'highschool_rate', 'jobschool_rate', 'junior_rate', 'marriage_rate', 'master_rate', 'parking_price_isna', 'parking_way', 'txn_floor_isna']\n",
      "  'New categorical_feature is {}'.format(sorted(list(categorical_feature))))\n"
     ]
    },
    {
     "name": "stdout",
     "output_type": "stream",
     "text": [
      "[5000]\ttraining's l1: 18524.1\ttraining's rmse: 30292.7\tvalid_1's l1: 130482\tvalid_1's rmse: 277758\n",
      "Finished.\n",
      "depth : 32 leaves : 256 fraction :0.9\n",
      "first part : 5655.593674169526 last part: 0.8712944627509258\n",
      "> 20 % : 0.19538113965358547\n",
      "point :  5656.464968632276\n"
     ]
    },
    {
     "name": "stderr",
     "output_type": "stream",
     "text": [
      "/home/mmdb/conda/lib/python3.6/site-packages/lightgbm/basic.py:1209: UserWarning: categorical_feature in Dataset is overridden.\n",
      "New categorical_feature is ['III_index', 'II_index', 'IV_index', 'IX_index', 'I_index', 'VIII_index', 'VII_index', 'VI_index', 'V_index', 'XIII_index', 'XII_index', 'XIV_index', 'XI_index', 'X_index', 'bachelor_rate', 'born_rate', 'building_material', 'building_type', 'building_use', 'city_town', 'death_rate', 'divorce_rate', 'elementary_rate', 'highschool_rate', 'jobschool_rate', 'junior_rate', 'marriage_rate', 'master_rate', 'parking_price_isna', 'parking_way', 'txn_floor_isna']\n",
      "  'New categorical_feature is {}'.format(sorted(list(categorical_feature))))\n"
     ]
    },
    {
     "name": "stdout",
     "output_type": "stream",
     "text": [
      "[5000]\ttraining's l1: 18488\ttraining's rmse: 30252.7\tvalid_1's l1: 130553\tvalid_1's rmse: 277801\n",
      "Finished.\n",
      "depth : 32 leaves : 256 fraction :0.9\n",
      "first part : 5624.633921847544 last part: 0.8709250445498803\n",
      "> 20 % : 0.1942096895657267\n",
      "point :  5625.504846892094\n"
     ]
    },
    {
     "name": "stderr",
     "output_type": "stream",
     "text": [
      "/home/mmdb/conda/lib/python3.6/site-packages/lightgbm/basic.py:1209: UserWarning: categorical_feature in Dataset is overridden.\n",
      "New categorical_feature is ['III_index', 'II_index', 'IV_index', 'IX_index', 'I_index', 'VIII_index', 'VII_index', 'VI_index', 'V_index', 'XIII_index', 'XII_index', 'XIV_index', 'XI_index', 'X_index', 'bachelor_rate', 'born_rate', 'building_material', 'building_type', 'building_use', 'city_town', 'death_rate', 'divorce_rate', 'elementary_rate', 'highschool_rate', 'jobschool_rate', 'junior_rate', 'marriage_rate', 'master_rate', 'parking_price_isna', 'parking_way', 'txn_floor_isna']\n",
      "  'New categorical_feature is {}'.format(sorted(list(categorical_feature))))\n"
     ]
    },
    {
     "name": "stdout",
     "output_type": "stream",
     "text": [
      "[5000]\ttraining's l1: 18483.3\ttraining's rmse: 30259.5\tvalid_1's l1: 130463\tvalid_1's rmse: 277579\n",
      "Finished.\n",
      "depth : 32 leaves : 256 fraction :0.9\n",
      "first part : 5648.899673667475 last part: 0.8710996593517598\n",
      "> 20 % : 0.1906116642958748\n",
      "point :  5649.770773326827\n"
     ]
    },
    {
     "name": "stderr",
     "output_type": "stream",
     "text": [
      "/home/mmdb/conda/lib/python3.6/site-packages/lightgbm/basic.py:1209: UserWarning: categorical_feature in Dataset is overridden.\n",
      "New categorical_feature is ['III_index', 'II_index', 'IV_index', 'IX_index', 'I_index', 'VIII_index', 'VII_index', 'VI_index', 'V_index', 'XIII_index', 'XII_index', 'XIV_index', 'XI_index', 'X_index', 'bachelor_rate', 'born_rate', 'building_material', 'building_type', 'building_use', 'city_town', 'death_rate', 'divorce_rate', 'elementary_rate', 'highschool_rate', 'jobschool_rate', 'junior_rate', 'marriage_rate', 'master_rate', 'parking_price_isna', 'parking_way', 'txn_floor_isna']\n",
      "  'New categorical_feature is {}'.format(sorted(list(categorical_feature))))\n"
     ]
    },
    {
     "name": "stdout",
     "output_type": "stream",
     "text": [
      "[5000]\ttraining's l1: 18585.7\ttraining's rmse: 30493.2\tvalid_1's l1: 130462\tvalid_1's rmse: 277440\n",
      "Finished.\n",
      "depth : 32 leaves : 256 fraction :0.9\n",
      "first part : 5616.266421219982 last part: 0.8708748791983907\n",
      "> 20 % : 0.19454438959082923\n",
      "point :  5617.13729609918\n"
     ]
    },
    {
     "name": "stderr",
     "output_type": "stream",
     "text": [
      "/home/mmdb/conda/lib/python3.6/site-packages/lightgbm/basic.py:1209: UserWarning: categorical_feature in Dataset is overridden.\n",
      "New categorical_feature is ['III_index', 'II_index', 'IV_index', 'IX_index', 'I_index', 'VIII_index', 'VII_index', 'VI_index', 'V_index', 'XIII_index', 'XII_index', 'XIV_index', 'XI_index', 'X_index', 'bachelor_rate', 'born_rate', 'building_material', 'building_type', 'building_use', 'city_town', 'death_rate', 'divorce_rate', 'elementary_rate', 'highschool_rate', 'jobschool_rate', 'junior_rate', 'marriage_rate', 'master_rate', 'parking_price_isna', 'parking_way', 'txn_floor_isna']\n",
      "  'New categorical_feature is {}'.format(sorted(list(categorical_feature))))\n"
     ]
    },
    {
     "name": "stdout",
     "output_type": "stream",
     "text": [
      "[5000]\ttraining's l1: 18416.5\ttraining's rmse: 30163.4\tvalid_1's l1: 130556\tvalid_1's rmse: 278222\n",
      "Finished.\n",
      "depth : 32 leaves : 256 fraction :0.9\n",
      "first part : 5618.77667140825 last part: 0.8712172855783786\n",
      "> 20 % : 0.19303823947786797\n",
      "point :  5619.6478886938285\n"
     ]
    },
    {
     "name": "stderr",
     "output_type": "stream",
     "text": [
      "/home/mmdb/conda/lib/python3.6/site-packages/lightgbm/basic.py:1209: UserWarning: categorical_feature in Dataset is overridden.\n",
      "New categorical_feature is ['III_index', 'II_index', 'IV_index', 'IX_index', 'I_index', 'VIII_index', 'VII_index', 'VI_index', 'V_index', 'XIII_index', 'XII_index', 'XIV_index', 'XI_index', 'X_index', 'bachelor_rate', 'born_rate', 'building_material', 'building_type', 'building_use', 'city_town', 'death_rate', 'divorce_rate', 'elementary_rate', 'highschool_rate', 'jobschool_rate', 'junior_rate', 'marriage_rate', 'master_rate', 'parking_price_isna', 'parking_way', 'txn_floor_isna']\n",
      "  'New categorical_feature is {}'.format(sorted(list(categorical_feature))))\n"
     ]
    },
    {
     "name": "stdout",
     "output_type": "stream",
     "text": [
      "[5000]\ttraining's l1: 18315.2\ttraining's rmse: 29904\tvalid_1's l1: 130444\tvalid_1's rmse: 278081\n",
      "Finished.\n",
      "depth : 32 leaves : 256 fraction :0.9\n",
      "first part : 5626.307421973057 last part: 0.8713919071141014\n",
      "> 20 % : 0.19429336457200233\n",
      "point :  5627.178813880171\n"
     ]
    },
    {
     "name": "stderr",
     "output_type": "stream",
     "text": [
      "/home/mmdb/conda/lib/python3.6/site-packages/lightgbm/basic.py:1209: UserWarning: categorical_feature in Dataset is overridden.\n",
      "New categorical_feature is ['III_index', 'II_index', 'IV_index', 'IX_index', 'I_index', 'VIII_index', 'VII_index', 'VI_index', 'V_index', 'XIII_index', 'XII_index', 'XIV_index', 'XI_index', 'X_index', 'bachelor_rate', 'born_rate', 'building_material', 'building_type', 'building_use', 'city_town', 'death_rate', 'divorce_rate', 'elementary_rate', 'highschool_rate', 'jobschool_rate', 'junior_rate', 'marriage_rate', 'master_rate', 'parking_price_isna', 'parking_way', 'txn_floor_isna']\n",
      "  'New categorical_feature is {}'.format(sorted(list(categorical_feature))))\n"
     ]
    },
    {
     "name": "stdout",
     "output_type": "stream",
     "text": [
      "[5000]\ttraining's l1: 18699.9\ttraining's rmse: 30593.4\tvalid_1's l1: 130548\tvalid_1's rmse: 277240\n",
      "Finished.\n",
      "depth : 32 leaves : 256 fraction :0.9\n",
      "first part : 5626.307421973057 last part: 0.8819149256902934\n",
      "> 20 % : 0.19270353945276547\n",
      "point :  5627.189336898748\n"
     ]
    },
    {
     "name": "stderr",
     "output_type": "stream",
     "text": [
      "/home/mmdb/conda/lib/python3.6/site-packages/lightgbm/basic.py:1209: UserWarning: categorical_feature in Dataset is overridden.\n",
      "New categorical_feature is ['III_index', 'II_index', 'IV_index', 'IX_index', 'I_index', 'VIII_index', 'VII_index', 'VI_index', 'V_index', 'XIII_index', 'XII_index', 'XIV_index', 'XI_index', 'X_index', 'bachelor_rate', 'born_rate', 'building_material', 'building_type', 'building_use', 'city_town', 'death_rate', 'divorce_rate', 'elementary_rate', 'highschool_rate', 'jobschool_rate', 'junior_rate', 'marriage_rate', 'master_rate', 'parking_price_isna', 'parking_way', 'txn_floor_isna']\n",
      "  'New categorical_feature is {}'.format(sorted(list(categorical_feature))))\n"
     ]
    },
    {
     "name": "stdout",
     "output_type": "stream",
     "text": [
      "[5000]\ttraining's l1: 18381\ttraining's rmse: 30008.9\tvalid_1's l1: 130422\tvalid_1's rmse: 277004\n",
      "Finished.\n",
      "depth : 32 leaves : 256 fraction :0.9\n",
      "first part : 5645.5526734164505 last part: 0.8714783903537607\n",
      "> 20 % : 0.19496276462220735\n",
      "point :  5646.424151806804\n"
     ]
    },
    {
     "name": "stderr",
     "output_type": "stream",
     "text": [
      "/home/mmdb/conda/lib/python3.6/site-packages/lightgbm/basic.py:1209: UserWarning: categorical_feature in Dataset is overridden.\n",
      "New categorical_feature is ['III_index', 'II_index', 'IV_index', 'IX_index', 'I_index', 'VIII_index', 'VII_index', 'VI_index', 'V_index', 'XIII_index', 'XII_index', 'XIV_index', 'XI_index', 'X_index', 'bachelor_rate', 'born_rate', 'building_material', 'building_type', 'building_use', 'city_town', 'death_rate', 'divorce_rate', 'elementary_rate', 'highschool_rate', 'jobschool_rate', 'junior_rate', 'marriage_rate', 'master_rate', 'parking_price_isna', 'parking_way', 'txn_floor_isna']\n",
      "  'New categorical_feature is {}'.format(sorted(list(categorical_feature))))\n"
     ]
    },
    {
     "name": "stdout",
     "output_type": "stream",
     "text": [
      "[5000]\ttraining's l1: 18461.8\ttraining's rmse: 30179.7\tvalid_1's l1: 130437\tvalid_1's rmse: 276702\n",
      "Finished.\n",
      "depth : 32 leaves : 256 fraction :0.9\n",
      "first part : 5612.919420968957 last part: 0.8713261757345114\n",
      "> 20 % : 0.19337293950297046\n",
      "point :  5613.7907471446915\n"
     ]
    },
    {
     "name": "stderr",
     "output_type": "stream",
     "text": [
      "/home/mmdb/conda/lib/python3.6/site-packages/lightgbm/basic.py:1209: UserWarning: categorical_feature in Dataset is overridden.\n",
      "New categorical_feature is ['III_index', 'II_index', 'IV_index', 'IX_index', 'I_index', 'VIII_index', 'VII_index', 'VI_index', 'V_index', 'XIII_index', 'XII_index', 'XIV_index', 'XI_index', 'X_index', 'bachelor_rate', 'born_rate', 'building_material', 'building_type', 'building_use', 'city_town', 'death_rate', 'divorce_rate', 'elementary_rate', 'highschool_rate', 'jobschool_rate', 'junior_rate', 'marriage_rate', 'master_rate', 'parking_price_isna', 'parking_way', 'txn_floor_isna']\n",
      "  'New categorical_feature is {}'.format(sorted(list(categorical_feature))))\n"
     ]
    },
    {
     "name": "stdout",
     "output_type": "stream",
     "text": [
      "[5000]\ttraining's l1: 18607.3\ttraining's rmse: 30490.4\tvalid_1's l1: 130559\tvalid_1's rmse: 277583\n",
      "Finished.\n",
      "depth : 32 leaves : 256 fraction :0.9\n",
      "first part : 5602.041670153125 last part: 0.8709458956924719\n",
      "> 20 % : 0.19362396452179734\n",
      "point :  5602.912616048818\n"
     ]
    },
    {
     "name": "stderr",
     "output_type": "stream",
     "text": [
      "/home/mmdb/conda/lib/python3.6/site-packages/lightgbm/basic.py:1209: UserWarning: categorical_feature in Dataset is overridden.\n",
      "New categorical_feature is ['III_index', 'II_index', 'IV_index', 'IX_index', 'I_index', 'VIII_index', 'VII_index', 'VI_index', 'V_index', 'XIII_index', 'XII_index', 'XIV_index', 'XI_index', 'X_index', 'bachelor_rate', 'born_rate', 'building_material', 'building_type', 'building_use', 'city_town', 'death_rate', 'divorce_rate', 'elementary_rate', 'highschool_rate', 'jobschool_rate', 'junior_rate', 'marriage_rate', 'master_rate', 'parking_price_isna', 'parking_way', 'txn_floor_isna']\n",
      "  'New categorical_feature is {}'.format(sorted(list(categorical_feature))))\n"
     ]
    },
    {
     "name": "stdout",
     "output_type": "stream",
     "text": [
      "[5000]\ttraining's l1: 18564.3\ttraining's rmse: 30426.6\tvalid_1's l1: 130462\tvalid_1's rmse: 277324\n",
      "Finished.\n",
      "depth : 32 leaves : 256 fraction :0.9\n",
      "first part : 5650.573173792987 last part: 0.8712749056887682\n",
      "> 20 % : 0.19370763952807296\n",
      "point :  5651.444448698676\n"
     ]
    },
    {
     "name": "stderr",
     "output_type": "stream",
     "text": [
      "/home/mmdb/conda/lib/python3.6/site-packages/lightgbm/basic.py:1209: UserWarning: categorical_feature in Dataset is overridden.\n",
      "New categorical_feature is ['III_index', 'II_index', 'IV_index', 'IX_index', 'I_index', 'VIII_index', 'VII_index', 'VI_index', 'V_index', 'XIII_index', 'XII_index', 'XIV_index', 'XI_index', 'X_index', 'bachelor_rate', 'born_rate', 'building_material', 'building_type', 'building_use', 'city_town', 'death_rate', 'divorce_rate', 'elementary_rate', 'highschool_rate', 'jobschool_rate', 'junior_rate', 'marriage_rate', 'master_rate', 'parking_price_isna', 'parking_way', 'txn_floor_isna']\n",
      "  'New categorical_feature is {}'.format(sorted(list(categorical_feature))))\n"
     ]
    },
    {
     "name": "stdout",
     "output_type": "stream",
     "text": [
      "[5000]\ttraining's l1: 18428.8\ttraining's rmse: 30130.6\tvalid_1's l1: 130503\tvalid_1's rmse: 277673\n",
      "Finished.\n",
      "depth : 32 leaves : 256 fraction :0.9\n",
      "first part : 5654.7569241067695 last part: 0.8710692135839795\n",
      "> 20 % : 0.1947954146096561\n",
      "point :  5655.627993320353\n"
     ]
    },
    {
     "name": "stderr",
     "output_type": "stream",
     "text": [
      "/home/mmdb/conda/lib/python3.6/site-packages/lightgbm/basic.py:1209: UserWarning: categorical_feature in Dataset is overridden.\n",
      "New categorical_feature is ['III_index', 'II_index', 'IV_index', 'IX_index', 'I_index', 'VIII_index', 'VII_index', 'VI_index', 'V_index', 'XIII_index', 'XII_index', 'XIV_index', 'XI_index', 'X_index', 'bachelor_rate', 'born_rate', 'building_material', 'building_type', 'building_use', 'city_town', 'death_rate', 'divorce_rate', 'elementary_rate', 'highschool_rate', 'jobschool_rate', 'junior_rate', 'marriage_rate', 'master_rate', 'parking_price_isna', 'parking_way', 'txn_floor_isna']\n",
      "  'New categorical_feature is {}'.format(sorted(list(categorical_feature))))\n"
     ]
    },
    {
     "name": "stdout",
     "output_type": "stream",
     "text": [
      "[5000]\ttraining's l1: 18571\ttraining's rmse: 30518.8\tvalid_1's l1: 130611\tvalid_1's rmse: 277234\n",
      "Finished.\n",
      "depth : 32 leaves : 256 fraction :0.9\n",
      "first part : 5652.246673918501 last part: 0.871122697495231\n",
      "> 20 % : 0.19412601455945108\n",
      "point :  5653.117796615997\n"
     ]
    },
    {
     "name": "stderr",
     "output_type": "stream",
     "text": [
      "/home/mmdb/conda/lib/python3.6/site-packages/lightgbm/basic.py:1209: UserWarning: categorical_feature in Dataset is overridden.\n",
      "New categorical_feature is ['III_index', 'II_index', 'IV_index', 'IX_index', 'I_index', 'VIII_index', 'VII_index', 'VI_index', 'V_index', 'XIII_index', 'XII_index', 'XIV_index', 'XI_index', 'X_index', 'bachelor_rate', 'born_rate', 'building_material', 'building_type', 'building_use', 'city_town', 'death_rate', 'divorce_rate', 'elementary_rate', 'highschool_rate', 'jobschool_rate', 'junior_rate', 'marriage_rate', 'master_rate', 'parking_price_isna', 'parking_way', 'txn_floor_isna']\n",
      "  'New categorical_feature is {}'.format(sorted(list(categorical_feature))))\n"
     ]
    },
    {
     "name": "stdout",
     "output_type": "stream",
     "text": [
      "[5000]\ttraining's l1: 18446.1\ttraining's rmse: 30131.3\tvalid_1's l1: 130395\tvalid_1's rmse: 277208\n",
      "Finished.\n",
      "depth : 32 leaves : 256 fraction :0.9\n",
      "first part : 5626.307421973057 last part: 0.8713184561390847\n",
      "> 20 % : 0.19303823947786797\n",
      "point :  5627.178740429196\n"
     ]
    },
    {
     "name": "stderr",
     "output_type": "stream",
     "text": [
      "/home/mmdb/conda/lib/python3.6/site-packages/lightgbm/basic.py:1209: UserWarning: categorical_feature in Dataset is overridden.\n",
      "New categorical_feature is ['III_index', 'II_index', 'IV_index', 'IX_index', 'I_index', 'VIII_index', 'VII_index', 'VI_index', 'V_index', 'XIII_index', 'XII_index', 'XIV_index', 'XI_index', 'X_index', 'bachelor_rate', 'born_rate', 'building_material', 'building_type', 'building_use', 'city_town', 'death_rate', 'divorce_rate', 'elementary_rate', 'highschool_rate', 'jobschool_rate', 'junior_rate', 'marriage_rate', 'master_rate', 'parking_price_isna', 'parking_way', 'txn_floor_isna']\n",
      "  'New categorical_feature is {}'.format(sorted(list(categorical_feature))))\n"
     ]
    },
    {
     "name": "stdout",
     "output_type": "stream",
     "text": [
      "[5000]\ttraining's l1: 18392.1\ttraining's rmse: 30110.5\tvalid_1's l1: 130497\tvalid_1's rmse: 277128\n",
      "Finished.\n",
      "depth : 32 leaves : 256 fraction :0.9\n",
      "first part : 5617.103171282738 last part: 0.8711741052953079\n",
      "> 20 % : 0.19529746464730985\n",
      "point :  5617.974345388034\n"
     ]
    },
    {
     "name": "stderr",
     "output_type": "stream",
     "text": [
      "/home/mmdb/conda/lib/python3.6/site-packages/lightgbm/basic.py:1209: UserWarning: categorical_feature in Dataset is overridden.\n",
      "New categorical_feature is ['III_index', 'II_index', 'IV_index', 'IX_index', 'I_index', 'VIII_index', 'VII_index', 'VI_index', 'V_index', 'XIII_index', 'XII_index', 'XIV_index', 'XI_index', 'X_index', 'bachelor_rate', 'born_rate', 'building_material', 'building_type', 'building_use', 'city_town', 'death_rate', 'divorce_rate', 'elementary_rate', 'highschool_rate', 'jobschool_rate', 'junior_rate', 'marriage_rate', 'master_rate', 'parking_price_isna', 'parking_way', 'txn_floor_isna']\n",
      "  'New categorical_feature is {}'.format(sorted(list(categorical_feature))))\n"
     ]
    },
    {
     "name": "stdout",
     "output_type": "stream",
     "text": [
      "[5000]\ttraining's l1: 18667\ttraining's rmse: 30470.9\tvalid_1's l1: 130278\tvalid_1's rmse: 277001\n",
      "Finished.\n",
      "depth : 32 leaves : 256 fraction :0.9\n",
      "first part : 5646.389423479207 last part: 0.8712576705999729\n",
      "> 20 % : 0.1935402895155217\n",
      "point :  5647.260681149807\n"
     ]
    },
    {
     "name": "stderr",
     "output_type": "stream",
     "text": [
      "/home/mmdb/conda/lib/python3.6/site-packages/lightgbm/basic.py:1209: UserWarning: categorical_feature in Dataset is overridden.\n",
      "New categorical_feature is ['III_index', 'II_index', 'IV_index', 'IX_index', 'I_index', 'VIII_index', 'VII_index', 'VI_index', 'V_index', 'XIII_index', 'XII_index', 'XIV_index', 'XI_index', 'X_index', 'bachelor_rate', 'born_rate', 'building_material', 'building_type', 'building_use', 'city_town', 'death_rate', 'divorce_rate', 'elementary_rate', 'highschool_rate', 'jobschool_rate', 'junior_rate', 'marriage_rate', 'master_rate', 'parking_price_isna', 'parking_way', 'txn_floor_isna']\n",
      "  'New categorical_feature is {}'.format(sorted(list(categorical_feature))))\n"
     ]
    },
    {
     "name": "stdout",
     "output_type": "stream",
     "text": [
      "[5000]\ttraining's l1: 18519.9\ttraining's rmse: 30351.2\tvalid_1's l1: 130424\tvalid_1's rmse: 277193\n",
      "Finished.\n",
      "depth : 32 leaves : 256 fraction :0.9\n",
      "first part : 5637.185172788888 last part: 0.8711364263002281\n",
      "> 20 % : 0.1935402895155217\n",
      "point :  5638.056309215188\n"
     ]
    },
    {
     "name": "stderr",
     "output_type": "stream",
     "text": [
      "/home/mmdb/conda/lib/python3.6/site-packages/lightgbm/basic.py:1209: UserWarning: categorical_feature in Dataset is overridden.\n",
      "New categorical_feature is ['III_index', 'II_index', 'IV_index', 'IX_index', 'I_index', 'VIII_index', 'VII_index', 'VI_index', 'V_index', 'XIII_index', 'XII_index', 'XIV_index', 'XI_index', 'X_index', 'bachelor_rate', 'born_rate', 'building_material', 'building_type', 'building_use', 'city_town', 'death_rate', 'divorce_rate', 'elementary_rate', 'highschool_rate', 'jobschool_rate', 'junior_rate', 'marriage_rate', 'master_rate', 'parking_price_isna', 'parking_way', 'txn_floor_isna']\n",
      "  'New categorical_feature is {}'.format(sorted(list(categorical_feature))))\n"
     ]
    },
    {
     "name": "stdout",
     "output_type": "stream",
     "text": [
      "[5000]\ttraining's l1: 18468.8\ttraining's rmse: 30248.4\tvalid_1's l1: 130572\tvalid_1's rmse: 277984\n",
      "Finished.\n",
      "depth : 32 leaves : 256 fraction :0.9\n",
      "first part : 5606.225420466907 last part: 0.8710651910812033\n",
      "> 20 % : 0.19362396452179734\n",
      "point :  5607.0964856579885\n"
     ]
    },
    {
     "name": "stderr",
     "output_type": "stream",
     "text": [
      "/home/mmdb/conda/lib/python3.6/site-packages/lightgbm/basic.py:1209: UserWarning: categorical_feature in Dataset is overridden.\n",
      "New categorical_feature is ['III_index', 'II_index', 'IV_index', 'IX_index', 'I_index', 'VIII_index', 'VII_index', 'VI_index', 'V_index', 'XIII_index', 'XII_index', 'XIV_index', 'XI_index', 'X_index', 'bachelor_rate', 'born_rate', 'building_material', 'building_type', 'building_use', 'city_town', 'death_rate', 'divorce_rate', 'elementary_rate', 'highschool_rate', 'jobschool_rate', 'junior_rate', 'marriage_rate', 'master_rate', 'parking_price_isna', 'parking_way', 'txn_floor_isna']\n",
      "  'New categorical_feature is {}'.format(sorted(list(categorical_feature))))\n"
     ]
    },
    {
     "name": "stdout",
     "output_type": "stream",
     "text": [
      "[5000]\ttraining's l1: 18503.9\ttraining's rmse: 30395.8\tvalid_1's l1: 130573\tvalid_1's rmse: 278422\n",
      "Finished.\n",
      "depth : 32 leaves : 256 fraction :0.9\n",
      "first part : 5627.980922098569 last part: 0.8713972623632883\n",
      "> 20 % : 0.19496276462220735\n",
      "point :  5628.852319360933\n"
     ]
    },
    {
     "name": "stderr",
     "output_type": "stream",
     "text": [
      "/home/mmdb/conda/lib/python3.6/site-packages/lightgbm/basic.py:1209: UserWarning: categorical_feature in Dataset is overridden.\n",
      "New categorical_feature is ['III_index', 'II_index', 'IV_index', 'IX_index', 'I_index', 'VIII_index', 'VII_index', 'VI_index', 'V_index', 'XIII_index', 'XII_index', 'XIV_index', 'XI_index', 'X_index', 'bachelor_rate', 'born_rate', 'building_material', 'building_type', 'building_use', 'city_town', 'death_rate', 'divorce_rate', 'elementary_rate', 'highschool_rate', 'jobschool_rate', 'junior_rate', 'marriage_rate', 'master_rate', 'parking_price_isna', 'parking_way', 'txn_floor_isna']\n",
      "  'New categorical_feature is {}'.format(sorted(list(categorical_feature))))\n"
     ]
    },
    {
     "name": "stdout",
     "output_type": "stream",
     "text": [
      "[5000]\ttraining's l1: 18458.1\ttraining's rmse: 30106.8\tvalid_1's l1: 130491\tvalid_1's rmse: 277651\n",
      "Finished.\n",
      "depth : 32 leaves : 256 fraction :0.9\n",
      "first part : 5623.797171784788 last part: 0.8713372845562685\n",
      "> 20 % : 0.19270353945276547\n",
      "point :  5624.668509069344\n"
     ]
    },
    {
     "name": "stderr",
     "output_type": "stream",
     "text": [
      "/home/mmdb/conda/lib/python3.6/site-packages/lightgbm/basic.py:1209: UserWarning: categorical_feature in Dataset is overridden.\n",
      "New categorical_feature is ['III_index', 'II_index', 'IV_index', 'IX_index', 'I_index', 'VIII_index', 'VII_index', 'VI_index', 'V_index', 'XIII_index', 'XII_index', 'XIV_index', 'XI_index', 'X_index', 'bachelor_rate', 'born_rate', 'building_material', 'building_type', 'building_use', 'city_town', 'death_rate', 'divorce_rate', 'elementary_rate', 'highschool_rate', 'jobschool_rate', 'junior_rate', 'marriage_rate', 'master_rate', 'parking_price_isna', 'parking_way', 'txn_floor_isna']\n",
      "  'New categorical_feature is {}'.format(sorted(list(categorical_feature))))\n"
     ]
    },
    {
     "name": "stdout",
     "output_type": "stream",
     "text": [
      "[5000]\ttraining's l1: 18533.2\ttraining's rmse: 30377.2\tvalid_1's l1: 130350\tvalid_1's rmse: 278087\n",
      "Finished.\n",
      "depth : 32 leaves : 256 fraction :0.9\n",
      "first part : 5657.267174295038 last part: 0.8701682813198701\n",
      "> 20 % : 0.19287088946531672\n",
      "point :  5658.137342576358\n"
     ]
    },
    {
     "name": "stderr",
     "output_type": "stream",
     "text": [
      "/home/mmdb/conda/lib/python3.6/site-packages/lightgbm/basic.py:1209: UserWarning: categorical_feature in Dataset is overridden.\n",
      "New categorical_feature is ['III_index', 'II_index', 'IV_index', 'IX_index', 'I_index', 'VIII_index', 'VII_index', 'VI_index', 'V_index', 'XIII_index', 'XII_index', 'XIV_index', 'XI_index', 'X_index', 'bachelor_rate', 'born_rate', 'building_material', 'building_type', 'building_use', 'city_town', 'death_rate', 'divorce_rate', 'elementary_rate', 'highschool_rate', 'jobschool_rate', 'junior_rate', 'marriage_rate', 'master_rate', 'parking_price_isna', 'parking_way', 'txn_floor_isna']\n",
      "  'New categorical_feature is {}'.format(sorted(list(categorical_feature))))\n"
     ]
    },
    {
     "name": "stdout",
     "output_type": "stream",
     "text": [
      "[5000]\ttraining's l1: 18382.1\ttraining's rmse: 30040.1\tvalid_1's l1: 130241\tvalid_1's rmse: 276779\n",
      "Finished.\n",
      "depth : 32 leaves : 256 fraction :0.9\n",
      "first part : 5629.654422224082 last part: 0.8712907770856857\n",
      "> 20 % : 0.19295456447159234\n",
      "point :  5630.525713001168\n"
     ]
    },
    {
     "name": "stderr",
     "output_type": "stream",
     "text": [
      "/home/mmdb/conda/lib/python3.6/site-packages/lightgbm/basic.py:1209: UserWarning: categorical_feature in Dataset is overridden.\n",
      "New categorical_feature is ['III_index', 'II_index', 'IV_index', 'IX_index', 'I_index', 'VIII_index', 'VII_index', 'VI_index', 'V_index', 'XIII_index', 'XII_index', 'XIV_index', 'XI_index', 'X_index', 'bachelor_rate', 'born_rate', 'building_material', 'building_type', 'building_use', 'city_town', 'death_rate', 'divorce_rate', 'elementary_rate', 'highschool_rate', 'jobschool_rate', 'junior_rate', 'marriage_rate', 'master_rate', 'parking_price_isna', 'parking_way', 'txn_floor_isna']\n",
      "  'New categorical_feature is {}'.format(sorted(list(categorical_feature))))\n"
     ]
    },
    {
     "name": "stdout",
     "output_type": "stream",
     "text": [
      "[5000]\ttraining's l1: 18558.2\ttraining's rmse: 30403.1\tvalid_1's l1: 130558\tvalid_1's rmse: 277376\n",
      "Finished.\n",
      "depth : 32 leaves : 256 fraction :0.9\n",
      "first part : 5622.960421722032 last part: 0.870967638789284\n",
      "> 20 % : 0.19429336457200233\n",
      "point :  5623.831389360821\n"
     ]
    },
    {
     "name": "stderr",
     "output_type": "stream",
     "text": [
      "/home/mmdb/conda/lib/python3.6/site-packages/lightgbm/basic.py:1209: UserWarning: categorical_feature in Dataset is overridden.\n",
      "New categorical_feature is ['III_index', 'II_index', 'IV_index', 'IX_index', 'I_index', 'VIII_index', 'VII_index', 'VI_index', 'V_index', 'XIII_index', 'XII_index', 'XIV_index', 'XI_index', 'X_index', 'bachelor_rate', 'born_rate', 'building_material', 'building_type', 'building_use', 'city_town', 'death_rate', 'divorce_rate', 'elementary_rate', 'highschool_rate', 'jobschool_rate', 'junior_rate', 'marriage_rate', 'master_rate', 'parking_price_isna', 'parking_way', 'txn_floor_isna']\n",
      "  'New categorical_feature is {}'.format(sorted(list(categorical_feature))))\n"
     ]
    },
    {
     "name": "stdout",
     "output_type": "stream",
     "text": [
      "[5000]\ttraining's l1: 18545\ttraining's rmse: 30436.5\tvalid_1's l1: 130730\tvalid_1's rmse: 277562\n",
      "Finished.\n",
      "depth : 32 leaves : 256 fraction :0.9\n",
      "first part : 5602.878420215881 last part: 0.8711691932893426\n",
      "> 20 % : 0.19621788971634174\n",
      "point :  5603.749589409171\n"
     ]
    },
    {
     "name": "stderr",
     "output_type": "stream",
     "text": [
      "/home/mmdb/conda/lib/python3.6/site-packages/lightgbm/basic.py:1209: UserWarning: categorical_feature in Dataset is overridden.\n",
      "New categorical_feature is ['III_index', 'II_index', 'IV_index', 'IX_index', 'I_index', 'VIII_index', 'VII_index', 'VI_index', 'V_index', 'XIII_index', 'XII_index', 'XIV_index', 'XI_index', 'X_index', 'bachelor_rate', 'born_rate', 'building_material', 'building_type', 'building_use', 'city_town', 'death_rate', 'divorce_rate', 'elementary_rate', 'highschool_rate', 'jobschool_rate', 'junior_rate', 'marriage_rate', 'master_rate', 'parking_price_isna', 'parking_way', 'txn_floor_isna']\n",
      "  'New categorical_feature is {}'.format(sorted(list(categorical_feature))))\n"
     ]
    },
    {
     "name": "stdout",
     "output_type": "stream",
     "text": [
      "[5000]\ttraining's l1: 18514.3\ttraining's rmse: 30456.3\tvalid_1's l1: 130669\tvalid_1's rmse: 277741\n",
      "Finished.\n",
      "depth : 32 leaves : 256 fraction :0.9\n",
      "first part : 5648.06292360472 last part: 0.8711780450694412\n",
      "> 20 % : 0.19462806459710486\n",
      "point :  5648.934101649789\n"
     ]
    },
    {
     "name": "stderr",
     "output_type": "stream",
     "text": [
      "/home/mmdb/conda/lib/python3.6/site-packages/lightgbm/basic.py:1209: UserWarning: categorical_feature in Dataset is overridden.\n",
      "New categorical_feature is ['III_index', 'II_index', 'IV_index', 'IX_index', 'I_index', 'VIII_index', 'VII_index', 'VI_index', 'V_index', 'XIII_index', 'XII_index', 'XIV_index', 'XI_index', 'X_index', 'bachelor_rate', 'born_rate', 'building_material', 'building_type', 'building_use', 'city_town', 'death_rate', 'divorce_rate', 'elementary_rate', 'highschool_rate', 'jobschool_rate', 'junior_rate', 'marriage_rate', 'master_rate', 'parking_price_isna', 'parking_way', 'txn_floor_isna']\n",
      "  'New categorical_feature is {}'.format(sorted(list(categorical_feature))))\n"
     ]
    },
    {
     "name": "stdout",
     "output_type": "stream",
     "text": [
      "[5000]\ttraining's l1: 18479.4\ttraining's rmse: 30286\tvalid_1's l1: 130479\tvalid_1's rmse: 277291\n",
      "Finished.\n",
      "depth : 32 leaves : 256 fraction :0.9\n",
      "first part : 5618.77667140825 last part: 0.8710913280480361\n",
      "> 20 % : 0.19287088946531672\n",
      "point :  5619.647762736298\n"
     ]
    },
    {
     "name": "stderr",
     "output_type": "stream",
     "text": [
      "/home/mmdb/conda/lib/python3.6/site-packages/lightgbm/basic.py:1209: UserWarning: categorical_feature in Dataset is overridden.\n",
      "New categorical_feature is ['III_index', 'II_index', 'IV_index', 'IX_index', 'I_index', 'VIII_index', 'VII_index', 'VI_index', 'V_index', 'XIII_index', 'XII_index', 'XIV_index', 'XI_index', 'X_index', 'bachelor_rate', 'born_rate', 'building_material', 'building_type', 'building_use', 'city_town', 'death_rate', 'divorce_rate', 'elementary_rate', 'highschool_rate', 'jobschool_rate', 'junior_rate', 'marriage_rate', 'master_rate', 'parking_price_isna', 'parking_way', 'txn_floor_isna']\n",
      "  'New categorical_feature is {}'.format(sorted(list(categorical_feature))))\n"
     ]
    },
    {
     "name": "stdout",
     "output_type": "stream",
     "text": [
      "[5000]\ttraining's l1: 18447.9\ttraining's rmse: 30274\tvalid_1's l1: 130798\tvalid_1's rmse: 277988\n",
      "Finished.\n",
      "depth : 32 leaves : 256 fraction :0.9\n",
      "first part : 5636.3484227261315 last part: 0.8710873336609641\n",
      "> 20 % : 0.19328926449669484\n",
      "point :  5637.219510059793\n"
     ]
    },
    {
     "name": "stderr",
     "output_type": "stream",
     "text": [
      "/home/mmdb/conda/lib/python3.6/site-packages/lightgbm/basic.py:1209: UserWarning: categorical_feature in Dataset is overridden.\n",
      "New categorical_feature is ['III_index', 'II_index', 'IV_index', 'IX_index', 'I_index', 'VIII_index', 'VII_index', 'VI_index', 'V_index', 'XIII_index', 'XII_index', 'XIV_index', 'XI_index', 'X_index', 'bachelor_rate', 'born_rate', 'building_material', 'building_type', 'building_use', 'city_town', 'death_rate', 'divorce_rate', 'elementary_rate', 'highschool_rate', 'jobschool_rate', 'junior_rate', 'marriage_rate', 'master_rate', 'parking_price_isna', 'parking_way', 'txn_floor_isna']\n",
      "  'New categorical_feature is {}'.format(sorted(list(categorical_feature))))\n"
     ]
    },
    {
     "name": "stdout",
     "output_type": "stream",
     "text": [
      "[5000]\ttraining's l1: 18472.4\ttraining's rmse: 30348.6\tvalid_1's l1: 130519\tvalid_1's rmse: 276854\n",
      "Finished.\n",
      "depth : 32 leaves : 256 fraction :0.9\n",
      "first part : 5639.695422977156 last part: 0.8714649547223878\n",
      "> 20 % : 0.19429336457200233\n",
      "point :  5640.566887931879\n"
     ]
    },
    {
     "name": "stderr",
     "output_type": "stream",
     "text": [
      "/home/mmdb/conda/lib/python3.6/site-packages/lightgbm/basic.py:1209: UserWarning: categorical_feature in Dataset is overridden.\n",
      "New categorical_feature is ['III_index', 'II_index', 'IV_index', 'IX_index', 'I_index', 'VIII_index', 'VII_index', 'VI_index', 'V_index', 'XIII_index', 'XII_index', 'XIV_index', 'XI_index', 'X_index', 'bachelor_rate', 'born_rate', 'building_material', 'building_type', 'building_use', 'city_town', 'death_rate', 'divorce_rate', 'elementary_rate', 'highschool_rate', 'jobschool_rate', 'junior_rate', 'marriage_rate', 'master_rate', 'parking_price_isna', 'parking_way', 'txn_floor_isna']\n",
      "  'New categorical_feature is {}'.format(sorted(list(categorical_feature))))\n"
     ]
    },
    {
     "name": "stdout",
     "output_type": "stream",
     "text": [
      "[5000]\ttraining's l1: 18376.3\ttraining's rmse: 30062.5\tvalid_1's l1: 130456\tvalid_1's rmse: 278096\n",
      "Finished.\n",
      "depth : 32 leaves : 256 fraction :0.9\n",
      "first part : 5619.613421471007 last part: 0.8713891792821971\n",
      "> 20 % : 0.1922014894151117\n",
      "point :  5620.48481065029\n"
     ]
    },
    {
     "name": "stderr",
     "output_type": "stream",
     "text": [
      "/home/mmdb/conda/lib/python3.6/site-packages/lightgbm/basic.py:1209: UserWarning: categorical_feature in Dataset is overridden.\n",
      "New categorical_feature is ['III_index', 'II_index', 'IV_index', 'IX_index', 'I_index', 'VIII_index', 'VII_index', 'VI_index', 'V_index', 'XIII_index', 'XII_index', 'XIV_index', 'XI_index', 'X_index', 'bachelor_rate', 'born_rate', 'building_material', 'building_type', 'building_use', 'city_town', 'death_rate', 'divorce_rate', 'elementary_rate', 'highschool_rate', 'jobschool_rate', 'junior_rate', 'marriage_rate', 'master_rate', 'parking_price_isna', 'parking_way', 'txn_floor_isna']\n",
      "  'New categorical_feature is {}'.format(sorted(list(categorical_feature))))\n"
     ]
    },
    {
     "name": "stdout",
     "output_type": "stream",
     "text": [
      "[5000]\ttraining's l1: 18582.5\ttraining's rmse: 30558.3\tvalid_1's l1: 130429\tvalid_1's rmse: 277264\n",
      "Finished.\n",
      "depth : 32 leaves : 256 fraction :0.9\n",
      "first part : 5644.715923353695 last part: 0.8713811121067331\n",
      "> 20 % : 0.1942096895657267\n",
      "point :  5645.587304465802\n"
     ]
    },
    {
     "name": "stderr",
     "output_type": "stream",
     "text": [
      "/home/mmdb/conda/lib/python3.6/site-packages/lightgbm/basic.py:1209: UserWarning: categorical_feature in Dataset is overridden.\n",
      "New categorical_feature is ['III_index', 'II_index', 'IV_index', 'IX_index', 'I_index', 'VIII_index', 'VII_index', 'VI_index', 'V_index', 'XIII_index', 'XII_index', 'XIV_index', 'XI_index', 'X_index', 'bachelor_rate', 'born_rate', 'building_material', 'building_type', 'building_use', 'city_town', 'death_rate', 'divorce_rate', 'elementary_rate', 'highschool_rate', 'jobschool_rate', 'junior_rate', 'marriage_rate', 'master_rate', 'parking_price_isna', 'parking_way', 'txn_floor_isna']\n",
      "  'New categorical_feature is {}'.format(sorted(list(categorical_feature))))\n"
     ]
    },
    {
     "name": "stdout",
     "output_type": "stream",
     "text": [
      "[5000]\ttraining's l1: 18544.8\ttraining's rmse: 30436.1\tvalid_1's l1: 130526\tvalid_1's rmse: 277648\n",
      "Finished.\n",
      "depth : 32 leaves : 256 fraction :0.9\n",
      "first part : 5610.409170780688 last part: 0.8712663525180159\n",
      "> 20 % : 0.19538113965358547\n",
      "point :  5611.280437133207\n"
     ]
    },
    {
     "name": "stderr",
     "output_type": "stream",
     "text": [
      "/home/mmdb/conda/lib/python3.6/site-packages/lightgbm/basic.py:1209: UserWarning: categorical_feature in Dataset is overridden.\n",
      "New categorical_feature is ['III_index', 'II_index', 'IV_index', 'IX_index', 'I_index', 'VIII_index', 'VII_index', 'VI_index', 'V_index', 'XIII_index', 'XII_index', 'XIV_index', 'XI_index', 'X_index', 'bachelor_rate', 'born_rate', 'building_material', 'building_type', 'building_use', 'city_town', 'death_rate', 'divorce_rate', 'elementary_rate', 'highschool_rate', 'jobschool_rate', 'junior_rate', 'marriage_rate', 'master_rate', 'parking_price_isna', 'parking_way', 'txn_floor_isna']\n",
      "  'New categorical_feature is {}'.format(sorted(list(categorical_feature))))\n"
     ]
    },
    {
     "name": "stdout",
     "output_type": "stream",
     "text": [
      "[5000]\ttraining's l1: 18430.1\ttraining's rmse: 30100.9\tvalid_1's l1: 130338\tvalid_1's rmse: 277045\n",
      "Finished.\n",
      "depth : 32 leaves : 256 fraction :0.9\n",
      "first part : 5628.817672161326 last part: 0.8707590975641009\n",
      "> 20 % : 0.19370763952807296\n",
      "point :  5629.68843125889\n"
     ]
    },
    {
     "name": "stderr",
     "output_type": "stream",
     "text": [
      "/home/mmdb/conda/lib/python3.6/site-packages/lightgbm/basic.py:1209: UserWarning: categorical_feature in Dataset is overridden.\n",
      "New categorical_feature is ['III_index', 'II_index', 'IV_index', 'IX_index', 'I_index', 'VIII_index', 'VII_index', 'VI_index', 'V_index', 'XIII_index', 'XII_index', 'XIV_index', 'XI_index', 'X_index', 'bachelor_rate', 'born_rate', 'building_material', 'building_type', 'building_use', 'city_town', 'death_rate', 'divorce_rate', 'elementary_rate', 'highschool_rate', 'jobschool_rate', 'junior_rate', 'marriage_rate', 'master_rate', 'parking_price_isna', 'parking_way', 'txn_floor_isna']\n",
      "  'New categorical_feature is {}'.format(sorted(list(categorical_feature))))\n"
     ]
    },
    {
     "name": "stdout",
     "output_type": "stream",
     "text": [
      "[5000]\ttraining's l1: 18525\ttraining's rmse: 30376.9\tvalid_1's l1: 130181\tvalid_1's rmse: 277356\n",
      "Finished.\n",
      "depth : 32 leaves : 256 fraction :0.9\n",
      "first part : 5656.430424232281 last part: 0.8713532560704103\n",
      "> 20 % : 0.19404233955317546\n",
      "point :  5657.301777488352\n"
     ]
    },
    {
     "name": "stderr",
     "output_type": "stream",
     "text": [
      "/home/mmdb/conda/lib/python3.6/site-packages/lightgbm/basic.py:1209: UserWarning: categorical_feature in Dataset is overridden.\n",
      "New categorical_feature is ['III_index', 'II_index', 'IV_index', 'IX_index', 'I_index', 'VIII_index', 'VII_index', 'VI_index', 'V_index', 'XIII_index', 'XII_index', 'XIV_index', 'XI_index', 'X_index', 'bachelor_rate', 'born_rate', 'building_material', 'building_type', 'building_use', 'city_town', 'death_rate', 'divorce_rate', 'elementary_rate', 'highschool_rate', 'jobschool_rate', 'junior_rate', 'marriage_rate', 'master_rate', 'parking_price_isna', 'parking_way', 'txn_floor_isna']\n",
      "  'New categorical_feature is {}'.format(sorted(list(categorical_feature))))\n"
     ]
    },
    {
     "name": "stdout",
     "output_type": "stream",
     "text": [
      "[5000]\ttraining's l1: 18465.4\ttraining's rmse: 30161\tvalid_1's l1: 130271\tvalid_1's rmse: 277490\n",
      "Finished.\n",
      "depth : 32 leaves : 256 fraction :0.9\n",
      "first part : 5637.185172788888 last part: 0.8714510065283176\n",
      "> 20 % : 0.1918667893900092\n",
      "point :  5638.056623795416\n"
     ]
    },
    {
     "name": "stderr",
     "output_type": "stream",
     "text": [
      "/home/mmdb/conda/lib/python3.6/site-packages/lightgbm/basic.py:1209: UserWarning: categorical_feature in Dataset is overridden.\n",
      "New categorical_feature is ['III_index', 'II_index', 'IV_index', 'IX_index', 'I_index', 'VIII_index', 'VII_index', 'VI_index', 'V_index', 'XIII_index', 'XII_index', 'XIV_index', 'XI_index', 'X_index', 'bachelor_rate', 'born_rate', 'building_material', 'building_type', 'building_use', 'city_town', 'death_rate', 'divorce_rate', 'elementary_rate', 'highschool_rate', 'jobschool_rate', 'junior_rate', 'marriage_rate', 'master_rate', 'parking_price_isna', 'parking_way', 'txn_floor_isna']\n",
      "  'New categorical_feature is {}'.format(sorted(list(categorical_feature))))\n"
     ]
    },
    {
     "name": "stdout",
     "output_type": "stream",
     "text": [
      "[5000]\ttraining's l1: 18359.7\ttraining's rmse: 29972.1\tvalid_1's l1: 130750\tvalid_1's rmse: 278158\n",
      "Finished.\n",
      "depth : 32 leaves : 256 fraction :0.9\n",
      "first part : 5646.389423479207 last part: 0.8711316605419455\n",
      "> 20 % : 0.1935402895155217\n",
      "point :  5647.260555139749\n"
     ]
    },
    {
     "name": "stderr",
     "output_type": "stream",
     "text": [
      "/home/mmdb/conda/lib/python3.6/site-packages/lightgbm/basic.py:1209: UserWarning: categorical_feature in Dataset is overridden.\n",
      "New categorical_feature is ['III_index', 'II_index', 'IV_index', 'IX_index', 'I_index', 'VIII_index', 'VII_index', 'VI_index', 'V_index', 'XIII_index', 'XII_index', 'XIV_index', 'XI_index', 'X_index', 'bachelor_rate', 'born_rate', 'building_material', 'building_type', 'building_use', 'city_town', 'death_rate', 'divorce_rate', 'elementary_rate', 'highschool_rate', 'jobschool_rate', 'junior_rate', 'marriage_rate', 'master_rate', 'parking_price_isna', 'parking_way', 'txn_floor_isna']\n",
      "  'New categorical_feature is {}'.format(sorted(list(categorical_feature))))\n"
     ]
    },
    {
     "name": "stdout",
     "output_type": "stream",
     "text": [
      "[5000]\ttraining's l1: 18499.5\ttraining's rmse: 30369.4\tvalid_1's l1: 130505\tvalid_1's rmse: 277657\n",
      "Finished.\n",
      "depth : 32 leaves : 256 fraction :0.9\n",
      "first part : 5660.614174546064 last part: 0.8711688289891677\n",
      "> 20 % : 0.19228516442138732\n",
      "point :  5661.485343375053\n"
     ]
    },
    {
     "name": "stderr",
     "output_type": "stream",
     "text": [
      "/home/mmdb/conda/lib/python3.6/site-packages/lightgbm/basic.py:1209: UserWarning: categorical_feature in Dataset is overridden.\n",
      "New categorical_feature is ['III_index', 'II_index', 'IV_index', 'IX_index', 'I_index', 'VIII_index', 'VII_index', 'VI_index', 'V_index', 'XIII_index', 'XII_index', 'XIV_index', 'XI_index', 'X_index', 'bachelor_rate', 'born_rate', 'building_material', 'building_type', 'building_use', 'city_town', 'death_rate', 'divorce_rate', 'elementary_rate', 'highschool_rate', 'jobschool_rate', 'junior_rate', 'marriage_rate', 'master_rate', 'parking_price_isna', 'parking_way', 'txn_floor_isna']\n",
      "  'New categorical_feature is {}'.format(sorted(list(categorical_feature))))\n"
     ]
    },
    {
     "name": "stdout",
     "output_type": "stream",
     "text": [
      "[5000]\ttraining's l1: 18261.8\ttraining's rmse: 29849.1\tvalid_1's l1: 130454\tvalid_1's rmse: 277880\n",
      "Finished.\n",
      "depth : 32 leaves : 256 fraction :0.9\n",
      "first part : 5649.736423730232 last part: 0.8712308239079689\n",
      "> 20 % : 0.1925361894402142\n",
      "point :  5650.60765455414\n"
     ]
    },
    {
     "name": "stderr",
     "output_type": "stream",
     "text": [
      "/home/mmdb/conda/lib/python3.6/site-packages/lightgbm/basic.py:1209: UserWarning: categorical_feature in Dataset is overridden.\n",
      "New categorical_feature is ['III_index', 'II_index', 'IV_index', 'IX_index', 'I_index', 'VIII_index', 'VII_index', 'VI_index', 'V_index', 'XIII_index', 'XII_index', 'XIV_index', 'XI_index', 'X_index', 'bachelor_rate', 'born_rate', 'building_material', 'building_type', 'building_use', 'city_town', 'death_rate', 'divorce_rate', 'elementary_rate', 'highschool_rate', 'jobschool_rate', 'junior_rate', 'marriage_rate', 'master_rate', 'parking_price_isna', 'parking_way', 'txn_floor_isna']\n",
      "  'New categorical_feature is {}'.format(sorted(list(categorical_feature))))\n"
     ]
    },
    {
     "name": "stdout",
     "output_type": "stream",
     "text": [
      "[5000]\ttraining's l1: 18514\ttraining's rmse: 30289\tvalid_1's l1: 130494\tvalid_1's rmse: 277153\n",
      "Finished.\n",
      "depth : 32 leaves : 256 fraction :0.9\n",
      "first part : 5617.103171282738 last part: 0.8708137731289951\n",
      "> 20 % : 0.19429336457200233\n",
      "point :  5617.973985055867\n"
     ]
    },
    {
     "name": "stderr",
     "output_type": "stream",
     "text": [
      "/home/mmdb/conda/lib/python3.6/site-packages/lightgbm/basic.py:1209: UserWarning: categorical_feature in Dataset is overridden.\n",
      "New categorical_feature is ['III_index', 'II_index', 'IV_index', 'IX_index', 'I_index', 'VIII_index', 'VII_index', 'VI_index', 'V_index', 'XIII_index', 'XII_index', 'XIV_index', 'XI_index', 'X_index', 'bachelor_rate', 'born_rate', 'building_material', 'building_type', 'building_use', 'city_town', 'death_rate', 'divorce_rate', 'elementary_rate', 'highschool_rate', 'jobschool_rate', 'junior_rate', 'marriage_rate', 'master_rate', 'parking_price_isna', 'parking_way', 'txn_floor_isna']\n",
      "  'New categorical_feature is {}'.format(sorted(list(categorical_feature))))\n"
     ]
    },
    {
     "name": "stdout",
     "output_type": "stream",
     "text": [
      "[5000]\ttraining's l1: 18415.7\ttraining's rmse: 30123.2\tvalid_1's l1: 130629\tvalid_1's rmse: 277851\n",
      "Finished.\n",
      "depth : 32 leaves : 256 fraction :0.9\n",
      "first part : 5647.226173541962 last part: 0.8711293876507556\n",
      "> 20 % : 0.19588318969123922\n",
      "point :  5648.097302929613\n"
     ]
    },
    {
     "name": "stderr",
     "output_type": "stream",
     "text": [
      "/home/mmdb/conda/lib/python3.6/site-packages/lightgbm/basic.py:1209: UserWarning: categorical_feature in Dataset is overridden.\n",
      "New categorical_feature is ['III_index', 'II_index', 'IV_index', 'IX_index', 'I_index', 'VIII_index', 'VII_index', 'VI_index', 'V_index', 'XIII_index', 'XII_index', 'XIV_index', 'XI_index', 'X_index', 'bachelor_rate', 'born_rate', 'building_material', 'building_type', 'building_use', 'city_town', 'death_rate', 'divorce_rate', 'elementary_rate', 'highschool_rate', 'jobschool_rate', 'junior_rate', 'marriage_rate', 'master_rate', 'parking_price_isna', 'parking_way', 'txn_floor_isna']\n",
      "  'New categorical_feature is {}'.format(sorted(list(categorical_feature))))\n"
     ]
    },
    {
     "name": "stdout",
     "output_type": "stream",
     "text": [
      "[5000]\ttraining's l1: 18469.3\ttraining's rmse: 30270.3\tvalid_1's l1: 130755\tvalid_1's rmse: 278429\n",
      "Finished.\n",
      "depth : 32 leaves : 256 fraction :0.9\n",
      "first part : 5644.715923353695 last part: 0.8709188916285913\n",
      "> 20 % : 0.19496276462220735\n",
      "point :  5645.586842245323\n"
     ]
    },
    {
     "name": "stderr",
     "output_type": "stream",
     "text": [
      "/home/mmdb/conda/lib/python3.6/site-packages/lightgbm/basic.py:1209: UserWarning: categorical_feature in Dataset is overridden.\n",
      "New categorical_feature is ['III_index', 'II_index', 'IV_index', 'IX_index', 'I_index', 'VIII_index', 'VII_index', 'VI_index', 'V_index', 'XIII_index', 'XII_index', 'XIV_index', 'XI_index', 'X_index', 'bachelor_rate', 'born_rate', 'building_material', 'building_type', 'building_use', 'city_town', 'death_rate', 'divorce_rate', 'elementary_rate', 'highschool_rate', 'jobschool_rate', 'junior_rate', 'marriage_rate', 'master_rate', 'parking_price_isna', 'parking_way', 'txn_floor_isna']\n",
      "  'New categorical_feature is {}'.format(sorted(list(categorical_feature))))\n"
     ]
    },
    {
     "name": "stdout",
     "output_type": "stream",
     "text": [
      "[5000]\ttraining's l1: 18385.2\ttraining's rmse: 30051.9\tvalid_1's l1: 130601\tvalid_1's rmse: 278134\n",
      "Finished.\n",
      "depth : 32 leaves : 256 fraction :0.9\n",
      "first part : 5622.960421722032 last part: 0.870863116338452\n",
      "> 20 % : 0.19395866454689983\n",
      "point :  5623.83128483837\n"
     ]
    },
    {
     "name": "stderr",
     "output_type": "stream",
     "text": [
      "/home/mmdb/conda/lib/python3.6/site-packages/lightgbm/basic.py:1209: UserWarning: categorical_feature in Dataset is overridden.\n",
      "New categorical_feature is ['III_index', 'II_index', 'IV_index', 'IX_index', 'I_index', 'VIII_index', 'VII_index', 'VI_index', 'V_index', 'XIII_index', 'XII_index', 'XIV_index', 'XI_index', 'X_index', 'bachelor_rate', 'born_rate', 'building_material', 'building_type', 'building_use', 'city_town', 'death_rate', 'divorce_rate', 'elementary_rate', 'highschool_rate', 'jobschool_rate', 'junior_rate', 'marriage_rate', 'master_rate', 'parking_price_isna', 'parking_way', 'txn_floor_isna']\n",
      "  'New categorical_feature is {}'.format(sorted(list(categorical_feature))))\n"
     ]
    },
    {
     "name": "stdout",
     "output_type": "stream",
     "text": [
      "[5000]\ttraining's l1: 18346.6\ttraining's rmse: 29978.9\tvalid_1's l1: 130372\tvalid_1's rmse: 278238\n",
      "Finished.\n",
      "depth : 32 leaves : 256 fraction :0.9\n",
      "first part : 5625.470671910301 last part: 0.87068597681699\n",
      "> 20 % : 0.19362396452179734\n",
      "point :  5626.341357887118\n"
     ]
    },
    {
     "name": "stderr",
     "output_type": "stream",
     "text": [
      "/home/mmdb/conda/lib/python3.6/site-packages/lightgbm/basic.py:1209: UserWarning: categorical_feature in Dataset is overridden.\n",
      "New categorical_feature is ['III_index', 'II_index', 'IV_index', 'IX_index', 'I_index', 'VIII_index', 'VII_index', 'VI_index', 'V_index', 'XIII_index', 'XII_index', 'XIV_index', 'XI_index', 'X_index', 'bachelor_rate', 'born_rate', 'building_material', 'building_type', 'building_use', 'city_town', 'death_rate', 'divorce_rate', 'elementary_rate', 'highschool_rate', 'jobschool_rate', 'junior_rate', 'marriage_rate', 'master_rate', 'parking_price_isna', 'parking_way', 'txn_floor_isna']\n",
      "  'New categorical_feature is {}'.format(sorted(list(categorical_feature))))\n"
     ]
    },
    {
     "name": "stdout",
     "output_type": "stream",
     "text": [
      "[5000]\ttraining's l1: 18594.7\ttraining's rmse: 30453.1\tvalid_1's l1: 130383\tvalid_1's rmse: 277107\n",
      "Finished.\n",
      "depth : 32 leaves : 256 fraction :0.9\n",
      "first part : 5597.8579198393445 last part: 0.870889514464474\n",
      "> 20 % : 0.1947954146096561\n",
      "point :  5598.728809353809\n"
     ]
    },
    {
     "name": "stderr",
     "output_type": "stream",
     "text": [
      "/home/mmdb/conda/lib/python3.6/site-packages/lightgbm/basic.py:1209: UserWarning: categorical_feature in Dataset is overridden.\n",
      "New categorical_feature is ['III_index', 'II_index', 'IV_index', 'IX_index', 'I_index', 'VIII_index', 'VII_index', 'VI_index', 'V_index', 'XIII_index', 'XII_index', 'XIV_index', 'XI_index', 'X_index', 'bachelor_rate', 'born_rate', 'building_material', 'building_type', 'building_use', 'city_town', 'death_rate', 'divorce_rate', 'elementary_rate', 'highschool_rate', 'jobschool_rate', 'junior_rate', 'marriage_rate', 'master_rate', 'parking_price_isna', 'parking_way', 'txn_floor_isna']\n",
      "  'New categorical_feature is {}'.format(sorted(list(categorical_feature))))\n"
     ]
    },
    {
     "name": "stdout",
     "output_type": "stream",
     "text": [
      "[5000]\ttraining's l1: 18405.9\ttraining's rmse: 30148.8\tvalid_1's l1: 130376\tvalid_1's rmse: 277386\n",
      "Finished.\n",
      "depth : 32 leaves : 256 fraction :0.9\n",
      "first part : 5656.430424232281 last part: 0.8714656742607084\n",
      "> 20 % : 0.19236883942766295\n",
      "point :  5657.301889906542\n"
     ]
    },
    {
     "name": "stderr",
     "output_type": "stream",
     "text": [
      "/home/mmdb/conda/lib/python3.6/site-packages/lightgbm/basic.py:1209: UserWarning: categorical_feature in Dataset is overridden.\n",
      "New categorical_feature is ['III_index', 'II_index', 'IV_index', 'IX_index', 'I_index', 'VIII_index', 'VII_index', 'VI_index', 'V_index', 'XIII_index', 'XII_index', 'XIV_index', 'XI_index', 'X_index', 'bachelor_rate', 'born_rate', 'building_material', 'building_type', 'building_use', 'city_town', 'death_rate', 'divorce_rate', 'elementary_rate', 'highschool_rate', 'jobschool_rate', 'junior_rate', 'marriage_rate', 'master_rate', 'parking_price_isna', 'parking_way', 'txn_floor_isna']\n",
      "  'New categorical_feature is {}'.format(sorted(list(categorical_feature))))\n"
     ]
    },
    {
     "name": "stdout",
     "output_type": "stream",
     "text": [
      "[5000]\ttraining's l1: 18416.4\ttraining's rmse: 30145.7\tvalid_1's l1: 130611\tvalid_1's rmse: 277090\n",
      "Finished.\n",
      "depth : 32 leaves : 256 fraction :0.9\n",
      "first part : 5633.001422475107 last part: 0.8710221724652016\n",
      "> 20 % : 0.1934566145092461\n",
      "point :  5633.872444647572\n"
     ]
    },
    {
     "name": "stderr",
     "output_type": "stream",
     "text": [
      "/home/mmdb/conda/lib/python3.6/site-packages/lightgbm/basic.py:1209: UserWarning: categorical_feature in Dataset is overridden.\n",
      "New categorical_feature is ['III_index', 'II_index', 'IV_index', 'IX_index', 'I_index', 'VIII_index', 'VII_index', 'VI_index', 'V_index', 'XIII_index', 'XII_index', 'XIV_index', 'XI_index', 'X_index', 'bachelor_rate', 'born_rate', 'building_material', 'building_type', 'building_use', 'city_town', 'death_rate', 'divorce_rate', 'elementary_rate', 'highschool_rate', 'jobschool_rate', 'junior_rate', 'marriage_rate', 'master_rate', 'parking_price_isna', 'parking_way', 'txn_floor_isna']\n",
      "  'New categorical_feature is {}'.format(sorted(list(categorical_feature))))\n"
     ]
    },
    {
     "name": "stdout",
     "output_type": "stream",
     "text": [
      "[5000]\ttraining's l1: 18412.7\ttraining's rmse: 30113.6\tvalid_1's l1: 130607\tvalid_1's rmse: 277347\n",
      "Finished.\n",
      "depth : 32 leaves : 256 fraction :0.9\n",
      "first part : 5645.5526734164505 last part: 0.8710222092957793\n",
      "> 20 % : 0.19454438959082923\n",
      "point :  5646.423695625746\n"
     ]
    },
    {
     "name": "stderr",
     "output_type": "stream",
     "text": [
      "/home/mmdb/conda/lib/python3.6/site-packages/lightgbm/basic.py:1209: UserWarning: categorical_feature in Dataset is overridden.\n",
      "New categorical_feature is ['III_index', 'II_index', 'IV_index', 'IX_index', 'I_index', 'VIII_index', 'VII_index', 'VI_index', 'V_index', 'XIII_index', 'XII_index', 'XIV_index', 'XI_index', 'X_index', 'bachelor_rate', 'born_rate', 'building_material', 'building_type', 'building_use', 'city_town', 'death_rate', 'divorce_rate', 'elementary_rate', 'highschool_rate', 'jobschool_rate', 'junior_rate', 'marriage_rate', 'master_rate', 'parking_price_isna', 'parking_way', 'txn_floor_isna']\n",
      "  'New categorical_feature is {}'.format(sorted(list(categorical_feature))))\n"
     ]
    },
    {
     "name": "stdout",
     "output_type": "stream",
     "text": [
      "[5000]\ttraining's l1: 18498.1\ttraining's rmse: 30254.2\tvalid_1's l1: 130288\tvalid_1's rmse: 276566\n",
      "Finished.\n",
      "depth : 32 leaves : 256 fraction :0.9\n",
      "first part : 5656.430424232281 last part: 0.8713439373438046\n",
      "> 20 % : 0.19379131453434859\n",
      "point :  5657.301768169626\n"
     ]
    },
    {
     "name": "stderr",
     "output_type": "stream",
     "text": [
      "/home/mmdb/conda/lib/python3.6/site-packages/lightgbm/basic.py:1209: UserWarning: categorical_feature in Dataset is overridden.\n",
      "New categorical_feature is ['III_index', 'II_index', 'IV_index', 'IX_index', 'I_index', 'VIII_index', 'VII_index', 'VI_index', 'V_index', 'XIII_index', 'XII_index', 'XIV_index', 'XI_index', 'X_index', 'bachelor_rate', 'born_rate', 'building_material', 'building_type', 'building_use', 'city_town', 'death_rate', 'divorce_rate', 'elementary_rate', 'highschool_rate', 'jobschool_rate', 'junior_rate', 'marriage_rate', 'master_rate', 'parking_price_isna', 'parking_way', 'txn_floor_isna']\n",
      "  'New categorical_feature is {}'.format(sorted(list(categorical_feature))))\n"
     ]
    },
    {
     "name": "stdout",
     "output_type": "stream",
     "text": [
      "[5000]\ttraining's l1: 18403.9\ttraining's rmse: 30113.9\tvalid_1's l1: 130570\tvalid_1's rmse: 277573\n",
      "Finished.\n",
      "depth : 32 leaves : 256 fraction :0.9\n",
      "first part : 5616.266421219982 last part: 0.8708162321866652\n",
      "> 20 % : 0.19504643962848298\n",
      "point :  5617.137237452168\n"
     ]
    },
    {
     "name": "stderr",
     "output_type": "stream",
     "text": [
      "/home/mmdb/conda/lib/python3.6/site-packages/lightgbm/basic.py:1209: UserWarning: categorical_feature in Dataset is overridden.\n",
      "New categorical_feature is ['III_index', 'II_index', 'IV_index', 'IX_index', 'I_index', 'VIII_index', 'VII_index', 'VI_index', 'V_index', 'XIII_index', 'XII_index', 'XIV_index', 'XI_index', 'X_index', 'bachelor_rate', 'born_rate', 'building_material', 'building_type', 'building_use', 'city_town', 'death_rate', 'divorce_rate', 'elementary_rate', 'highschool_rate', 'jobschool_rate', 'junior_rate', 'marriage_rate', 'master_rate', 'parking_price_isna', 'parking_way', 'txn_floor_isna']\n",
      "  'New categorical_feature is {}'.format(sorted(list(categorical_feature))))\n"
     ]
    },
    {
     "name": "stdout",
     "output_type": "stream",
     "text": [
      "[5000]\ttraining's l1: 18419.5\ttraining's rmse: 30174.2\tvalid_1's l1: 130081\tvalid_1's rmse: 276786\n",
      "Finished.\n",
      "depth : 32 leaves : 256 fraction :0.9\n",
      "first part : 5650.573173792987 last part: 0.8716236584877832\n",
      "> 20 % : 0.19404233955317546\n",
      "point :  5651.444797451475\n"
     ]
    },
    {
     "name": "stderr",
     "output_type": "stream",
     "text": [
      "/home/mmdb/conda/lib/python3.6/site-packages/lightgbm/basic.py:1209: UserWarning: categorical_feature in Dataset is overridden.\n",
      "New categorical_feature is ['III_index', 'II_index', 'IV_index', 'IX_index', 'I_index', 'VIII_index', 'VII_index', 'VI_index', 'V_index', 'XIII_index', 'XII_index', 'XIV_index', 'XI_index', 'X_index', 'bachelor_rate', 'born_rate', 'building_material', 'building_type', 'building_use', 'city_town', 'death_rate', 'divorce_rate', 'elementary_rate', 'highschool_rate', 'jobschool_rate', 'junior_rate', 'marriage_rate', 'master_rate', 'parking_price_isna', 'parking_way', 'txn_floor_isna']\n",
      "  'New categorical_feature is {}'.format(sorted(list(categorical_feature))))\n"
     ]
    },
    {
     "name": "stdout",
     "output_type": "stream",
     "text": [
      "[5000]\ttraining's l1: 18462.1\ttraining's rmse: 30217.5\tvalid_1's l1: 130420\tvalid_1's rmse: 277475\n",
      "Finished.\n",
      "depth : 32 leaves : 256 fraction :0.9\n",
      "first part : 5633.001422475107 last part: 0.8710608045594964\n",
      "> 20 % : 0.1931219144841436\n",
      "point :  5633.872483279666\n"
     ]
    },
    {
     "name": "stderr",
     "output_type": "stream",
     "text": [
      "/home/mmdb/conda/lib/python3.6/site-packages/lightgbm/basic.py:1209: UserWarning: categorical_feature in Dataset is overridden.\n",
      "New categorical_feature is ['III_index', 'II_index', 'IV_index', 'IX_index', 'I_index', 'VIII_index', 'VII_index', 'VI_index', 'V_index', 'XIII_index', 'XII_index', 'XIV_index', 'XI_index', 'X_index', 'bachelor_rate', 'born_rate', 'building_material', 'building_type', 'building_use', 'city_town', 'death_rate', 'divorce_rate', 'elementary_rate', 'highschool_rate', 'jobschool_rate', 'junior_rate', 'marriage_rate', 'master_rate', 'parking_price_isna', 'parking_way', 'txn_floor_isna']\n",
      "  'New categorical_feature is {}'.format(sorted(list(categorical_feature))))\n"
     ]
    },
    {
     "name": "stdout",
     "output_type": "stream",
     "text": [
      "[5000]\ttraining's l1: 18334.6\ttraining's rmse: 30041.4\tvalid_1's l1: 130440\tvalid_1's rmse: 277637\n",
      "Finished.\n",
      "depth : 32 leaves : 256 fraction :0.9\n",
      "first part : 5643.042423228182 last part: 0.8714734193028868\n",
      "> 20 % : 0.19303823947786797\n",
      "point :  5643.913896647485\n"
     ]
    },
    {
     "name": "stderr",
     "output_type": "stream",
     "text": [
      "/home/mmdb/conda/lib/python3.6/site-packages/lightgbm/basic.py:1209: UserWarning: categorical_feature in Dataset is overridden.\n",
      "New categorical_feature is ['III_index', 'II_index', 'IV_index', 'IX_index', 'I_index', 'VIII_index', 'VII_index', 'VI_index', 'V_index', 'XIII_index', 'XII_index', 'XIV_index', 'XI_index', 'X_index', 'bachelor_rate', 'born_rate', 'building_material', 'building_type', 'building_use', 'city_town', 'death_rate', 'divorce_rate', 'elementary_rate', 'highschool_rate', 'jobschool_rate', 'junior_rate', 'marriage_rate', 'master_rate', 'parking_price_isna', 'parking_way', 'txn_floor_isna']\n",
      "  'New categorical_feature is {}'.format(sorted(list(categorical_feature))))\n"
     ]
    },
    {
     "name": "stdout",
     "output_type": "stream",
     "text": [
      "[5000]\ttraining's l1: 18714.7\ttraining's rmse: 30635.8\tvalid_1's l1: 130330\tvalid_1's rmse: 277440\n",
      "Finished.\n",
      "depth : 32 leaves : 256 fraction :0.9\n",
      "first part : 5648.899673667475 last part: 0.8713396485702259\n",
      "> 20 % : 0.19144841435863108\n",
      "point :  5649.771013316045\n"
     ]
    },
    {
     "name": "stderr",
     "output_type": "stream",
     "text": [
      "/home/mmdb/conda/lib/python3.6/site-packages/lightgbm/basic.py:1209: UserWarning: categorical_feature in Dataset is overridden.\n",
      "New categorical_feature is ['III_index', 'II_index', 'IV_index', 'IX_index', 'I_index', 'VIII_index', 'VII_index', 'VI_index', 'V_index', 'XIII_index', 'XII_index', 'XIV_index', 'XI_index', 'X_index', 'bachelor_rate', 'born_rate', 'building_material', 'building_type', 'building_use', 'city_town', 'death_rate', 'divorce_rate', 'elementary_rate', 'highschool_rate', 'jobschool_rate', 'junior_rate', 'marriage_rate', 'master_rate', 'parking_price_isna', 'parking_way', 'txn_floor_isna']\n",
      "  'New categorical_feature is {}'.format(sorted(list(categorical_feature))))\n"
     ]
    },
    {
     "name": "stdout",
     "output_type": "stream",
     "text": [
      "[5000]\ttraining's l1: 18399.8\ttraining's rmse: 30046.7\tvalid_1's l1: 130365\tvalid_1's rmse: 277351\n",
      "Finished.\n",
      "depth : 32 leaves : 256 fraction :0.9\n",
      "first part : 5657.267174295038 last part: 0.8710369679485566\n",
      "> 20 % : 0.19504643962848298\n",
      "point :  5658.138211262986\n"
     ]
    },
    {
     "name": "stderr",
     "output_type": "stream",
     "text": [
      "/home/mmdb/conda/lib/python3.6/site-packages/lightgbm/basic.py:1209: UserWarning: categorical_feature in Dataset is overridden.\n",
      "New categorical_feature is ['III_index', 'II_index', 'IV_index', 'IX_index', 'I_index', 'VIII_index', 'VII_index', 'VI_index', 'V_index', 'XIII_index', 'XII_index', 'XIV_index', 'XI_index', 'X_index', 'bachelor_rate', 'born_rate', 'building_material', 'building_type', 'building_use', 'city_town', 'death_rate', 'divorce_rate', 'elementary_rate', 'highschool_rate', 'jobschool_rate', 'junior_rate', 'marriage_rate', 'master_rate', 'parking_price_isna', 'parking_way', 'txn_floor_isna']\n",
      "  'New categorical_feature is {}'.format(sorted(list(categorical_feature))))\n"
     ]
    },
    {
     "name": "stdout",
     "output_type": "stream",
     "text": [
      "[5000]\ttraining's l1: 18454.4\ttraining's rmse: 30138.5\tvalid_1's l1: 130512\tvalid_1's rmse: 277505\n",
      "Finished.\n",
      "depth : 32 leaves : 256 fraction :0.9\n",
      "first part : 5631.327922349594 last part: 0.8706911483539941\n",
      "> 20 % : 0.19437703957827795\n",
      "point :  5632.198613497948\n"
     ]
    },
    {
     "name": "stderr",
     "output_type": "stream",
     "text": [
      "/home/mmdb/conda/lib/python3.6/site-packages/lightgbm/basic.py:1209: UserWarning: categorical_feature in Dataset is overridden.\n",
      "New categorical_feature is ['III_index', 'II_index', 'IV_index', 'IX_index', 'I_index', 'VIII_index', 'VII_index', 'VI_index', 'V_index', 'XIII_index', 'XII_index', 'XIV_index', 'XI_index', 'X_index', 'bachelor_rate', 'born_rate', 'building_material', 'building_type', 'building_use', 'city_town', 'death_rate', 'divorce_rate', 'elementary_rate', 'highschool_rate', 'jobschool_rate', 'junior_rate', 'marriage_rate', 'master_rate', 'parking_price_isna', 'parking_way', 'txn_floor_isna']\n",
      "  'New categorical_feature is {}'.format(sorted(list(categorical_feature))))\n"
     ]
    },
    {
     "name": "stdout",
     "output_type": "stream",
     "text": [
      "[5000]\ttraining's l1: 18404.2\ttraining's rmse: 30124.9\tvalid_1's l1: 130320\tvalid_1's rmse: 277142\n",
      "Finished.\n",
      "depth : 32 leaves : 256 fraction :0.9\n",
      "first part : 5638.858672914401 last part: 0.8711627060372902\n",
      "> 20 % : 0.19337293950297046\n",
      "point :  5639.729835620438\n"
     ]
    },
    {
     "name": "stderr",
     "output_type": "stream",
     "text": [
      "/home/mmdb/conda/lib/python3.6/site-packages/lightgbm/basic.py:1209: UserWarning: categorical_feature in Dataset is overridden.\n",
      "New categorical_feature is ['III_index', 'II_index', 'IV_index', 'IX_index', 'I_index', 'VIII_index', 'VII_index', 'VI_index', 'V_index', 'XIII_index', 'XII_index', 'XIV_index', 'XI_index', 'X_index', 'bachelor_rate', 'born_rate', 'building_material', 'building_type', 'building_use', 'city_town', 'death_rate', 'divorce_rate', 'elementary_rate', 'highschool_rate', 'jobschool_rate', 'junior_rate', 'marriage_rate', 'master_rate', 'parking_price_isna', 'parking_way', 'txn_floor_isna']\n",
      "  'New categorical_feature is {}'.format(sorted(list(categorical_feature))))\n"
     ]
    },
    {
     "name": "stdout",
     "output_type": "stream",
     "text": [
      "[5000]\ttraining's l1: 18447.3\ttraining's rmse: 30228\tvalid_1's l1: 130326\tvalid_1's rmse: 277360\n",
      "Finished.\n",
      "depth : 32 leaves : 256 fraction :0.9\n",
      "first part : 5622.123671659275 last part: 0.8714456575811409\n",
      "> 20 % : 0.19245251443393857\n",
      "point :  5622.995117316856\n"
     ]
    },
    {
     "name": "stderr",
     "output_type": "stream",
     "text": [
      "/home/mmdb/conda/lib/python3.6/site-packages/lightgbm/basic.py:1209: UserWarning: categorical_feature in Dataset is overridden.\n",
      "New categorical_feature is ['III_index', 'II_index', 'IV_index', 'IX_index', 'I_index', 'VIII_index', 'VII_index', 'VI_index', 'V_index', 'XIII_index', 'XII_index', 'XIV_index', 'XI_index', 'X_index', 'bachelor_rate', 'born_rate', 'building_material', 'building_type', 'building_use', 'city_town', 'death_rate', 'divorce_rate', 'elementary_rate', 'highschool_rate', 'jobschool_rate', 'junior_rate', 'marriage_rate', 'master_rate', 'parking_price_isna', 'parking_way', 'txn_floor_isna']\n",
      "  'New categorical_feature is {}'.format(sorted(list(categorical_feature))))\n"
     ]
    },
    {
     "name": "stdout",
     "output_type": "stream",
     "text": [
      "[5000]\ttraining's l1: 18513.3\ttraining's rmse: 30207.3\tvalid_1's l1: 130149\tvalid_1's rmse: 276834\n",
      "Finished.\n",
      "depth : 32 leaves : 256 fraction :0.9\n",
      "first part : 5633.838172537863 last part: 0.8714521711203439\n",
      "> 20 % : 0.19320558949041922\n",
      "point :  5634.709624708983\n"
     ]
    },
    {
     "name": "stderr",
     "output_type": "stream",
     "text": [
      "/home/mmdb/conda/lib/python3.6/site-packages/lightgbm/basic.py:1209: UserWarning: categorical_feature in Dataset is overridden.\n",
      "New categorical_feature is ['III_index', 'II_index', 'IV_index', 'IX_index', 'I_index', 'VIII_index', 'VII_index', 'VI_index', 'V_index', 'XIII_index', 'XII_index', 'XIV_index', 'XI_index', 'X_index', 'bachelor_rate', 'born_rate', 'building_material', 'building_type', 'building_use', 'city_town', 'death_rate', 'divorce_rate', 'elementary_rate', 'highschool_rate', 'jobschool_rate', 'junior_rate', 'marriage_rate', 'master_rate', 'parking_price_isna', 'parking_way', 'txn_floor_isna']\n",
      "  'New categorical_feature is {}'.format(sorted(list(categorical_feature))))\n"
     ]
    },
    {
     "name": "stdout",
     "output_type": "stream",
     "text": [
      "[5000]\ttraining's l1: 18469.3\ttraining's rmse: 30231\tvalid_1's l1: 130679\tvalid_1's rmse: 277907\n",
      "Finished.\n",
      "depth : 32 leaves : 256 fraction :0.9\n",
      "first part : 5659.777424483306 last part: 0.8712874465686644\n",
      "> 20 % : 0.1934566145092461\n",
      "point :  5660.648711929875\n"
     ]
    },
    {
     "name": "stderr",
     "output_type": "stream",
     "text": [
      "/home/mmdb/conda/lib/python3.6/site-packages/lightgbm/basic.py:1209: UserWarning: categorical_feature in Dataset is overridden.\n",
      "New categorical_feature is ['III_index', 'II_index', 'IV_index', 'IX_index', 'I_index', 'VIII_index', 'VII_index', 'VI_index', 'V_index', 'XIII_index', 'XII_index', 'XIV_index', 'XI_index', 'X_index', 'bachelor_rate', 'born_rate', 'building_material', 'building_type', 'building_use', 'city_town', 'death_rate', 'divorce_rate', 'elementary_rate', 'highschool_rate', 'jobschool_rate', 'junior_rate', 'marriage_rate', 'master_rate', 'parking_price_isna', 'parking_way', 'txn_floor_isna']\n",
      "  'New categorical_feature is {}'.format(sorted(list(categorical_feature))))\n"
     ]
    },
    {
     "name": "stdout",
     "output_type": "stream",
     "text": [
      "[5000]\ttraining's l1: 18354.7\ttraining's rmse: 29993.7\tvalid_1's l1: 130684\tvalid_1's rmse: 278776\n",
      "Finished.\n",
      "depth : 32 leaves : 256 fraction :0.9\n",
      "first part : 5606.225420466907 last part: 0.8712025588195712\n",
      "> 20 % : 0.1934566145092461\n",
      "point :  5607.096623025726\n"
     ]
    },
    {
     "name": "stderr",
     "output_type": "stream",
     "text": [
      "/home/mmdb/conda/lib/python3.6/site-packages/lightgbm/basic.py:1209: UserWarning: categorical_feature in Dataset is overridden.\n",
      "New categorical_feature is ['III_index', 'II_index', 'IV_index', 'IX_index', 'I_index', 'VIII_index', 'VII_index', 'VI_index', 'V_index', 'XIII_index', 'XII_index', 'XIV_index', 'XI_index', 'X_index', 'bachelor_rate', 'born_rate', 'building_material', 'building_type', 'building_use', 'city_town', 'death_rate', 'divorce_rate', 'elementary_rate', 'highschool_rate', 'jobschool_rate', 'junior_rate', 'marriage_rate', 'master_rate', 'parking_price_isna', 'parking_way', 'txn_floor_isna']\n",
      "  'New categorical_feature is {}'.format(sorted(list(categorical_feature))))\n"
     ]
    },
    {
     "name": "stdout",
     "output_type": "stream",
     "text": [
      "[5000]\ttraining's l1: 18493.6\ttraining's rmse: 30359.7\tvalid_1's l1: 130589\tvalid_1's rmse: 277812\n",
      "Finished.\n",
      "depth : 32 leaves : 256 fraction :0.9\n",
      "first part : 5641.368923102668 last part: 0.8709876959280545\n",
      "> 20 % : 0.19245251443393857\n",
      "point :  5642.239910798597\n"
     ]
    },
    {
     "name": "stderr",
     "output_type": "stream",
     "text": [
      "/home/mmdb/conda/lib/python3.6/site-packages/lightgbm/basic.py:1209: UserWarning: categorical_feature in Dataset is overridden.\n",
      "New categorical_feature is ['III_index', 'II_index', 'IV_index', 'IX_index', 'I_index', 'VIII_index', 'VII_index', 'VI_index', 'V_index', 'XIII_index', 'XII_index', 'XIV_index', 'XI_index', 'X_index', 'bachelor_rate', 'born_rate', 'building_material', 'building_type', 'building_use', 'city_town', 'death_rate', 'divorce_rate', 'elementary_rate', 'highschool_rate', 'jobschool_rate', 'junior_rate', 'marriage_rate', 'master_rate', 'parking_price_isna', 'parking_way', 'txn_floor_isna']\n",
      "  'New categorical_feature is {}'.format(sorted(list(categorical_feature))))\n"
     ]
    },
    {
     "name": "stdout",
     "output_type": "stream",
     "text": [
      "[5000]\ttraining's l1: 18490\ttraining's rmse: 30267.1\tvalid_1's l1: 130688\tvalid_1's rmse: 277932\n",
      "Finished.\n",
      "depth : 32 leaves : 256 fraction :0.9\n",
      "first part : 5630.491172286838 last part: 0.871543897652986\n",
      "> 20 % : 0.19379131453434859\n",
      "point :  5631.362716184492\n"
     ]
    },
    {
     "name": "stderr",
     "output_type": "stream",
     "text": [
      "/home/mmdb/conda/lib/python3.6/site-packages/lightgbm/basic.py:1209: UserWarning: categorical_feature in Dataset is overridden.\n",
      "New categorical_feature is ['III_index', 'II_index', 'IV_index', 'IX_index', 'I_index', 'VIII_index', 'VII_index', 'VI_index', 'V_index', 'XIII_index', 'XII_index', 'XIV_index', 'XI_index', 'X_index', 'bachelor_rate', 'born_rate', 'building_material', 'building_type', 'building_use', 'city_town', 'death_rate', 'divorce_rate', 'elementary_rate', 'highschool_rate', 'jobschool_rate', 'junior_rate', 'marriage_rate', 'master_rate', 'parking_price_isna', 'parking_way', 'txn_floor_isna']\n",
      "  'New categorical_feature is {}'.format(sorted(list(categorical_feature))))\n"
     ]
    },
    {
     "name": "stdout",
     "output_type": "stream",
     "text": [
      "[5000]\ttraining's l1: 18313.7\ttraining's rmse: 30013\tvalid_1's l1: 130212\tvalid_1's rmse: 277186\n",
      "Finished.\n",
      "depth : 32 leaves : 256 fraction :0.9\n",
      "first part : 5641.368923102668 last part: 0.8715268343401522\n",
      "> 20 % : 0.1944607145845536\n",
      "point :  5642.240449937009\n"
     ]
    },
    {
     "name": "stderr",
     "output_type": "stream",
     "text": [
      "/home/mmdb/conda/lib/python3.6/site-packages/lightgbm/basic.py:1209: UserWarning: categorical_feature in Dataset is overridden.\n",
      "New categorical_feature is ['III_index', 'II_index', 'IV_index', 'IX_index', 'I_index', 'VIII_index', 'VII_index', 'VI_index', 'V_index', 'XIII_index', 'XII_index', 'XIV_index', 'XI_index', 'X_index', 'bachelor_rate', 'born_rate', 'building_material', 'building_type', 'building_use', 'city_town', 'death_rate', 'divorce_rate', 'elementary_rate', 'highschool_rate', 'jobschool_rate', 'junior_rate', 'marriage_rate', 'master_rate', 'parking_price_isna', 'parking_way', 'txn_floor_isna']\n",
      "  'New categorical_feature is {}'.format(sorted(list(categorical_feature))))\n"
     ]
    },
    {
     "name": "stdout",
     "output_type": "stream",
     "text": [
      "[5000]\ttraining's l1: 18350.3\ttraining's rmse: 30060.1\tvalid_1's l1: 130115\tvalid_1's rmse: 277088\n",
      "Finished.\n",
      "depth : 32 leaves : 256 fraction :0.9\n",
      "first part : 5662.287674671576 last part: 0.8715846851149838\n",
      "> 20 % : 0.19437703957827795\n",
      "point :  5663.15925935669\n"
     ]
    },
    {
     "name": "stderr",
     "output_type": "stream",
     "text": [
      "/home/mmdb/conda/lib/python3.6/site-packages/lightgbm/basic.py:1209: UserWarning: categorical_feature in Dataset is overridden.\n",
      "New categorical_feature is ['III_index', 'II_index', 'IV_index', 'IX_index', 'I_index', 'VIII_index', 'VII_index', 'VI_index', 'V_index', 'XIII_index', 'XII_index', 'XIV_index', 'XI_index', 'X_index', 'bachelor_rate', 'born_rate', 'building_material', 'building_type', 'building_use', 'city_town', 'death_rate', 'divorce_rate', 'elementary_rate', 'highschool_rate', 'jobschool_rate', 'junior_rate', 'marriage_rate', 'master_rate', 'parking_price_isna', 'parking_way', 'txn_floor_isna']\n",
      "  'New categorical_feature is {}'.format(sorted(list(categorical_feature))))\n"
     ]
    },
    {
     "name": "stdout",
     "output_type": "stream",
     "text": [
      "[5000]\ttraining's l1: 18539.8\ttraining's rmse: 30489.4\tvalid_1's l1: 130146\tvalid_1's rmse: 277334\n",
      "Finished.\n",
      "depth : 32 leaves : 256 fraction :0.9\n",
      "first part : 5646.389423479207 last part: 0.8713160742111611\n",
      "> 20 % : 0.19287088946531672\n",
      "point :  5647.260739553418\n"
     ]
    },
    {
     "name": "stderr",
     "output_type": "stream",
     "text": [
      "/home/mmdb/conda/lib/python3.6/site-packages/lightgbm/basic.py:1209: UserWarning: categorical_feature in Dataset is overridden.\n",
      "New categorical_feature is ['III_index', 'II_index', 'IV_index', 'IX_index', 'I_index', 'VIII_index', 'VII_index', 'VI_index', 'V_index', 'XIII_index', 'XII_index', 'XIV_index', 'XI_index', 'X_index', 'bachelor_rate', 'born_rate', 'building_material', 'building_type', 'building_use', 'city_town', 'death_rate', 'divorce_rate', 'elementary_rate', 'highschool_rate', 'jobschool_rate', 'junior_rate', 'marriage_rate', 'master_rate', 'parking_price_isna', 'parking_way', 'txn_floor_isna']\n",
      "  'New categorical_feature is {}'.format(sorted(list(categorical_feature))))\n"
     ]
    },
    {
     "name": "stdout",
     "output_type": "stream",
     "text": [
      "[5000]\ttraining's l1: 18564.9\ttraining's rmse: 30500.7\tvalid_1's l1: 130122\tvalid_1's rmse: 276449\n",
      "Finished.\n",
      "depth : 32 leaves : 256 fraction :0.9\n",
      "first part : 5640.532173039913 last part: 0.8710977673367077\n",
      "> 20 % : 0.19437703957827795\n",
      "point :  5641.403270807249\n"
     ]
    },
    {
     "name": "stderr",
     "output_type": "stream",
     "text": [
      "/home/mmdb/conda/lib/python3.6/site-packages/lightgbm/basic.py:1209: UserWarning: categorical_feature in Dataset is overridden.\n",
      "New categorical_feature is ['III_index', 'II_index', 'IV_index', 'IX_index', 'I_index', 'VIII_index', 'VII_index', 'VI_index', 'V_index', 'XIII_index', 'XII_index', 'XIV_index', 'XI_index', 'X_index', 'bachelor_rate', 'born_rate', 'building_material', 'building_type', 'building_use', 'city_town', 'death_rate', 'divorce_rate', 'elementary_rate', 'highschool_rate', 'jobschool_rate', 'junior_rate', 'marriage_rate', 'master_rate', 'parking_price_isna', 'parking_way', 'txn_floor_isna']\n",
      "  'New categorical_feature is {}'.format(sorted(list(categorical_feature))))\n"
     ]
    },
    {
     "name": "stdout",
     "output_type": "stream",
     "text": [
      "[5000]\ttraining's l1: 18607.4\ttraining's rmse: 30488.9\tvalid_1's l1: 130355\tvalid_1's rmse: 277390\n",
      "Finished.\n",
      "depth : 32 leaves : 256 fraction :0.9\n",
      "first part : 5628.817672161326 last part: 0.8711520782974924\n",
      "> 20 % : 0.19287088946531672\n",
      "point :  5629.6888242396235\n"
     ]
    },
    {
     "name": "stderr",
     "output_type": "stream",
     "text": [
      "/home/mmdb/conda/lib/python3.6/site-packages/lightgbm/basic.py:1209: UserWarning: categorical_feature in Dataset is overridden.\n",
      "New categorical_feature is ['III_index', 'II_index', 'IV_index', 'IX_index', 'I_index', 'VIII_index', 'VII_index', 'VI_index', 'V_index', 'XIII_index', 'XII_index', 'XIV_index', 'XI_index', 'X_index', 'bachelor_rate', 'born_rate', 'building_material', 'building_type', 'building_use', 'city_town', 'death_rate', 'divorce_rate', 'elementary_rate', 'highschool_rate', 'jobschool_rate', 'junior_rate', 'marriage_rate', 'master_rate', 'parking_price_isna', 'parking_way', 'txn_floor_isna']\n",
      "  'New categorical_feature is {}'.format(sorted(list(categorical_feature))))\n"
     ]
    },
    {
     "name": "stdout",
     "output_type": "stream",
     "text": [
      "[5000]\ttraining's l1: 18358.8\ttraining's rmse: 29865.8\tvalid_1's l1: 130655\tvalid_1's rmse: 278028\n",
      "Finished.\n",
      "depth : 32 leaves : 256 fraction :0.9\n",
      "first part : 5645.5526734164505 last part: 0.8709632426086666\n",
      "> 20 % : 0.19437703957827795\n",
      "point :  5646.423636659059\n"
     ]
    },
    {
     "name": "stderr",
     "output_type": "stream",
     "text": [
      "/home/mmdb/conda/lib/python3.6/site-packages/lightgbm/basic.py:1209: UserWarning: categorical_feature in Dataset is overridden.\n",
      "New categorical_feature is ['III_index', 'II_index', 'IV_index', 'IX_index', 'I_index', 'VIII_index', 'VII_index', 'VI_index', 'V_index', 'XIII_index', 'XII_index', 'XIV_index', 'XI_index', 'X_index', 'bachelor_rate', 'born_rate', 'building_material', 'building_type', 'building_use', 'city_town', 'death_rate', 'divorce_rate', 'elementary_rate', 'highschool_rate', 'jobschool_rate', 'junior_rate', 'marriage_rate', 'master_rate', 'parking_price_isna', 'parking_way', 'txn_floor_isna']\n",
      "  'New categorical_feature is {}'.format(sorted(list(categorical_feature))))\n"
     ]
    },
    {
     "name": "stdout",
     "output_type": "stream",
     "text": [
      "[5000]\ttraining's l1: 18511.3\ttraining's rmse: 30349.8\tvalid_1's l1: 130516\tvalid_1's rmse: 277213\n",
      "Finished.\n",
      "depth : 32 leaves : 256 fraction :0.9\n",
      "first part : 5619.613421471007 last part: 0.8708523016073969\n",
      "> 20 % : 0.1947954146096561\n",
      "point :  5620.484273772615\n"
     ]
    },
    {
     "name": "stderr",
     "output_type": "stream",
     "text": [
      "/home/mmdb/conda/lib/python3.6/site-packages/lightgbm/basic.py:1209: UserWarning: categorical_feature in Dataset is overridden.\n",
      "New categorical_feature is ['III_index', 'II_index', 'IV_index', 'IX_index', 'I_index', 'VIII_index', 'VII_index', 'VI_index', 'V_index', 'XIII_index', 'XII_index', 'XIV_index', 'XI_index', 'X_index', 'bachelor_rate', 'born_rate', 'building_material', 'building_type', 'building_use', 'city_town', 'death_rate', 'divorce_rate', 'elementary_rate', 'highschool_rate', 'jobschool_rate', 'junior_rate', 'marriage_rate', 'master_rate', 'parking_price_isna', 'parking_way', 'txn_floor_isna']\n",
      "  'New categorical_feature is {}'.format(sorted(list(categorical_feature))))\n"
     ]
    },
    {
     "name": "stdout",
     "output_type": "stream",
     "text": [
      "[5000]\ttraining's l1: 18463.7\ttraining's rmse: 30295.8\tvalid_1's l1: 130547\tvalid_1's rmse: 277222\n",
      "Finished.\n",
      "depth : 32 leaves : 256 fraction :0.9\n",
      "first part : 5613.756171031713 last part: 0.8709751191448054\n",
      "> 20 % : 0.19261986444648985\n",
      "point :  5614.627146150858\n"
     ]
    },
    {
     "name": "stderr",
     "output_type": "stream",
     "text": [
      "/home/mmdb/conda/lib/python3.6/site-packages/lightgbm/basic.py:1209: UserWarning: categorical_feature in Dataset is overridden.\n",
      "New categorical_feature is ['III_index', 'II_index', 'IV_index', 'IX_index', 'I_index', 'VIII_index', 'VII_index', 'VI_index', 'V_index', 'XIII_index', 'XII_index', 'XIV_index', 'XI_index', 'X_index', 'bachelor_rate', 'born_rate', 'building_material', 'building_type', 'building_use', 'city_town', 'death_rate', 'divorce_rate', 'elementary_rate', 'highschool_rate', 'jobschool_rate', 'junior_rate', 'marriage_rate', 'master_rate', 'parking_price_isna', 'parking_way', 'txn_floor_isna']\n",
      "  'New categorical_feature is {}'.format(sorted(list(categorical_feature))))\n"
     ]
    },
    {
     "name": "stdout",
     "output_type": "stream",
     "text": [
      "[5000]\ttraining's l1: 18540\ttraining's rmse: 30266\tvalid_1's l1: 130108\tvalid_1's rmse: 276772\n",
      "Finished.\n",
      "depth : 32 leaves : 256 fraction :0.9\n",
      "first part : 5631.327922349594 last part: 0.8713842690896367\n",
      "> 20 % : 0.19337293950297046\n",
      "point :  5632.199306618683\n"
     ]
    },
    {
     "name": "stderr",
     "output_type": "stream",
     "text": [
      "/home/mmdb/conda/lib/python3.6/site-packages/lightgbm/basic.py:1209: UserWarning: categorical_feature in Dataset is overridden.\n",
      "New categorical_feature is ['III_index', 'II_index', 'IV_index', 'IX_index', 'I_index', 'VIII_index', 'VII_index', 'VI_index', 'V_index', 'XIII_index', 'XII_index', 'XIV_index', 'XI_index', 'X_index', 'bachelor_rate', 'born_rate', 'building_material', 'building_type', 'building_use', 'death_rate', 'divorce_rate', 'elementary_rate', 'highschool_rate', 'jobschool_rate', 'junior_rate', 'marriage_rate', 'master_rate', 'parking_price_isna', 'parking_way', 'txn_floor_isna']\n",
      "  'New categorical_feature is {}'.format(sorted(list(categorical_feature))))\n"
     ]
    },
    {
     "name": "stdout",
     "output_type": "stream",
     "text": [
      "[5000]\ttraining's l1: 19172\ttraining's rmse: 31413.4\tvalid_1's l1: 131973\tvalid_1's rmse: 279083\n",
      "Finished.\n",
      "depth : 32 leaves : 256 fraction :0.9\n",
      "first part : 5568.571667642876 last part: 0.8670659962594348\n",
      "> 20 % : 0.1957995146849636\n",
      "point :  5569.438733639135\n"
     ]
    },
    {
     "name": "stderr",
     "output_type": "stream",
     "text": [
      "/home/mmdb/conda/lib/python3.6/site-packages/lightgbm/basic.py:1209: UserWarning: categorical_feature in Dataset is overridden.\n",
      "New categorical_feature is ['III_index', 'II_index', 'IV_index', 'IX_index', 'VIII_index', 'VII_index', 'VI_index', 'V_index', 'XIII_index', 'XII_index', 'XIV_index', 'XI_index', 'X_index', 'bachelor_rate', 'born_rate', 'building_material', 'building_type', 'building_use', 'city_town', 'death_rate', 'divorce_rate', 'elementary_rate', 'highschool_rate', 'jobschool_rate', 'junior_rate', 'marriage_rate', 'master_rate', 'parking_price_isna', 'parking_way', 'txn_floor_isna']\n",
      "  'New categorical_feature is {}'.format(sorted(list(categorical_feature))))\n"
     ]
    },
    {
     "name": "stdout",
     "output_type": "stream",
     "text": [
      "[5000]\ttraining's l1: 18415.4\ttraining's rmse: 30202.7\tvalid_1's l1: 130120\tvalid_1's rmse: 277101\n",
      "Finished.\n",
      "depth : 32 leaves : 256 fraction :0.9\n",
      "first part : 5658.940674420551 last part: 0.8713353965815009\n",
      "> 20 % : 0.19295456447159234\n",
      "point :  5659.812009817132\n"
     ]
    },
    {
     "name": "stderr",
     "output_type": "stream",
     "text": [
      "/home/mmdb/conda/lib/python3.6/site-packages/lightgbm/basic.py:1209: UserWarning: categorical_feature in Dataset is overridden.\n",
      "New categorical_feature is ['III_index', 'IV_index', 'IX_index', 'I_index', 'VIII_index', 'VII_index', 'VI_index', 'V_index', 'XIII_index', 'XII_index', 'XIV_index', 'XI_index', 'X_index', 'bachelor_rate', 'born_rate', 'building_material', 'building_type', 'building_use', 'city_town', 'death_rate', 'divorce_rate', 'elementary_rate', 'highschool_rate', 'jobschool_rate', 'junior_rate', 'marriage_rate', 'master_rate', 'parking_price_isna', 'parking_way', 'txn_floor_isna']\n",
      "  'New categorical_feature is {}'.format(sorted(list(categorical_feature))))\n"
     ]
    },
    {
     "name": "stdout",
     "output_type": "stream",
     "text": [
      "[5000]\ttraining's l1: 18524.7\ttraining's rmse: 30306.6\tvalid_1's l1: 130028\tvalid_1's rmse: 277033\n",
      "Finished.\n",
      "depth : 32 leaves : 256 fraction :0.9\n",
      "first part : 5652.246673918501 last part: 0.8715403281465479\n",
      "> 20 % : 0.1951301146347586\n",
      "point :  5653.118214246648\n"
     ]
    },
    {
     "name": "stderr",
     "output_type": "stream",
     "text": [
      "/home/mmdb/conda/lib/python3.6/site-packages/lightgbm/basic.py:1209: UserWarning: categorical_feature in Dataset is overridden.\n",
      "New categorical_feature is ['II_index', 'IV_index', 'IX_index', 'I_index', 'VIII_index', 'VII_index', 'VI_index', 'V_index', 'XIII_index', 'XII_index', 'XIV_index', 'XI_index', 'X_index', 'bachelor_rate', 'born_rate', 'building_material', 'building_type', 'building_use', 'city_town', 'death_rate', 'divorce_rate', 'elementary_rate', 'highschool_rate', 'jobschool_rate', 'junior_rate', 'marriage_rate', 'master_rate', 'parking_price_isna', 'parking_way', 'txn_floor_isna']\n",
      "  'New categorical_feature is {}'.format(sorted(list(categorical_feature))))\n"
     ]
    },
    {
     "name": "stdout",
     "output_type": "stream",
     "text": [
      "[5000]\ttraining's l1: 18344.9\ttraining's rmse: 29990.1\tvalid_1's l1: 130241\tvalid_1's rmse: 277235\n",
      "Finished.\n",
      "depth : 32 leaves : 256 fraction :0.9\n",
      "first part : 5679.022675926701 last part: 0.8715089873772155\n",
      "> 20 % : 0.1922014894151117\n",
      "point :  5679.894184914078\n"
     ]
    },
    {
     "name": "stderr",
     "output_type": "stream",
     "text": [
      "/home/mmdb/conda/lib/python3.6/site-packages/lightgbm/basic.py:1209: UserWarning: categorical_feature in Dataset is overridden.\n",
      "New categorical_feature is ['III_index', 'II_index', 'IX_index', 'I_index', 'VIII_index', 'VII_index', 'VI_index', 'V_index', 'XIII_index', 'XII_index', 'XIV_index', 'XI_index', 'X_index', 'bachelor_rate', 'born_rate', 'building_material', 'building_type', 'building_use', 'city_town', 'death_rate', 'divorce_rate', 'elementary_rate', 'highschool_rate', 'jobschool_rate', 'junior_rate', 'marriage_rate', 'master_rate', 'parking_price_isna', 'parking_way', 'txn_floor_isna']\n",
      "  'New categorical_feature is {}'.format(sorted(list(categorical_feature))))\n"
     ]
    },
    {
     "name": "stdout",
     "output_type": "stream",
     "text": [
      "[5000]\ttraining's l1: 18262.6\ttraining's rmse: 29845.6\tvalid_1's l1: 130207\tvalid_1's rmse: 276708\n",
      "Finished.\n",
      "depth : 32 leaves : 256 fraction :0.9\n",
      "first part : 5648.06292360472 last part: 0.8707640183070446\n",
      "> 20 % : 0.19404233955317546\n",
      "point :  5648.933687623027\n"
     ]
    },
    {
     "name": "stderr",
     "output_type": "stream",
     "text": [
      "/home/mmdb/conda/lib/python3.6/site-packages/lightgbm/basic.py:1209: UserWarning: categorical_feature in Dataset is overridden.\n",
      "New categorical_feature is ['III_index', 'II_index', 'IV_index', 'IX_index', 'I_index', 'VIII_index', 'VII_index', 'VI_index', 'XIII_index', 'XII_index', 'XIV_index', 'XI_index', 'X_index', 'bachelor_rate', 'born_rate', 'building_material', 'building_type', 'building_use', 'city_town', 'death_rate', 'divorce_rate', 'elementary_rate', 'highschool_rate', 'jobschool_rate', 'junior_rate', 'marriage_rate', 'master_rate', 'parking_price_isna', 'parking_way', 'txn_floor_isna']\n",
      "  'New categorical_feature is {}'.format(sorted(list(categorical_feature))))\n"
     ]
    },
    {
     "name": "stdout",
     "output_type": "stream",
     "text": [
      "[5000]\ttraining's l1: 18561.5\ttraining's rmse: 30383\tvalid_1's l1: 130608\tvalid_1's rmse: 277386\n",
      "Finished.\n",
      "depth : 32 leaves : 256 fraction :0.9\n",
      "first part : 5668.981675173625 last part: 0.8711594017770492\n",
      "> 20 % : 0.19320558949041922\n",
      "point :  5669.852834575402\n"
     ]
    },
    {
     "name": "stderr",
     "output_type": "stream",
     "text": [
      "/home/mmdb/conda/lib/python3.6/site-packages/lightgbm/basic.py:1209: UserWarning: categorical_feature in Dataset is overridden.\n",
      "New categorical_feature is ['III_index', 'II_index', 'IV_index', 'IX_index', 'I_index', 'VIII_index', 'VII_index', 'V_index', 'XIII_index', 'XII_index', 'XIV_index', 'XI_index', 'X_index', 'bachelor_rate', 'born_rate', 'building_material', 'building_type', 'building_use', 'city_town', 'death_rate', 'divorce_rate', 'elementary_rate', 'highschool_rate', 'jobschool_rate', 'junior_rate', 'marriage_rate', 'master_rate', 'parking_price_isna', 'parking_way', 'txn_floor_isna']\n",
      "  'New categorical_feature is {}'.format(sorted(list(categorical_feature))))\n"
     ]
    },
    {
     "name": "stdout",
     "output_type": "stream",
     "text": [
      "[5000]\ttraining's l1: 18299.5\ttraining's rmse: 30025\tvalid_1's l1: 130367\tvalid_1's rmse: 277380\n",
      "Finished.\n",
      "depth : 32 leaves : 256 fraction :0.9\n",
      "first part : 5608.7356706551745 last part: 0.8715960868460508\n",
      "> 20 % : 0.1935402895155217\n",
      "point :  5609.60726674202\n"
     ]
    },
    {
     "name": "stderr",
     "output_type": "stream",
     "text": [
      "/home/mmdb/conda/lib/python3.6/site-packages/lightgbm/basic.py:1209: UserWarning: categorical_feature in Dataset is overridden.\n",
      "New categorical_feature is ['III_index', 'II_index', 'IV_index', 'IX_index', 'I_index', 'VIII_index', 'VI_index', 'V_index', 'XIII_index', 'XII_index', 'XIV_index', 'XI_index', 'X_index', 'bachelor_rate', 'born_rate', 'building_material', 'building_type', 'building_use', 'city_town', 'death_rate', 'divorce_rate', 'elementary_rate', 'highschool_rate', 'jobschool_rate', 'junior_rate', 'marriage_rate', 'master_rate', 'parking_price_isna', 'parking_way', 'txn_floor_isna']\n",
      "  'New categorical_feature is {}'.format(sorted(list(categorical_feature))))\n"
     ]
    },
    {
     "name": "stdout",
     "output_type": "stream",
     "text": [
      "[5000]\ttraining's l1: 18489.2\ttraining's rmse: 30348\tvalid_1's l1: 130128\tvalid_1's rmse: 276847\n",
      "Finished.\n",
      "depth : 32 leaves : 256 fraction :0.9\n",
      "first part : 5630.491172286838 last part: 0.8712147158116961\n",
      "> 20 % : 0.19136473935235546\n",
      "point :  5631.36238700265\n"
     ]
    },
    {
     "name": "stderr",
     "output_type": "stream",
     "text": [
      "/home/mmdb/conda/lib/python3.6/site-packages/lightgbm/basic.py:1209: UserWarning: categorical_feature in Dataset is overridden.\n",
      "New categorical_feature is ['III_index', 'II_index', 'IV_index', 'IX_index', 'I_index', 'VII_index', 'VI_index', 'V_index', 'XIII_index', 'XII_index', 'XIV_index', 'XI_index', 'X_index', 'bachelor_rate', 'born_rate', 'building_material', 'building_type', 'building_use', 'city_town', 'death_rate', 'divorce_rate', 'elementary_rate', 'highschool_rate', 'jobschool_rate', 'junior_rate', 'marriage_rate', 'master_rate', 'parking_price_isna', 'parking_way', 'txn_floor_isna']\n",
      "  'New categorical_feature is {}'.format(sorted(list(categorical_feature))))\n"
     ]
    },
    {
     "name": "stdout",
     "output_type": "stream",
     "text": [
      "[5000]\ttraining's l1: 18320.9\ttraining's rmse: 29950.6\tvalid_1's l1: 130127\tvalid_1's rmse: 276928\n",
      "Finished.\n",
      "depth : 32 leaves : 256 fraction :0.9\n",
      "first part : 5627.980922098569 last part: 0.871006864475597\n",
      "> 20 % : 0.19195046439628483\n",
      "point :  5628.851928963045\n"
     ]
    },
    {
     "name": "stderr",
     "output_type": "stream",
     "text": [
      "/home/mmdb/conda/lib/python3.6/site-packages/lightgbm/basic.py:1209: UserWarning: categorical_feature in Dataset is overridden.\n",
      "New categorical_feature is ['III_index', 'II_index', 'IV_index', 'I_index', 'VIII_index', 'VII_index', 'VI_index', 'V_index', 'XIII_index', 'XII_index', 'XIV_index', 'XI_index', 'X_index', 'bachelor_rate', 'born_rate', 'building_material', 'building_type', 'building_use', 'city_town', 'death_rate', 'divorce_rate', 'elementary_rate', 'highschool_rate', 'jobschool_rate', 'junior_rate', 'marriage_rate', 'master_rate', 'parking_price_isna', 'parking_way', 'txn_floor_isna']\n",
      "  'New categorical_feature is {}'.format(sorted(list(categorical_feature))))\n"
     ]
    },
    {
     "name": "stdout",
     "output_type": "stream",
     "text": [
      "[5000]\ttraining's l1: 18400.2\ttraining's rmse: 30103.4\tvalid_1's l1: 130169\tvalid_1's rmse: 277120\n",
      "Finished.\n",
      "depth : 32 leaves : 256 fraction :0.9\n",
      "first part : 5663.9611747970885 last part: 0.8713342479154615\n",
      "> 20 % : 0.19412601455945108\n",
      "point :  5664.832509045004\n"
     ]
    },
    {
     "name": "stderr",
     "output_type": "stream",
     "text": [
      "/home/mmdb/conda/lib/python3.6/site-packages/lightgbm/basic.py:1209: UserWarning: categorical_feature in Dataset is overridden.\n",
      "New categorical_feature is ['III_index', 'II_index', 'IV_index', 'IX_index', 'I_index', 'VIII_index', 'VII_index', 'VI_index', 'V_index', 'XIII_index', 'XII_index', 'XIV_index', 'XI_index', 'bachelor_rate', 'born_rate', 'building_material', 'building_type', 'building_use', 'city_town', 'death_rate', 'divorce_rate', 'elementary_rate', 'highschool_rate', 'jobschool_rate', 'junior_rate', 'marriage_rate', 'master_rate', 'parking_price_isna', 'parking_way', 'txn_floor_isna']\n",
      "  'New categorical_feature is {}'.format(sorted(list(categorical_feature))))\n"
     ]
    },
    {
     "name": "stdout",
     "output_type": "stream",
     "text": [
      "[5000]\ttraining's l1: 18427.5\ttraining's rmse: 30226.7\tvalid_1's l1: 130031\tvalid_1's rmse: 277138\n",
      "Finished.\n",
      "depth : 32 leaves : 256 fraction :0.9\n",
      "first part : 5654.7569241067695 last part: 0.8715167323036123\n",
      "> 20 % : 0.19454438959082923\n",
      "point :  5655.628440839073\n"
     ]
    },
    {
     "name": "stderr",
     "output_type": "stream",
     "text": [
      "/home/mmdb/conda/lib/python3.6/site-packages/lightgbm/basic.py:1209: UserWarning: categorical_feature in Dataset is overridden.\n",
      "New categorical_feature is ['III_index', 'II_index', 'IV_index', 'IX_index', 'I_index', 'VIII_index', 'VII_index', 'VI_index', 'V_index', 'XIII_index', 'XII_index', 'XIV_index', 'X_index', 'bachelor_rate', 'born_rate', 'building_material', 'building_type', 'building_use', 'city_town', 'death_rate', 'divorce_rate', 'elementary_rate', 'highschool_rate', 'jobschool_rate', 'junior_rate', 'marriage_rate', 'master_rate', 'parking_price_isna', 'parking_way', 'txn_floor_isna']\n",
      "  'New categorical_feature is {}'.format(sorted(list(categorical_feature))))\n"
     ]
    },
    {
     "name": "stdout",
     "output_type": "stream",
     "text": [
      "[5000]\ttraining's l1: 18326.9\ttraining's rmse: 30002.7\tvalid_1's l1: 130101\tvalid_1's rmse: 276767\n",
      "Finished.\n",
      "depth : 32 leaves : 256 fraction :0.9\n",
      "first part : 5660.614174546064 last part: 0.8711986865966271\n",
      "> 20 % : 0.19362396452179734\n",
      "point :  5661.48537323266\n"
     ]
    },
    {
     "name": "stderr",
     "output_type": "stream",
     "text": [
      "/home/mmdb/conda/lib/python3.6/site-packages/lightgbm/basic.py:1209: UserWarning: categorical_feature in Dataset is overridden.\n",
      "New categorical_feature is ['III_index', 'II_index', 'IV_index', 'IX_index', 'I_index', 'VIII_index', 'VII_index', 'VI_index', 'V_index', 'XIII_index', 'XIV_index', 'XI_index', 'X_index', 'bachelor_rate', 'born_rate', 'building_material', 'building_type', 'building_use', 'city_town', 'death_rate', 'divorce_rate', 'elementary_rate', 'highschool_rate', 'jobschool_rate', 'junior_rate', 'marriage_rate', 'master_rate', 'parking_price_isna', 'parking_way', 'txn_floor_isna']\n",
      "  'New categorical_feature is {}'.format(sorted(list(categorical_feature))))\n"
     ]
    },
    {
     "name": "stdout",
     "output_type": "stream",
     "text": [
      "[5000]\ttraining's l1: 18322.8\ttraining's rmse: 30049.9\tvalid_1's l1: 130469\tvalid_1's rmse: 277526\n",
      "Finished.\n",
      "depth : 32 leaves : 256 fraction :0.9\n",
      "first part : 5643.879173290938 last part: 0.8712043755565083\n",
      "> 20 % : 0.19571583967868797\n",
      "point :  5644.750377666494\n"
     ]
    },
    {
     "name": "stderr",
     "output_type": "stream",
     "text": [
      "/home/mmdb/conda/lib/python3.6/site-packages/lightgbm/basic.py:1209: UserWarning: categorical_feature in Dataset is overridden.\n",
      "New categorical_feature is ['III_index', 'II_index', 'IV_index', 'IX_index', 'I_index', 'VIII_index', 'VII_index', 'VI_index', 'V_index', 'XII_index', 'XIV_index', 'XI_index', 'X_index', 'bachelor_rate', 'born_rate', 'building_material', 'building_type', 'building_use', 'city_town', 'death_rate', 'divorce_rate', 'elementary_rate', 'highschool_rate', 'jobschool_rate', 'junior_rate', 'marriage_rate', 'master_rate', 'parking_price_isna', 'parking_way', 'txn_floor_isna']\n",
      "  'New categorical_feature is {}'.format(sorted(list(categorical_feature))))\n"
     ]
    },
    {
     "name": "stdout",
     "output_type": "stream",
     "text": [
      "[5000]\ttraining's l1: 18448.5\ttraining's rmse: 30232.2\tvalid_1's l1: 130087\tvalid_1's rmse: 276689\n",
      "Finished.\n",
      "depth : 32 leaves : 256 fraction :0.9\n",
      "first part : 5648.899673667475 last part: 0.871137569818721\n",
      "> 20 % : 0.19169943937745795\n",
      "point :  5649.770811237294\n"
     ]
    },
    {
     "name": "stderr",
     "output_type": "stream",
     "text": [
      "/home/mmdb/conda/lib/python3.6/site-packages/lightgbm/basic.py:1209: UserWarning: categorical_feature in Dataset is overridden.\n",
      "New categorical_feature is ['III_index', 'II_index', 'IV_index', 'IX_index', 'I_index', 'VIII_index', 'VII_index', 'VI_index', 'V_index', 'XIII_index', 'XII_index', 'XI_index', 'X_index', 'bachelor_rate', 'born_rate', 'building_material', 'building_type', 'building_use', 'city_town', 'death_rate', 'divorce_rate', 'elementary_rate', 'highschool_rate', 'jobschool_rate', 'junior_rate', 'marriage_rate', 'master_rate', 'parking_price_isna', 'parking_way', 'txn_floor_isna']\n",
      "  'New categorical_feature is {}'.format(sorted(list(categorical_feature))))\n"
     ]
    },
    {
     "name": "stdout",
     "output_type": "stream",
     "text": [
      "[5000]\ttraining's l1: 18399.7\ttraining's rmse: 30119.9\tvalid_1's l1: 130070\tvalid_1's rmse: 276405\n",
      "Finished.\n",
      "depth : 32 leaves : 256 fraction :0.9\n",
      "first part : 5635.511672663376 last part: 0.8711198178112882\n",
      "> 20 % : 0.19337293950297046\n",
      "point :  5636.382792481188\n"
     ]
    },
    {
     "name": "stderr",
     "output_type": "stream",
     "text": [
      "/home/mmdb/conda/lib/python3.6/site-packages/lightgbm/basic.py:1209: UserWarning: categorical_feature in Dataset is overridden.\n",
      "New categorical_feature is ['III_index', 'II_index', 'IV_index', 'IX_index', 'I_index', 'VIII_index', 'VII_index', 'VI_index', 'V_index', 'XIII_index', 'XII_index', 'XIV_index', 'XI_index', 'X_index', 'bachelor_rate', 'born_rate', 'building_material', 'building_type', 'building_use', 'city_town', 'death_rate', 'divorce_rate', 'elementary_rate', 'highschool_rate', 'jobschool_rate', 'junior_rate', 'marriage_rate', 'master_rate', 'parking_way', 'txn_floor_isna']\n",
      "  'New categorical_feature is {}'.format(sorted(list(categorical_feature))))\n"
     ]
    },
    {
     "name": "stdout",
     "output_type": "stream",
     "text": [
      "[5000]\ttraining's l1: 18358.1\ttraining's rmse: 30096.6\tvalid_1's l1: 130507\tvalid_1's rmse: 277176\n",
      "Finished.\n",
      "depth : 32 leaves : 256 fraction :0.9\n",
      "first part : 5638.0219228516435 last part: 0.8710240567613738\n",
      "> 20 % : 0.19303823947786797\n",
      "point :  5638.892946908405\n"
     ]
    },
    {
     "name": "stderr",
     "output_type": "stream",
     "text": [
      "/home/mmdb/conda/lib/python3.6/site-packages/lightgbm/basic.py:1209: UserWarning: categorical_feature in Dataset is overridden.\n",
      "New categorical_feature is ['III_index', 'II_index', 'IV_index', 'IX_index', 'I_index', 'VIII_index', 'VII_index', 'VI_index', 'V_index', 'XIII_index', 'XII_index', 'XIV_index', 'XI_index', 'X_index', 'bachelor_rate', 'born_rate', 'building_material', 'building_type', 'building_use', 'city_town', 'death_rate', 'divorce_rate', 'elementary_rate', 'highschool_rate', 'jobschool_rate', 'junior_rate', 'marriage_rate', 'master_rate', 'parking_price_isna', 'parking_way']\n",
      "  'New categorical_feature is {}'.format(sorted(list(categorical_feature))))\n"
     ]
    },
    {
     "name": "stdout",
     "output_type": "stream",
     "text": [
      "[5000]\ttraining's l1: 18505.1\ttraining's rmse: 30363.1\tvalid_1's l1: 130470\tvalid_1's rmse: 277155\n",
      "Finished.\n",
      "depth : 32 leaves : 256 fraction :0.9\n",
      "first part : 5627.1441720358125 last part: 0.8711082867729291\n",
      "> 20 % : 0.19270353945276547\n",
      "point :  5628.015280322586\n"
     ]
    },
    {
     "name": "stderr",
     "output_type": "stream",
     "text": [
      "/home/mmdb/conda/lib/python3.6/site-packages/lightgbm/basic.py:1209: UserWarning: categorical_feature in Dataset is overridden.\n",
      "New categorical_feature is ['III_index', 'II_index', 'IV_index', 'IX_index', 'I_index', 'VIII_index', 'VII_index', 'VI_index', 'V_index', 'XIII_index', 'XII_index', 'XIV_index', 'XI_index', 'X_index', 'bachelor_rate', 'born_rate', 'building_material', 'building_type', 'building_use', 'city_town', 'death_rate', 'divorce_rate', 'elementary_rate', 'highschool_rate', 'jobschool_rate', 'junior_rate', 'marriage_rate', 'master_rate', 'parking_price_isna', 'parking_way', 'txn_floor_isna']\n",
      "  'New categorical_feature is {}'.format(sorted(list(categorical_feature))))\n"
     ]
    },
    {
     "name": "stdout",
     "output_type": "stream",
     "text": [
      "[5000]\ttraining's l1: 18455.9\ttraining's rmse: 30318.9\tvalid_1's l1: 130282\tvalid_1's rmse: 277509\n",
      "Finished.\n",
      "depth : 32 leaves : 256 fraction :0.9\n",
      "first part : 5644.715923353695 last part: 0.8713864200318362\n",
      "> 20 % : 0.19370763952807296\n",
      "point :  5645.587309773727\n"
     ]
    },
    {
     "name": "stderr",
     "output_type": "stream",
     "text": [
      "/home/mmdb/conda/lib/python3.6/site-packages/lightgbm/basic.py:1209: UserWarning: categorical_feature in Dataset is overridden.\n",
      "New categorical_feature is ['III_index', 'II_index', 'IV_index', 'IX_index', 'I_index', 'VIII_index', 'VII_index', 'VI_index', 'V_index', 'XIII_index', 'XII_index', 'XIV_index', 'XI_index', 'X_index', 'bachelor_rate', 'born_rate', 'building_material', 'building_type', 'building_use', 'city_town', 'death_rate', 'divorce_rate', 'elementary_rate', 'highschool_rate', 'jobschool_rate', 'junior_rate', 'marriage_rate', 'master_rate', 'parking_price_isna', 'parking_way', 'txn_floor_isna']\n",
      "  'New categorical_feature is {}'.format(sorted(list(categorical_feature))))\n"
     ]
    },
    {
     "name": "stdout",
     "output_type": "stream",
     "text": [
      "[5000]\ttraining's l1: 18409.1\ttraining's rmse: 30126.4\tvalid_1's l1: 130265\tvalid_1's rmse: 277275\n",
      "Finished.\n",
      "depth : 32 leaves : 256 fraction :0.9\n",
      "first part : 5621.286921596519 last part: 0.8715582334947661\n",
      "> 20 % : 0.19462806459710486\n",
      "point :  5622.158479830014\n"
     ]
    },
    {
     "name": "stderr",
     "output_type": "stream",
     "text": [
      "/home/mmdb/conda/lib/python3.6/site-packages/lightgbm/basic.py:1209: UserWarning: categorical_feature in Dataset is overridden.\n",
      "New categorical_feature is ['III_index', 'II_index', 'IV_index', 'IX_index', 'I_index', 'VIII_index', 'VII_index', 'VI_index', 'V_index', 'XIII_index', 'XII_index', 'XIV_index', 'XI_index', 'X_index', 'bachelor_rate', 'born_rate', 'building_material', 'building_type', 'building_use', 'city_town', 'death_rate', 'divorce_rate', 'elementary_rate', 'highschool_rate', 'jobschool_rate', 'junior_rate', 'marriage_rate', 'master_rate', 'parking_price_isna', 'parking_way', 'txn_floor_isna']\n",
      "  'New categorical_feature is {}'.format(sorted(list(categorical_feature))))\n"
     ]
    },
    {
     "name": "stdout",
     "output_type": "stream",
     "text": [
      "[5000]\ttraining's l1: 18429.9\ttraining's rmse: 30330.3\tvalid_1's l1: 130464\tvalid_1's rmse: 278196\n",
      "Finished.\n",
      "depth : 32 leaves : 256 fraction :0.9\n",
      "first part : 5673.1654254874065 last part: 0.8715047109929176\n",
      "> 20 % : 0.19287088946531672\n",
      "point :  5674.036930198399\n"
     ]
    }
   ],
   "source": [
    "dataloader = Dataloader()\n",
    "X_train, X_test, y_train, y_test = dataloader.prepare_train_data(df,size = 0.2)\n",
    "points = []\n",
    "for col in X_train.columns:\n",
    "    for col in \n",
    "    if(col != 'building_area'):\n",
    "        dataloader = Dataloader()\n",
    "        X_train, X_test, y_train, y_test = dataloader.prepare_train_data(df,size = 0.2)\n",
    "        X_train = X_train.drop(col,axis=1)\n",
    "        X_test = X_test.drop(col,axis=1)\n",
    "        ramdom_forest = RamdomForest()\n",
    "        if(col in ramdom_forest.entity_features_columns):\n",
    "            ramdom_forest.entity_features_columns.remove(col)\n",
    "        model = ramdom_forest.train_LGBM(X_train, y_train, X_test, y_test,parm,reg_alpha = 5,reg_lambda = 0)# BEST IS reg_alpha = 5 reg_lambda = 0\n",
    "        y, y_true= model.predict(X_test,y_test)\n",
    "        hit_rate,point = score(y,y_true)\n",
    "        points.append(point)\n",
    "        print(\"point : \",point)"
   ]
  },
  {
   "cell_type": "code",
   "execution_count": 4,
   "metadata": {},
   "outputs": [
    {
     "data": {
      "text/plain": [
       "[5635.545901976346,\n",
       " 5603.7495091145265,\n",
       " 5609.605963050058,\n",
       " 5607.933003362123,\n",
       " 5615.463903985507,\n",
       " 5607.0956941237955,\n",
       " 5628.851941914846,\n",
       " 5166.94961810073,\n",
       " 5474.868325019483,\n",
       " 5649.770848121061,\n",
       " 5629.688695635055,\n",
       " 5625.504410357287,\n",
       " 5622.994495586223,\n",
       " 5654.791548663825,\n",
       " 5633.036206638377,\n",
       " 5634.709263014547,\n",
       " 5639.730187164581,\n",
       " 5639.730187164581,\n",
       " 5639.730187164581,\n",
       " 5639.730187164581,\n",
       " 5639.730187164581,\n",
       " 5639.730187164581,\n",
       " 5605.42282413345,\n",
       " 5640.566763198765,\n",
       " 5617.974386938941,\n",
       " 5633.036120422799,\n",
       " 5666.506283117679,\n",
       " 5626.341861976898,\n",
       " 5638.056465107955,\n",
       " 5633.035730988331,\n",
       " 5625.505248420299,\n",
       " 5632.199129744258,\n",
       " 5648.934530921927,\n",
       " 5607.933163332266,\n",
       " 5634.709640437897,\n",
       " 5622.158281311143,\n",
       " 5632.19891269735,\n",
       " 5619.647562307976,\n",
       " 5650.60737354991,\n",
       " 5630.525261750127,\n",
       " 5652.281101359774,\n",
       " 5638.056339944325,\n",
       " 5643.913669452093,\n",
       " 5665.669593738662,\n",
       " 5637.21946057096,\n",
       " 5638.893379465895,\n",
       " 5621.321304438292,\n",
       " 5615.464241503921,\n",
       " 5644.750571305335,\n",
       " 5619.6476291270865,\n",
       " 5622.9948203196345,\n",
       " 5622.994955474408,\n",
       " 5643.076713512175,\n",
       " 5641.403237077385,\n",
       " 5663.996693896786,\n",
       " 5632.198816597926,\n",
       " 5601.2392791292295,\n",
       " 5661.4855570339005,\n",
       " 5650.607869061426,\n",
       " 5591.198077319674,\n",
       " 5613.790262191627,\n",
       " 5627.178210420522,\n",
       " 5639.730156637291,\n",
       " 5663.159061566516,\n",
       " 5671.526389616463,\n",
       " 5648.097566012233,\n",
       " 5641.403272424902,\n",
       " 5629.688506791139,\n",
       " 5658.975483795624,\n",
       " 5620.484479625131,\n",
       " 5618.811052264072,\n",
       " 5631.362422417877,\n",
       " 5637.219514063863,\n",
       " 5638.892736373407,\n",
       " 5667.342588218447,\n",
       " 5638.056326135079,\n",
       " 5637.21944896765,\n",
       " 5637.219448983575,\n",
       " 5618.810753759329,\n",
       " 5628.015299811521,\n",
       " 5627.178636330031,\n",
       " 5646.423829297973,\n",
       " 5616.300742260888,\n",
       " 5649.77107823886,\n",
       " 5617.137374402878,\n",
       " 5620.484463054386,\n",
       " 5632.199002813307,\n",
       " 5656.464968632276,\n",
       " 5625.504846892094,\n",
       " 5649.770773326827,\n",
       " 5617.13729609918,\n",
       " 5619.6478886938285,\n",
       " 5627.178813880171,\n",
       " 5627.189336898748,\n",
       " 5646.424151806804,\n",
       " 5613.7907471446915,\n",
       " 5602.912616048818,\n",
       " 5651.444448698676,\n",
       " 5655.627993320353,\n",
       " 5653.117796615997,\n",
       " 5627.178740429196,\n",
       " 5617.974345388034,\n",
       " 5647.260681149807,\n",
       " 5638.056309215188,\n",
       " 5607.0964856579885,\n",
       " 5628.852319360933,\n",
       " 5624.668509069344,\n",
       " 5658.137342576358,\n",
       " 5630.525713001168,\n",
       " 5623.831389360821,\n",
       " 5603.749589409171,\n",
       " 5648.934101649789,\n",
       " 5619.647762736298,\n",
       " 5637.219510059793,\n",
       " 5640.566887931879,\n",
       " 5620.48481065029,\n",
       " 5645.587304465802,\n",
       " 5611.280437133207,\n",
       " 5629.68843125889,\n",
       " 5657.301777488352,\n",
       " 5638.056623795416,\n",
       " 5647.260555139749,\n",
       " 5661.485343375053,\n",
       " 5650.60765455414,\n",
       " 5617.973985055867,\n",
       " 5648.097302929613,\n",
       " 5645.586842245323,\n",
       " 5623.83128483837,\n",
       " 5626.341357887118,\n",
       " 5598.728809353809,\n",
       " 5657.301889906542,\n",
       " 5633.872444647572,\n",
       " 5646.423695625746,\n",
       " 5657.301768169626,\n",
       " 5617.137237452168,\n",
       " 5651.444797451475,\n",
       " 5633.872483279666,\n",
       " 5643.913896647485,\n",
       " 5649.771013316045,\n",
       " 5658.138211262986,\n",
       " 5632.198613497948,\n",
       " 5639.729835620438,\n",
       " 5622.995117316856,\n",
       " 5634.709624708983,\n",
       " 5660.648711929875,\n",
       " 5607.096623025726,\n",
       " 5642.239910798597,\n",
       " 5631.362716184492,\n",
       " 5642.240449937009,\n",
       " 5663.15925935669,\n",
       " 5647.260739553418,\n",
       " 5641.403270807249,\n",
       " 5629.6888242396235,\n",
       " 5646.423636659059,\n",
       " 5620.484273772615,\n",
       " 5614.627146150858,\n",
       " 5632.199306618683,\n",
       " 5569.438733639135,\n",
       " 5659.812009817132,\n",
       " 5653.118214246648,\n",
       " 5679.894184914078,\n",
       " 5648.933687623027,\n",
       " 5669.852834575402,\n",
       " 5609.60726674202,\n",
       " 5631.36238700265,\n",
       " 5628.851928963045,\n",
       " 5664.832509045004,\n",
       " 5655.628440839073,\n",
       " 5661.48537323266,\n",
       " 5644.750377666494,\n",
       " 5649.770811237294,\n",
       " 5636.382792481188,\n",
       " 5638.892946908405,\n",
       " 5628.015280322586,\n",
       " 5645.587309773727,\n",
       " 5622.158479830014,\n",
       " 5674.036930198399]"
      ]
     },
     "execution_count": 4,
     "metadata": {},
     "output_type": "execute_result"
    }
   ],
   "source": [
    "points"
   ]
  },
  {
   "cell_type": "code",
   "execution_count": 5,
   "metadata": {
    "scrolled": true
   },
   "outputs": [
    {
     "data": {
      "image/png": "[encoded data removed]",
      "text/plain": [
       "<Figure size 432x288 with 1 Axes>"
      ]
     },
     "metadata": {},
     "output_type": "display_data"
    }
   ],
   "source": [
    "ax = model.plot_feature_important()"
   ]
  },
  {
   "cell_type": "code",
   "execution_count": 6,
   "metadata": {},
   "outputs": [
    {
     "data": {
      "image/png": "[encoded data removed]",
      "text/plain": [
       "<Figure size 432x288 with 1 Axes>"
      ]
     },
     "metadata": {},
     "output_type": "display_data"
    }
   ],
   "source": [
    "model.plot_loss()"
   ]
  },
  {
   "cell_type": "code",
   "execution_count": 7,
   "metadata": {},
   "outputs": [
    {
     "name": "stdout",
     "output_type": "stream",
     "text": [
      "first part : 9671.15034621258 last part: 0.9763852416647428\n",
      "> 20 % : 0.003639938915967617\n",
      "0.967115034621258\n"
     ]
    }
   ],
   "source": [
    "y, y_true= model.predict(X_train,y_train)\n",
    "hit_rate,point = score(y,y_true)\n",
    "print(hit_rate)"
   ]
  },
  {
   "cell_type": "code",
   "execution_count": 8,
   "metadata": {},
   "outputs": [
    {
     "name": "stdout",
     "output_type": "stream",
     "text": [
      "first part : 5673.1654254874065 last part: 0.8715047109929176\n",
      "> 20 % : 0.19287088946531672\n"
     ]
    }
   ],
   "source": [
    "y, y_true= model.predict(X_test,y_test)\n",
    "hit_rate,point = score(y,y_true)"
   ]
  },
  {
   "cell_type": "code",
   "execution_count": 9,
   "metadata": {},
   "outputs": [
    {
     "data": {
      "text/plain": [
       "0.5673165425487406"
      ]
     },
     "execution_count": 9,
     "metadata": {},
     "output_type": "execute_result"
    }
   ],
   "source": [
    "hit_rate"
   ]
  },
  {
   "cell_type": "code",
   "execution_count": 10,
   "metadata": {},
   "outputs": [
    {
     "ename": "ValueError",
     "evalue": "Number of features of the model must match the input. Model n_features_ is 177 and input n_features is 178 ",
     "output_type": "error",
     "traceback": [
      "\u001b[0;31m---------------------------------------------------------------------------\u001b[0m",
      "\u001b[0;31mValueError\u001b[0m                                Traceback (most recent call last)",
      "\u001b[0;32m<ipython-input-10-29e26073f093>\u001b[0m in \u001b[0;36m<module>\u001b[0;34m()\u001b[0m\n\u001b[1;32m      2\u001b[0m \u001b[0mbuild_id\u001b[0m \u001b[0;34m=\u001b[0m \u001b[0mpd\u001b[0m\u001b[0;34m.\u001b[0m\u001b[0mread_csv\u001b[0m\u001b[0;34m(\u001b[0m\u001b[0;34m\"data/submit_test.csv\"\u001b[0m\u001b[0;34m)\u001b[0m\u001b[0;34m[\u001b[0m\u001b[0;34m'building_id'\u001b[0m\u001b[0;34m]\u001b[0m\u001b[0;34m\u001b[0m\u001b[0m\n\u001b[1;32m      3\u001b[0m \u001b[0mtest_df\u001b[0m \u001b[0;34m=\u001b[0m \u001b[0mdataloader\u001b[0m\u001b[0;34m.\u001b[0m\u001b[0mprepare_test_data\u001b[0m\u001b[0;34m(\u001b[0m\u001b[0mtest_df\u001b[0m\u001b[0;34m)\u001b[0m\u001b[0;34m\u001b[0m\u001b[0m\n\u001b[0;32m----> 4\u001b[0;31m \u001b[0mtest_y\u001b[0m\u001b[0;34m,\u001b[0m \u001b[0m_\u001b[0m\u001b[0;34m=\u001b[0m \u001b[0mmodel\u001b[0m\u001b[0;34m.\u001b[0m\u001b[0mpredict\u001b[0m\u001b[0;34m(\u001b[0m\u001b[0mtest_df\u001b[0m\u001b[0;34m,\u001b[0m\u001b[0my_test\u001b[0m\u001b[0;34m)\u001b[0m\u001b[0;34m\u001b[0m\u001b[0m\n\u001b[0m\u001b[1;32m      5\u001b[0m submit_df = pd.DataFrame(data={\n\u001b[1;32m      6\u001b[0m     \u001b[0;34m'building_id'\u001b[0m \u001b[0;34m:\u001b[0m \u001b[0mbuild_id\u001b[0m\u001b[0;34m,\u001b[0m\u001b[0;34m\u001b[0m\u001b[0m\n",
      "\u001b[0;32m~/Documents/PHM2019/zames/T-brain/T-brain/estate/RamdomForest.py\u001b[0m in \u001b[0;36mpredict\u001b[0;34m(self, X_test, y_test)\u001b[0m\n\u001b[1;32m     80\u001b[0m         \u001b[0;32mreturn\u001b[0m \u001b[0mself\u001b[0m\u001b[0;34m\u001b[0m\u001b[0m\n\u001b[1;32m     81\u001b[0m     \u001b[0;32mdef\u001b[0m \u001b[0mpredict\u001b[0m\u001b[0;34m(\u001b[0m\u001b[0mself\u001b[0m\u001b[0;34m,\u001b[0m\u001b[0mX_test\u001b[0m\u001b[0;34m,\u001b[0m\u001b[0my_test\u001b[0m\u001b[0;34m)\u001b[0m\u001b[0;34m:\u001b[0m\u001b[0;34m\u001b[0m\u001b[0m\n\u001b[0;32m---> 82\u001b[0;31m         \u001b[0myhat\u001b[0m \u001b[0;34m=\u001b[0m \u001b[0mself\u001b[0m\u001b[0;34m.\u001b[0m\u001b[0mmodel\u001b[0m\u001b[0;34m.\u001b[0m\u001b[0mpredict\u001b[0m\u001b[0;34m(\u001b[0m\u001b[0mX_test\u001b[0m\u001b[0;34m)\u001b[0m\u001b[0;34m\u001b[0m\u001b[0m\n\u001b[0m\u001b[1;32m     83\u001b[0m         \u001b[0;32mreturn\u001b[0m \u001b[0myhat\u001b[0m\u001b[0;34m*\u001b[0m\u001b[0mX_test\u001b[0m\u001b[0;34m[\u001b[0m\u001b[0;34m'building_area'\u001b[0m\u001b[0;34m]\u001b[0m  \u001b[0;34m,\u001b[0m\u001b[0my_test\u001b[0m\u001b[0;34m*\u001b[0m\u001b[0mX_test\u001b[0m\u001b[0;34m[\u001b[0m\u001b[0;34m'building_area'\u001b[0m\u001b[0;34m]\u001b[0m\u001b[0;34m\u001b[0m\u001b[0m\n\u001b[1;32m     84\u001b[0m     \u001b[0;32mdef\u001b[0m \u001b[0mplot_feature_important\u001b[0m\u001b[0;34m(\u001b[0m\u001b[0mself\u001b[0m\u001b[0;34m)\u001b[0m\u001b[0;34m:\u001b[0m\u001b[0;34m\u001b[0m\u001b[0m\n",
      "\u001b[0;32m~/conda/lib/python3.6/site-packages/lightgbm/sklearn.py\u001b[0m in \u001b[0;36mpredict\u001b[0;34m(self, X, raw_score, num_iteration, pred_leaf, pred_contrib, **kwargs)\u001b[0m\n\u001b[1;32m    603\u001b[0m                              \u001b[0;34m\"match the input. Model n_features_ is %s and \"\u001b[0m\u001b[0;34m\u001b[0m\u001b[0m\n\u001b[1;32m    604\u001b[0m                              \u001b[0;34m\"input n_features is %s \"\u001b[0m\u001b[0;34m\u001b[0m\u001b[0m\n\u001b[0;32m--> 605\u001b[0;31m                              % (self._n_features, n_features))\n\u001b[0m\u001b[1;32m    606\u001b[0m         return self.booster_.predict(X, raw_score=raw_score, num_iteration=num_iteration,\n\u001b[1;32m    607\u001b[0m                                      pred_leaf=pred_leaf, pred_contrib=pred_contrib, **kwargs)\n",
      "\u001b[0;31mValueError\u001b[0m: Number of features of the model must match the input. Model n_features_ is 177 and input n_features is 178 "
     ]
    }
   ],
   "source": [
    "test_df = pd.read_csv(\"data/test.csv\")\n",
    "build_id = pd.read_csv(\"data/submit_test.csv\")['building_id']\n",
    "test_df = dataloader.prepare_test_data(test_df)\n",
    "test_y, _= model.predict(test_df,y_test)\n",
    "submit_df = pd.DataFrame(data={\n",
    "    'building_id' : build_id,\n",
    "    'total_price' : test_y\n",
    "})\n",
    "today = str(date.today())\n",
    "submit_df.to_csv(f'submits/{today}_lightgbm.csv',index = False)"
   ]
  },
  {
   "cell_type": "code",
   "execution_count": null,
   "metadata": {},
   "outputs": [],
   "source": [
    "X_test['y_predict'] = y\n",
    "X_test['y_true'] = y_true\n",
    "X_test.to_csv(\"data/X_test.csv\",index = False)\n",
    "    "
   ]
  },
  {
   "cell_type": "code",
   "execution_count": null,
   "metadata": {},
   "outputs": [],
   "source": [
    "X_train"
   ]
  },
  {
   "cell_type": "code",
   "execution_count": 19,
   "metadata": {},
   "outputs": [
    {
     "name": "stdout",
     "output_type": "stream",
     "text": [
      "['lat', 'town_area', 'master_rate', 'bachelor_rate', 'jobschool_rate', 'highschool_rate', 'junior_rate', 'elementary_rate', 'death_rate', 'N_50', 'N_1000', 'I_50', 'I_10000', 'II_10', 'II_50', 'II_100', 'II_250', 'II_1000', 'II_MIN', 'III_250', 'III_500', 'III_1000', 'III_MIN', 'IV_10', 'IV_500', 'IV_1000', 'IV_5000', 'IV_10000', 'IV_MIN', 'V_50', 'V_5000', 'V_10000', 'V_MIN', 'VI_1000', 'VI_10000', 'VII_100', 'VII_500', 'VIII_10', 'VIII_250', 'VIII_500', 'VIII_1000', 'VIII_MIN', 'IX_10', 'IX_500', 'IX_MIN', 'X_100', 'X_500', 'X_10000', 'X_MIN', 'XI_10', 'XI_50', 'XI_100', 'XI_500', 'XI_1000', 'XII_10', 'XII_100', 'XII_250', 'XII_1000', 'XII_10000', 'XII_MIN', 'XIII_10', 'XIII_100', 'XIII_1000', 'XIII_10000', 'XIV_10', 'XIV_50', 'XIV_100', 'XIV_250', 'XIV_1000', 'I_index', 'II_index', 'III_index', 'IV_index', 'V_index', 'IX_index', 'X_index', 'XI_index', 'XII_index', 'XIII_index', 'parking_price_isna', 'sell_day', 'txn_dt_mon']\n"
     ]
    }
   ],
   "source": [
    "X_train, X_test, y_train, y_test = dataloader.prepare_train_data(df,size = 0.2)\n",
    "remove_list = []\n",
    "index = 0\n",
    "for col in X_train.columns:\n",
    "    if(col != 'building_area'):\n",
    "        if(points[index] > 5638):\n",
    "             remove_list.append(col)\n",
    "        index += 1\n",
    "print(remove_list)"
   ]
  },
  {
   "cell_type": "code",
   "execution_count": 20,
   "metadata": {},
   "outputs": [
    {
     "name": "stdout",
     "output_type": "stream",
     "text": [
      "82\n"
     ]
    }
   ],
   "source": [
    "print(len(remove_list))"
   ]
  },
  {
   "cell_type": "code",
   "execution_count": 22,
   "metadata": {},
   "outputs": [
    {
     "name": "stderr",
     "output_type": "stream",
     "text": [
      "/home/mmdb/conda/lib/python3.6/site-packages/lightgbm/basic.py:1209: UserWarning: categorical_feature in Dataset is overridden.\n",
      "New categorical_feature is ['III_index', 'II_index', 'IV_index', 'IX_index', 'I_index', 'VIII_index', 'VII_index', 'VI_index', 'V_index', 'XIII_index', 'XII_index', 'XIV_index', 'XI_index', 'X_index', 'bachelor_rate', 'born_rate', 'building_material', 'building_type', 'building_use', 'city_town', 'death_rate', 'divorce_rate', 'elementary_rate', 'highschool_rate', 'jobschool_rate', 'junior_rate', 'marriage_rate', 'master_rate', 'parking_price_isna', 'parking_way', 'txn_floor_isna']\n",
      "  'New categorical_feature is {}'.format(sorted(list(categorical_feature))))\n"
     ]
    },
    {
     "name": "stdout",
     "output_type": "stream",
     "text": [
      "[5000]\ttraining's l1: 7622.89\ttraining's rmse: 15324.8\tvalid_1's l1: 129608\tvalid_1's rmse: 281166\n",
      "[10000]\ttraining's l1: 1821.97\ttraining's rmse: 5537.37\tvalid_1's l1: 129313\tvalid_1's rmse: 281437\n",
      "Finished.\n",
      "depth : 32 leaves : 512 fraction :0.7\n",
      "first part : 5697.431177307339 last part: 0.8732102462660756\n",
      "> 20 % : 0.1898585892393942\n",
      "point :  5698.304387553605\n"
     ]
    },
    {
     "name": "stderr",
     "output_type": "stream",
     "text": [
      "/home/mmdb/conda/lib/python3.6/site-packages/lightgbm/basic.py:1209: UserWarning: categorical_feature in Dataset is overridden.\n",
      "New categorical_feature is ['III_index', 'II_index', 'IV_index', 'IX_index', 'I_index', 'VIII_index', 'VII_index', 'VI_index', 'V_index', 'XIII_index', 'XII_index', 'XIV_index', 'XI_index', 'X_index', 'bachelor_rate', 'born_rate', 'building_material', 'building_type', 'building_use', 'city_town', 'death_rate', 'divorce_rate', 'elementary_rate', 'highschool_rate', 'jobschool_rate', 'junior_rate', 'marriage_rate', 'master_rate', 'parking_price_isna', 'parking_way', 'txn_floor_isna']\n",
      "  'New categorical_feature is {}'.format(sorted(list(categorical_feature))))\n"
     ]
    },
    {
     "name": "stdout",
     "output_type": "stream",
     "text": [
      "[5000]\ttraining's l1: 7685.18\ttraining's rmse: 15501.9\tvalid_1's l1: 129420\tvalid_1's rmse: 280464\n",
      "[10000]\ttraining's l1: 1841.01\ttraining's rmse: 5561.41\tvalid_1's l1: 129104\tvalid_1's rmse: 280756\n",
      "Finished.\n",
      "depth : 32 leaves : 512 fraction :0.7\n",
      "first part : 5705.798677934901 last part: 0.8738876414605192\n",
      "> 20 % : 0.18969123922684294\n",
      "point :  5706.672565576362\n"
     ]
    },
    {
     "name": "stderr",
     "output_type": "stream",
     "text": [
      "/home/mmdb/conda/lib/python3.6/site-packages/lightgbm/basic.py:1209: UserWarning: categorical_feature in Dataset is overridden.\n",
      "New categorical_feature is ['III_index', 'II_index', 'IV_index', 'IX_index', 'I_index', 'VIII_index', 'VII_index', 'VI_index', 'V_index', 'XIII_index', 'XII_index', 'XIV_index', 'XI_index', 'X_index', 'bachelor_rate', 'born_rate', 'building_material', 'building_type', 'building_use', 'city_town', 'death_rate', 'divorce_rate', 'elementary_rate', 'highschool_rate', 'jobschool_rate', 'junior_rate', 'marriage_rate', 'parking_price_isna', 'parking_way', 'txn_floor_isna']\n",
      "  'New categorical_feature is {}'.format(sorted(list(categorical_feature))))\n"
     ]
    },
    {
     "name": "stdout",
     "output_type": "stream",
     "text": [
      "[5000]\ttraining's l1: 7818.53\ttraining's rmse: 15576.1\tvalid_1's l1: 129420\tvalid_1's rmse: 280241\n",
      "[10000]\ttraining's l1: 1926.86\ttraining's rmse: 5620.97\tvalid_1's l1: 129096\tvalid_1's rmse: 280521\n",
      "Finished.\n",
      "depth : 32 leaves : 512 fraction :0.7\n",
      "first part : 5695.757677181825 last part: 0.8739606442043689\n",
      "> 20 % : 0.19027696427077231\n",
      "point :  5696.631637826029\n"
     ]
    },
    {
     "name": "stderr",
     "output_type": "stream",
     "text": [
      "/home/mmdb/conda/lib/python3.6/site-packages/lightgbm/basic.py:1209: UserWarning: categorical_feature in Dataset is overridden.\n",
      "New categorical_feature is ['III_index', 'II_index', 'IV_index', 'IX_index', 'I_index', 'VIII_index', 'VII_index', 'VI_index', 'V_index', 'XIII_index', 'XII_index', 'XIV_index', 'XI_index', 'X_index', 'born_rate', 'building_material', 'building_type', 'building_use', 'city_town', 'death_rate', 'divorce_rate', 'elementary_rate', 'highschool_rate', 'jobschool_rate', 'junior_rate', 'marriage_rate', 'master_rate', 'parking_price_isna', 'parking_way', 'txn_floor_isna']\n",
      "  'New categorical_feature is {}'.format(sorted(list(categorical_feature))))\n"
     ]
    },
    {
     "name": "stdout",
     "output_type": "stream",
     "text": [
      "[5000]\ttraining's l1: 7818.53\ttraining's rmse: 15576.1\tvalid_1's l1: 129420\tvalid_1's rmse: 280241\n",
      "[10000]\ttraining's l1: 1926.86\ttraining's rmse: 5620.97\tvalid_1's l1: 129096\tvalid_1's rmse: 280521\n",
      "Finished.\n",
      "depth : 32 leaves : 512 fraction :0.7\n",
      "first part : 5695.757677181825 last part: 0.8739606442043689\n",
      "> 20 % : 0.19027696427077231\n",
      "point :  5696.631637826029\n"
     ]
    },
    {
     "name": "stderr",
     "output_type": "stream",
     "text": [
      "/home/mmdb/conda/lib/python3.6/site-packages/lightgbm/basic.py:1209: UserWarning: categorical_feature in Dataset is overridden.\n",
      "New categorical_feature is ['III_index', 'II_index', 'IV_index', 'IX_index', 'I_index', 'VIII_index', 'VII_index', 'VI_index', 'V_index', 'XIII_index', 'XII_index', 'XIV_index', 'XI_index', 'X_index', 'bachelor_rate', 'born_rate', 'building_material', 'building_type', 'building_use', 'city_town', 'death_rate', 'divorce_rate', 'elementary_rate', 'highschool_rate', 'junior_rate', 'marriage_rate', 'master_rate', 'parking_price_isna', 'parking_way', 'txn_floor_isna']\n",
      "  'New categorical_feature is {}'.format(sorted(list(categorical_feature))))\n"
     ]
    },
    {
     "name": "stdout",
     "output_type": "stream",
     "text": [
      "[5000]\ttraining's l1: 7818.53\ttraining's rmse: 15576.1\tvalid_1's l1: 129420\tvalid_1's rmse: 280241\n",
      "[10000]\ttraining's l1: 1926.86\ttraining's rmse: 5620.97\tvalid_1's l1: 129096\tvalid_1's rmse: 280521\n",
      "Finished.\n",
      "depth : 32 leaves : 512 fraction :0.7\n",
      "first part : 5695.757677181825 last part: 0.8739606442043689\n",
      "> 20 % : 0.19027696427077231\n",
      "point :  5696.631637826029\n"
     ]
    },
    {
     "name": "stderr",
     "output_type": "stream",
     "text": [
      "/home/mmdb/conda/lib/python3.6/site-packages/lightgbm/basic.py:1209: UserWarning: categorical_feature in Dataset is overridden.\n",
      "New categorical_feature is ['III_index', 'II_index', 'IV_index', 'IX_index', 'I_index', 'VIII_index', 'VII_index', 'VI_index', 'V_index', 'XIII_index', 'XII_index', 'XIV_index', 'XI_index', 'X_index', 'bachelor_rate', 'born_rate', 'building_material', 'building_type', 'building_use', 'city_town', 'death_rate', 'divorce_rate', 'elementary_rate', 'jobschool_rate', 'junior_rate', 'marriage_rate', 'master_rate', 'parking_price_isna', 'parking_way', 'txn_floor_isna']\n",
      "  'New categorical_feature is {}'.format(sorted(list(categorical_feature))))\n"
     ]
    },
    {
     "name": "stdout",
     "output_type": "stream",
     "text": [
      "[5000]\ttraining's l1: 7818.53\ttraining's rmse: 15576.1\tvalid_1's l1: 129420\tvalid_1's rmse: 280241\n",
      "[10000]\ttraining's l1: 1926.86\ttraining's rmse: 5620.97\tvalid_1's l1: 129096\tvalid_1's rmse: 280521\n",
      "Finished.\n",
      "depth : 32 leaves : 512 fraction :0.7\n",
      "first part : 5695.757677181825 last part: 0.8739606442043689\n",
      "> 20 % : 0.19027696427077231\n",
      "point :  5696.631637826029\n"
     ]
    },
    {
     "name": "stderr",
     "output_type": "stream",
     "text": [
      "/home/mmdb/conda/lib/python3.6/site-packages/lightgbm/basic.py:1209: UserWarning: categorical_feature in Dataset is overridden.\n",
      "New categorical_feature is ['III_index', 'II_index', 'IV_index', 'IX_index', 'I_index', 'VIII_index', 'VII_index', 'VI_index', 'V_index', 'XIII_index', 'XII_index', 'XIV_index', 'XI_index', 'X_index', 'bachelor_rate', 'born_rate', 'building_material', 'building_type', 'building_use', 'city_town', 'death_rate', 'divorce_rate', 'elementary_rate', 'highschool_rate', 'jobschool_rate', 'marriage_rate', 'master_rate', 'parking_price_isna', 'parking_way', 'txn_floor_isna']\n",
      "  'New categorical_feature is {}'.format(sorted(list(categorical_feature))))\n"
     ]
    },
    {
     "name": "stdout",
     "output_type": "stream",
     "text": [
      "[5000]\ttraining's l1: 7818.53\ttraining's rmse: 15576.1\tvalid_1's l1: 129420\tvalid_1's rmse: 280241\n",
      "[10000]\ttraining's l1: 1926.86\ttraining's rmse: 5620.97\tvalid_1's l1: 129096\tvalid_1's rmse: 280521\n",
      "Finished.\n",
      "depth : 32 leaves : 512 fraction :0.7\n",
      "first part : 5695.757677181825 last part: 0.8739606442043689\n",
      "> 20 % : 0.19027696427077231\n",
      "point :  5696.631637826029\n"
     ]
    },
    {
     "name": "stderr",
     "output_type": "stream",
     "text": [
      "/home/mmdb/conda/lib/python3.6/site-packages/lightgbm/basic.py:1209: UserWarning: categorical_feature in Dataset is overridden.\n",
      "New categorical_feature is ['III_index', 'II_index', 'IV_index', 'IX_index', 'I_index', 'VIII_index', 'VII_index', 'VI_index', 'V_index', 'XIII_index', 'XII_index', 'XIV_index', 'XI_index', 'X_index', 'bachelor_rate', 'born_rate', 'building_material', 'building_type', 'building_use', 'city_town', 'death_rate', 'divorce_rate', 'highschool_rate', 'jobschool_rate', 'junior_rate', 'marriage_rate', 'master_rate', 'parking_price_isna', 'parking_way', 'txn_floor_isna']\n",
      "  'New categorical_feature is {}'.format(sorted(list(categorical_feature))))\n"
     ]
    },
    {
     "name": "stdout",
     "output_type": "stream",
     "text": [
      "[5000]\ttraining's l1: 7818.53\ttraining's rmse: 15576.1\tvalid_1's l1: 129420\tvalid_1's rmse: 280241\n",
      "[10000]\ttraining's l1: 1926.86\ttraining's rmse: 5620.97\tvalid_1's l1: 129096\tvalid_1's rmse: 280521\n",
      "Finished.\n",
      "depth : 32 leaves : 512 fraction :0.7\n",
      "first part : 5695.757677181825 last part: 0.8739606442043689\n",
      "> 20 % : 0.19027696427077231\n",
      "point :  5696.631637826029\n"
     ]
    },
    {
     "name": "stderr",
     "output_type": "stream",
     "text": [
      "/home/mmdb/conda/lib/python3.6/site-packages/lightgbm/basic.py:1209: UserWarning: categorical_feature in Dataset is overridden.\n",
      "New categorical_feature is ['III_index', 'II_index', 'IV_index', 'IX_index', 'I_index', 'VIII_index', 'VII_index', 'VI_index', 'V_index', 'XIII_index', 'XII_index', 'XIV_index', 'XI_index', 'X_index', 'bachelor_rate', 'born_rate', 'building_material', 'building_type', 'building_use', 'city_town', 'divorce_rate', 'elementary_rate', 'highschool_rate', 'jobschool_rate', 'junior_rate', 'marriage_rate', 'master_rate', 'parking_price_isna', 'parking_way', 'txn_floor_isna']\n",
      "  'New categorical_feature is {}'.format(sorted(list(categorical_feature))))\n"
     ]
    },
    {
     "name": "stdout",
     "output_type": "stream",
     "text": [
      "[5000]\ttraining's l1: 7929.31\ttraining's rmse: 15769.7\tvalid_1's l1: 129651\tvalid_1's rmse: 281042\n",
      "[10000]\ttraining's l1: 1989.28\ttraining's rmse: 5750.76\tvalid_1's l1: 129299\tvalid_1's rmse: 281318\n",
      "Finished.\n",
      "depth : 32 leaves : 512 fraction :0.7\n",
      "first part : 5697.431177307339 last part: 0.8738788397340872\n",
      "> 20 % : 0.18935653920174045\n",
      "point :  5698.305056147073\n"
     ]
    },
    {
     "name": "stderr",
     "output_type": "stream",
     "text": [
      "/home/mmdb/conda/lib/python3.6/site-packages/lightgbm/basic.py:1209: UserWarning: categorical_feature in Dataset is overridden.\n",
      "New categorical_feature is ['III_index', 'II_index', 'IV_index', 'IX_index', 'I_index', 'VIII_index', 'VII_index', 'VI_index', 'V_index', 'XIII_index', 'XII_index', 'XIV_index', 'XI_index', 'X_index', 'bachelor_rate', 'born_rate', 'building_material', 'building_type', 'building_use', 'city_town', 'death_rate', 'divorce_rate', 'elementary_rate', 'highschool_rate', 'jobschool_rate', 'junior_rate', 'marriage_rate', 'master_rate', 'parking_price_isna', 'parking_way', 'txn_floor_isna']\n",
      "  'New categorical_feature is {}'.format(sorted(list(categorical_feature))))\n"
     ]
    },
    {
     "name": "stdout",
     "output_type": "stream",
     "text": [
      "[5000]\ttraining's l1: 7838.75\ttraining's rmse: 15572.3\tvalid_1's l1: 129533\tvalid_1's rmse: 281050\n",
      "[10000]\ttraining's l1: 1975.42\ttraining's rmse: 5735.98\tvalid_1's l1: 129199\tvalid_1's rmse: 281350\n",
      "Finished.\n",
      "depth : 32 leaves : 512 fraction :0.7\n",
      "first part : 5704.125177809388 last part: 0.8739123140055631\n",
      "> 20 % : 0.19002593925194544\n",
      "point :  5704.999090123394\n"
     ]
    },
    {
     "name": "stderr",
     "output_type": "stream",
     "text": [
      "/home/mmdb/conda/lib/python3.6/site-packages/lightgbm/basic.py:1209: UserWarning: categorical_feature in Dataset is overridden.\n",
      "New categorical_feature is ['III_index', 'II_index', 'IV_index', 'IX_index', 'I_index', 'VIII_index', 'VII_index', 'VI_index', 'V_index', 'XIII_index', 'XII_index', 'XIV_index', 'XI_index', 'X_index', 'bachelor_rate', 'born_rate', 'building_material', 'building_type', 'building_use', 'city_town', 'death_rate', 'divorce_rate', 'elementary_rate', 'highschool_rate', 'jobschool_rate', 'junior_rate', 'marriage_rate', 'master_rate', 'parking_price_isna', 'parking_way', 'txn_floor_isna']\n",
      "  'New categorical_feature is {}'.format(sorted(list(categorical_feature))))\n"
     ]
    },
    {
     "name": "stdout",
     "output_type": "stream",
     "text": [
      "[5000]\ttraining's l1: 7750.24\ttraining's rmse: 15548.2\tvalid_1's l1: 129704\tvalid_1's rmse: 281172\n",
      "[10000]\ttraining's l1: 1966.45\ttraining's rmse: 5715.72\tvalid_1's l1: 129400\tvalid_1's rmse: 281485\n",
      "Finished.\n",
      "depth : 32 leaves : 512 fraction :0.7\n",
      "first part : 5699.1046774328515 last part: 0.8738110940869169\n",
      "> 20 % : 0.18726466404484982\n",
      "point :  5699.978488526938\n"
     ]
    },
    {
     "name": "stderr",
     "output_type": "stream",
     "text": [
      "/home/mmdb/conda/lib/python3.6/site-packages/lightgbm/basic.py:1209: UserWarning: categorical_feature in Dataset is overridden.\n",
      "New categorical_feature is ['III_index', 'II_index', 'IV_index', 'IX_index', 'I_index', 'VIII_index', 'VII_index', 'VI_index', 'V_index', 'XIII_index', 'XII_index', 'XIV_index', 'XI_index', 'X_index', 'bachelor_rate', 'born_rate', 'building_material', 'building_type', 'building_use', 'city_town', 'death_rate', 'divorce_rate', 'elementary_rate', 'highschool_rate', 'jobschool_rate', 'junior_rate', 'marriage_rate', 'master_rate', 'parking_price_isna', 'parking_way', 'txn_floor_isna']\n",
      "  'New categorical_feature is {}'.format(sorted(list(categorical_feature))))\n"
     ]
    },
    {
     "name": "stdout",
     "output_type": "stream",
     "text": [
      "[5000]\ttraining's l1: 7914.04\ttraining's rmse: 15793.2\tvalid_1's l1: 129661\tvalid_1's rmse: 281042\n",
      "[10000]\ttraining's l1: 2005.62\ttraining's rmse: 5817.14\tvalid_1's l1: 129343\tvalid_1's rmse: 281330\n",
      "Finished.\n",
      "depth : 32 leaves : 512 fraction :0.7\n",
      "first part : 5717.513178813488 last part: 0.8738129084151735\n",
      "> 20 % : 0.1908626893147017\n",
      "point :  5718.386991721903\n"
     ]
    },
    {
     "name": "stderr",
     "output_type": "stream",
     "text": [
      "/home/mmdb/conda/lib/python3.6/site-packages/lightgbm/basic.py:1209: UserWarning: categorical_feature in Dataset is overridden.\n",
      "New categorical_feature is ['III_index', 'II_index', 'IV_index', 'IX_index', 'I_index', 'VIII_index', 'VII_index', 'VI_index', 'V_index', 'XIII_index', 'XII_index', 'XIV_index', 'XI_index', 'X_index', 'bachelor_rate', 'born_rate', 'building_material', 'building_type', 'building_use', 'city_town', 'death_rate', 'divorce_rate', 'elementary_rate', 'highschool_rate', 'jobschool_rate', 'junior_rate', 'marriage_rate', 'master_rate', 'parking_price_isna', 'parking_way', 'txn_floor_isna']\n",
      "  'New categorical_feature is {}'.format(sorted(list(categorical_feature))))\n"
     ]
    },
    {
     "name": "stdout",
     "output_type": "stream",
     "text": [
      "[5000]\ttraining's l1: 7764.66\ttraining's rmse: 15547.2\tvalid_1's l1: 129432\tvalid_1's rmse: 281113\n",
      "[10000]\ttraining's l1: 1881.83\ttraining's rmse: 5597.48\tvalid_1's l1: 129112\tvalid_1's rmse: 281355\n",
      "Finished.\n",
      "depth : 32 leaves : 512 fraction :0.7\n",
      "first part : 5704.961927872144 last part: 0.8740438942114128\n",
      "> 20 % : 0.1901932892644967\n",
      "point :  5705.835971766355\n"
     ]
    },
    {
     "name": "stderr",
     "output_type": "stream",
     "text": [
      "/home/mmdb/conda/lib/python3.6/site-packages/lightgbm/basic.py:1209: UserWarning: categorical_feature in Dataset is overridden.\n",
      "New categorical_feature is ['III_index', 'II_index', 'IV_index', 'IX_index', 'I_index', 'VIII_index', 'VII_index', 'VI_index', 'V_index', 'XIII_index', 'XII_index', 'XIV_index', 'XI_index', 'X_index', 'bachelor_rate', 'born_rate', 'building_material', 'building_type', 'building_use', 'city_town', 'death_rate', 'divorce_rate', 'elementary_rate', 'highschool_rate', 'jobschool_rate', 'junior_rate', 'marriage_rate', 'master_rate', 'parking_price_isna', 'parking_way', 'txn_floor_isna']\n",
      "  'New categorical_feature is {}'.format(sorted(list(categorical_feature))))\n"
     ]
    },
    {
     "name": "stdout",
     "output_type": "stream",
     "text": [
      "[5000]\ttraining's l1: 7769.3\ttraining's rmse: 15569.3\tvalid_1's l1: 129551\tvalid_1's rmse: 280800\n",
      "[10000]\ttraining's l1: 1826.46\ttraining's rmse: 5561.12\tvalid_1's l1: 129236\tvalid_1's rmse: 281110\n",
      "Finished.\n",
      "depth : 32 leaves : 512 fraction :0.7\n",
      "first part : 5715.00292862522 last part: 0.8734035751707885\n",
      "> 20 % : 0.19169943937745795\n",
      "point :  5715.876332200391\n"
     ]
    },
    {
     "name": "stderr",
     "output_type": "stream",
     "text": [
      "/home/mmdb/conda/lib/python3.6/site-packages/lightgbm/basic.py:1209: UserWarning: categorical_feature in Dataset is overridden.\n",
      "New categorical_feature is ['III_index', 'II_index', 'IV_index', 'IX_index', 'I_index', 'VIII_index', 'VII_index', 'VI_index', 'V_index', 'XIII_index', 'XII_index', 'XIV_index', 'XI_index', 'X_index', 'bachelor_rate', 'born_rate', 'building_material', 'building_type', 'building_use', 'city_town', 'death_rate', 'divorce_rate', 'elementary_rate', 'highschool_rate', 'jobschool_rate', 'junior_rate', 'marriage_rate', 'master_rate', 'parking_price_isna', 'parking_way', 'txn_floor_isna']\n",
      "  'New categorical_feature is {}'.format(sorted(list(categorical_feature))))\n"
     ]
    },
    {
     "name": "stdout",
     "output_type": "stream",
     "text": [
      "[5000]\ttraining's l1: 7761.71\ttraining's rmse: 15581.6\tvalid_1's l1: 129675\tvalid_1's rmse: 280539\n",
      "[10000]\ttraining's l1: 1916.97\ttraining's rmse: 5673.48\tvalid_1's l1: 129356\tvalid_1's rmse: 280797\n",
      "Finished.\n",
      "depth : 32 leaves : 512 fraction :0.7\n",
      "first part : 5712.492678436951 last part: 0.8738205820169243\n",
      "> 20 % : 0.18960756422056732\n",
      "point :  5713.366499018968\n"
     ]
    },
    {
     "name": "stderr",
     "output_type": "stream",
     "text": [
      "/home/mmdb/conda/lib/python3.6/site-packages/lightgbm/basic.py:1209: UserWarning: categorical_feature in Dataset is overridden.\n",
      "New categorical_feature is ['III_index', 'II_index', 'IV_index', 'IX_index', 'I_index', 'VIII_index', 'VII_index', 'VI_index', 'V_index', 'XIII_index', 'XII_index', 'XIV_index', 'XI_index', 'X_index', 'bachelor_rate', 'born_rate', 'building_material', 'building_type', 'building_use', 'city_town', 'death_rate', 'divorce_rate', 'elementary_rate', 'highschool_rate', 'jobschool_rate', 'junior_rate', 'marriage_rate', 'master_rate', 'parking_price_isna', 'parking_way', 'txn_floor_isna']\n",
      "  'New categorical_feature is {}'.format(sorted(list(categorical_feature))))\n"
     ]
    },
    {
     "name": "stdout",
     "output_type": "stream",
     "text": [
      "[5000]\ttraining's l1: 7724.23\ttraining's rmse: 15454.8\tvalid_1's l1: 129952\tvalid_1's rmse: 281462\n",
      "[10000]\ttraining's l1: 1915.61\ttraining's rmse: 5670.37\tvalid_1's l1: 129644\tvalid_1's rmse: 281718\n",
      "Finished.\n",
      "depth : 32 leaves : 512 fraction :0.7\n",
      "first part : 5725.880679441051 last part: 0.8738233507686375\n",
      "> 20 % : 0.18851978913898418\n",
      "point :  5726.7545027918195\n"
     ]
    },
    {
     "name": "stderr",
     "output_type": "stream",
     "text": [
      "/home/mmdb/conda/lib/python3.6/site-packages/lightgbm/basic.py:1209: UserWarning: categorical_feature in Dataset is overridden.\n",
      "New categorical_feature is ['III_index', 'II_index', 'IV_index', 'IX_index', 'I_index', 'VIII_index', 'VII_index', 'VI_index', 'V_index', 'XIII_index', 'XII_index', 'XIV_index', 'XI_index', 'X_index', 'bachelor_rate', 'born_rate', 'building_material', 'building_type', 'building_use', 'city_town', 'death_rate', 'divorce_rate', 'elementary_rate', 'highschool_rate', 'jobschool_rate', 'junior_rate', 'marriage_rate', 'master_rate', 'parking_price_isna', 'parking_way', 'txn_floor_isna']\n",
      "  'New categorical_feature is {}'.format(sorted(list(categorical_feature))))\n"
     ]
    },
    {
     "name": "stdout",
     "output_type": "stream",
     "text": [
      "[5000]\ttraining's l1: 7649.91\ttraining's rmse: 15446.5\tvalid_1's l1: 129680\tvalid_1's rmse: 280960\n",
      "[10000]\ttraining's l1: 1788.8\ttraining's rmse: 5481.74\tvalid_1's l1: 129356\tvalid_1's rmse: 281190\n",
      "Finished.\n",
      "depth : 32 leaves : 512 fraction :0.7\n",
      "first part : 5720.023429001757 last part: 0.8738465747651374\n",
      "> 20 % : 0.18810141410760606\n",
      "point :  5720.897275576522\n"
     ]
    },
    {
     "name": "stderr",
     "output_type": "stream",
     "text": [
      "/home/mmdb/conda/lib/python3.6/site-packages/lightgbm/basic.py:1209: UserWarning: categorical_feature in Dataset is overridden.\n",
      "New categorical_feature is ['III_index', 'II_index', 'IV_index', 'IX_index', 'I_index', 'VIII_index', 'VII_index', 'VI_index', 'V_index', 'XIII_index', 'XII_index', 'XIV_index', 'XI_index', 'X_index', 'bachelor_rate', 'born_rate', 'building_material', 'building_type', 'building_use', 'city_town', 'death_rate', 'divorce_rate', 'elementary_rate', 'highschool_rate', 'jobschool_rate', 'junior_rate', 'marriage_rate', 'master_rate', 'parking_price_isna', 'parking_way', 'txn_floor_isna']\n",
      "  'New categorical_feature is {}'.format(sorted(list(categorical_feature))))\n"
     ]
    },
    {
     "name": "stdout",
     "output_type": "stream",
     "text": [
      "[5000]\ttraining's l1: 8054.41\ttraining's rmse: 15983\tvalid_1's l1: 129702\tvalid_1's rmse: 281629\n",
      "[10000]\ttraining's l1: 2060.74\ttraining's rmse: 5846.82\tvalid_1's l1: 129367\tvalid_1's rmse: 281943\n",
      "Finished.\n",
      "depth : 32 leaves : 512 fraction :0.7\n",
      "first part : 5694.920927119069 last part: 0.873884823186267\n",
      "> 20 % : 0.18801773910133043\n",
      "point :  5695.794811942255\n"
     ]
    },
    {
     "name": "stderr",
     "output_type": "stream",
     "text": [
      "/home/mmdb/conda/lib/python3.6/site-packages/lightgbm/basic.py:1209: UserWarning: categorical_feature in Dataset is overridden.\n",
      "New categorical_feature is ['III_index', 'II_index', 'IV_index', 'IX_index', 'I_index', 'VIII_index', 'VII_index', 'VI_index', 'V_index', 'XIII_index', 'XII_index', 'XIV_index', 'XI_index', 'X_index', 'bachelor_rate', 'born_rate', 'building_material', 'building_type', 'building_use', 'city_town', 'death_rate', 'divorce_rate', 'elementary_rate', 'highschool_rate', 'jobschool_rate', 'junior_rate', 'marriage_rate', 'master_rate', 'parking_price_isna', 'parking_way', 'txn_floor_isna']\n",
      "  'New categorical_feature is {}'.format(sorted(list(categorical_feature))))\n"
     ]
    },
    {
     "name": "stdout",
     "output_type": "stream",
     "text": [
      "[5000]\ttraining's l1: 7909.75\ttraining's rmse: 15695.1\tvalid_1's l1: 129548\tvalid_1's rmse: 281190\n",
      "[10000]\ttraining's l1: 1967.26\ttraining's rmse: 5673.81\tvalid_1's l1: 129256\tvalid_1's rmse: 281513\n",
      "Finished.\n",
      "depth : 32 leaves : 512 fraction :0.7\n",
      "first part : 5726.717429503807 last part: 0.8741894275163861\n",
      "> 20 % : 0.18851978913898418\n",
      "point :  5727.591618931323\n"
     ]
    },
    {
     "name": "stderr",
     "output_type": "stream",
     "text": [
      "/home/mmdb/conda/lib/python3.6/site-packages/lightgbm/basic.py:1209: UserWarning: categorical_feature in Dataset is overridden.\n",
      "New categorical_feature is ['III_index', 'II_index', 'IV_index', 'IX_index', 'I_index', 'VIII_index', 'VII_index', 'VI_index', 'V_index', 'XIII_index', 'XII_index', 'XIV_index', 'XI_index', 'X_index', 'bachelor_rate', 'born_rate', 'building_material', 'building_type', 'building_use', 'city_town', 'death_rate', 'divorce_rate', 'elementary_rate', 'highschool_rate', 'jobschool_rate', 'junior_rate', 'marriage_rate', 'master_rate', 'parking_price_isna', 'parking_way', 'txn_floor_isna']\n",
      "  'New categorical_feature is {}'.format(sorted(list(categorical_feature))))\n"
     ]
    },
    {
     "name": "stdout",
     "output_type": "stream",
     "text": [
      "[5000]\ttraining's l1: 7757.57\ttraining's rmse: 15530.1\tvalid_1's l1: 129782\tvalid_1's rmse: 281904\n",
      "[10000]\ttraining's l1: 1966.13\ttraining's rmse: 5688.75\tvalid_1's l1: 129472\tvalid_1's rmse: 282192\n",
      "Finished.\n",
      "depth : 32 leaves : 512 fraction :0.7\n",
      "first part : 5724.207179315538 last part: 0.8738765092927044\n",
      "> 20 % : 0.1918667893900092\n",
      "point :  5725.081055824831\n"
     ]
    },
    {
     "name": "stderr",
     "output_type": "stream",
     "text": [
      "/home/mmdb/conda/lib/python3.6/site-packages/lightgbm/basic.py:1209: UserWarning: categorical_feature in Dataset is overridden.\n",
      "New categorical_feature is ['III_index', 'II_index', 'IV_index', 'IX_index', 'I_index', 'VIII_index', 'VII_index', 'VI_index', 'V_index', 'XIII_index', 'XII_index', 'XIV_index', 'XI_index', 'X_index', 'bachelor_rate', 'born_rate', 'building_material', 'building_type', 'building_use', 'city_town', 'death_rate', 'divorce_rate', 'elementary_rate', 'highschool_rate', 'jobschool_rate', 'junior_rate', 'marriage_rate', 'master_rate', 'parking_price_isna', 'parking_way', 'txn_floor_isna']\n",
      "  'New categorical_feature is {}'.format(sorted(list(categorical_feature))))\n"
     ]
    },
    {
     "name": "stdout",
     "output_type": "stream",
     "text": [
      "[5000]\ttraining's l1: 7722.27\ttraining's rmse: 15497.9\tvalid_1's l1: 129664\tvalid_1's rmse: 280821\n",
      "[10000]\ttraining's l1: 1843.17\ttraining's rmse: 5525.07\tvalid_1's l1: 129315\tvalid_1's rmse: 281117\n",
      "Finished.\n",
      "depth : 32 leaves : 512 fraction :0.7\n",
      "first part : 5707.472178060413 last part: 0.8734809874763858\n",
      "> 20 % : 0.1891891891891892\n",
      "point :  5708.34565904789\n"
     ]
    },
    {
     "name": "stderr",
     "output_type": "stream",
     "text": [
      "/home/mmdb/conda/lib/python3.6/site-packages/lightgbm/basic.py:1209: UserWarning: categorical_feature in Dataset is overridden.\n",
      "New categorical_feature is ['III_index', 'II_index', 'IV_index', 'IX_index', 'I_index', 'VIII_index', 'VII_index', 'VI_index', 'V_index', 'XIII_index', 'XII_index', 'XIV_index', 'XI_index', 'X_index', 'bachelor_rate', 'born_rate', 'building_material', 'building_type', 'building_use', 'city_town', 'death_rate', 'divorce_rate', 'elementary_rate', 'highschool_rate', 'jobschool_rate', 'junior_rate', 'marriage_rate', 'master_rate', 'parking_price_isna', 'parking_way', 'txn_floor_isna']\n",
      "  'New categorical_feature is {}'.format(sorted(list(categorical_feature))))\n"
     ]
    },
    {
     "name": "stdout",
     "output_type": "stream",
     "text": [
      "[5000]\ttraining's l1: 7589.73\ttraining's rmse: 15242.5\tvalid_1's l1: 129686\tvalid_1's rmse: 281633\n",
      "[10000]\ttraining's l1: 1797.08\ttraining's rmse: 5478.95\tvalid_1's l1: 129355\tvalid_1's rmse: 281961\n",
      "Finished.\n",
      "depth : 32 leaves : 512 fraction :0.7\n",
      "first part : 5735.08493013137 last part: 0.870815581543873\n",
      "> 20 % : 0.18877081415781105\n",
      "point :  5735.955745712914\n"
     ]
    },
    {
     "name": "stderr",
     "output_type": "stream",
     "text": [
      "/home/mmdb/conda/lib/python3.6/site-packages/lightgbm/basic.py:1209: UserWarning: categorical_feature in Dataset is overridden.\n",
      "New categorical_feature is ['III_index', 'II_index', 'IV_index', 'IX_index', 'I_index', 'VIII_index', 'VII_index', 'VI_index', 'V_index', 'XIII_index', 'XII_index', 'XIV_index', 'XI_index', 'X_index', 'bachelor_rate', 'born_rate', 'building_material', 'building_type', 'building_use', 'city_town', 'death_rate', 'divorce_rate', 'elementary_rate', 'highschool_rate', 'jobschool_rate', 'junior_rate', 'marriage_rate', 'master_rate', 'parking_price_isna', 'parking_way', 'txn_floor_isna']\n",
      "  'New categorical_feature is {}'.format(sorted(list(categorical_feature))))\n"
     ]
    },
    {
     "name": "stdout",
     "output_type": "stream",
     "text": [
      "[5000]\ttraining's l1: 7770.63\ttraining's rmse: 15478.9\tvalid_1's l1: 129488\tvalid_1's rmse: 280972\n",
      "[10000]\ttraining's l1: 1907.84\ttraining's rmse: 5648.56\tvalid_1's l1: 129153\tvalid_1's rmse: 281243\n",
      "Finished.\n",
      "depth : 32 leaves : 512 fraction :0.7\n",
      "first part : 5718.349928876245 last part: 0.87402591936854\n",
      "> 20 % : 0.18902183917663795\n",
      "point :  5719.223954795613\n"
     ]
    },
    {
     "name": "stderr",
     "output_type": "stream",
     "text": [
      "/home/mmdb/conda/lib/python3.6/site-packages/lightgbm/basic.py:1209: UserWarning: categorical_feature in Dataset is overridden.\n",
      "New categorical_feature is ['III_index', 'II_index', 'IV_index', 'IX_index', 'I_index', 'VIII_index', 'VII_index', 'VI_index', 'V_index', 'XIII_index', 'XII_index', 'XIV_index', 'XI_index', 'X_index', 'bachelor_rate', 'born_rate', 'building_material', 'building_type', 'building_use', 'city_town', 'death_rate', 'divorce_rate', 'elementary_rate', 'highschool_rate', 'jobschool_rate', 'junior_rate', 'marriage_rate', 'master_rate', 'parking_price_isna', 'parking_way', 'txn_floor_isna']\n",
      "  'New categorical_feature is {}'.format(sorted(list(categorical_feature))))\n"
     ]
    },
    {
     "name": "stdout",
     "output_type": "stream",
     "text": [
      "[5000]\ttraining's l1: 7749.66\ttraining's rmse: 15583.3\tvalid_1's l1: 129565\tvalid_1's rmse: 281205\n",
      "[10000]\ttraining's l1: 1945.04\ttraining's rmse: 5689.69\tvalid_1's l1: 129242\tvalid_1's rmse: 281500\n",
      "Finished.\n",
      "depth : 32 leaves : 512 fraction :0.7\n",
      "first part : 5744.289180821689 last part: 0.8735896813057962\n",
      "> 20 % : 0.18835243912643293\n",
      "point :  5745.162770502995\n"
     ]
    },
    {
     "name": "stderr",
     "output_type": "stream",
     "text": [
      "/home/mmdb/conda/lib/python3.6/site-packages/lightgbm/basic.py:1209: UserWarning: categorical_feature in Dataset is overridden.\n",
      "New categorical_feature is ['III_index', 'II_index', 'IV_index', 'IX_index', 'I_index', 'VIII_index', 'VII_index', 'VI_index', 'V_index', 'XIII_index', 'XII_index', 'XIV_index', 'XI_index', 'X_index', 'bachelor_rate', 'born_rate', 'building_material', 'building_type', 'building_use', 'city_town', 'death_rate', 'divorce_rate', 'elementary_rate', 'highschool_rate', 'jobschool_rate', 'junior_rate', 'marriage_rate', 'master_rate', 'parking_price_isna', 'parking_way', 'txn_floor_isna']\n",
      "  'New categorical_feature is {}'.format(sorted(list(categorical_feature))))\n"
     ]
    },
    {
     "name": "stdout",
     "output_type": "stream",
     "text": [
      "[5000]\ttraining's l1: 7678.94\ttraining's rmse: 15375.1\tvalid_1's l1: 129765\tvalid_1's rmse: 282056\n",
      "[10000]\ttraining's l1: 1946.74\ttraining's rmse: 5652.01\tvalid_1's l1: 129422\tvalid_1's rmse: 282339\n",
      "Finished.\n",
      "depth : 32 leaves : 512 fraction :0.7\n",
      "first part : 5717.513178813488 last part: 0.8740377674814646\n",
      "> 20 % : 0.1905279892895992\n",
      "point :  5718.387216580969\n"
     ]
    },
    {
     "name": "stderr",
     "output_type": "stream",
     "text": [
      "/home/mmdb/conda/lib/python3.6/site-packages/lightgbm/basic.py:1209: UserWarning: categorical_feature in Dataset is overridden.\n",
      "New categorical_feature is ['III_index', 'II_index', 'IV_index', 'IX_index', 'I_index', 'VIII_index', 'VII_index', 'VI_index', 'V_index', 'XIII_index', 'XII_index', 'XIV_index', 'XI_index', 'X_index', 'bachelor_rate', 'born_rate', 'building_material', 'building_type', 'building_use', 'city_town', 'death_rate', 'divorce_rate', 'elementary_rate', 'highschool_rate', 'jobschool_rate', 'junior_rate', 'marriage_rate', 'master_rate', 'parking_price_isna', 'parking_way', 'txn_floor_isna']\n",
      "  'New categorical_feature is {}'.format(sorted(list(categorical_feature))))\n"
     ]
    },
    {
     "name": "stdout",
     "output_type": "stream",
     "text": [
      "[5000]\ttraining's l1: 7408.24\ttraining's rmse: 14959.6\tvalid_1's l1: 129634\tvalid_1's rmse: 280962\n",
      "[10000]\ttraining's l1: 1797.86\ttraining's rmse: 5482.88\tvalid_1's l1: 129337\tvalid_1's rmse: 281238\n",
      "Finished.\n",
      "depth : 32 leaves : 512 fraction :0.7\n",
      "first part : 5733.411430005857 last part: 0.8741734786130686\n",
      "> 20 % : 0.1908626893147017\n",
      "point :  5734.28560348447\n"
     ]
    },
    {
     "name": "stderr",
     "output_type": "stream",
     "text": [
      "/home/mmdb/conda/lib/python3.6/site-packages/lightgbm/basic.py:1209: UserWarning: categorical_feature in Dataset is overridden.\n",
      "New categorical_feature is ['III_index', 'II_index', 'IV_index', 'IX_index', 'I_index', 'VIII_index', 'VII_index', 'VI_index', 'V_index', 'XIII_index', 'XII_index', 'XIV_index', 'XI_index', 'X_index', 'bachelor_rate', 'born_rate', 'building_material', 'building_type', 'building_use', 'city_town', 'death_rate', 'divorce_rate', 'elementary_rate', 'highschool_rate', 'jobschool_rate', 'junior_rate', 'marriage_rate', 'master_rate', 'parking_price_isna', 'parking_way', 'txn_floor_isna']\n",
      "  'New categorical_feature is {}'.format(sorted(list(categorical_feature))))\n"
     ]
    },
    {
     "name": "stdout",
     "output_type": "stream",
     "text": [
      "[5000]\ttraining's l1: 7801.1\ttraining's rmse: 15506.8\tvalid_1's l1: 129575\tvalid_1's rmse: 281631\n",
      "[10000]\ttraining's l1: 1861.87\ttraining's rmse: 5514.95\tvalid_1's l1: 129232\tvalid_1's rmse: 281930\n",
      "Finished.\n",
      "depth : 32 leaves : 512 fraction :0.7\n",
      "first part : 5714.166178562463 last part: 0.8739512413007046\n",
      "> 20 % : 0.18868713915153543\n",
      "point :  5715.040129803763\n"
     ]
    },
    {
     "name": "stderr",
     "output_type": "stream",
     "text": [
      "/home/mmdb/conda/lib/python3.6/site-packages/lightgbm/basic.py:1209: UserWarning: categorical_feature in Dataset is overridden.\n",
      "New categorical_feature is ['III_index', 'II_index', 'IV_index', 'IX_index', 'I_index', 'VIII_index', 'VII_index', 'VI_index', 'V_index', 'XIII_index', 'XII_index', 'XIV_index', 'XI_index', 'X_index', 'bachelor_rate', 'born_rate', 'building_material', 'building_type', 'building_use', 'city_town', 'death_rate', 'divorce_rate', 'elementary_rate', 'highschool_rate', 'jobschool_rate', 'junior_rate', 'marriage_rate', 'master_rate', 'parking_price_isna', 'parking_way', 'txn_floor_isna']\n",
      "  'New categorical_feature is {}'.format(sorted(list(categorical_feature))))\n"
     ]
    },
    {
     "name": "stdout",
     "output_type": "stream",
     "text": [
      "[5000]\ttraining's l1: 7860.9\ttraining's rmse: 15681.2\tvalid_1's l1: 129723\tvalid_1's rmse: 281259\n",
      "[10000]\ttraining's l1: 1948.03\ttraining's rmse: 5675.91\tvalid_1's l1: 129391\tvalid_1's rmse: 281525\n",
      "Finished.\n",
      "depth : 32 leaves : 512 fraction :0.7\n",
      "first part : 5719.1866789390015 last part: 0.8741063705990155\n",
      "> 20 % : 0.1882687641201573\n",
      "point :  5720.060785309601\n"
     ]
    },
    {
     "name": "stderr",
     "output_type": "stream",
     "text": [
      "/home/mmdb/conda/lib/python3.6/site-packages/lightgbm/basic.py:1209: UserWarning: categorical_feature in Dataset is overridden.\n",
      "New categorical_feature is ['III_index', 'II_index', 'IV_index', 'IX_index', 'I_index', 'VIII_index', 'VII_index', 'VI_index', 'V_index', 'XIII_index', 'XII_index', 'XIV_index', 'XI_index', 'X_index', 'bachelor_rate', 'born_rate', 'building_material', 'building_type', 'building_use', 'city_town', 'death_rate', 'divorce_rate', 'elementary_rate', 'highschool_rate', 'jobschool_rate', 'junior_rate', 'marriage_rate', 'master_rate', 'parking_price_isna', 'parking_way', 'txn_floor_isna']\n",
      "  'New categorical_feature is {}'.format(sorted(list(categorical_feature))))\n"
     ]
    },
    {
     "name": "stdout",
     "output_type": "stream",
     "text": [
      "[5000]\ttraining's l1: 7798.08\ttraining's rmse: 15546.8\tvalid_1's l1: 129678\tvalid_1's rmse: 281272\n",
      "[10000]\ttraining's l1: 1868.54\ttraining's rmse: 5553.5\tvalid_1's l1: 129382\tvalid_1's rmse: 281563\n",
      "Finished.\n",
      "depth : 32 leaves : 512 fraction :0.7\n",
      "first part : 5740.942180570664 last part: 0.8737863660925609\n",
      "> 20 % : 0.1918667893900092\n",
      "point :  5741.815966936757\n"
     ]
    },
    {
     "name": "stderr",
     "output_type": "stream",
     "text": [
      "/home/mmdb/conda/lib/python3.6/site-packages/lightgbm/basic.py:1209: UserWarning: categorical_feature in Dataset is overridden.\n",
      "New categorical_feature is ['III_index', 'II_index', 'IV_index', 'IX_index', 'I_index', 'VIII_index', 'VII_index', 'VI_index', 'V_index', 'XIII_index', 'XII_index', 'XIV_index', 'XI_index', 'X_index', 'bachelor_rate', 'born_rate', 'building_material', 'building_type', 'building_use', 'city_town', 'death_rate', 'divorce_rate', 'elementary_rate', 'highschool_rate', 'jobschool_rate', 'junior_rate', 'marriage_rate', 'master_rate', 'parking_price_isna', 'parking_way', 'txn_floor_isna']\n",
      "  'New categorical_feature is {}'.format(sorted(list(categorical_feature))))\n"
     ]
    },
    {
     "name": "stdout",
     "output_type": "stream",
     "text": [
      "[5000]\ttraining's l1: 7605.32\ttraining's rmse: 15332.1\tvalid_1's l1: 129523\tvalid_1's rmse: 281735\n",
      "[10000]\ttraining's l1: 1866.61\ttraining's rmse: 5583.57\tvalid_1's l1: 129215\tvalid_1's rmse: 282013\n",
      "Finished.\n",
      "depth : 32 leaves : 512 fraction :0.7\n",
      "first part : 5764.371182327839 last part: 0.8739354639812197\n",
      "> 20 % : 0.18835243912643293\n",
      "point :  5765.24511779182\n"
     ]
    },
    {
     "name": "stderr",
     "output_type": "stream",
     "text": [
      "/home/mmdb/conda/lib/python3.6/site-packages/lightgbm/basic.py:1209: UserWarning: categorical_feature in Dataset is overridden.\n",
      "New categorical_feature is ['III_index', 'II_index', 'IV_index', 'IX_index', 'I_index', 'VIII_index', 'VII_index', 'VI_index', 'V_index', 'XIII_index', 'XII_index', 'XIV_index', 'XI_index', 'X_index', 'bachelor_rate', 'born_rate', 'building_material', 'building_type', 'building_use', 'city_town', 'death_rate', 'divorce_rate', 'elementary_rate', 'highschool_rate', 'jobschool_rate', 'junior_rate', 'marriage_rate', 'master_rate', 'parking_price_isna', 'parking_way', 'txn_floor_isna']\n",
      "  'New categorical_feature is {}'.format(sorted(list(categorical_feature))))\n"
     ]
    },
    {
     "name": "stdout",
     "output_type": "stream",
     "text": [
      "[5000]\ttraining's l1: 7921.19\ttraining's rmse: 15788.6\tvalid_1's l1: 129617\tvalid_1's rmse: 281153\n",
      "[10000]\ttraining's l1: 2015.25\ttraining's rmse: 5803.73\tvalid_1's l1: 129298\tvalid_1's rmse: 281463\n",
      "Finished.\n",
      "depth : 32 leaves : 512 fraction :0.7\n",
      "first part : 5699.941427495607 last part: 0.8736760701335401\n",
      "> 20 % : 0.18776671408250356\n",
      "point :  5700.81510356574\n"
     ]
    },
    {
     "name": "stderr",
     "output_type": "stream",
     "text": [
      "/home/mmdb/conda/lib/python3.6/site-packages/lightgbm/basic.py:1209: UserWarning: categorical_feature in Dataset is overridden.\n",
      "New categorical_feature is ['III_index', 'II_index', 'IV_index', 'IX_index', 'I_index', 'VIII_index', 'VII_index', 'VI_index', 'V_index', 'XIII_index', 'XII_index', 'XIV_index', 'XI_index', 'X_index', 'bachelor_rate', 'born_rate', 'building_material', 'building_type', 'building_use', 'city_town', 'death_rate', 'divorce_rate', 'elementary_rate', 'highschool_rate', 'jobschool_rate', 'junior_rate', 'marriage_rate', 'master_rate', 'parking_price_isna', 'parking_way', 'txn_floor_isna']\n",
      "  'New categorical_feature is {}'.format(sorted(list(categorical_feature))))\n"
     ]
    },
    {
     "name": "stdout",
     "output_type": "stream",
     "text": [
      "[5000]\ttraining's l1: 7583.52\ttraining's rmse: 15292\tvalid_1's l1: 129616\tvalid_1's rmse: 280878\n",
      "[10000]\ttraining's l1: 1860.11\ttraining's rmse: 5582.11\tvalid_1's l1: 129319\tvalid_1's rmse: 281152\n",
      "Finished.\n",
      "depth : 32 leaves : 512 fraction :0.7\n",
      "first part : 5715.00292862522 last part: 0.873894780702413\n",
      "> 20 % : 0.18994226424566982\n",
      "point :  5715.876823405923\n"
     ]
    },
    {
     "name": "stderr",
     "output_type": "stream",
     "text": [
      "/home/mmdb/conda/lib/python3.6/site-packages/lightgbm/basic.py:1209: UserWarning: categorical_feature in Dataset is overridden.\n",
      "New categorical_feature is ['III_index', 'II_index', 'IV_index', 'IX_index', 'I_index', 'VIII_index', 'VII_index', 'VI_index', 'V_index', 'XIII_index', 'XII_index', 'XIV_index', 'XI_index', 'X_index', 'bachelor_rate', 'born_rate', 'building_material', 'building_type', 'building_use', 'city_town', 'death_rate', 'divorce_rate', 'elementary_rate', 'highschool_rate', 'jobschool_rate', 'junior_rate', 'marriage_rate', 'master_rate', 'parking_price_isna', 'parking_way', 'txn_floor_isna']\n",
      "  'New categorical_feature is {}'.format(sorted(list(categorical_feature))))\n"
     ]
    },
    {
     "name": "stdout",
     "output_type": "stream",
     "text": [
      "[5000]\ttraining's l1: 7812.5\ttraining's rmse: 15626.9\tvalid_1's l1: 129838\tvalid_1's rmse: 281943\n",
      "[10000]\ttraining's l1: 1987.07\ttraining's rmse: 5738.67\tvalid_1's l1: 129499\tvalid_1's rmse: 282221\n",
      "Finished.\n",
      "depth : 32 leaves : 512 fraction :0.7\n",
      "first part : 5721.69692912727 last part: 0.8739431780904328\n",
      "> 20 % : 0.18877081415781105\n",
      "point :  5722.57087230536\n"
     ]
    },
    {
     "name": "stderr",
     "output_type": "stream",
     "text": [
      "/home/mmdb/conda/lib/python3.6/site-packages/lightgbm/basic.py:1209: UserWarning: categorical_feature in Dataset is overridden.\n",
      "New categorical_feature is ['III_index', 'II_index', 'IV_index', 'IX_index', 'I_index', 'VIII_index', 'VII_index', 'VI_index', 'V_index', 'XIII_index', 'XII_index', 'XIV_index', 'XI_index', 'X_index', 'bachelor_rate', 'born_rate', 'building_material', 'building_type', 'building_use', 'city_town', 'death_rate', 'divorce_rate', 'elementary_rate', 'highschool_rate', 'jobschool_rate', 'junior_rate', 'marriage_rate', 'master_rate', 'parking_price_isna', 'parking_way', 'txn_floor_isna']\n",
      "  'New categorical_feature is {}'.format(sorted(list(categorical_feature))))\n"
     ]
    },
    {
     "name": "stdout",
     "output_type": "stream",
     "text": [
      "[5000]\ttraining's l1: 7731.72\ttraining's rmse: 15448.3\tvalid_1's l1: 129654\tvalid_1's rmse: 281134\n",
      "[10000]\ttraining's l1: 1861.55\ttraining's rmse: 5578.19\tvalid_1's l1: 129331\tvalid_1's rmse: 281409\n",
      "Finished.\n",
      "depth : 32 leaves : 512 fraction :0.7\n",
      "first part : 5725.880679441051 last part: 0.873885564793423\n",
      "> 20 % : 0.19069533930215044\n",
      "point :  5726.754565005845\n"
     ]
    },
    {
     "name": "stderr",
     "output_type": "stream",
     "text": [
      "/home/mmdb/conda/lib/python3.6/site-packages/lightgbm/basic.py:1209: UserWarning: categorical_feature in Dataset is overridden.\n",
      "New categorical_feature is ['III_index', 'II_index', 'IV_index', 'IX_index', 'I_index', 'VIII_index', 'VII_index', 'VI_index', 'V_index', 'XIII_index', 'XII_index', 'XIV_index', 'XI_index', 'X_index', 'bachelor_rate', 'born_rate', 'building_material', 'building_type', 'building_use', 'city_town', 'death_rate', 'divorce_rate', 'elementary_rate', 'highschool_rate', 'jobschool_rate', 'junior_rate', 'marriage_rate', 'master_rate', 'parking_price_isna', 'parking_way', 'txn_floor_isna']\n",
      "  'New categorical_feature is {}'.format(sorted(list(categorical_feature))))\n"
     ]
    },
    {
     "name": "stdout",
     "output_type": "stream",
     "text": [
      "[5000]\ttraining's l1: 7714.07\ttraining's rmse: 15514.6\tvalid_1's l1: 129624\tvalid_1's rmse: 281302\n",
      "[10000]\ttraining's l1: 1980.69\ttraining's rmse: 5703.44\tvalid_1's l1: 129290\tvalid_1's rmse: 281583\n",
      "Finished.\n",
      "depth : 32 leaves : 512 fraction :0.7\n",
      "first part : 5733.411430005857 last part: 0.8741318001682226\n",
      "> 20 % : 0.1907790143084261\n",
      "point :  5734.285561806026\n"
     ]
    },
    {
     "name": "stderr",
     "output_type": "stream",
     "text": [
      "/home/mmdb/conda/lib/python3.6/site-packages/lightgbm/basic.py:1209: UserWarning: categorical_feature in Dataset is overridden.\n",
      "New categorical_feature is ['III_index', 'II_index', 'IV_index', 'IX_index', 'I_index', 'VIII_index', 'VII_index', 'VI_index', 'V_index', 'XIII_index', 'XII_index', 'XIV_index', 'XI_index', 'X_index', 'bachelor_rate', 'born_rate', 'building_material', 'building_type', 'building_use', 'city_town', 'death_rate', 'divorce_rate', 'elementary_rate', 'highschool_rate', 'jobschool_rate', 'junior_rate', 'marriage_rate', 'master_rate', 'parking_price_isna', 'parking_way', 'txn_floor_isna']\n",
      "  'New categorical_feature is {}'.format(sorted(list(categorical_feature))))\n"
     ]
    },
    {
     "name": "stdout",
     "output_type": "stream",
     "text": [
      "[5000]\ttraining's l1: 7945.24\ttraining's rmse: 15744.1\tvalid_1's l1: 129931\tvalid_1's rmse: 281343\n",
      "[10000]\ttraining's l1: 2010.62\ttraining's rmse: 5733.56\tvalid_1's l1: 129620\tvalid_1's rmse: 281651\n",
      "Finished.\n",
      "depth : 32 leaves : 512 fraction :0.7\n",
      "first part : 5720.860179064513 last part: 0.8737593923326337\n",
      "> 20 % : 0.1895238892142917\n",
      "point :  5721.733938456846\n"
     ]
    },
    {
     "name": "stderr",
     "output_type": "stream",
     "text": [
      "/home/mmdb/conda/lib/python3.6/site-packages/lightgbm/basic.py:1209: UserWarning: categorical_feature in Dataset is overridden.\n",
      "New categorical_feature is ['III_index', 'II_index', 'IV_index', 'IX_index', 'I_index', 'VIII_index', 'VII_index', 'VI_index', 'V_index', 'XIII_index', 'XII_index', 'XIV_index', 'XI_index', 'X_index', 'bachelor_rate', 'born_rate', 'building_material', 'building_type', 'building_use', 'city_town', 'death_rate', 'divorce_rate', 'elementary_rate', 'highschool_rate', 'jobschool_rate', 'junior_rate', 'marriage_rate', 'master_rate', 'parking_price_isna', 'parking_way', 'txn_floor_isna']\n",
      "  'New categorical_feature is {}'.format(sorted(list(categorical_feature))))\n"
     ]
    },
    {
     "name": "stdout",
     "output_type": "stream",
     "text": [
      "[5000]\ttraining's l1: 7951.39\ttraining's rmse: 15820.3\tvalid_1's l1: 129885\tvalid_1's rmse: 281520\n",
      "[10000]\ttraining's l1: 2042.26\ttraining's rmse: 5806.16\tvalid_1's l1: 129563\tvalid_1's rmse: 281876\n",
      "Finished.\n",
      "depth : 32 leaves : 512 fraction :0.7\n",
      "first part : 5723.370429252782 last part: 0.8738622237804818\n",
      "> 20 % : 0.1898585892393942\n",
      "point :  5724.2442914765625\n"
     ]
    },
    {
     "name": "stderr",
     "output_type": "stream",
     "text": [
      "/home/mmdb/conda/lib/python3.6/site-packages/lightgbm/basic.py:1209: UserWarning: categorical_feature in Dataset is overridden.\n",
      "New categorical_feature is ['III_index', 'II_index', 'IV_index', 'IX_index', 'I_index', 'VIII_index', 'VII_index', 'VI_index', 'V_index', 'XIII_index', 'XII_index', 'XIV_index', 'XI_index', 'X_index', 'bachelor_rate', 'born_rate', 'building_material', 'building_type', 'building_use', 'city_town', 'death_rate', 'divorce_rate', 'elementary_rate', 'highschool_rate', 'jobschool_rate', 'junior_rate', 'marriage_rate', 'master_rate', 'parking_price_isna', 'parking_way', 'txn_floor_isna']\n",
      "  'New categorical_feature is {}'.format(sorted(list(categorical_feature))))\n"
     ]
    },
    {
     "name": "stdout",
     "output_type": "stream",
     "text": [
      "[5000]\ttraining's l1: 7944.41\ttraining's rmse: 15749.6\tvalid_1's l1: 129922\tvalid_1's rmse: 281448\n",
      "[10000]\ttraining's l1: 2016.1\ttraining's rmse: 5777.41\tvalid_1's l1: 129560\tvalid_1's rmse: 281756\n",
      "Finished.\n",
      "depth : 32 leaves : 512 fraction :0.7\n",
      "first part : 5703.288427746632 last part: 0.8741270845039466\n",
      "> 20 % : 0.18969123922684294\n",
      "point :  5704.162554831136\n"
     ]
    },
    {
     "name": "stderr",
     "output_type": "stream",
     "text": [
      "/home/mmdb/conda/lib/python3.6/site-packages/lightgbm/basic.py:1209: UserWarning: categorical_feature in Dataset is overridden.\n",
      "New categorical_feature is ['III_index', 'II_index', 'IV_index', 'IX_index', 'I_index', 'VIII_index', 'VII_index', 'VI_index', 'V_index', 'XIII_index', 'XII_index', 'XIV_index', 'XI_index', 'X_index', 'bachelor_rate', 'born_rate', 'building_material', 'building_type', 'building_use', 'city_town', 'death_rate', 'divorce_rate', 'elementary_rate', 'highschool_rate', 'jobschool_rate', 'junior_rate', 'marriage_rate', 'master_rate', 'parking_price_isna', 'parking_way', 'txn_floor_isna']\n",
      "  'New categorical_feature is {}'.format(sorted(list(categorical_feature))))\n"
     ]
    },
    {
     "name": "stdout",
     "output_type": "stream",
     "text": [
      "[5000]\ttraining's l1: 7854.92\ttraining's rmse: 15573.9\tvalid_1's l1: 129833\tvalid_1's rmse: 281010\n",
      "[10000]\ttraining's l1: 2005.27\ttraining's rmse: 5760.72\tvalid_1's l1: 129481\tvalid_1's rmse: 281306\n",
      "Finished.\n",
      "depth : 32 leaves : 512 fraction :0.7\n",
      "first part : 5741.77893063342 last part: 0.8738662825669669\n",
      "> 20 % : 0.18969123922684294\n",
      "point :  5742.652796915987\n"
     ]
    },
    {
     "name": "stderr",
     "output_type": "stream",
     "text": [
      "/home/mmdb/conda/lib/python3.6/site-packages/lightgbm/basic.py:1209: UserWarning: categorical_feature in Dataset is overridden.\n",
      "New categorical_feature is ['III_index', 'II_index', 'IV_index', 'IX_index', 'I_index', 'VIII_index', 'VII_index', 'VI_index', 'V_index', 'XIII_index', 'XII_index', 'XIV_index', 'XI_index', 'X_index', 'bachelor_rate', 'born_rate', 'building_material', 'building_type', 'building_use', 'city_town', 'death_rate', 'divorce_rate', 'elementary_rate', 'highschool_rate', 'jobschool_rate', 'junior_rate', 'marriage_rate', 'master_rate', 'parking_price_isna', 'parking_way', 'txn_floor_isna']\n",
      "  'New categorical_feature is {}'.format(sorted(list(categorical_feature))))\n"
     ]
    },
    {
     "name": "stdout",
     "output_type": "stream",
     "text": [
      "[5000]\ttraining's l1: 7798.38\ttraining's rmse: 15613.9\tvalid_1's l1: 129591\tvalid_1's rmse: 280807\n",
      "[10000]\ttraining's l1: 1913.46\ttraining's rmse: 5693.92\tvalid_1's l1: 129268\tvalid_1's rmse: 281175\n",
      "Finished.\n",
      "depth : 32 leaves : 512 fraction :0.7\n",
      "first part : 5705.798677934901 last part: 0.8740504059106244\n",
      "> 20 % : 0.19094636432097734\n",
      "point :  5706.672728340812\n"
     ]
    },
    {
     "name": "stderr",
     "output_type": "stream",
     "text": [
      "/home/mmdb/conda/lib/python3.6/site-packages/lightgbm/basic.py:1209: UserWarning: categorical_feature in Dataset is overridden.\n",
      "New categorical_feature is ['III_index', 'II_index', 'IV_index', 'IX_index', 'I_index', 'VIII_index', 'VII_index', 'VI_index', 'V_index', 'XIII_index', 'XII_index', 'XIV_index', 'XI_index', 'X_index', 'bachelor_rate', 'born_rate', 'building_material', 'building_type', 'building_use', 'city_town', 'death_rate', 'divorce_rate', 'elementary_rate', 'highschool_rate', 'jobschool_rate', 'junior_rate', 'marriage_rate', 'master_rate', 'parking_price_isna', 'parking_way', 'txn_floor_isna']\n",
      "  'New categorical_feature is {}'.format(sorted(list(categorical_feature))))\n"
     ]
    },
    {
     "name": "stdout",
     "output_type": "stream",
     "text": [
      "[5000]\ttraining's l1: 7809.33\ttraining's rmse: 15672.9\tvalid_1's l1: 129866\tvalid_1's rmse: 281469\n",
      "[10000]\ttraining's l1: 1960.61\ttraining's rmse: 5721.58\tvalid_1's l1: 129559\tvalid_1's rmse: 281779\n",
      "Finished.\n",
      "depth : 32 leaves : 512 fraction :0.7\n",
      "first part : 5705.798677934901 last part: 0.8725198819924435\n",
      "> 20 % : 0.18935653920174045\n",
      "point :  5706.671197816893\n"
     ]
    },
    {
     "name": "stderr",
     "output_type": "stream",
     "text": [
      "/home/mmdb/conda/lib/python3.6/site-packages/lightgbm/basic.py:1209: UserWarning: categorical_feature in Dataset is overridden.\n",
      "New categorical_feature is ['III_index', 'II_index', 'IV_index', 'IX_index', 'I_index', 'VIII_index', 'VII_index', 'VI_index', 'V_index', 'XIII_index', 'XII_index', 'XIV_index', 'XI_index', 'X_index', 'bachelor_rate', 'born_rate', 'building_material', 'building_type', 'building_use', 'city_town', 'death_rate', 'divorce_rate', 'elementary_rate', 'highschool_rate', 'jobschool_rate', 'junior_rate', 'marriage_rate', 'master_rate', 'parking_price_isna', 'parking_way', 'txn_floor_isna']\n",
      "  'New categorical_feature is {}'.format(sorted(list(categorical_feature))))\n"
     ]
    },
    {
     "name": "stdout",
     "output_type": "stream",
     "text": [
      "[5000]\ttraining's l1: 7960.17\ttraining's rmse: 15783.6\tvalid_1's l1: 129838\tvalid_1's rmse: 281601\n",
      "[10000]\ttraining's l1: 2056.48\ttraining's rmse: 5853.24\tvalid_1's l1: 129492\tvalid_1's rmse: 281888\n",
      "Finished.\n",
      "depth : 32 leaves : 512 fraction :0.7\n",
      "first part : 5708.308928123169 last part: 0.8739917227681944\n",
      "> 20 % : 0.1901932892644967\n",
      "point :  5709.182919845937\n"
     ]
    },
    {
     "name": "stderr",
     "output_type": "stream",
     "text": [
      "/home/mmdb/conda/lib/python3.6/site-packages/lightgbm/basic.py:1209: UserWarning: categorical_feature in Dataset is overridden.\n",
      "New categorical_feature is ['III_index', 'II_index', 'IV_index', 'IX_index', 'I_index', 'VIII_index', 'VII_index', 'VI_index', 'V_index', 'XIII_index', 'XII_index', 'XIV_index', 'XI_index', 'X_index', 'bachelor_rate', 'born_rate', 'building_material', 'building_type', 'building_use', 'city_town', 'death_rate', 'divorce_rate', 'elementary_rate', 'highschool_rate', 'jobschool_rate', 'junior_rate', 'marriage_rate', 'master_rate', 'parking_price_isna', 'parking_way', 'txn_floor_isna']\n",
      "  'New categorical_feature is {}'.format(sorted(list(categorical_feature))))\n"
     ]
    },
    {
     "name": "stdout",
     "output_type": "stream",
     "text": [
      "[5000]\ttraining's l1: 7841.46\ttraining's rmse: 15649.4\tvalid_1's l1: 129731\tvalid_1's rmse: 281274\n",
      "[10000]\ttraining's l1: 1999.17\ttraining's rmse: 5715.1\tvalid_1's l1: 129404\tvalid_1's rmse: 281576\n",
      "Finished.\n",
      "depth : 32 leaves : 512 fraction :0.7\n",
      "first part : 5703.288427746632 last part: 0.8737367003578884\n",
      "> 20 % : 0.19069533930215044\n",
      "point :  5704.16216444699\n"
     ]
    },
    {
     "name": "stderr",
     "output_type": "stream",
     "text": [
      "/home/mmdb/conda/lib/python3.6/site-packages/lightgbm/basic.py:1209: UserWarning: categorical_feature in Dataset is overridden.\n",
      "New categorical_feature is ['III_index', 'II_index', 'IV_index', 'IX_index', 'I_index', 'VIII_index', 'VII_index', 'VI_index', 'V_index', 'XIII_index', 'XII_index', 'XIV_index', 'XI_index', 'X_index', 'bachelor_rate', 'born_rate', 'building_material', 'building_type', 'building_use', 'city_town', 'death_rate', 'divorce_rate', 'elementary_rate', 'highschool_rate', 'jobschool_rate', 'junior_rate', 'marriage_rate', 'master_rate', 'parking_price_isna', 'parking_way', 'txn_floor_isna']\n",
      "  'New categorical_feature is {}'.format(sorted(list(categorical_feature))))\n"
     ]
    },
    {
     "name": "stdout",
     "output_type": "stream",
     "text": [
      "[5000]\ttraining's l1: 7820.72\ttraining's rmse: 15680.5\tvalid_1's l1: 129698\tvalid_1's rmse: 280341\n",
      "[10000]\ttraining's l1: 1844.77\ttraining's rmse: 5621.41\tvalid_1's l1: 129374\tvalid_1's rmse: 280679\n",
      "Finished.\n",
      "depth : 32 leaves : 512 fraction :0.7\n",
      "first part : 5720.023429001757 last part: 0.8741078286462862\n",
      "> 20 % : 0.18960756422056732\n",
      "point :  5720.897536830404\n"
     ]
    },
    {
     "name": "stderr",
     "output_type": "stream",
     "text": [
      "/home/mmdb/conda/lib/python3.6/site-packages/lightgbm/basic.py:1209: UserWarning: categorical_feature in Dataset is overridden.\n",
      "New categorical_feature is ['III_index', 'II_index', 'IV_index', 'IX_index', 'I_index', 'VIII_index', 'VII_index', 'VI_index', 'V_index', 'XIII_index', 'XII_index', 'XIV_index', 'XI_index', 'X_index', 'bachelor_rate', 'born_rate', 'building_material', 'building_type', 'building_use', 'city_town', 'death_rate', 'divorce_rate', 'elementary_rate', 'highschool_rate', 'jobschool_rate', 'junior_rate', 'marriage_rate', 'master_rate', 'parking_price_isna', 'parking_way', 'txn_floor_isna']\n",
      "  'New categorical_feature is {}'.format(sorted(list(categorical_feature))))\n"
     ]
    },
    {
     "name": "stdout",
     "output_type": "stream",
     "text": [
      "[5000]\ttraining's l1: 7886.35\ttraining's rmse: 15761.1\tvalid_1's l1: 129620\tvalid_1's rmse: 281054\n",
      "[10000]\ttraining's l1: 1998.36\ttraining's rmse: 5793.62\tvalid_1's l1: 129295\tvalid_1's rmse: 281365\n",
      "Finished.\n",
      "depth : 32 leaves : 512 fraction :0.7\n",
      "first part : 5727.554179566563 last part: 0.874231246891821\n",
      "> 20 % : 0.1898585892393942\n",
      "point :  5728.428410813455\n"
     ]
    },
    {
     "name": "stderr",
     "output_type": "stream",
     "text": [
      "/home/mmdb/conda/lib/python3.6/site-packages/lightgbm/basic.py:1209: UserWarning: categorical_feature in Dataset is overridden.\n",
      "New categorical_feature is ['III_index', 'II_index', 'IV_index', 'IX_index', 'I_index', 'VIII_index', 'VII_index', 'VI_index', 'V_index', 'XIII_index', 'XII_index', 'XIV_index', 'XI_index', 'X_index', 'bachelor_rate', 'born_rate', 'building_material', 'building_type', 'building_use', 'city_town', 'death_rate', 'divorce_rate', 'elementary_rate', 'highschool_rate', 'jobschool_rate', 'junior_rate', 'marriage_rate', 'master_rate', 'parking_price_isna', 'parking_way', 'txn_floor_isna']\n",
      "  'New categorical_feature is {}'.format(sorted(list(categorical_feature))))\n"
     ]
    },
    {
     "name": "stdout",
     "output_type": "stream",
     "text": [
      "[5000]\ttraining's l1: 7638.9\ttraining's rmse: 15410.9\tvalid_1's l1: 129601\tvalid_1's rmse: 281029\n",
      "[10000]\ttraining's l1: 1990.93\ttraining's rmse: 5691.04\tvalid_1's l1: 129273\tvalid_1's rmse: 281320\n",
      "Finished.\n",
      "depth : 32 leaves : 512 fraction :0.7\n",
      "first part : 5715.839678687976 last part: 0.8740208213823923\n",
      "> 20 % : 0.19036063927704794\n",
      "point :  5716.713699509358\n"
     ]
    },
    {
     "name": "stderr",
     "output_type": "stream",
     "text": [
      "/home/mmdb/conda/lib/python3.6/site-packages/lightgbm/basic.py:1209: UserWarning: categorical_feature in Dataset is overridden.\n",
      "New categorical_feature is ['III_index', 'II_index', 'IV_index', 'IX_index', 'I_index', 'VIII_index', 'VII_index', 'VI_index', 'V_index', 'XIII_index', 'XII_index', 'XIV_index', 'XI_index', 'X_index', 'bachelor_rate', 'born_rate', 'building_material', 'building_type', 'building_use', 'city_town', 'death_rate', 'divorce_rate', 'elementary_rate', 'highschool_rate', 'jobschool_rate', 'junior_rate', 'marriage_rate', 'master_rate', 'parking_price_isna', 'parking_way', 'txn_floor_isna']\n",
      "  'New categorical_feature is {}'.format(sorted(list(categorical_feature))))\n"
     ]
    },
    {
     "name": "stdout",
     "output_type": "stream",
     "text": [
      "[5000]\ttraining's l1: 7784.32\ttraining's rmse: 15591.3\tvalid_1's l1: 129688\tvalid_1's rmse: 280974\n",
      "[10000]\ttraining's l1: 1987.12\ttraining's rmse: 5743.51\tvalid_1's l1: 129359\tvalid_1's rmse: 281296\n",
      "Finished.\n",
      "depth : 32 leaves : 512 fraction :0.7\n",
      "first part : 5699.941427495607 last part: 0.8733271935436814\n",
      "> 20 % : 0.19036063927704794\n",
      "point :  5700.8147546891505\n"
     ]
    },
    {
     "name": "stderr",
     "output_type": "stream",
     "text": [
      "/home/mmdb/conda/lib/python3.6/site-packages/lightgbm/basic.py:1209: UserWarning: categorical_feature in Dataset is overridden.\n",
      "New categorical_feature is ['III_index', 'II_index', 'IV_index', 'IX_index', 'I_index', 'VIII_index', 'VII_index', 'VI_index', 'V_index', 'XIII_index', 'XII_index', 'XIV_index', 'XI_index', 'X_index', 'bachelor_rate', 'born_rate', 'building_material', 'building_type', 'building_use', 'city_town', 'death_rate', 'divorce_rate', 'elementary_rate', 'highschool_rate', 'jobschool_rate', 'junior_rate', 'marriage_rate', 'master_rate', 'parking_price_isna', 'parking_way', 'txn_floor_isna']\n",
      "  'New categorical_feature is {}'.format(sorted(list(categorical_feature))))\n"
     ]
    },
    {
     "name": "stdout",
     "output_type": "stream",
     "text": [
      "[5000]\ttraining's l1: 7983.66\ttraining's rmse: 15964.5\tvalid_1's l1: 129536\tvalid_1's rmse: 280609\n",
      "[10000]\ttraining's l1: 2018.16\ttraining's rmse: 5862.95\tvalid_1's l1: 129199\tvalid_1's rmse: 280927\n",
      "Finished.\n",
      "depth : 32 leaves : 512 fraction :0.7\n",
      "first part : 5723.370429252782 last part: 0.8737599022766441\n",
      "> 20 % : 0.18818508911388168\n",
      "point :  5724.244189155059\n"
     ]
    },
    {
     "name": "stderr",
     "output_type": "stream",
     "text": [
      "/home/mmdb/conda/lib/python3.6/site-packages/lightgbm/basic.py:1209: UserWarning: categorical_feature in Dataset is overridden.\n",
      "New categorical_feature is ['III_index', 'II_index', 'IV_index', 'IX_index', 'I_index', 'VIII_index', 'VII_index', 'VI_index', 'V_index', 'XIII_index', 'XII_index', 'XIV_index', 'XI_index', 'X_index', 'bachelor_rate', 'born_rate', 'building_material', 'building_type', 'building_use', 'city_town', 'death_rate', 'divorce_rate', 'elementary_rate', 'highschool_rate', 'jobschool_rate', 'junior_rate', 'marriage_rate', 'master_rate', 'parking_price_isna', 'parking_way', 'txn_floor_isna']\n",
      "  'New categorical_feature is {}'.format(sorted(list(categorical_feature))))\n"
     ]
    },
    {
     "name": "stdout",
     "output_type": "stream",
     "text": [
      "[5000]\ttraining's l1: 7827.7\ttraining's rmse: 15662.6\tvalid_1's l1: 129813\tvalid_1's rmse: 281145\n",
      "[10000]\ttraining's l1: 1928.76\ttraining's rmse: 5694.54\tvalid_1's l1: 129489\tvalid_1's rmse: 281453\n",
      "Finished.\n",
      "depth : 32 leaves : 512 fraction :0.7\n",
      "first part : 5707.472178060413 last part: 0.8736770205332764\n",
      "> 20 % : 0.18935653920174045\n",
      "point :  5708.345855080946\n"
     ]
    },
    {
     "name": "stderr",
     "output_type": "stream",
     "text": [
      "/home/mmdb/conda/lib/python3.6/site-packages/lightgbm/basic.py:1209: UserWarning: categorical_feature in Dataset is overridden.\n",
      "New categorical_feature is ['III_index', 'II_index', 'IV_index', 'IX_index', 'I_index', 'VIII_index', 'VII_index', 'VI_index', 'V_index', 'XIII_index', 'XII_index', 'XIV_index', 'XI_index', 'X_index', 'bachelor_rate', 'born_rate', 'building_material', 'building_type', 'building_use', 'city_town', 'death_rate', 'divorce_rate', 'elementary_rate', 'highschool_rate', 'jobschool_rate', 'junior_rate', 'marriage_rate', 'master_rate', 'parking_price_isna', 'parking_way', 'txn_floor_isna']\n",
      "  'New categorical_feature is {}'.format(sorted(list(categorical_feature))))\n"
     ]
    },
    {
     "name": "stdout",
     "output_type": "stream",
     "text": [
      "[5000]\ttraining's l1: 7948.33\ttraining's rmse: 15780.2\tvalid_1's l1: 129383\tvalid_1's rmse: 280229\n",
      "[10000]\ttraining's l1: 1977.59\ttraining's rmse: 5753.02\tvalid_1's l1: 129049\tvalid_1's rmse: 280514\n",
      "Finished.\n",
      "depth : 32 leaves : 512 fraction :0.7\n",
      "first part : 5722.533679190026 last part: 0.8741334701520816\n",
      "> 20 % : 0.1898585892393942\n",
      "point :  5723.407812660178\n"
     ]
    },
    {
     "name": "stderr",
     "output_type": "stream",
     "text": [
      "/home/mmdb/conda/lib/python3.6/site-packages/lightgbm/basic.py:1209: UserWarning: categorical_feature in Dataset is overridden.\n",
      "New categorical_feature is ['III_index', 'II_index', 'IV_index', 'IX_index', 'I_index', 'VIII_index', 'VII_index', 'VI_index', 'V_index', 'XIII_index', 'XII_index', 'XIV_index', 'XI_index', 'X_index', 'bachelor_rate', 'born_rate', 'building_material', 'building_type', 'building_use', 'city_town', 'death_rate', 'divorce_rate', 'elementary_rate', 'highschool_rate', 'jobschool_rate', 'junior_rate', 'marriage_rate', 'master_rate', 'parking_price_isna', 'parking_way', 'txn_floor_isna']\n",
      "  'New categorical_feature is {}'.format(sorted(list(categorical_feature))))\n"
     ]
    },
    {
     "name": "stdout",
     "output_type": "stream",
     "text": [
      "[5000]\ttraining's l1: 7672.77\ttraining's rmse: 15465.3\tvalid_1's l1: 129534\tvalid_1's rmse: 280266\n",
      "[10000]\ttraining's l1: 1884.74\ttraining's rmse: 5629.63\tvalid_1's l1: 129198\tvalid_1's rmse: 280557\n",
      "Finished.\n",
      "depth : 32 leaves : 512 fraction :0.7\n",
      "first part : 5727.554179566563 last part: 0.8738215040347967\n",
      "> 20 % : 0.1905279892895992\n",
      "point :  5728.428001070598\n"
     ]
    },
    {
     "name": "stderr",
     "output_type": "stream",
     "text": [
      "/home/mmdb/conda/lib/python3.6/site-packages/lightgbm/basic.py:1209: UserWarning: categorical_feature in Dataset is overridden.\n",
      "New categorical_feature is ['III_index', 'II_index', 'IV_index', 'IX_index', 'I_index', 'VIII_index', 'VII_index', 'VI_index', 'V_index', 'XIII_index', 'XII_index', 'XIV_index', 'XI_index', 'X_index', 'bachelor_rate', 'born_rate', 'building_material', 'building_type', 'building_use', 'city_town', 'death_rate', 'divorce_rate', 'elementary_rate', 'highschool_rate', 'jobschool_rate', 'junior_rate', 'marriage_rate', 'master_rate', 'parking_price_isna', 'parking_way', 'txn_floor_isna']\n",
      "  'New categorical_feature is {}'.format(sorted(list(categorical_feature))))\n"
     ]
    },
    {
     "name": "stdout",
     "output_type": "stream",
     "text": [
      "[5000]\ttraining's l1: 7743.43\ttraining's rmse: 15573.4\tvalid_1's l1: 129557\tvalid_1's rmse: 280923\n",
      "[10000]\ttraining's l1: 1951.69\ttraining's rmse: 5707.25\tvalid_1's l1: 129236\tvalid_1's rmse: 281240\n",
      "Finished.\n",
      "depth : 32 leaves : 512 fraction :0.7\n",
      "first part : 5730.901179817588 last part: 0.8737887421853653\n",
      "> 20 % : 0.18969123922684294\n",
      "point :  5731.774968559774\n"
     ]
    },
    {
     "name": "stderr",
     "output_type": "stream",
     "text": [
      "/home/mmdb/conda/lib/python3.6/site-packages/lightgbm/basic.py:1209: UserWarning: categorical_feature in Dataset is overridden.\n",
      "New categorical_feature is ['III_index', 'II_index', 'IV_index', 'IX_index', 'I_index', 'VIII_index', 'VII_index', 'VI_index', 'V_index', 'XIII_index', 'XII_index', 'XIV_index', 'XI_index', 'X_index', 'bachelor_rate', 'born_rate', 'building_material', 'building_type', 'building_use', 'city_town', 'death_rate', 'divorce_rate', 'elementary_rate', 'highschool_rate', 'jobschool_rate', 'junior_rate', 'marriage_rate', 'master_rate', 'parking_price_isna', 'parking_way', 'txn_floor_isna']\n",
      "  'New categorical_feature is {}'.format(sorted(list(categorical_feature))))\n"
     ]
    },
    {
     "name": "stdout",
     "output_type": "stream",
     "text": [
      "[10000]\ttraining's l1: 1753.35\ttraining's rmse: 5429.46\tvalid_1's l1: 128834\tvalid_1's rmse: 280406\n",
      "Finished.\n",
      "depth : 32 leaves : 512 fraction :0.7\n",
      "first part : 5756.840431763033 last part: 0.8743826644589597\n",
      "> 20 % : 0.18885448916408668\n",
      "point :  5757.714814427492\n"
     ]
    },
    {
     "name": "stderr",
     "output_type": "stream",
     "text": [
      "/home/mmdb/conda/lib/python3.6/site-packages/lightgbm/basic.py:1209: UserWarning: categorical_feature in Dataset is overridden.\n",
      "New categorical_feature is ['III_index', 'II_index', 'IV_index', 'IX_index', 'I_index', 'VIII_index', 'VII_index', 'VI_index', 'V_index', 'XIII_index', 'XII_index', 'XIV_index', 'XI_index', 'X_index', 'bachelor_rate', 'born_rate', 'building_material', 'building_type', 'building_use', 'city_town', 'death_rate', 'divorce_rate', 'elementary_rate', 'highschool_rate', 'jobschool_rate', 'junior_rate', 'marriage_rate', 'master_rate', 'parking_price_isna', 'parking_way', 'txn_floor_isna']\n",
      "  'New categorical_feature is {}'.format(sorted(list(categorical_feature))))\n"
     ]
    },
    {
     "name": "stdout",
     "output_type": "stream",
     "text": [
      "[5000]\ttraining's l1: 7697.2\ttraining's rmse: 15488.8\tvalid_1's l1: 129504\tvalid_1's rmse: 280754\n",
      "[10000]\ttraining's l1: 1939.72\ttraining's rmse: 5694.04\tvalid_1's l1: 129192\tvalid_1's rmse: 280980\n",
      "Finished.\n",
      "depth : 32 leaves : 512 fraction :0.7\n",
      "first part : 5727.554179566563 last part: 0.8739433327314028\n",
      "> 20 % : 0.18851978913898418\n",
      "point :  5728.428122899294\n"
     ]
    },
    {
     "name": "stderr",
     "output_type": "stream",
     "text": [
      "/home/mmdb/conda/lib/python3.6/site-packages/lightgbm/basic.py:1209: UserWarning: categorical_feature in Dataset is overridden.\n",
      "New categorical_feature is ['III_index', 'II_index', 'IV_index', 'IX_index', 'I_index', 'VIII_index', 'VII_index', 'VI_index', 'V_index', 'XIII_index', 'XII_index', 'XIV_index', 'XI_index', 'X_index', 'bachelor_rate', 'born_rate', 'building_material', 'building_type', 'building_use', 'city_town', 'death_rate', 'divorce_rate', 'elementary_rate', 'highschool_rate', 'jobschool_rate', 'junior_rate', 'marriage_rate', 'master_rate', 'parking_price_isna', 'parking_way', 'txn_floor_isna']\n",
      "  'New categorical_feature is {}'.format(sorted(list(categorical_feature))))\n"
     ]
    },
    {
     "name": "stdout",
     "output_type": "stream",
     "text": [
      "[5000]\ttraining's l1: 7897.72\ttraining's rmse: 15790.9\tvalid_1's l1: 129475\tvalid_1's rmse: 279951\n",
      "[10000]\ttraining's l1: 1990.25\ttraining's rmse: 5756.52\tvalid_1's l1: 129139\tvalid_1's rmse: 280286\n",
      "Finished.\n",
      "depth : 32 leaves : 512 fraction :0.7\n",
      "first part : 5732.574679943101 last part: 0.873834898121413\n",
      "> 20 % : 0.19103003932725296\n",
      "point :  5733.448514841222\n"
     ]
    },
    {
     "name": "stderr",
     "output_type": "stream",
     "text": [
      "/home/mmdb/conda/lib/python3.6/site-packages/lightgbm/basic.py:1209: UserWarning: categorical_feature in Dataset is overridden.\n",
      "New categorical_feature is ['III_index', 'II_index', 'IV_index', 'IX_index', 'I_index', 'VIII_index', 'VII_index', 'VI_index', 'V_index', 'XIII_index', 'XII_index', 'XIV_index', 'XI_index', 'X_index', 'bachelor_rate', 'born_rate', 'building_material', 'building_type', 'building_use', 'city_town', 'death_rate', 'divorce_rate', 'elementary_rate', 'highschool_rate', 'jobschool_rate', 'junior_rate', 'marriage_rate', 'master_rate', 'parking_price_isna', 'parking_way', 'txn_floor_isna']\n",
      "  'New categorical_feature is {}'.format(sorted(list(categorical_feature))))\n"
     ]
    },
    {
     "name": "stdout",
     "output_type": "stream",
     "text": [
      "[5000]\ttraining's l1: 7786.38\ttraining's rmse: 15511.2\tvalid_1's l1: 129424\tvalid_1's rmse: 280150\n",
      "[10000]\ttraining's l1: 1963.25\ttraining's rmse: 5678.58\tvalid_1's l1: 129092\tvalid_1's rmse: 280434\n",
      "Finished.\n",
      "depth : 32 leaves : 512 fraction :0.7\n",
      "first part : 5700.7781775583635 last part: 0.8742373212739295\n",
      "> 20 % : 0.18843611413270855\n",
      "point :  5701.652414879637\n"
     ]
    },
    {
     "name": "stderr",
     "output_type": "stream",
     "text": [
      "/home/mmdb/conda/lib/python3.6/site-packages/lightgbm/basic.py:1209: UserWarning: categorical_feature in Dataset is overridden.\n",
      "New categorical_feature is ['III_index', 'II_index', 'IV_index', 'IX_index', 'I_index', 'VIII_index', 'VII_index', 'VI_index', 'V_index', 'XIII_index', 'XII_index', 'XIV_index', 'XI_index', 'X_index', 'bachelor_rate', 'born_rate', 'building_material', 'building_type', 'building_use', 'city_town', 'death_rate', 'divorce_rate', 'elementary_rate', 'highschool_rate', 'jobschool_rate', 'junior_rate', 'marriage_rate', 'master_rate', 'parking_price_isna', 'parking_way', 'txn_floor_isna']\n",
      "  'New categorical_feature is {}'.format(sorted(list(categorical_feature))))\n"
     ]
    },
    {
     "name": "stdout",
     "output_type": "stream",
     "text": [
      "[5000]\ttraining's l1: 7900.46\ttraining's rmse: 15785.7\tvalid_1's l1: 129486\tvalid_1's rmse: 280355\n",
      "[10000]\ttraining's l1: 1994.21\ttraining's rmse: 5765.73\tvalid_1's l1: 129142\tvalid_1's rmse: 280696\n",
      "Finished.\n",
      "depth : 32 leaves : 512 fraction :0.7\n",
      "first part : 5725.880679441051 last part: 0.8742779680472883\n",
      "> 20 % : 0.1871809890385742\n",
      "point :  5726.754957409098\n"
     ]
    },
    {
     "name": "stderr",
     "output_type": "stream",
     "text": [
      "/home/mmdb/conda/lib/python3.6/site-packages/lightgbm/basic.py:1209: UserWarning: categorical_feature in Dataset is overridden.\n",
      "New categorical_feature is ['III_index', 'II_index', 'IV_index', 'IX_index', 'I_index', 'VIII_index', 'VII_index', 'VI_index', 'V_index', 'XIII_index', 'XII_index', 'XIV_index', 'XI_index', 'X_index', 'bachelor_rate', 'born_rate', 'building_material', 'building_type', 'building_use', 'city_town', 'death_rate', 'divorce_rate', 'elementary_rate', 'highschool_rate', 'jobschool_rate', 'junior_rate', 'marriage_rate', 'master_rate', 'parking_price_isna', 'parking_way', 'txn_floor_isna']\n",
      "  'New categorical_feature is {}'.format(sorted(list(categorical_feature))))\n"
     ]
    },
    {
     "name": "stdout",
     "output_type": "stream",
     "text": [
      "[5000]\ttraining's l1: 8048.87\ttraining's rmse: 15974.2\tvalid_1's l1: 129668\tvalid_1's rmse: 280724\n",
      "[10000]\ttraining's l1: 2002.92\ttraining's rmse: 5777.88\tvalid_1's l1: 129338\tvalid_1's rmse: 281025\n",
      "Finished.\n",
      "depth : 32 leaves : 512 fraction :0.7\n",
      "first part : 5728.39092962932 last part: 0.8737080723673137\n",
      "> 20 % : 0.18977491423311857\n",
      "point :  5729.264637701688\n"
     ]
    },
    {
     "name": "stderr",
     "output_type": "stream",
     "text": [
      "/home/mmdb/conda/lib/python3.6/site-packages/lightgbm/basic.py:1209: UserWarning: categorical_feature in Dataset is overridden.\n",
      "New categorical_feature is ['III_index', 'II_index', 'IV_index', 'IX_index', 'I_index', 'VIII_index', 'VII_index', 'VI_index', 'V_index', 'XIII_index', 'XII_index', 'XIV_index', 'XI_index', 'X_index', 'bachelor_rate', 'born_rate', 'building_material', 'building_type', 'building_use', 'city_town', 'death_rate', 'divorce_rate', 'elementary_rate', 'highschool_rate', 'jobschool_rate', 'junior_rate', 'marriage_rate', 'master_rate', 'parking_price_isna', 'parking_way', 'txn_floor_isna']\n",
      "  'New categorical_feature is {}'.format(sorted(list(categorical_feature))))\n"
     ]
    },
    {
     "name": "stdout",
     "output_type": "stream",
     "text": [
      "[5000]\ttraining's l1: 7864.71\ttraining's rmse: 15740.6\tvalid_1's l1: 129599\tvalid_1's rmse: 280482\n",
      "[10000]\ttraining's l1: 2016.14\ttraining's rmse: 5791.82\tvalid_1's l1: 129273\tvalid_1's rmse: 280817\n",
      "Finished.\n",
      "depth : 32 leaves : 512 fraction :0.7\n",
      "first part : 5703.288427746632 last part: 0.8735396925233494\n",
      "> 20 % : 0.19228516442138732\n",
      "point :  5704.161967439155\n"
     ]
    },
    {
     "name": "stderr",
     "output_type": "stream",
     "text": [
      "/home/mmdb/conda/lib/python3.6/site-packages/lightgbm/basic.py:1209: UserWarning: categorical_feature in Dataset is overridden.\n",
      "New categorical_feature is ['III_index', 'II_index', 'IV_index', 'IX_index', 'I_index', 'VIII_index', 'VII_index', 'VI_index', 'V_index', 'XIII_index', 'XII_index', 'XIV_index', 'XI_index', 'X_index', 'bachelor_rate', 'born_rate', 'building_material', 'building_type', 'building_use', 'city_town', 'death_rate', 'divorce_rate', 'elementary_rate', 'highschool_rate', 'jobschool_rate', 'junior_rate', 'marriage_rate', 'master_rate', 'parking_price_isna', 'parking_way', 'txn_floor_isna']\n",
      "  'New categorical_feature is {}'.format(sorted(list(categorical_feature))))\n"
     ]
    },
    {
     "name": "stdout",
     "output_type": "stream",
     "text": [
      "[5000]\ttraining's l1: 7977.81\ttraining's rmse: 15827.4\tvalid_1's l1: 129498\tvalid_1's rmse: 280455\n",
      "[10000]\ttraining's l1: 2056.84\ttraining's rmse: 5837.1\tvalid_1's l1: 129185\tvalid_1's rmse: 280763\n",
      "Finished.\n",
      "depth : 32 leaves : 512 fraction :0.7\n",
      "first part : 5726.717429503807 last part: 0.8742876841036908\n",
      "> 20 % : 0.1891891891891892\n",
      "point :  5727.59171718791\n"
     ]
    },
    {
     "name": "stderr",
     "output_type": "stream",
     "text": [
      "/home/mmdb/conda/lib/python3.6/site-packages/lightgbm/basic.py:1209: UserWarning: categorical_feature in Dataset is overridden.\n",
      "New categorical_feature is ['III_index', 'II_index', 'IV_index', 'IX_index', 'I_index', 'VIII_index', 'VII_index', 'VI_index', 'V_index', 'XIII_index', 'XII_index', 'XIV_index', 'XI_index', 'X_index', 'bachelor_rate', 'born_rate', 'building_material', 'building_type', 'building_use', 'city_town', 'death_rate', 'divorce_rate', 'elementary_rate', 'highschool_rate', 'jobschool_rate', 'junior_rate', 'marriage_rate', 'master_rate', 'parking_price_isna', 'parking_way', 'txn_floor_isna']\n",
      "  'New categorical_feature is {}'.format(sorted(list(categorical_feature))))\n"
     ]
    },
    {
     "name": "stdout",
     "output_type": "stream",
     "text": [
      "[5000]\ttraining's l1: 7907.51\ttraining's rmse: 15715.9\tvalid_1's l1: 129410\tvalid_1's rmse: 280062\n",
      "[10000]\ttraining's l1: 2033.53\ttraining's rmse: 5791.37\tvalid_1's l1: 129100\tvalid_1's rmse: 280395\n",
      "Finished.\n",
      "depth : 32 leaves : 512 fraction :0.7\n",
      "first part : 5711.655928374194 last part: 0.8741548188031671\n",
      "> 20 % : 0.18944021420801607\n",
      "point :  5712.530083192998\n"
     ]
    },
    {
     "name": "stderr",
     "output_type": "stream",
     "text": [
      "/home/mmdb/conda/lib/python3.6/site-packages/lightgbm/basic.py:1209: UserWarning: categorical_feature in Dataset is overridden.\n",
      "New categorical_feature is ['III_index', 'II_index', 'IV_index', 'IX_index', 'I_index', 'VIII_index', 'VII_index', 'VI_index', 'V_index', 'XIII_index', 'XII_index', 'XIV_index', 'XI_index', 'X_index', 'bachelor_rate', 'born_rate', 'building_material', 'building_type', 'building_use', 'city_town', 'death_rate', 'divorce_rate', 'elementary_rate', 'highschool_rate', 'jobschool_rate', 'junior_rate', 'marriage_rate', 'master_rate', 'parking_price_isna', 'parking_way', 'txn_floor_isna']\n",
      "  'New categorical_feature is {}'.format(sorted(list(categorical_feature))))\n"
     ]
    },
    {
     "name": "stdout",
     "output_type": "stream",
     "text": [
      "[5000]\ttraining's l1: 7890.79\ttraining's rmse: 15709.8\tvalid_1's l1: 129551\tvalid_1's rmse: 279992\n",
      "[10000]\ttraining's l1: 2040.23\ttraining's rmse: 5794.86\tvalid_1's l1: 129240\tvalid_1's rmse: 280305\n",
      "Finished.\n",
      "depth : 32 leaves : 512 fraction :0.7\n",
      "first part : 5704.961927872144 last part: 0.873899769395357\n",
      "> 20 % : 0.1907790143084261\n",
      "point :  5705.835827641539\n"
     ]
    },
    {
     "name": "stderr",
     "output_type": "stream",
     "text": [
      "/home/mmdb/conda/lib/python3.6/site-packages/lightgbm/basic.py:1209: UserWarning: categorical_feature in Dataset is overridden.\n",
      "New categorical_feature is ['III_index', 'II_index', 'IV_index', 'IX_index', 'I_index', 'VIII_index', 'VII_index', 'VI_index', 'V_index', 'XIII_index', 'XII_index', 'XIV_index', 'XI_index', 'X_index', 'bachelor_rate', 'born_rate', 'building_material', 'building_type', 'building_use', 'city_town', 'death_rate', 'divorce_rate', 'elementary_rate', 'highschool_rate', 'jobschool_rate', 'junior_rate', 'marriage_rate', 'master_rate', 'parking_price_isna', 'parking_way', 'txn_floor_isna']\n",
      "  'New categorical_feature is {}'.format(sorted(list(categorical_feature))))\n"
     ]
    },
    {
     "name": "stdout",
     "output_type": "stream",
     "text": [
      "[5000]\ttraining's l1: 7765.34\ttraining's rmse: 15464.6\tvalid_1's l1: 129644\tvalid_1's rmse: 280602\n",
      "[10000]\ttraining's l1: 2061.97\ttraining's rmse: 5803.61\tvalid_1's l1: 129356\tvalid_1's rmse: 280891\n",
      "Finished.\n",
      "depth : 32 leaves : 512 fraction :0.7\n",
      "first part : 5730.901179817588 last part: 0.8740347122989096\n",
      "> 20 % : 0.18935653920174045\n",
      "point :  5731.775214529887\n"
     ]
    },
    {
     "name": "stderr",
     "output_type": "stream",
     "text": [
      "/home/mmdb/conda/lib/python3.6/site-packages/lightgbm/basic.py:1209: UserWarning: categorical_feature in Dataset is overridden.\n",
      "New categorical_feature is ['III_index', 'II_index', 'IV_index', 'IX_index', 'I_index', 'VIII_index', 'VII_index', 'VI_index', 'V_index', 'XIII_index', 'XII_index', 'XIV_index', 'XI_index', 'X_index', 'bachelor_rate', 'born_rate', 'building_material', 'building_type', 'building_use', 'city_town', 'death_rate', 'divorce_rate', 'elementary_rate', 'highschool_rate', 'jobschool_rate', 'junior_rate', 'marriage_rate', 'master_rate', 'parking_price_isna', 'parking_way', 'txn_floor_isna']\n",
      "  'New categorical_feature is {}'.format(sorted(list(categorical_feature))))\n"
     ]
    },
    {
     "name": "stdout",
     "output_type": "stream",
     "text": [
      "[5000]\ttraining's l1: 7712.84\ttraining's rmse: 15423.7\tvalid_1's l1: 129624\tvalid_1's rmse: 281070\n",
      "[10000]\ttraining's l1: 2005.3\ttraining's rmse: 5724.98\tvalid_1's l1: 129318\tvalid_1's rmse: 281376\n",
      "Finished.\n",
      "depth : 32 leaves : 512 fraction :0.7\n",
      "first part : 5708.308928123169 last part: 0.873875970390352\n",
      "> 20 % : 0.19178311438373358\n",
      "point :  5709.182804093559\n"
     ]
    },
    {
     "name": "stderr",
     "output_type": "stream",
     "text": [
      "/home/mmdb/conda/lib/python3.6/site-packages/lightgbm/basic.py:1209: UserWarning: categorical_feature in Dataset is overridden.\n",
      "New categorical_feature is ['III_index', 'II_index', 'IV_index', 'IX_index', 'I_index', 'VIII_index', 'VII_index', 'VI_index', 'V_index', 'XIII_index', 'XII_index', 'XIV_index', 'XI_index', 'X_index', 'bachelor_rate', 'born_rate', 'building_material', 'building_type', 'building_use', 'city_town', 'death_rate', 'divorce_rate', 'elementary_rate', 'highschool_rate', 'jobschool_rate', 'junior_rate', 'marriage_rate', 'master_rate', 'parking_price_isna', 'parking_way', 'txn_floor_isna']\n",
      "  'New categorical_feature is {}'.format(sorted(list(categorical_feature))))\n"
     ]
    },
    {
     "name": "stdout",
     "output_type": "stream",
     "text": [
      "[5000]\ttraining's l1: 7624.45\ttraining's rmse: 15355.2\tvalid_1's l1: 129614\tvalid_1's rmse: 281204\n",
      "[10000]\ttraining's l1: 1919.74\ttraining's rmse: 5632.45\tvalid_1's l1: 129330\tvalid_1's rmse: 281461\n",
      "Finished.\n",
      "depth : 32 leaves : 512 fraction :0.7\n",
      "first part : 5704.125177809388 last part: 0.8739423648372429\n",
      "> 20 % : 0.19002593925194544\n",
      "point :  5704.999120174226\n"
     ]
    },
    {
     "name": "stderr",
     "output_type": "stream",
     "text": [
      "/home/mmdb/conda/lib/python3.6/site-packages/lightgbm/basic.py:1209: UserWarning: categorical_feature in Dataset is overridden.\n",
      "New categorical_feature is ['III_index', 'II_index', 'IV_index', 'IX_index', 'I_index', 'VIII_index', 'VII_index', 'VI_index', 'V_index', 'XIII_index', 'XII_index', 'XIV_index', 'XI_index', 'X_index', 'bachelor_rate', 'born_rate', 'building_material', 'building_type', 'building_use', 'city_town', 'death_rate', 'divorce_rate', 'elementary_rate', 'highschool_rate', 'jobschool_rate', 'junior_rate', 'marriage_rate', 'master_rate', 'parking_price_isna', 'parking_way', 'txn_floor_isna']\n",
      "  'New categorical_feature is {}'.format(sorted(list(categorical_feature))))\n"
     ]
    },
    {
     "name": "stdout",
     "output_type": "stream",
     "text": [
      "[5000]\ttraining's l1: 7964.46\ttraining's rmse: 15791.1\tvalid_1's l1: 129607\tvalid_1's rmse: 281826\n",
      "[10000]\ttraining's l1: 2002.92\ttraining's rmse: 5772.79\tvalid_1's l1: 129286\tvalid_1's rmse: 282167\n",
      "Finished.\n",
      "depth : 32 leaves : 512 fraction :0.7\n",
      "first part : 5702.451677683876 last part: 0.8739592984437908\n",
      "> 20 % : 0.19010961425822107\n",
      "point :  5703.32563698232\n"
     ]
    },
    {
     "name": "stderr",
     "output_type": "stream",
     "text": [
      "/home/mmdb/conda/lib/python3.6/site-packages/lightgbm/basic.py:1209: UserWarning: categorical_feature in Dataset is overridden.\n",
      "New categorical_feature is ['III_index', 'II_index', 'IV_index', 'IX_index', 'I_index', 'VIII_index', 'VII_index', 'VI_index', 'V_index', 'XIII_index', 'XII_index', 'XIV_index', 'XI_index', 'X_index', 'bachelor_rate', 'born_rate', 'building_material', 'building_type', 'building_use', 'city_town', 'death_rate', 'divorce_rate', 'elementary_rate', 'highschool_rate', 'jobschool_rate', 'junior_rate', 'marriage_rate', 'master_rate', 'parking_price_isna', 'parking_way', 'txn_floor_isna']\n",
      "  'New categorical_feature is {}'.format(sorted(list(categorical_feature))))\n"
     ]
    },
    {
     "name": "stdout",
     "output_type": "stream",
     "text": [
      "[5000]\ttraining's l1: 7934.92\ttraining's rmse: 15840.2\tvalid_1's l1: 129576\tvalid_1's rmse: 281303\n",
      "[10000]\ttraining's l1: 2017.53\ttraining's rmse: 5821.49\tvalid_1's l1: 129263\tvalid_1's rmse: 281600\n",
      "Finished.\n",
      "depth : 32 leaves : 512 fraction :0.7\n",
      "first part : 5718.349928876245 last part: 0.8737735495183082\n",
      "> 20 % : 0.19010961425822107\n",
      "point :  5719.223702425763\n"
     ]
    },
    {
     "name": "stderr",
     "output_type": "stream",
     "text": [
      "/home/mmdb/conda/lib/python3.6/site-packages/lightgbm/basic.py:1209: UserWarning: categorical_feature in Dataset is overridden.\n",
      "New categorical_feature is ['III_index', 'II_index', 'IV_index', 'IX_index', 'I_index', 'VIII_index', 'VII_index', 'VI_index', 'V_index', 'XIII_index', 'XII_index', 'XIV_index', 'XI_index', 'X_index', 'bachelor_rate', 'born_rate', 'building_material', 'building_type', 'building_use', 'city_town', 'death_rate', 'divorce_rate', 'elementary_rate', 'highschool_rate', 'jobschool_rate', 'junior_rate', 'marriage_rate', 'master_rate', 'parking_price_isna', 'parking_way', 'txn_floor_isna']\n",
      "  'New categorical_feature is {}'.format(sorted(list(categorical_feature))))\n"
     ]
    },
    {
     "name": "stdout",
     "output_type": "stream",
     "text": [
      "[5000]\ttraining's l1: 7953.09\ttraining's rmse: 15810.4\tvalid_1's l1: 129431\tvalid_1's rmse: 281224\n",
      "[10000]\ttraining's l1: 1982.11\ttraining's rmse: 5749.1\tvalid_1's l1: 129096\tvalid_1's rmse: 281539\n",
      "Finished.\n",
      "depth : 32 leaves : 512 fraction :0.7\n",
      "first part : 5697.431177307339 last part: 0.8740752755636743\n",
      "> 20 % : 0.18977491423311857\n",
      "point :  5698.3052525829025\n"
     ]
    },
    {
     "name": "stderr",
     "output_type": "stream",
     "text": [
      "/home/mmdb/conda/lib/python3.6/site-packages/lightgbm/basic.py:1209: UserWarning: categorical_feature in Dataset is overridden.\n",
      "New categorical_feature is ['III_index', 'II_index', 'IV_index', 'IX_index', 'I_index', 'VIII_index', 'VII_index', 'VI_index', 'V_index', 'XIII_index', 'XII_index', 'XIV_index', 'XI_index', 'X_index', 'bachelor_rate', 'born_rate', 'building_material', 'building_type', 'building_use', 'city_town', 'death_rate', 'divorce_rate', 'elementary_rate', 'highschool_rate', 'jobschool_rate', 'junior_rate', 'marriage_rate', 'master_rate', 'parking_price_isna', 'parking_way', 'txn_floor_isna']\n",
      "  'New categorical_feature is {}'.format(sorted(list(categorical_feature))))\n"
     ]
    },
    {
     "name": "stdout",
     "output_type": "stream",
     "text": [
      "[5000]\ttraining's l1: 7839.13\ttraining's rmse: 15608.7\tvalid_1's l1: 129531\tvalid_1's rmse: 280804\n",
      "[10000]\ttraining's l1: 2025.66\ttraining's rmse: 5795.37\tvalid_1's l1: 129211\tvalid_1's rmse: 281140\n",
      "Finished.\n",
      "depth : 32 leaves : 512 fraction :0.7\n",
      "first part : 5725.043929378295 last part: 0.8740488379015943\n",
      "> 20 % : 0.1905279892895992\n",
      "point :  5725.917978216196\n"
     ]
    },
    {
     "name": "stderr",
     "output_type": "stream",
     "text": [
      "/home/mmdb/conda/lib/python3.6/site-packages/lightgbm/basic.py:1209: UserWarning: categorical_feature in Dataset is overridden.\n",
      "New categorical_feature is ['III_index', 'II_index', 'IV_index', 'IX_index', 'VIII_index', 'VII_index', 'VI_index', 'V_index', 'XIII_index', 'XII_index', 'XIV_index', 'XI_index', 'X_index', 'bachelor_rate', 'born_rate', 'building_material', 'building_type', 'building_use', 'city_town', 'death_rate', 'divorce_rate', 'elementary_rate', 'highschool_rate', 'jobschool_rate', 'junior_rate', 'marriage_rate', 'master_rate', 'parking_price_isna', 'parking_way', 'txn_floor_isna']\n",
      "  'New categorical_feature is {}'.format(sorted(list(categorical_feature))))\n"
     ]
    },
    {
     "name": "stdout",
     "output_type": "stream",
     "text": [
      "[5000]\ttraining's l1: 7742.49\ttraining's rmse: 15479.3\tvalid_1's l1: 129536\tvalid_1's rmse: 281131\n",
      "[10000]\ttraining's l1: 1973.26\ttraining's rmse: 5692.12\tvalid_1's l1: 129211\tvalid_1's rmse: 281409\n",
      "Finished.\n",
      "depth : 32 leaves : 512 fraction :0.7\n",
      "first part : 5735.08493013137 last part: 0.8737990349036537\n",
      "> 20 % : 0.19010961425822107\n",
      "point :  5735.958729166274\n"
     ]
    },
    {
     "name": "stderr",
     "output_type": "stream",
     "text": [
      "/home/mmdb/conda/lib/python3.6/site-packages/lightgbm/basic.py:1209: UserWarning: categorical_feature in Dataset is overridden.\n",
      "New categorical_feature is ['III_index', 'IV_index', 'IX_index', 'I_index', 'VIII_index', 'VII_index', 'VI_index', 'V_index', 'XIII_index', 'XII_index', 'XIV_index', 'XI_index', 'X_index', 'bachelor_rate', 'born_rate', 'building_material', 'building_type', 'building_use', 'city_town', 'death_rate', 'divorce_rate', 'elementary_rate', 'highschool_rate', 'jobschool_rate', 'junior_rate', 'marriage_rate', 'master_rate', 'parking_price_isna', 'parking_way', 'txn_floor_isna']\n",
      "  'New categorical_feature is {}'.format(sorted(list(categorical_feature))))\n"
     ]
    },
    {
     "name": "stdout",
     "output_type": "stream",
     "text": [
      "[5000]\ttraining's l1: 7809.83\ttraining's rmse: 15568.2\tvalid_1's l1: 129605\tvalid_1's rmse: 280596\n",
      "[10000]\ttraining's l1: 1956.77\ttraining's rmse: 5680.17\tvalid_1's l1: 129280\tvalid_1's rmse: 280914\n",
      "Finished.\n",
      "depth : 32 leaves : 512 fraction :0.7\n",
      "first part : 5701.614927621119 last part: 0.8738171233336862\n",
      "> 20 % : 0.1898585892393942\n",
      "point :  5702.488744744453\n"
     ]
    },
    {
     "name": "stderr",
     "output_type": "stream",
     "text": [
      "/home/mmdb/conda/lib/python3.6/site-packages/lightgbm/basic.py:1209: UserWarning: categorical_feature in Dataset is overridden.\n",
      "New categorical_feature is ['II_index', 'IV_index', 'IX_index', 'I_index', 'VIII_index', 'VII_index', 'VI_index', 'V_index', 'XIII_index', 'XII_index', 'XIV_index', 'XI_index', 'X_index', 'bachelor_rate', 'born_rate', 'building_material', 'building_type', 'building_use', 'city_town', 'death_rate', 'divorce_rate', 'elementary_rate', 'highschool_rate', 'jobschool_rate', 'junior_rate', 'marriage_rate', 'master_rate', 'parking_price_isna', 'parking_way', 'txn_floor_isna']\n",
      "  'New categorical_feature is {}'.format(sorted(list(categorical_feature))))\n"
     ]
    },
    {
     "name": "stdout",
     "output_type": "stream",
     "text": [
      "[5000]\ttraining's l1: 7843.71\ttraining's rmse: 15654.3\tvalid_1's l1: 129496\tvalid_1's rmse: 280769\n",
      "[10000]\ttraining's l1: 1991.95\ttraining's rmse: 5755.71\tvalid_1's l1: 129150\tvalid_1's rmse: 281086\n",
      "Finished.\n",
      "depth : 32 leaves : 512 fraction :0.7\n",
      "first part : 5708.308928123169 last part: 0.873886851793666\n",
      "> 20 % : 0.19044431428332356\n",
      "point :  5709.182814974963\n"
     ]
    },
    {
     "name": "stderr",
     "output_type": "stream",
     "text": [
      "/home/mmdb/conda/lib/python3.6/site-packages/lightgbm/basic.py:1209: UserWarning: categorical_feature in Dataset is overridden.\n",
      "New categorical_feature is ['III_index', 'II_index', 'IX_index', 'I_index', 'VIII_index', 'VII_index', 'VI_index', 'V_index', 'XIII_index', 'XII_index', 'XIV_index', 'XI_index', 'X_index', 'bachelor_rate', 'born_rate', 'building_material', 'building_type', 'building_use', 'city_town', 'death_rate', 'divorce_rate', 'elementary_rate', 'highschool_rate', 'jobschool_rate', 'junior_rate', 'marriage_rate', 'master_rate', 'parking_price_isna', 'parking_way', 'txn_floor_isna']\n",
      "  'New categorical_feature is {}'.format(sorted(list(categorical_feature))))\n"
     ]
    },
    {
     "name": "stdout",
     "output_type": "stream",
     "text": [
      "[5000]\ttraining's l1: 8034.74\ttraining's rmse: 15912.7\tvalid_1's l1: 129957\tvalid_1's rmse: 281413\n",
      "[10000]\ttraining's l1: 2054.63\ttraining's rmse: 5858.68\tvalid_1's l1: 129631\tvalid_1's rmse: 281770\n",
      "Finished.\n",
      "depth : 32 leaves : 512 fraction :0.7\n",
      "first part : 5684.879926365994 last part: 0.8734520364286977\n",
      "> 20 % : 0.18969123922684294\n",
      "point :  5685.753378402423\n"
     ]
    },
    {
     "name": "stderr",
     "output_type": "stream",
     "text": [
      "/home/mmdb/conda/lib/python3.6/site-packages/lightgbm/basic.py:1209: UserWarning: categorical_feature in Dataset is overridden.\n",
      "New categorical_feature is ['III_index', 'II_index', 'IV_index', 'IX_index', 'I_index', 'VIII_index', 'VII_index', 'VI_index', 'XIII_index', 'XII_index', 'XIV_index', 'XI_index', 'X_index', 'bachelor_rate', 'born_rate', 'building_material', 'building_type', 'building_use', 'city_town', 'death_rate', 'divorce_rate', 'elementary_rate', 'highschool_rate', 'jobschool_rate', 'junior_rate', 'marriage_rate', 'master_rate', 'parking_price_isna', 'parking_way', 'txn_floor_isna']\n",
      "  'New categorical_feature is {}'.format(sorted(list(categorical_feature))))\n"
     ]
    },
    {
     "name": "stdout",
     "output_type": "stream",
     "text": [
      "[5000]\ttraining's l1: 7804.53\ttraining's rmse: 15605.7\tvalid_1's l1: 129737\tvalid_1's rmse: 281255\n",
      "[10000]\ttraining's l1: 1982.62\ttraining's rmse: 5744.11\tvalid_1's l1: 129409\tvalid_1's rmse: 281532\n",
      "Finished.\n",
      "depth : 32 leaves : 512 fraction :0.7\n",
      "first part : 5708.308928123169 last part: 0.8737200069923711\n",
      "> 20 % : 0.18935653920174045\n",
      "point :  5709.182648130161\n"
     ]
    },
    {
     "name": "stderr",
     "output_type": "stream",
     "text": [
      "/home/mmdb/conda/lib/python3.6/site-packages/lightgbm/basic.py:1209: UserWarning: categorical_feature in Dataset is overridden.\n",
      "New categorical_feature is ['III_index', 'II_index', 'IV_index', 'I_index', 'VIII_index', 'VII_index', 'VI_index', 'V_index', 'XIII_index', 'XII_index', 'XIV_index', 'XI_index', 'X_index', 'bachelor_rate', 'born_rate', 'building_material', 'building_type', 'building_use', 'city_town', 'death_rate', 'divorce_rate', 'elementary_rate', 'highschool_rate', 'jobschool_rate', 'junior_rate', 'marriage_rate', 'master_rate', 'parking_price_isna', 'parking_way', 'txn_floor_isna']\n",
      "  'New categorical_feature is {}'.format(sorted(list(categorical_feature))))\n"
     ]
    },
    {
     "name": "stdout",
     "output_type": "stream",
     "text": [
      "[5000]\ttraining's l1: 7842.15\ttraining's rmse: 15558.4\tvalid_1's l1: 129552\tvalid_1's rmse: 281273\n",
      "[10000]\ttraining's l1: 1956.15\ttraining's rmse: 5672.28\tvalid_1's l1: 129229\tvalid_1's rmse: 281639\n",
      "Finished.\n",
      "depth : 32 leaves : 512 fraction :0.7\n",
      "first part : 5694.084177056313 last part: 0.8740676016440612\n",
      "> 20 % : 0.18927286419546482\n",
      "point :  5694.958244657957\n"
     ]
    },
    {
     "name": "stderr",
     "output_type": "stream",
     "text": [
      "/home/mmdb/conda/lib/python3.6/site-packages/lightgbm/basic.py:1209: UserWarning: categorical_feature in Dataset is overridden.\n",
      "New categorical_feature is ['III_index', 'II_index', 'IV_index', 'IX_index', 'I_index', 'VIII_index', 'VII_index', 'VI_index', 'V_index', 'XIII_index', 'XII_index', 'XIV_index', 'XI_index', 'bachelor_rate', 'born_rate', 'building_material', 'building_type', 'building_use', 'city_town', 'death_rate', 'divorce_rate', 'elementary_rate', 'highschool_rate', 'jobschool_rate', 'junior_rate', 'marriage_rate', 'master_rate', 'parking_price_isna', 'parking_way', 'txn_floor_isna']\n",
      "  'New categorical_feature is {}'.format(sorted(list(categorical_feature))))\n"
     ]
    },
    {
     "name": "stdout",
     "output_type": "stream",
     "text": [
      "[5000]\ttraining's l1: 7853.57\ttraining's rmse: 15644.3\tvalid_1's l1: 129501\tvalid_1's rmse: 281321\n",
      "[10000]\ttraining's l1: 1994.77\ttraining's rmse: 5740.39\tvalid_1's l1: 129185\tvalid_1's rmse: 281699\n",
      "Finished.\n",
      "depth : 32 leaves : 512 fraction :0.7\n",
      "first part : 5720.023429001757 last part: 0.8737231420821879\n",
      "> 20 % : 0.18927286419546482\n",
      "point :  5720.897152143839\n"
     ]
    },
    {
     "name": "stderr",
     "output_type": "stream",
     "text": [
      "/home/mmdb/conda/lib/python3.6/site-packages/lightgbm/basic.py:1209: UserWarning: categorical_feature in Dataset is overridden.\n",
      "New categorical_feature is ['III_index', 'II_index', 'IV_index', 'IX_index', 'I_index', 'VIII_index', 'VII_index', 'VI_index', 'V_index', 'XIII_index', 'XII_index', 'XIV_index', 'X_index', 'bachelor_rate', 'born_rate', 'building_material', 'building_type', 'building_use', 'city_town', 'death_rate', 'divorce_rate', 'elementary_rate', 'highschool_rate', 'jobschool_rate', 'junior_rate', 'marriage_rate', 'master_rate', 'parking_price_isna', 'parking_way', 'txn_floor_isna']\n",
      "  'New categorical_feature is {}'.format(sorted(list(categorical_feature))))\n"
     ]
    },
    {
     "name": "stdout",
     "output_type": "stream",
     "text": [
      "[5000]\ttraining's l1: 7958.41\ttraining's rmse: 15747.3\tvalid_1's l1: 129575\tvalid_1's rmse: 281359\n",
      "[10000]\ttraining's l1: 1998.71\ttraining's rmse: 5728.4\tvalid_1's l1: 129256\tvalid_1's rmse: 281696\n",
      "Finished.\n",
      "depth : 32 leaves : 512 fraction :0.7\n",
      "first part : 5735.921680194126 last part: 0.8737874593266262\n",
      "> 20 % : 0.1889381641703623\n",
      "point :  5736.795467653452\n"
     ]
    },
    {
     "name": "stderr",
     "output_type": "stream",
     "text": [
      "/home/mmdb/conda/lib/python3.6/site-packages/lightgbm/basic.py:1209: UserWarning: categorical_feature in Dataset is overridden.\n",
      "New categorical_feature is ['III_index', 'II_index', 'IV_index', 'IX_index', 'I_index', 'VIII_index', 'VII_index', 'VI_index', 'V_index', 'XIII_index', 'XIV_index', 'XI_index', 'X_index', 'bachelor_rate', 'born_rate', 'building_material', 'building_type', 'building_use', 'city_town', 'death_rate', 'divorce_rate', 'elementary_rate', 'highschool_rate', 'jobschool_rate', 'junior_rate', 'marriage_rate', 'master_rate', 'parking_price_isna', 'parking_way', 'txn_floor_isna']\n",
      "  'New categorical_feature is {}'.format(sorted(list(categorical_feature))))\n"
     ]
    },
    {
     "name": "stdout",
     "output_type": "stream",
     "text": [
      "[5000]\ttraining's l1: 7877.35\ttraining's rmse: 15679.8\tvalid_1's l1: 129773\tvalid_1's rmse: 281252\n",
      "[10000]\ttraining's l1: 1977.71\ttraining's rmse: 5737.88\tvalid_1's l1: 129455\tvalid_1's rmse: 281573\n",
      "Finished.\n",
      "depth : 32 leaves : 512 fraction :0.7\n",
      "first part : 5693.247426993557 last part: 0.8735871345752405\n",
      "> 20 % : 0.19027696427077231\n",
      "point :  5694.121014128133\n"
     ]
    },
    {
     "name": "stderr",
     "output_type": "stream",
     "text": [
      "/home/mmdb/conda/lib/python3.6/site-packages/lightgbm/basic.py:1209: UserWarning: categorical_feature in Dataset is overridden.\n",
      "New categorical_feature is ['III_index', 'II_index', 'IV_index', 'IX_index', 'I_index', 'VIII_index', 'VII_index', 'VI_index', 'V_index', 'XII_index', 'XIV_index', 'XI_index', 'X_index', 'bachelor_rate', 'born_rate', 'building_material', 'building_type', 'building_use', 'city_town', 'death_rate', 'divorce_rate', 'elementary_rate', 'highschool_rate', 'jobschool_rate', 'junior_rate', 'marriage_rate', 'master_rate', 'parking_price_isna', 'parking_way', 'txn_floor_isna']\n",
      "  'New categorical_feature is {}'.format(sorted(list(categorical_feature))))\n"
     ]
    },
    {
     "name": "stdout",
     "output_type": "stream",
     "text": [
      "[5000]\ttraining's l1: 7742.64\ttraining's rmse: 15541.7\tvalid_1's l1: 129569\tvalid_1's rmse: 280911\n",
      "[10000]\ttraining's l1: 1984.41\ttraining's rmse: 5752.34\tvalid_1's l1: 129263\tvalid_1's rmse: 281236\n",
      "Finished.\n",
      "depth : 32 leaves : 512 fraction :0.7\n",
      "first part : 5715.839678687976 last part: 0.8736554214086459\n",
      "> 20 % : 0.1907790143084261\n",
      "point :  5716.713334109384\n"
     ]
    },
    {
     "name": "stderr",
     "output_type": "stream",
     "text": [
      "/home/mmdb/conda/lib/python3.6/site-packages/lightgbm/basic.py:1209: UserWarning: categorical_feature in Dataset is overridden.\n",
      "New categorical_feature is ['III_index', 'II_index', 'IV_index', 'IX_index', 'I_index', 'VIII_index', 'VII_index', 'VI_index', 'V_index', 'XIII_index', 'XII_index', 'XIV_index', 'XI_index', 'X_index', 'bachelor_rate', 'born_rate', 'building_material', 'building_type', 'building_use', 'city_town', 'death_rate', 'divorce_rate', 'elementary_rate', 'highschool_rate', 'jobschool_rate', 'junior_rate', 'marriage_rate', 'master_rate', 'parking_way', 'txn_floor_isna']\n",
      "  'New categorical_feature is {}'.format(sorted(list(categorical_feature))))\n"
     ]
    },
    {
     "name": "stdout",
     "output_type": "stream",
     "text": [
      "[5000]\ttraining's l1: 7737.18\ttraining's rmse: 15500.2\tvalid_1's l1: 129626\tvalid_1's rmse: 281063\n",
      "[10000]\ttraining's l1: 1898.93\ttraining's rmse: 5607.45\tvalid_1's l1: 129311\tvalid_1's rmse: 281331\n",
      "Finished.\n",
      "depth : 32 leaves : 512 fraction :0.7\n",
      "first part : 5740.105430507907 last part: 0.8736434427683905\n",
      "> 20 % : 0.19136473935235546\n",
      "point :  5740.979073950675\n"
     ]
    },
    {
     "name": "stderr",
     "output_type": "stream",
     "text": [
      "/home/mmdb/conda/lib/python3.6/site-packages/lightgbm/basic.py:1209: UserWarning: categorical_feature in Dataset is overridden.\n",
      "New categorical_feature is ['III_index', 'II_index', 'IV_index', 'IX_index', 'I_index', 'VIII_index', 'VII_index', 'VI_index', 'V_index', 'XIII_index', 'XII_index', 'XIV_index', 'XI_index', 'X_index', 'bachelor_rate', 'born_rate', 'building_material', 'building_type', 'building_use', 'city_town', 'death_rate', 'divorce_rate', 'elementary_rate', 'highschool_rate', 'jobschool_rate', 'junior_rate', 'marriage_rate', 'master_rate', 'parking_price_isna', 'parking_way', 'txn_floor_isna']\n",
      "  'New categorical_feature is {}'.format(sorted(list(categorical_feature))))\n"
     ]
    },
    {
     "name": "stdout",
     "output_type": "stream",
     "text": [
      "[5000]\ttraining's l1: 7880.91\ttraining's rmse: 15824.8\tvalid_1's l1: 128926\tvalid_1's rmse: 280243\n",
      "[10000]\ttraining's l1: 2037.48\ttraining's rmse: 5846.65\tvalid_1's l1: 128620\tvalid_1's rmse: 280620\n",
      "Finished.\n",
      "depth : 32 leaves : 512 fraction :0.7\n",
      "first part : 5750.146431260981 last part: 0.8745547820638764\n",
      "> 20 % : 0.1895238892142917\n",
      "point :  5751.020986043045\n"
     ]
    },
    {
     "name": "stderr",
     "output_type": "stream",
     "text": [
      "/home/mmdb/conda/lib/python3.6/site-packages/lightgbm/basic.py:1209: UserWarning: categorical_feature in Dataset is overridden.\n",
      "New categorical_feature is ['III_index', 'II_index', 'IV_index', 'IX_index', 'I_index', 'VIII_index', 'VII_index', 'VI_index', 'V_index', 'XIII_index', 'XII_index', 'XIV_index', 'XI_index', 'X_index', 'bachelor_rate', 'born_rate', 'building_material', 'building_type', 'building_use', 'city_town', 'death_rate', 'divorce_rate', 'elementary_rate', 'highschool_rate', 'jobschool_rate', 'junior_rate', 'marriage_rate', 'master_rate', 'parking_price_isna', 'parking_way', 'txn_floor_isna']\n",
      "  'New categorical_feature is {}'.format(sorted(list(categorical_feature))))\n"
     ]
    },
    {
     "name": "stdout",
     "output_type": "stream",
     "text": [
      "[5000]\ttraining's l1: 7971.23\ttraining's rmse: 15930.5\tvalid_1's l1: 129648\tvalid_1's rmse: 281388\n",
      "[10000]\ttraining's l1: 2030.26\ttraining's rmse: 5887.59\tvalid_1's l1: 129325\tvalid_1's rmse: 281742\n",
      "Finished.\n",
      "depth : 32 leaves : 512 fraction :0.7\n",
      "first part : 5724.207179315538 last part: 0.8743435666999179\n",
      "> 20 % : 0.1882687641201573\n",
      "point :  5725.0815228822385\n"
     ]
    }
   ],
   "source": [
    "df = pd.read_csv('data/train.csv')\n",
    "parm = {\n",
    "    'learning_rate' : 0.01,\n",
    "    'n_estimators' : 10000,\n",
    "    'max_depth' : [32],\n",
    "    'num_leaves' : [512],\n",
    "    'feature_fraction' : [0.7]\n",
    "}\n",
    "\n",
    "dataloader = Dataloader()\n",
    "X_train, X_test, y_train, y_test = dataloader.prepare_train_data(df,size = 0.2)\n",
    "points2 = []\n",
    "#for col in X_train.columns:\n",
    "for col in ['lat', 'town_area', 'master_rate', 'bachelor_rate', 'jobschool_rate', 'highschool_rate', 'junior_rate', 'elementary_rate', 'death_rate', 'N_50', 'N_1000', 'I_50', 'I_10000', 'II_10', 'II_50', 'II_100', 'II_250', 'II_1000', 'II_MIN', 'III_250', 'III_500', 'III_1000', 'III_MIN', 'IV_10', 'IV_500', 'IV_1000', 'IV_5000', 'IV_10000', 'IV_MIN', 'V_50', 'V_5000', 'V_10000', 'V_MIN', 'VI_1000', 'VI_10000', 'VII_100', 'VII_500', 'VIII_10', 'VIII_250', 'VIII_500', 'VIII_1000', 'VIII_MIN', 'IX_10', 'IX_500', 'IX_MIN', 'X_100', 'X_500', 'X_10000', 'X_MIN', 'XI_10', 'XI_50', 'XI_100', 'XI_500', 'XI_1000', 'XII_10', 'XII_100', 'XII_250', 'XII_1000', 'XII_10000', 'XII_MIN', 'XIII_10', 'XIII_100', 'XIII_1000', 'XIII_10000', 'XIV_10', 'XIV_50', 'XIV_100', 'XIV_250', 'XIV_1000', 'I_index', 'II_index', 'III_index', 'IV_index', 'V_index', 'IX_index', 'X_index', 'XI_index', 'XII_index', 'XIII_index', 'parking_price_isna', 'sell_day', 'txn_dt_mon']:\n",
    "    if(col != 'building_area'):\n",
    "        dataloader = Dataloader()\n",
    "        X_train, X_test, y_train, y_test = dataloader.prepare_train_data(df,size = 0.2)\n",
    "        X_train = X_train.drop(col,axis=1)\n",
    "        X_test = X_test.drop(col,axis=1)\n",
    "        ramdom_forest = RamdomForest()\n",
    "        if(col in ramdom_forest.entity_features_columns):\n",
    "            ramdom_forest.entity_features_columns.remove(col)\n",
    "        model = ramdom_forest.train_LGBM(X_train, y_train, X_test, y_test,parm,reg_alpha = 5,reg_lambda = 0)# BEST IS reg_alpha = 5 reg_lambda = 0\n",
    "        y, y_true= model.predict(X_test,y_test)\n",
    "        hit_rate,point = score(y,y_true)\n",
    "        points2.append(point)\n",
    "        print(\"point : \",point)"
   ]
  },
  {
   "cell_type": "code",
   "execution_count": 23,
   "metadata": {},
   "outputs": [
    {
     "data": {
      "text/plain": [
       "[5698.304387553605,\n",
       " 5706.672565576362,\n",
       " 5696.631637826029,\n",
       " 5696.631637826029,\n",
       " 5696.631637826029,\n",
       " 5696.631637826029,\n",
       " 5696.631637826029,\n",
       " 5696.631637826029,\n",
       " 5698.305056147073,\n",
       " 5704.999090123394,\n",
       " 5699.978488526938,\n",
       " 5718.386991721903,\n",
       " 5705.835971766355,\n",
       " 5715.876332200391,\n",
       " 5713.366499018968,\n",
       " 5726.7545027918195,\n",
       " 5720.897275576522,\n",
       " 5695.794811942255,\n",
       " 5727.591618931323,\n",
       " 5725.081055824831,\n",
       " 5708.34565904789,\n",
       " 5735.955745712914,\n",
       " 5719.223954795613,\n",
       " 5745.162770502995,\n",
       " 5718.387216580969,\n",
       " 5734.28560348447,\n",
       " 5715.040129803763,\n",
       " 5720.060785309601,\n",
       " 5741.815966936757,\n",
       " 5765.24511779182,\n",
       " 5700.81510356574,\n",
       " 5715.876823405923,\n",
       " 5722.57087230536,\n",
       " 5726.754565005845,\n",
       " 5734.285561806026,\n",
       " 5721.733938456846,\n",
       " 5724.2442914765625,\n",
       " 5704.162554831136,\n",
       " 5742.652796915987,\n",
       " 5706.672728340812,\n",
       " 5706.671197816893,\n",
       " 5709.182919845937,\n",
       " 5704.16216444699,\n",
       " 5720.897536830404,\n",
       " 5728.428410813455,\n",
       " 5716.713699509358,\n",
       " 5700.8147546891505,\n",
       " 5724.244189155059,\n",
       " 5708.345855080946,\n",
       " 5723.407812660178,\n",
       " 5728.428001070598,\n",
       " 5731.774968559774,\n",
       " 5757.714814427492,\n",
       " 5728.428122899294,\n",
       " 5733.448514841222,\n",
       " 5701.652414879637,\n",
       " 5726.754957409098,\n",
       " 5729.264637701688,\n",
       " 5704.161967439155,\n",
       " 5727.59171718791,\n",
       " 5712.530083192998,\n",
       " 5705.835827641539,\n",
       " 5731.775214529887,\n",
       " 5709.182804093559,\n",
       " 5704.999120174226,\n",
       " 5703.32563698232,\n",
       " 5719.223702425763,\n",
       " 5698.3052525829025,\n",
       " 5725.917978216196,\n",
       " 5735.958729166274,\n",
       " 5702.488744744453,\n",
       " 5709.182814974963,\n",
       " 5685.753378402423,\n",
       " 5709.182648130161,\n",
       " 5694.958244657957,\n",
       " 5720.897152143839,\n",
       " 5736.795467653452,\n",
       " 5694.121014128133,\n",
       " 5716.713334109384,\n",
       " 5740.979073950675,\n",
       " 5751.020986043045,\n",
       " 5725.0815228822385]"
      ]
     },
     "execution_count": 23,
     "metadata": {},
     "output_type": "execute_result"
    }
   ],
   "source": [
    "points2"
   ]
  },
  {
   "cell_type": "code",
   "execution_count": null,
   "metadata": {},
   "outputs": [],
   "source": []
  }
 ],
 "metadata": {
  "kernelspec": {
   "display_name": "Python 3",
   "language": "python",
   "name": "python3"
  },
  "language_info": {
   "codemirror_mode": {
    "name": "ipython",
    "version": 3
   },
   "file_extension": ".py",
   "mimetype": "text/x-python",
   "name": "python",
   "nbconvert_exporter": "python",
   "pygments_lexer": "ipython3",
   "version": "3.6.5"
  }
 },
 "nbformat": 4,
 "nbformat_minor": 2
}
