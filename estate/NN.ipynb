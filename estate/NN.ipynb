{
 "cells": [
  {
   "cell_type": "code",
   "execution_count": 1,
   "metadata": {},
   "outputs": [
    {
     "name": "stderr",
     "output_type": "stream",
     "text": [
      "Using TensorFlow backend.\n"
     ]
    }
   ],
   "source": [
    "from keras.models import Sequential\n",
    "import keras\n",
    "import pandas as pd \n",
    "import numpy as np \n",
    "import lightgbm as lgb\n",
    "from lightgbm.sklearn import LGBMRegressor\n",
    "from sklearn.model_selection import train_test_split\n",
    "import matplotlib.pyplot as plt\n",
    "from Dataloader import Dataloader\n",
    "from RamdomForest import RamdomForest\n",
    "from score import score\n",
    "from sklearn.utils import shuffle\n",
    "from IPython.display import display, HTML\n",
    "from datetime import date\n",
    "from keras.layers import Dense\n",
    "import keras.backend as K\n",
    "from sklearn import preprocessing\n",
    "import category_encoders as ce\n",
    "%matplotlib inline"
   ]
  },
  {
   "cell_type": "code",
   "execution_count": null,
   "metadata": {},
   "outputs": [],
   "source": []
  },
  {
   "cell_type": "code",
   "execution_count": 2,
   "metadata": {},
   "outputs": [
    {
     "name": "stdout",
     "output_type": "stream",
     "text": [
      "saving\n"
     ]
    }
   ],
   "source": [
    "\n",
    "df = pd.read_csv('data/train.csv')\n",
    "dataloader = Dataloader()\n",
    "\n",
    "X_train, X_test, y_train, y_test = dataloader.prepare_train_data(df)\n",
    "\n",
    "\n",
    "\n",
    "X_train_nor = dataloader.normalize(X_train)\n",
    "X_test_nor = dataloader.normalize(X_test)\n",
    "\n",
    "\n",
    "y_train_nor = preprocessing.scale(y_train)\n",
    "y_test_nor = preprocessing.scale(y_test)\n",
    "\n",
    "y_mean = np.mean(y_train)\n",
    "y_std = np.std(y_train)\n",
    "\n",
    "X = dataloader.prepare_train_data(df,Get_all = True)\n",
    "print(\"saving\")\n",
    "X.to_csv(f'data/preprocess_x.csv',index = False)\n",
    "\n",
    "enc_ohe = ce.one_hot.OneHotEncoder(cols=['building_material', 'city', 'town'])\n",
    "df_trans = enc_ohe.fit_transform(X)\n",
    "X_train_nor_dumm = enc_ohe.transform(X_train_nor)\n",
    "X_test_nor_dumm = enc_ohe.transform(X_test_nor)\n",
    "X_train_dumm = enc_ohe.transform(X_train)\n",
    "X_test_dumm = enc_ohe.transform(X_test)\n",
    "\n",
    "input_dim = X_train_nor_dumm.shape[1]"
   ]
  },
  {
   "cell_type": "code",
   "execution_count": 3,
   "metadata": {},
   "outputs": [
    {
     "name": "stdout",
     "output_type": "stream",
     "text": [
      "[ 453754.91544728  474031.22153328 1409374.32714004 ...  494990.2083452\n",
      "  803593.7354361  1163691.83395193]\n"
     ]
    }
   ],
   "source": [
    "test = y_train_nor*y_std + y_mean\n",
    "print(test)"
   ]
  },
  {
   "cell_type": "code",
   "execution_count": 110,
   "metadata": {},
   "outputs": [],
   "source": [
    "model = Sequential()\n",
    "model.add(Dense(units=256, activation='relu', input_dim=input_dim))\n",
    "model.add(Dense(units=8, activation='relu'))\n",
    "model.add(Dense(units=1))\n",
    "\n",
    "def custom_loss(y_true,y_pred):\n",
    "    return K.sqrt(K.mean(K.square(y_pred - y_true),axis=-1))\n",
    "\n",
    "model.compile(loss=custom_loss,\n",
    "              optimizer=keras.optimizers.Adam(lr=0.01))"
   ]
  },
  {
   "cell_type": "code",
   "execution_count": 111,
   "metadata": {},
   "outputs": [],
   "source": [
    "from keras.callbacks import EarlyStopping\n",
    "early_stopping = EarlyStopping(monitor='val_loss', patience=100, verbose=2)"
   ]
  },
  {
   "cell_type": "code",
   "execution_count": 112,
   "metadata": {},
   "outputs": [
    {
     "name": "stdout",
     "output_type": "stream",
     "text": [
      "Train on 47803 samples, validate on 11951 samples\n",
      "Epoch 1/20\n",
      "47803/47803 [==============================] - 8s 175us/step - loss: 0.1937 - val_loss: 0.1922\n",
      "Epoch 2/20\n",
      "47803/47803 [==============================] - 8s 165us/step - loss: 0.1927 - val_loss: 0.1922\n",
      "Epoch 3/20\n",
      "47803/47803 [==============================] - 8s 164us/step - loss: 0.1927 - val_loss: 0.1922\n",
      "Epoch 4/20\n",
      "47803/47803 [==============================] - 8s 164us/step - loss: 0.1927 - val_loss: 0.1922\n",
      "Epoch 5/20\n",
      "47803/47803 [==============================] - 8s 164us/step - loss: 0.1927 - val_loss: 0.1922\n",
      "Epoch 6/20\n",
      "47803/47803 [==============================] - 8s 165us/step - loss: 0.1927 - val_loss: 0.1922\n",
      "Epoch 7/20\n",
      "47803/47803 [==============================] - 8s 167us/step - loss: 0.1927 - val_loss: 0.1922\n",
      "Epoch 8/20\n",
      "47803/47803 [==============================] - 8s 166us/step - loss: 0.1927 - val_loss: 0.1922\n",
      "Epoch 9/20\n",
      "47803/47803 [==============================] - 8s 165us/step - loss: 0.1927 - val_loss: 0.1922\n",
      "Epoch 10/20\n",
      "47803/47803 [==============================] - 8s 166us/step - loss: 0.1927 - val_loss: 0.1922\n",
      "Epoch 11/20\n",
      "47803/47803 [==============================] - 8s 169us/step - loss: 0.1927 - val_loss: 0.1922\n",
      "Epoch 12/20\n",
      " 1952/47803 [>.............................] - ETA: 7s - loss: 0.2028"
     ]
    },
    {
     "ename": "KeyboardInterrupt",
     "evalue": "",
     "output_type": "error",
     "traceback": [
      "\u001b[0;31m---------------------------------------------------------------------------\u001b[0m",
      "\u001b[0;31mKeyboardInterrupt\u001b[0m                         Traceback (most recent call last)",
      "\u001b[0;32m<ipython-input-112-81d1ebe837a9>\u001b[0m in \u001b[0;36m<module>\u001b[0;34m()\u001b[0m\n\u001b[0;32m----> 1\u001b[0;31m \u001b[0mhistory\u001b[0m \u001b[0;34m=\u001b[0m \u001b[0mmodel\u001b[0m\u001b[0;34m.\u001b[0m\u001b[0mfit\u001b[0m\u001b[0;34m(\u001b[0m\u001b[0mX_train_nor_dumm\u001b[0m\u001b[0;34m,\u001b[0m \u001b[0my_train_nor\u001b[0m\u001b[0;34m,\u001b[0m \u001b[0mepochs\u001b[0m\u001b[0;34m=\u001b[0m\u001b[0;36m20\u001b[0m\u001b[0;34m,\u001b[0m \u001b[0mbatch_size\u001b[0m\u001b[0;34m=\u001b[0m\u001b[0;36m32\u001b[0m\u001b[0;34m,\u001b[0m\u001b[0mvalidation_data\u001b[0m\u001b[0;34m=\u001b[0m\u001b[0;34m(\u001b[0m\u001b[0mX_test_nor_dumm\u001b[0m\u001b[0;34m,\u001b[0m \u001b[0my_test_nor\u001b[0m\u001b[0;34m)\u001b[0m\u001b[0;34m)\u001b[0m\u001b[0;34m\u001b[0m\u001b[0m\n\u001b[0m",
      "\u001b[0;32m~/.local/lib/python3.6/site-packages/keras/engine/training.py\u001b[0m in \u001b[0;36mfit\u001b[0;34m(self, x, y, batch_size, epochs, verbose, callbacks, validation_split, validation_data, shuffle, class_weight, sample_weight, initial_epoch, steps_per_epoch, validation_steps, **kwargs)\u001b[0m\n\u001b[1;32m   1040\u001b[0m                                         \u001b[0minitial_epoch\u001b[0m\u001b[0;34m=\u001b[0m\u001b[0minitial_epoch\u001b[0m\u001b[0;34m,\u001b[0m\u001b[0;34m\u001b[0m\u001b[0m\n\u001b[1;32m   1041\u001b[0m                                         \u001b[0msteps_per_epoch\u001b[0m\u001b[0;34m=\u001b[0m\u001b[0msteps_per_epoch\u001b[0m\u001b[0;34m,\u001b[0m\u001b[0;34m\u001b[0m\u001b[0m\n\u001b[0;32m-> 1042\u001b[0;31m                                         validation_steps=validation_steps)\n\u001b[0m\u001b[1;32m   1043\u001b[0m \u001b[0;34m\u001b[0m\u001b[0m\n\u001b[1;32m   1044\u001b[0m     def evaluate(self, x=None, y=None,\n",
      "\u001b[0;32m~/.local/lib/python3.6/site-packages/keras/engine/training_arrays.py\u001b[0m in \u001b[0;36mfit_loop\u001b[0;34m(model, f, ins, out_labels, batch_size, epochs, verbose, callbacks, val_f, val_ins, shuffle, callback_metrics, initial_epoch, steps_per_epoch, validation_steps)\u001b[0m\n\u001b[1;32m    197\u001b[0m                     \u001b[0mins_batch\u001b[0m\u001b[0;34m[\u001b[0m\u001b[0mi\u001b[0m\u001b[0;34m]\u001b[0m \u001b[0;34m=\u001b[0m \u001b[0mins_batch\u001b[0m\u001b[0;34m[\u001b[0m\u001b[0mi\u001b[0m\u001b[0;34m]\u001b[0m\u001b[0;34m.\u001b[0m\u001b[0mtoarray\u001b[0m\u001b[0;34m(\u001b[0m\u001b[0;34m)\u001b[0m\u001b[0;34m\u001b[0m\u001b[0m\n\u001b[1;32m    198\u001b[0m \u001b[0;34m\u001b[0m\u001b[0m\n\u001b[0;32m--> 199\u001b[0;31m                 \u001b[0mouts\u001b[0m \u001b[0;34m=\u001b[0m \u001b[0mf\u001b[0m\u001b[0;34m(\u001b[0m\u001b[0mins_batch\u001b[0m\u001b[0;34m)\u001b[0m\u001b[0;34m\u001b[0m\u001b[0m\n\u001b[0m\u001b[1;32m    200\u001b[0m                 \u001b[0;32mif\u001b[0m \u001b[0;32mnot\u001b[0m \u001b[0misinstance\u001b[0m\u001b[0;34m(\u001b[0m\u001b[0mouts\u001b[0m\u001b[0;34m,\u001b[0m \u001b[0mlist\u001b[0m\u001b[0;34m)\u001b[0m\u001b[0;34m:\u001b[0m\u001b[0;34m\u001b[0m\u001b[0m\n\u001b[1;32m    201\u001b[0m                     \u001b[0mouts\u001b[0m \u001b[0;34m=\u001b[0m \u001b[0;34m[\u001b[0m\u001b[0mouts\u001b[0m\u001b[0;34m]\u001b[0m\u001b[0;34m\u001b[0m\u001b[0m\n",
      "\u001b[0;32m~/.local/lib/python3.6/site-packages/keras/backend/tensorflow_backend.py\u001b[0m in \u001b[0;36m__call__\u001b[0;34m(self, inputs)\u001b[0m\n\u001b[1;32m   2659\u001b[0m                 \u001b[0;32mreturn\u001b[0m \u001b[0mself\u001b[0m\u001b[0;34m.\u001b[0m\u001b[0m_legacy_call\u001b[0m\u001b[0;34m(\u001b[0m\u001b[0minputs\u001b[0m\u001b[0;34m)\u001b[0m\u001b[0;34m\u001b[0m\u001b[0m\n\u001b[1;32m   2660\u001b[0m \u001b[0;34m\u001b[0m\u001b[0m\n\u001b[0;32m-> 2661\u001b[0;31m             \u001b[0;32mreturn\u001b[0m \u001b[0mself\u001b[0m\u001b[0;34m.\u001b[0m\u001b[0m_call\u001b[0m\u001b[0;34m(\u001b[0m\u001b[0minputs\u001b[0m\u001b[0;34m)\u001b[0m\u001b[0;34m\u001b[0m\u001b[0m\n\u001b[0m\u001b[1;32m   2662\u001b[0m         \u001b[0;32melse\u001b[0m\u001b[0;34m:\u001b[0m\u001b[0;34m\u001b[0m\u001b[0m\n\u001b[1;32m   2663\u001b[0m             \u001b[0;32mif\u001b[0m \u001b[0mpy_any\u001b[0m\u001b[0;34m(\u001b[0m\u001b[0mis_tensor\u001b[0m\u001b[0;34m(\u001b[0m\u001b[0mx\u001b[0m\u001b[0;34m)\u001b[0m \u001b[0;32mfor\u001b[0m \u001b[0mx\u001b[0m \u001b[0;32min\u001b[0m \u001b[0minputs\u001b[0m\u001b[0;34m)\u001b[0m\u001b[0;34m:\u001b[0m\u001b[0;34m\u001b[0m\u001b[0m\n",
      "\u001b[0;32m~/.local/lib/python3.6/site-packages/keras/backend/tensorflow_backend.py\u001b[0m in \u001b[0;36m_call\u001b[0;34m(self, inputs)\u001b[0m\n\u001b[1;32m   2629\u001b[0m                                 \u001b[0msymbol_vals\u001b[0m\u001b[0;34m,\u001b[0m\u001b[0;34m\u001b[0m\u001b[0m\n\u001b[1;32m   2630\u001b[0m                                 session)\n\u001b[0;32m-> 2631\u001b[0;31m         \u001b[0mfetched\u001b[0m \u001b[0;34m=\u001b[0m \u001b[0mself\u001b[0m\u001b[0;34m.\u001b[0m\u001b[0m_callable_fn\u001b[0m\u001b[0;34m(\u001b[0m\u001b[0;34m*\u001b[0m\u001b[0marray_vals\u001b[0m\u001b[0;34m)\u001b[0m\u001b[0;34m\u001b[0m\u001b[0m\n\u001b[0m\u001b[1;32m   2632\u001b[0m         \u001b[0;32mreturn\u001b[0m \u001b[0mfetched\u001b[0m\u001b[0;34m[\u001b[0m\u001b[0;34m:\u001b[0m\u001b[0mlen\u001b[0m\u001b[0;34m(\u001b[0m\u001b[0mself\u001b[0m\u001b[0;34m.\u001b[0m\u001b[0moutputs\u001b[0m\u001b[0;34m)\u001b[0m\u001b[0;34m]\u001b[0m\u001b[0;34m\u001b[0m\u001b[0m\n\u001b[1;32m   2633\u001b[0m \u001b[0;34m\u001b[0m\u001b[0m\n",
      "\u001b[0;32m~/conda/lib/python3.6/site-packages/tensorflow/python/client/session.py\u001b[0m in \u001b[0;36m__call__\u001b[0;34m(self, *args, **kwargs)\u001b[0m\n\u001b[1;32m   1397\u001b[0m           ret = tf_session.TF_SessionRunCallable(\n\u001b[1;32m   1398\u001b[0m               \u001b[0mself\u001b[0m\u001b[0;34m.\u001b[0m\u001b[0m_session\u001b[0m\u001b[0;34m.\u001b[0m\u001b[0m_session\u001b[0m\u001b[0;34m,\u001b[0m \u001b[0mself\u001b[0m\u001b[0;34m.\u001b[0m\u001b[0m_handle\u001b[0m\u001b[0;34m,\u001b[0m \u001b[0margs\u001b[0m\u001b[0;34m,\u001b[0m \u001b[0mstatus\u001b[0m\u001b[0;34m,\u001b[0m\u001b[0;34m\u001b[0m\u001b[0m\n\u001b[0;32m-> 1399\u001b[0;31m               run_metadata_ptr)\n\u001b[0m\u001b[1;32m   1400\u001b[0m         \u001b[0;32mif\u001b[0m \u001b[0mrun_metadata\u001b[0m\u001b[0;34m:\u001b[0m\u001b[0;34m\u001b[0m\u001b[0m\n\u001b[1;32m   1401\u001b[0m           \u001b[0mproto_data\u001b[0m \u001b[0;34m=\u001b[0m \u001b[0mtf_session\u001b[0m\u001b[0;34m.\u001b[0m\u001b[0mTF_GetBuffer\u001b[0m\u001b[0;34m(\u001b[0m\u001b[0mrun_metadata_ptr\u001b[0m\u001b[0;34m)\u001b[0m\u001b[0;34m\u001b[0m\u001b[0m\n",
      "\u001b[0;31mKeyboardInterrupt\u001b[0m: "
     ]
    }
   ],
   "source": [
    "history = model.fit(X_train_nor_dumm, y_train_nor, epochs=20, batch_size=32,validation_data=(X_test_nor_dumm, y_test_nor))"
   ]
  },
  {
   "cell_type": "code",
   "execution_count": null,
   "metadata": {},
   "outputs": [],
   "source": [
    "# Plot training & validation loss values\n",
    "plt.plot(history.history['loss'])\n",
    "plt.plot(history.history['val_loss'])\n",
    "plt.title('Model loss')\n",
    "plt.ylabel('Loss')\n",
    "plt.xlabel('Epoch')\n",
    "plt.legend(['Train', 'Test'], loc='upper left')\n",
    "plt.show()"
   ]
  },
  {
   "cell_type": "code",
   "execution_count": 104,
   "metadata": {},
   "outputs": [
    {
     "name": "stdout",
     "output_type": "stream",
     "text": [
      "first part : 999.1004748655942 last part: [0.17122656]\n",
      "> 20 % : 0.8042800661046378\n",
      "0.09991004748655942\n"
     ]
    }
   ],
   "source": [
    "y = model.predict(X_train_nor_dumm, batch_size=128)\n",
    "y = y*y_std + y_mean\n",
    "y_true = y_train\n",
    "hit_rate,point = score(y,y_true)\n",
    "print(hit_rate)"
   ]
  },
  {
   "cell_type": "code",
   "execution_count": 105,
   "metadata": {},
   "outputs": [],
   "source": [
    "y = model.predict(X_test_nor_dumm, batch_size=128)\n",
    "y = y*y_std + y_mean\n",
    "y_true = y_test"
   ]
  },
  {
   "cell_type": "code",
   "execution_count": 106,
   "metadata": {},
   "outputs": [
    {
     "name": "stdout",
     "output_type": "stream",
     "text": [
      "first part : 978.9975734248179 last part: [0.16826367]\n",
      "> 20 % : 0.809890385741779\n"
     ]
    }
   ],
   "source": [
    "hit_rate,point = score(y,y_true)"
   ]
  },
  {
   "cell_type": "code",
   "execution_count": 107,
   "metadata": {},
   "outputs": [
    {
     "data": {
      "text/plain": [
       "0.0978997573424818"
      ]
     },
     "execution_count": 107,
     "metadata": {},
     "output_type": "execute_result"
    }
   ],
   "source": [
    "hit_rate"
   ]
  },
  {
   "cell_type": "code",
   "execution_count": 108,
   "metadata": {},
   "outputs": [
    {
     "name": "stdout",
     "output_type": "stream",
     "text": [
      "34179    2.046953e+06\n",
      "16800    1.056380e+06\n",
      "16451    2.900460e+05\n",
      "18979    4.320746e+05\n",
      "10523    3.697770e+05\n",
      "25780    3.219409e+05\n",
      "5138     1.843707e+05\n",
      "29118    1.916202e+06\n",
      "52619    5.643059e+05\n",
      "30268    1.767500e+05\n",
      "5713     5.794772e+05\n",
      "18646    5.125260e+05\n",
      "41396    4.190743e+06\n",
      "47537    2.513679e+06\n",
      "12599    3.099014e+05\n",
      "25241    5.458360e+05\n",
      "25763    5.811715e+05\n",
      "1562     2.971376e+05\n",
      "32519    1.623881e+06\n",
      "16258    2.752473e+06\n",
      "48150    3.301469e+05\n",
      "49100    1.390994e+06\n",
      "54642    1.187174e+06\n",
      "16117    2.703286e+05\n",
      "36539    2.498214e+06\n",
      "37091    1.417092e+05\n",
      "22218    2.841575e+06\n",
      "274      1.514806e+05\n",
      "25732    9.479021e+04\n",
      "4270     9.318327e+05\n",
      "             ...     \n",
      "21060    3.089881e+05\n",
      "10939    3.301995e+05\n",
      "53734    1.468223e+06\n",
      "44474    1.297040e+06\n",
      "40014    2.397404e+06\n",
      "14571    2.482123e+05\n",
      "53555    1.140121e+06\n",
      "3175     4.331405e+05\n",
      "49379    3.696249e+05\n",
      "57155    7.688273e+05\n",
      "28999    3.869708e+05\n",
      "29996    1.765356e+06\n",
      "57926    2.250594e+06\n",
      "7101     1.588694e+06\n",
      "39412    1.130003e+06\n",
      "11843    3.702098e+05\n",
      "32767    2.048236e+06\n",
      "40506    1.186835e+06\n",
      "30768    1.835762e+06\n",
      "14004    1.211510e+06\n",
      "58712    1.221057e+06\n",
      "44047    3.857660e+06\n",
      "2087     1.445696e+06\n",
      "39957    8.563646e+05\n",
      "38084    2.561001e+05\n",
      "59464    1.392440e+05\n",
      "15570    3.684312e+06\n",
      "50064    1.233206e+05\n",
      "39482    9.535769e+05\n",
      "2093     1.827582e+06\n",
      "Name: avg_price, Length: 11951, dtype: float64\n"
     ]
    }
   ],
   "source": [
    "print(y_true)"
   ]
  },
  {
   "cell_type": "code",
   "execution_count": 109,
   "metadata": {},
   "outputs": [
    {
     "name": "stdout",
     "output_type": "stream",
     "text": [
      "[[2215828.5]\n",
      " [ 983655.9]\n",
      " [ 983655.9]\n",
      " ...\n",
      " [ 295791.3]\n",
      " [ 983655.9]\n",
      " [ 983655.9]]\n"
     ]
    }
   ],
   "source": [
    "print(y)"
   ]
  },
  {
   "cell_type": "code",
   "execution_count": null,
   "metadata": {},
   "outputs": [],
   "source": []
  }
 ],
 "metadata": {
  "kernelspec": {
   "display_name": "Python 3",
   "language": "python",
   "name": "python3"
  },
  "language_info": {
   "codemirror_mode": {
    "name": "ipython",
    "version": 3
   },
   "file_extension": ".py",
   "mimetype": "text/x-python",
   "name": "python",
   "nbconvert_exporter": "python",
   "pygments_lexer": "ipython3",
   "version": "3.6.5"
  }
 },
 "nbformat": 4,
 "nbformat_minor": 2
}
